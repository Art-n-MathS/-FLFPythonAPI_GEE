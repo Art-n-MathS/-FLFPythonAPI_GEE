{
 "cells": [
  {
   "cell_type": "markdown",
   "metadata": {},
   "source": [
    "author:  Dr Milto Miltiadou\n",
    "version: 1.0\n",
    "created Oct 2024"
   ]
  },
  {
   "cell_type": "code",
   "execution_count": null,
   "metadata": {},
   "outputs": [],
   "source": [
    "import sys\n",
    "\n",
    "# check if GEE is already imported to avoid requesting authenticatiation multiple times\n",
    "modulename = 'ee'\n",
    "if modulename not in sys.modules: \n",
    "   # import GEE and Authenticate, token or log in will be asked from web browser\n",
    "   import ee\n",
    "   #ee.Authenticate()\n",
    "   ee.Initialize()\n",
    "else:\n",
    "   print('GEE already imported')\n",
    "   # google earth engine already imported and authenticated\n",
    "\n",
    "import pandas as pd\n",
    "import numbers\n",
    "from datetime import date\n",
    "import os\n"
   ]
  },
  {
   "cell_type": "code",
   "execution_count": null,
   "metadata": {},
   "outputs": [],
   "source": [
    "class Polygons:\n",
    "    \n",
    "    def __init__(self,shpfilename):\n",
    "        self.shp = shpfilename\n",
    "        self.bufferredPoints = None\n",
    "        self.df = None\n",
    "        self.noOfShpPolygons = None\n",
    "        self.shpPolygons = None\n",
    "        self.polygonsList = None\n",
    "        self.sampleSize = 400\n",
    "           \n",
    "        self.shpPolygons = ee.FeatureCollection(self.shp)\n",
    "        self.noOfShpPolygons = self.shpPolygons.size().getInfo()\n",
    "        self.polygonsList = self.shpPolygons.toList(self.noOfShpPolygons)\n",
    "        print (\"Shapefile \", self.shp, \" is loaded with \", self.noOfShpPolygons, \" polygons\")\n",
    "        self.currentSubset = None\n",
    "        \n",
    "        \n",
    "    ## @brief method that returns the number of polygons\n",
    "    def getLen(self):\n",
    "       return self.noOfShpPolygons\n",
    "   \n",
    "    ## @brief method that sets a new sampling number (how many polygons will be processed in each iteration)\n",
    "    #  @param[in] newSampling the new samplig size\n",
    "    def setSampling(self,newSampling):\n",
    "        self.sampleSize = newSampling\n",
    "        print(\"Sampling size updated to\", newSampling)\n",
    "        \n",
    "    \n",
    "    ## @brief method that samples polygons \n",
    "    def createPolygons(self,currentMin,currentMax):\n",
    "        print (\"Sampling Polygons\")\n",
    "        self.currentSubset = None\n",
    "        self.currentSubset =  self.polygonsList.slice(currentMin,min(currentMax,self.noOfShpPolygons))\n",
    "        return self.currentSubset\n",
    "   \n",
    "    \n",
    "    \n",
    "    "
   ]
  }
 ],
 "metadata": {
  "kernelspec": {
   "display_name": ".venv",
   "language": "python",
   "name": "python3"
  },
  "language_info": {
   "name": "python",
   "version": "3.12.6"
  }
 },
 "nbformat": 4,
 "nbformat_minor": 2
}
