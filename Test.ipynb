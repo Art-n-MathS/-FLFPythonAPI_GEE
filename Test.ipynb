{
 "cells": [
  {
   "cell_type": "code",
   "execution_count": null,
   "metadata": {},
   "outputs": [],
   "source": [
    "import sys\n",
    "\n",
    "# check if GEE is already imported to avoid requesting authenticatiation multiple times\n",
    "modulename = 'ee'\n",
    "if modulename not in sys.modules: \n",
    "   # import GEE and Authenticate, token or log in will be asked from web browser\n",
    "   import ee\n",
    "   ee.Authenticate()\n",
    "   ee.Initialize()\n",
    "else:\n",
    "   print('GEE already imported')\n",
    "   # google earth engine already imported and authenticated\n",
    "   \n",
    "   \n",
    "# Visualisation\n",
    "modulename = 'ipynb_MapVisualisation'\n",
    "if modulename not in sys.modules:\n",
    "    %run MapVisualisation.ipynb\n",
    "    # adding an identifier to sys.modules to avoiding loading the same file multiple times\n",
    "    sys.modules['ipynb_MapVisualisation'] = None \n",
    "#else\n",
    "   # MapVisualisation module has already been loaded somewhere else\n",
    "   \n"
   ]
  },
  {
   "cell_type": "code",
   "execution_count": null,
   "metadata": {},
   "outputs": [],
   "source": [
    "#shapefile added to GEE through the Assets tab\n",
    "shp = \"projects/ee-flf-milto/assets/PlotToSatTestShp\"\n",
    "\n",
    "shpFeatureCollection = ee.FeatureCollection(shp)\n",
    "lenOfFieldData = shpFeatureCollection.size().getInfo()\n",
    "print('Number of polygon features:', lenOfFieldData)\n",
    "\n",
    "min_index = 10  # inclusive\n",
    "max_index = 20  # exclusive\n",
    "\n",
    "feature_list = shpFeatureCollection.toList(lenOfFieldData)  # Get the list of features\n",
    "subset_list = feature_list.slice(min_index, max_index)   # Slice the list\n",
    "\n",
    "        \n",
    "# Convert the sliced list back to a FeatureCollection\n",
    "subset_collection = ee.FeatureCollection(subset_list)\n",
    "lenOfSubsetCol = subset_collection.size().getInfo()\n",
    "print(\"Subset of collection contains \", lenOfSubsetCol, \" polygons\")\n",
    "\n",
    "lenOfFieldData = shpFeatureCollection.size().getInfo()\n",
    "print(lenOfFieldData)\n"
   ]
  },
  {
   "cell_type": "markdown",
   "metadata": {},
   "source": []
  },
  {
   "cell_type": "code",
   "execution_count": null,
   "metadata": {},
   "outputs": [],
   "source": [
    "%run MapVisualisation.ipynb\n",
    "\n",
    "\n",
    "# Set visualization parameters.\n",
    "vis_params = {\n",
    "  'min': 0,\n",
    "  'max': 4000,\n",
    "  'palette': ['006633', 'E5FFCC', '662A00', 'D8D8D8', 'F5F5F5']}\n",
    "\n",
    "# Create a folium map object.\n",
    "my_map = folium.Map(location=[33,34], zoom_start=6)\n",
    "\n",
    "\n",
    "# Add custom basemaps\n",
    "basemaps['Google Maps'].add_to(my_map)\n",
    "basemaps['Google Satellite Hybrid'].add_to(my_map)\n",
    "\n",
    "\n",
    "my_map.add_ee_layer(shpFeatureCollection,{},'shp')\n",
    "my_map.add_ee_layer(subset_collection,{},\"shp_subset\")\n",
    "\n",
    "\n",
    "\n",
    "# Add a layer control panel to the map.\n",
    "my_map.add_child(folium.LayerControl())\n",
    "\n",
    "\n",
    "plugins.Fullscreen().add_to(my_map)\n",
    "\n",
    "# Add a layer control panel to the map.\n",
    "my_map.add_child(folium.LayerControl())\n",
    "\n",
    "# Add fullscreen button\n",
    "plugins.Fullscreen().add_to(my_map)\n",
    "\n",
    "# Display the map.\n",
    "display(my_map)\n"
   ]
  }
 ],
 "metadata": {
  "kernelspec": {
   "display_name": ".venv",
   "language": "python",
   "name": "python3"
  },
  "language_info": {
   "codemirror_mode": {
    "name": "ipython",
    "version": 3
   },
   "file_extension": ".py",
   "mimetype": "text/x-python",
   "name": "python",
   "nbconvert_exporter": "python",
   "pygments_lexer": "ipython3",
   "version": "3.12.6"
  }
 },
 "nbformat": 4,
 "nbformat_minor": 2
}
