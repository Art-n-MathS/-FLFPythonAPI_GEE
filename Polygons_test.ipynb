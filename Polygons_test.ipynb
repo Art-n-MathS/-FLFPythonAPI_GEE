{
 "cells": [
  {
   "cell_type": "markdown",
   "metadata": {},
   "source": [
    "Author: Milto Miltiadou\n",
    "Version 1"
   ]
  },
  {
   "cell_type": "code",
   "execution_count": null,
   "metadata": {},
   "outputs": [],
   "source": [
    "import sys\n",
    "\n",
    "modulename = 'Polygons'\n",
    "if modulename not in sys.modules: \n",
    "   %run Polygons.ipynb\n",
    "   print (\"Importing Polygons\")\n",
    "#else:\n",
    "#   print('Polygons already imported')\n",
    "\n",
    "modulename = 'MapVisualisation'\n",
    "if modulename not in sys.modules: \n",
    "    %run MapVisualisation.ipynb\n"
   ]
  },
  {
   "cell_type": "code",
   "execution_count": null,
   "metadata": {},
   "outputs": [],
   "source": [
    "shp = {\n",
    "   \"shpfilename\"        : \"projects/ee-flf-milto/assets/BufferedSamplePoints\",\n",
    "   \"polygonKeyColumn\"   : \"PLOTCODE\" # column that ids of polygons are stored\n",
    "}\n",
    "\n",
    "pol = Polygons(shp[\"shpfilename\"], shp[\"polygonKeyColumn\"])\n",
    "polygons_ee = pol.getPolygons()\n",
    "\n",
    "NoOfPolygon = pol.getLen()\n",
    "print(\"number of All polygons: \" , NoOfPolygon)\n",
    "\n",
    "# Get a subset:\n",
    "currentMin = 3\n",
    "currentMax = 8 \n",
    "subsetOfPols = pol.createPolygons(currentMin,currentMax)\n",
    "\n",
    "# getting number of sampled polygons\n",
    "NoOfPolys_subset = pol.getLenCurrentSub()\n",
    "print (\"Length of subset: \", NoOfPolys_subset)\n",
    "\n",
    "\n",
    "\n"
   ]
  },
  {
   "cell_type": "code",
   "execution_count": null,
   "metadata": {},
   "outputs": [],
   "source": [
    "# Visualisation\n",
    "\n",
    "\n",
    "# Set visualization parameters.\n",
    "vis_params = {\n",
    "  'min': 0,\n",
    "  'max': 4000,\n",
    "  'palette': ['006633', 'E5FFCC', '662A00', 'D8D8D8', 'F5F5F5']}\n",
    "\n",
    "# Create a folium map object.\n",
    "my_map = folium.Map(location=[40,-3], zoom_start=5, height=400)\n",
    "\n",
    "\n",
    "# Add custom basemaps\n",
    "basemaps['Google Maps'].add_to(my_map)\n",
    "basemaps['Google Satellite Hybrid'].add_to(my_map)\n",
    "\n",
    "# Add the elevation model to the map object.\n",
    "dem = ee.Image('USGS/SRTMGL1_003')\n",
    "my_map.add_ee_layer(dem.updateMask(dem.gt(0)), vis_params, 'DEM')\n",
    "my_map.add_ee_layer(subsetOfPols,{},\"subsetOfPols\")\n",
    "my_map.add_ee_layer(polygons_ee,{},\"polygons\")\n",
    "\n",
    "# Add a layer control panel to the map.\n",
    "my_map.add_child(folium.LayerControl())\n",
    "plugins.Fullscreen().add_to(my_map)\n",
    "my_map.add_child(folium.LayerControl())\n",
    "plugins.Fullscreen().add_to(my_map)\n",
    "display(my_map)\n",
    "\n"
   ]
  }
 ],
 "metadata": {
  "kernelspec": {
   "display_name": ".venv",
   "language": "python",
   "name": "python3"
  },
  "language_info": {
   "codemirror_mode": {
    "name": "ipython",
    "version": 3
   },
   "file_extension": ".py",
   "mimetype": "text/x-python",
   "name": "python",
   "nbconvert_exporter": "python",
   "pygments_lexer": "ipython3",
   "version": "3.13.0"
  }
 },
 "nbformat": 4,
 "nbformat_minor": 2
}
