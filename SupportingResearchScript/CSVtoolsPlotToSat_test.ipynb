{
 "cells": [
  {
   "cell_type": "code",
   "execution_count": 1,
   "metadata": {},
   "outputs": [],
   "source": [
    "%run CSVtoolsPlotToSat.ipynb"
   ]
  },
  {
   "cell_type": "code",
   "execution_count": 2,
   "metadata": {},
   "outputs": [
    {
     "name": "stdout",
     "output_type": "stream",
     "text": [
      "***   EXIT SUCCESS   ***\n"
     ]
    }
   ],
   "source": [
    "\"\"\"\n",
    "inCsvfile = \"/home/milto/Documents/fieldData/gdrivefolderTest_plot234_column_original_BB/MergedCsvs/gdrivefolderTest_plot234_column_original_BB_mean.csv\"\n",
    "outCsvfile =\"/home/milto/Documents/fieldData/gdrivefolderTest_plot234_column_original_BB/MergedCsvs/gdrivefolderTest_plot234_column_original_BB_mean_meansOfBiomes.csv\"\n",
    "col = \"fortype2\"\n",
    "outGraphs =\"/home/milto/Documents/fieldData/gdrivefolderTest_plot234_column_original_BB/MergedCsvs/gdrivefolderTest_plot234_column_original_BB_mean_meansOfBiomesGraphs\"\n",
    "outCsvfolder = \"/home/milto/Documents/fieldData/gdrivefolderTest_plot234_column_original_BB/MergedCsvs/biomes/\"\n",
    "#getMeanSpectralTemporalSignatures(inCsvfile,col,outCsvfile)\n",
    "\n",
    "#createSpectralTemporalGraphs(outCsvfile,outGraphs)\n",
    "\n",
    "outBandMeanCsvFromMeans = outCsvfile+\"_bandMeans.csv\" # .csv is reluctant because it exports two files with extensions \"_S1.csv\" and \"_S2.csv\"\n",
    "#getMeanPerBandfromMeans(outCsvfile,col,outBandMeanCsvFromMeans)\n",
    "\n",
    "outBandMeansFromPlotToSatOutput = inCsvfile+\"_bandMeans.csv\" # .csv is reluctant because it exports two files with extensions \"_S1.csv\" and \"_S2.csv\"\n",
    "#getMeanPerBand(inCsvfile,col,outBandMeansFromPlotToSatOutput)\n",
    "\n",
    "outBandMeanCsvFromMeansWithNDVI = outBandMeanCsvFromMeans + \"_withNDVI.csv\" \n",
    "#addNDVI(outBandMeanCsvFromMeans, outBandMeanCsvFromMeansWithNDVI)  # outBandMeanCsvFromMeans is not the actual name as the file to be read is outBandMeanCsvFromMeans+\"_S2.csv\"\n",
    "\n",
    "outBandMeansFromPlotToSatOutputwithNDVI = outBandMeansFromPlotToSatOutput + \"_withDVI.csv\"\n",
    "#addNDVI(outBandMeansFromPlotToSatOutput, outBandMeansFromPlotToSatOutputwithNDVI)  # outBandMeansFromPlotToSatOutput is not the actual name as the file to be read is outBandMeanCsvFromMeans+\"_S2.csv\"\n",
    "\n",
    "saveHist(outBandMeansFromPlotToSatOutputwithNDVI, \"NDVI\", outBandMeansFromPlotToSatOutputwithNDVI+\"_hist.jpg\") \n",
    "\n",
    "divideDataAccordingLabels(inCsvfile,col,outCsvfolder)\n",
    "\"\"\"\n",
    "\n",
    "inCsvfile = \"/home/milto/Documents/fieldData/gdrivefolderTest_plot234_column_original_BB/MergedCsvs/gdrivefolderTest_plot234_column_original_BB_mean.csv\"\n",
    "OutFolder = \"/home/milto/Documents/fieldData/gdrivefolderTest_plot234_column_original_BB/MergedCsvs/statisticsNgraphs\"\n",
    "outCsvflewithNDVIs = \"/home/milto/Documents/fieldData/gdrivefolderTest_plot234_column_original_BB/MergedCsvs/gdrivefolderTest_plot234_column_original_BB_mean_withNDVIs.csv\"\n",
    "outCsvflewithNDVIsMeans = \"/home/milto/Documents/fieldData/gdrivefolderTest_plot234_column_original_BB/MergedCsvs/gdrivefolderTest_plot234_column_original_BB_mean_withNDVIs_means.csv\"\n",
    "outImg = \"/home/milto/Documents/fieldData/gdrivefolderTest_plot234_column_original_BB/MergedCsvs/gdrivefolderTest_plot234_column_original_BB_mean_withNDVIs_means.jpg\"\n",
    "#outImgWithStd = \"/home/milto/Documents/fieldData/gdrivefolderTest_plot234_column_original_BB/MergedCsvs/gdrivefolderTest_plot234_column_original_BB_mean_withNDVIs_means_withStd.jpg\"\n",
    "col = \"fortype2\"\n",
    "#getAll(inCsvfile,col,OutFolder) \n",
    "PlotsIdCol = \"PLOTCODE\"\n",
    "\n",
    "\n",
    "NDVIRoot = \"C:/Users/mm2705/Documents/Cambridge/Scripts/SpainPlotToSatData/NDVIs/\"\n",
    "inCsvfile2018 = \"C:/Users/mm2705/Documents/Cambridge/Scripts/SpainPlotToSatData/gdrivefolderTest_Spain_r25_2018/MergedCsvs/gdrivefolderTest_plot_Spain_r25_2018_mean.csv\"\n",
    "outCsvflewithNDVIs2018 =NDVIRoot + \"NDVI2018.csv\"\n",
    "\n",
    "inCsvfile2019 = \"C:/Users/mm2705/Documents/Cambridge/Scripts/SpainPlotToSatData/gdrivefolderTest_Spain_r25_2019/MergedCsvs/gdrivefolderTest_plot234_column_original_BB_mean.csv\"\n",
    "outCsvflewithNDVIs2019 =NDVIRoot + \"NDVI2019.csv\"\n",
    "\n",
    "inCsvfile2020 = \"C:/Users/mm2705/Documents/Cambridge/Scripts/SpainPlotToSatData/gdrivefolderTest_Spain_r25_2020/MergedCsvs/gdrivefolderTest_Spain_r25_2020_mean.csv\"\n",
    "outCsvflewithNDVIs2020 =NDVIRoot + \"NDVI2020.csv\"\n",
    "\n",
    "\"\"\"\n",
    "addNDVIpermonth(inCsvfile2018,col,PlotsIdCol,outCsvflewithNDVIs2018)\n",
    "addNDVIpermonth(inCsvfile2019,col,PlotsIdCol,outCsvflewithNDVIs2019)\n",
    "addNDVIpermonth(inCsvfile2020,col,PlotsIdCol,outCsvflewithNDVIs2020)\n",
    "\"\"\"\n",
    "\n",
    "listOfFiles = [outCsvflewithNDVIs2018,outCsvflewithNDVIs2019,outCsvflewithNDVIs2020]\n",
    "## NDVI\n",
    "#addNDVIpermonth(inCsvfile,col,outCsvflewithNDVIs)\n",
    "#getMeanNDVIsPerMonthForClass(outCsvflewithNDVIs,col,PlotsIdCol,outCsvflewithNDVIsMeans)\n",
    "\n",
    "outFileAves = NDVIRoot + \"aveNDVIs_thres2.csv\"\n",
    "aveCsvFiles(listOfFiles, col, PlotsIdCol, outFileAves,2)\n",
    "\n",
    "\n",
    "#createGraphOfNDVIs(outCsvflewithNDVIsMeans,col,outImg)\n",
    "#getMonthForBetterDistingishingClasses(outCsvflewithNDVIsMeans,col)\n",
    "\n",
    "# not working\n",
    "#creatGraphOfNDVIsWithStd(outCsvflewithNDVIsMeans,col,outImgWithStd)\n",
    "\n",
    "#getExecutionTimeStats()"
   ]
  },
  {
   "cell_type": "markdown",
   "metadata": {},
   "source": []
  }
 ],
 "metadata": {
  "kernelspec": {
   "display_name": "Python 3",
   "language": "python",
   "name": "python3"
  },
  "language_info": {
   "codemirror_mode": {
    "name": "ipython",
    "version": 3
   },
   "file_extension": ".py",
   "mimetype": "text/x-python",
   "name": "python",
   "nbconvert_exporter": "python",
   "pygments_lexer": "ipython3",
   "version": "3.11.1"
  }
 },
 "nbformat": 4,
 "nbformat_minor": 2
}
