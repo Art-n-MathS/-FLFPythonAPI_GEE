{
 "cells": [
  {
   "cell_type": "code",
   "execution_count": 1,
   "metadata": {},
   "outputs": [],
   "source": [
    "\n",
    "\n",
    "%run MergingLib.ipynb"
   ]
  },
  {
   "cell_type": "code",
   "execution_count": 2,
   "metadata": {},
   "outputs": [
    {
     "name": "stdout",
     "output_type": "stream",
     "text": [
      "TmpDir Exist\n",
      "MergedCsvs Exist\n",
      "ERROR: C:\\Users\\mm2705\\Documents\\PlotToSat\\SamplingSize.txt  does not exist. Setting sampling size to default = 400\n"
     ]
    },
    {
     "ename": "UnboundLocalError",
     "evalue": "local variable 'f' referenced before assignment",
     "output_type": "error",
     "traceback": [
      "\u001b[0;31m---------------------------------------------------------------------------\u001b[0m",
      "\u001b[0;31mUnboundLocalError\u001b[0m                         Traceback (most recent call last)",
      "\u001b[1;32m/home/milto/Documents/FLFScripts/GEE/mergeCSVs.ipynb Cell 2\u001b[0m line \u001b[0;36m2\n\u001b[1;32m     <a href='vscode-notebook-cell:/home/milto/Documents/FLFScripts/GEE/mergeCSVs.ipynb#W1sZmlsZQ%3D%3D?line=23'>24</a>\u001b[0m fieldDataWithIdentifiers \u001b[39m=\u001b[39m \u001b[39m\"\u001b[39m\u001b[39m.ipynb_checkpoints/fieldDataWithIdentifiers/FieldDataWithIdentifiers.csv\u001b[39m\u001b[39m\"\u001b[39m\n\u001b[1;32m     <a href='vscode-notebook-cell:/home/milto/Documents/FLFScripts/GEE/mergeCSVs.ipynb#W1sZmlsZQ%3D%3D?line=24'>25</a>\u001b[0m nameOfCSVFolderDir \u001b[39m=\u001b[39m \u001b[39m\"\u001b[39m\u001b[39m/home/milto/Documents/fieldData/gdrivefolderTest_plot234_column_original_B/A\u001b[39m\u001b[39m\"\u001b[39m\n\u001b[0;32m---> <a href='vscode-notebook-cell:/home/milto/Documents/FLFScripts/GEE/mergeCSVs.ipynb#W1sZmlsZQ%3D%3D?line=27'>28</a>\u001b[0m mergeAll(nameOfCSVFolderDir,fieldDataWithIdentifiers,samplingSizeFile)\n\u001b[1;32m     <a href='vscode-notebook-cell:/home/milto/Documents/FLFScripts/GEE/mergeCSVs.ipynb#W1sZmlsZQ%3D%3D?line=32'>33</a>\u001b[0m \u001b[39mprint\u001b[39m(\u001b[39m\"\u001b[39m\u001b[39m   ***   EXIT   ***\u001b[39m\u001b[39m\"\u001b[39m)\n",
      "File \u001b[0;32m/tmp/ipykernel_180983/1396278452.py:194\u001b[0m, in \u001b[0;36mmergeAll\u001b[0;34m(nameOfCSVFolderDir, fieldDataWithIdentifiers, samplingSizeFile)\u001b[0m\n\u001b[1;32m    192\u001b[0m             outMean\u001b[39m.\u001b[39mwritelines(line) \n\u001b[1;32m    193\u001b[0m             line \u001b[39m=\u001b[39m file\u001b[39m.\u001b[39mreadline()   \n\u001b[0;32m--> 194\u001b[0m     f\u001b[39m.\u001b[39mclose()\n\u001b[1;32m    196\u001b[0m count \u001b[39m=\u001b[39m \u001b[39m0\u001b[39m\n\u001b[1;32m    197\u001b[0m fileNo \u001b[39m=\u001b[39m \u001b[39m0\u001b[39m\n",
      "\u001b[0;31mUnboundLocalError\u001b[0m: local variable 'f' referenced before assignment"
     ]
    }
   ],
   "source": [
    "# Please change this with the directory of the folder that contains the csv files downloaded\n",
    "# from your Drive\n",
    "nameOfCSVFolderDir = \"/home/milto/Documents/fieldData/gdrivefolder_Sentinel2\"\n",
    "nameOfCSVFolderDir = \"/home/milto/Documents/fieldData/gdrivefolderWORK\"\n",
    "# File exported that contains the column \"\" that will be used for merging the files\n",
    "fieldDataDir       =\"./.ipynb_checkpoints/FieldDataWithIdentifiers.csv\"\n",
    "samplingSizeFile   =\"./.ipynb_checkpoints/SamplingSize.txt\"\n",
    "samplingSize = 400\n",
    "\n",
    "nameOfCSVFolderDir = r\"C:/Users/mm2705/Documents/Cambridge/Scripts/SampleData/gdrivefolderWORK-20230816T142330Z-001\\gdrivefolderWORK\"\n",
    "fieldDataWithIdentifiers = r\"C:\\Users\\mm2705\\Documents\\Cambridge\\Scripts\\PythonGEE\\.ipynb_checkpoints\\FieldDataWithIdentifiers.csv\"\n",
    "samplingSizeFile = r\"C:\\Users\\mm2705\\Documents\\Cambridge\\Scripts\\PythonGEE\\.ipynb_checkpoints\\SamplingSize.txt\"\n",
    "outputFile = r\"C:\\Users\\mm2705\\Documents\\Cambridge\\Scripts\\SampleData\\gdrivefolderWORK-20230816T142330Z-001\\gdrivefolderWORK\\all.csv\"\n",
    "\n",
    "\n",
    "%run MergingLib.ipynb\n",
    "\n",
    "nameOfCSVFolderDir = r\"C:/Users/mm2705/Documents/gdrivefolder\"\n",
    "fieldDataWithIdentifiers = r\"C:\\Users\\mm2705\\Documents\\PlotToSat\\FieldDataWithIdentifiers.csv\"\n",
    "samplingSizeFile = r\"C:\\Users\\mm2705\\Documents\\PlotToSat\\SamplingSize.txt\"\n",
    "\n",
    "\n",
    "samplingSize = 400\n",
    "fieldDataWithIdentifiers = \".ipynb_checkpoints/fieldDataWithIdentifiers/FieldDataWithIdentifiers.csv\"\n",
    "nameOfCSVFolderDir = \"/home/milto/Documents/fieldData/gdrivefolderTest_plot234_column_original_B/A\"\n",
    "\n",
    "\n",
    "mergeAll(nameOfCSVFolderDir,fieldDataWithIdentifiers,samplingSizeFile)\n",
    "\n",
    "\n",
    "\n",
    "\n",
    "print(\"   ***   EXIT   ***\")\n"
   ]
  }
 ],
 "metadata": {
  "kernelspec": {
   "display_name": "Python 3",
   "language": "python",
   "name": "python3"
  },
  "language_info": {
   "codemirror_mode": {
    "name": "ipython",
    "version": 3
   },
   "file_extension": ".py",
   "mimetype": "text/x-python",
   "name": "python",
   "nbconvert_exporter": "python",
   "pygments_lexer": "ipython3",
   "version": "3.10.6"
  },
  "orig_nbformat": 4
 },
 "nbformat": 4,
 "nbformat_minor": 2
}
