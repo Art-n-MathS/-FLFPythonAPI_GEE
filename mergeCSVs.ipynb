{
 "cells": [
  {
   "cell_type": "code",
   "execution_count": 1,
   "metadata": {},
   "outputs": [],
   "source": [
    "\n",
    "\n",
    "%run MergingLib.ipynb"
   ]
  },
  {
   "cell_type": "code",
   "execution_count": 2,
   "metadata": {},
   "outputs": [
    {
     "name": "stdout",
     "output_type": "stream",
     "text": [
      "300 ************************\n"
     ]
    },
    {
     "name": "stderr",
     "output_type": "stream",
     "text": [
      "/tmp/ipykernel_133783/1396278452.py:121: DtypeWarning: Columns (58) have mixed types. Specify dtype option on import or set low_memory=False.\n",
      "  dfFieldData = pd.read_csv(fieldDataDir)\n"
     ]
    },
    {
     "name": "stdout",
     "output_type": "stream",
     "text": [
      "Results are stored in  /home/milto/Documents/fieldData/gdrivefolderTest_plot234_column_original_B/A/MergedCsvs\n",
      "   ***   EXIT   ***\n"
     ]
    }
   ],
   "source": [
    "# Please change this with the directory of the folder that contains the csv files downloaded\n",
    "# from your Drive\n",
    "nameOfCSVFolderDir = \"/home/milto/Documents/fieldData/gdrivefolder_Sentinel2\"\n",
    "nameOfCSVFolderDir = \"/home/milto/Documents/fieldData/gdrivefolderWORK\"\n",
    "# File exported that contains the column \"\" that will be used for merging the files\n",
    "fieldDataDir       =\"./.ipynb_checkpoints/FieldDataWithIdentifiers.csv\"\n",
    "samplingSizeFile   =\"./.ipynb_checkpoints/SamplingSize.txt\"\n",
    "samplingSize = 400\n",
    "\n",
    "nameOfCSVFolderDir = r\"C:/Users/mm2705/Documents/Cambridge/Scripts/SampleData/gdrivefolderWORK-20230816T142330Z-001\\gdrivefolderWORK\"\n",
    "fieldDataWithIdentifiers = r\"C:\\Users\\mm2705\\Documents\\Cambridge\\Scripts\\PythonGEE\\.ipynb_checkpoints\\FieldDataWithIdentifiers.csv\"\n",
    "samplingSizeFile = r\"C:\\Users\\mm2705\\Documents\\Cambridge\\Scripts\\PythonGEE\\.ipynb_checkpoints\\SamplingSize.txt\"\n",
    "outputFile = r\"C:\\Users\\mm2705\\Documents\\Cambridge\\Scripts\\SampleData\\gdrivefolderWORK-20230816T142330Z-001\\gdrivefolderWORK\\all.csv\"\n",
    "\n",
    "\n",
    "%run MergingLib.ipynb\n",
    "\n",
    "nameOfCSVFolderDir = r\"C:/Users/mm2705/Documents/gdrivefolder\"\n",
    "fieldDataWithIdentifiers = r\"C:\\Users\\mm2705\\Documents\\PlotToSat\\FieldDataWithIdentifiers.csv\"\n",
    "samplingSizeFile = r\"C:\\Users\\mm2705\\Documents\\PlotToSat\\SamplingSize.txt\"\n",
    "\n",
    "samplingSizeFile =\".ipynb_checkpoints/SamplingSize.txt\"\n",
    "fieldDataWithIdentifiers = \".ipynb_checkpoints/FieldDataWithIdentifiers.csv\"\n",
    "nameOfCSVFolderDir = \"/home/milto/Documents/fieldData/gdrivefolderTest_plot234_column_original_B/A\"\n",
    "\n",
    "\n",
    "mergeAll(nameOfCSVFolderDir,fieldDataWithIdentifiers,samplingSizeFile)\n",
    "\n",
    "\n",
    "\n",
    "\n",
    "print(\"   ***   EXIT   ***\")\n"
   ]
  }
 ],
 "metadata": {
  "kernelspec": {
   "display_name": "Python 3",
   "language": "python",
   "name": "python3"
  },
  "language_info": {
   "codemirror_mode": {
    "name": "ipython",
    "version": 3
   },
   "file_extension": ".py",
   "mimetype": "text/x-python",
   "name": "python",
   "nbconvert_exporter": "python",
   "pygments_lexer": "ipython3",
   "version": "3.10.6"
  },
  "orig_nbformat": 4
 },
 "nbformat": 4,
 "nbformat_minor": 2
}
