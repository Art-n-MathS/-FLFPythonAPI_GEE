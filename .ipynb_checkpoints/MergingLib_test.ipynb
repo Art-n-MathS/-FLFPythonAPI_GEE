{
 "cells": [
  {
   "cell_type": "code",
   "execution_count": 6,
   "metadata": {},
   "outputs": [],
   "source": [
    "\n",
    "\n",
    "%run MergingLib.ipynb\n"
   ]
  },
  {
   "cell_type": "code",
   "execution_count": 8,
   "metadata": {},
   "outputs": [
    {
     "name": "stdout",
     "output_type": "stream",
     "text": [
      "MergedCsvs Exist. Deleting all of its content!\n",
      "ListS1Mean 4     ListS2Mean  4      ListS1StdD  4      ListS2StdD  4\n",
      "Results are stored in  C:\\Users\\mm2705\\Documents\\folderSpain\\MergedCsvs\n"
     ]
    }
   ],
   "source": [
    "# Please change the pathname (directory and name of the folder) that contains the csv files downloade from your Drive\n",
    "# Please change the pathname of the variable \"fieldDataWithIdentifiers\" to be the same as the value of the key\n",
    "# \"outPlotFileWithIDs\" used when defining the plot related dictionary\n",
    "\n",
    "gdriveFolderDir = r\"C:\\Users\\mm2705\\Documents\\folderSpain\"\n",
    "fieldDataWithIdentifiers = r\"plotsWithIDs\\SpainIDs_1.csv\"\n",
    "mergeAll(gdriveFolderDir,fieldDataWithIdentifiers)\n"
   ]
  }
 ],
 "metadata": {
  "kernelspec": {
   "display_name": "Python 3",
   "language": "python",
   "name": "python3"
  },
  "language_info": {
   "codemirror_mode": {
    "name": "ipython",
    "version": 3
   },
   "file_extension": ".py",
   "mimetype": "text/x-python",
   "name": "python",
   "nbconvert_exporter": "python",
   "pygments_lexer": "ipython3",
   "version": "3.11.1"
  },
  "orig_nbformat": 4
 },
 "nbformat": 4,
 "nbformat_minor": 2
}
