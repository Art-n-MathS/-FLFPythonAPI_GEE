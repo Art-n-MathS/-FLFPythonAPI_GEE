{
 "cells": [
  {
   "cell_type": "code",
   "execution_count": 1,
   "metadata": {},
   "outputs": [],
   "source": [
    "\n",
    "\n",
    "%run MergingLib.ipynb"
   ]
  },
  {
   "cell_type": "code",
   "execution_count": 2,
   "metadata": {},
   "outputs": [
    {
     "name": "stdout",
     "output_type": "stream",
     "text": [
      "MergedCsvs Exist. Deleting all of its content!\n",
      "WARNING:  /home/milto/Documents/fieldData/gdrivefolderTest_plot234_column_original_BB_r50/gdrivefolderTest_plot234_column_original_BB_r50_0000006600_0000006899_S2_stdD(1).csv  is ignored since it is not recognised as an output of the system\n",
      "WARNING:  /home/milto/Documents/fieldData/gdrivefolderTest_plot234_column_original_BB_r50/gdrivefolderTest_plot234_column_original_BB_r50_0000006600_0000006899_S1_stdD(1).csv  is ignored since it is not recognised as an output of the system\n",
      "WARNING:  /home/milto/Documents/fieldData/gdrivefolderTest_plot234_column_original_BB_r50/gdrivefolderTest_plot234_column_original_BB_r50_0000006600_0000006899_S1_mean(1).csv  is ignored since it is not recognised as an output of the system\n",
      "ListS1Mean 58     ListS2Mean  58      ListS1StdD  58      ListS2StdD  58\n",
      "WARNING: File  /home/milto/Documents/fieldData/gdrivefolderTest_plot234_column_original_BB_r50/gdrivefolderTest_plot234_column_original_BB_r50_0000013800_0000014099_S1_mean.csv  failed to be added to the merged file!\n",
      "WARNING: File  /home/milto/Documents/fieldData/gdrivefolderTest_plot234_column_original_BB_r50/gdrivefolderTest_plot234_column_original_BB_r50_0000013800_0000014099_S1_stdD.csv  failed to be added to the merged file!\n",
      "WARNING: File  /home/milto/Documents/fieldData/gdrivefolderTest_plot234_column_original_BB_r50/gdrivefolderTest_plot234_column_original_BB_r50_0000013800_0000014099_S2_mean.csv  failed to be added to the merged file!\n",
      "WARNING: File  /home/milto/Documents/fieldData/gdrivefolderTest_plot234_column_original_BB_r50/gdrivefolderTest_plot234_column_original_BB_r50_0000013800_0000014099_S2_stdD.csv  failed to be added to the merged file!\n",
      "Results are stored in  /home/milto/Documents/fieldData/gdrivefolderTest_plot234_column_original_BB_r50/MergedCsvs\n",
      "   ***   EXIT   ***\n"
     ]
    }
   ],
   "source": [
    "# Please change this with the directory of the folder that contains the csv files downloaded\n",
    "# from your Drive\n",
    "\n",
    "nameOfCSVFolderDir = \"/home/milto/Documents/fieldData/gdrivefolderTest_plot234_column_original_BB_r50\"\n",
    "\n",
    "\n",
    "%run MergingLib.ipynb\n",
    "\n",
    "fieldDataWithIdentifiers = \"fieldDataWithIdentifiers/FieldDataWithIdentifiers.csv\"\n",
    "\n",
    "mergeAll(nameOfCSVFolderDir,fieldDataWithIdentifiers)\n",
    "\n",
    "\n",
    "\n",
    "\n",
    "print(\"   ***   EXIT   ***\")\n"
   ]
  }
 ],
 "metadata": {
  "kernelspec": {
   "display_name": "Python 3",
   "language": "python",
   "name": "python3"
  },
  "language_info": {
   "codemirror_mode": {
    "name": "ipython",
    "version": 3
   },
   "file_extension": ".py",
   "mimetype": "text/x-python",
   "name": "python",
   "nbconvert_exporter": "python",
   "pygments_lexer": "ipython3",
   "version": "3.10.6"
  },
  "orig_nbformat": 4
 },
 "nbformat": 4,
 "nbformat_minor": 2
}
