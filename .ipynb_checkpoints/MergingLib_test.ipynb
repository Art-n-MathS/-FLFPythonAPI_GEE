{
 "cells": [
  {
   "cell_type": "code",
   "execution_count": 1,
   "metadata": {},
   "outputs": [],
   "source": [
    "\n",
    "\n",
    "%run MergingLib.ipynb"
   ]
  },
  {
   "cell_type": "code",
   "execution_count": 2,
   "metadata": {},
   "outputs": [
    {
     "name": "stdout",
     "output_type": "stream",
     "text": [
      "ListS1Mean 58     ListS2Mean  58      ListS1StdD  58      ListS2StdD  58\n",
      "WARNING: File  C:/Users/mm2705/Documents/Cambridge/Scripts/SpainPlotToSatData/gdrivefolderTest_Spain_r25_2020\\gdrivefolderTest_Spain_r25_2020_0000013800_0000014099_S1_mean.csv  failed to be added to the merged file!\n",
      "WARNING: File  C:/Users/mm2705/Documents/Cambridge/Scripts/SpainPlotToSatData/gdrivefolderTest_Spain_r25_2020\\gdrivefolderTest_Spain_r25_2020_0000013800_0000014099_S1_stdD.csv  failed to be added to the merged file!\n",
      "WARNING: File  C:/Users/mm2705/Documents/Cambridge/Scripts/SpainPlotToSatData/gdrivefolderTest_Spain_r25_2020\\gdrivefolderTest_Spain_r25_2020_0000013800_0000014099_S2_mean.csv  failed to be added to the merged file!\n",
      "WARNING: File  C:/Users/mm2705/Documents/Cambridge/Scripts/SpainPlotToSatData/gdrivefolderTest_Spain_r25_2020\\gdrivefolderTest_Spain_r25_2020_0000013800_0000014099_S2_stdD.csv  failed to be added to the merged file!\n",
      "Results are stored in  C:/Users/mm2705/Documents/Cambridge/Scripts/SpainPlotToSatData/gdrivefolderTest_Spain_r25_2020\\MergedCsvs\n",
      "   ***   EXIT   ***\n"
     ]
    }
   ],
   "source": [
    "# Please change this with the directory of the folder that contains the csv files downloaded\n",
    "# from your Drive\n",
    "\n",
    "nameOfCSVFolderDir = \"C:/Users/mm2705/Documents/Cambridge/Scripts/SpainPlotToSatData/gdrivefolderTest_Spain_r25_2020\"\n",
    "\n",
    "\n",
    "%run MergingLib.ipynb\n",
    "\n",
    "fieldDataWithIdentifiers = \"fieldDataWithIdentifiers/FieldDataWithIdentifiersSpain.csv\"\n",
    "\n",
    "mergeAll(nameOfCSVFolderDir,fieldDataWithIdentifiers)\n",
    "\n",
    "\n",
    "\n",
    "\n",
    "print(\"   ***   EXIT   ***\")\n"
   ]
  }
 ],
 "metadata": {
  "kernelspec": {
   "display_name": "Python 3",
   "language": "python",
   "name": "python3"
  },
  "language_info": {
   "codemirror_mode": {
    "name": "ipython",
    "version": 3
   },
   "file_extension": ".py",
   "mimetype": "text/x-python",
   "name": "python",
   "nbconvert_exporter": "python",
   "pygments_lexer": "ipython3",
   "version": "3.11.1"
  },
  "orig_nbformat": 4
 },
 "nbformat": 4,
 "nbformat_minor": 2
}
