{
 "cells": [
  {
   "cell_type": "code",
   "execution_count": 1,
   "metadata": {},
   "outputs": [
    {
     "name": "stdout",
     "output_type": "stream",
     "text": [
      "3000\n",
      "GEE already imported\n",
      "Utils imported\n",
      "Masks class imported\n",
      "GEE already imported\n",
      "Sentinel1 class imported\n"
     ]
    },
    {
     "ename": "IndentationError",
     "evalue": "expected an indented block after 'if' statement on line 5 (Utils.py, line 7)",
     "output_type": "error",
     "traceback": [
      "Traceback \u001b[0;36m(most recent call last)\u001b[0m:\n",
      "\u001b[0m  File \u001b[1;32m~/.local/lib/python3.10/site-packages/IPython/core/interactiveshell.py:3460\u001b[0m in \u001b[1;35mrun_code\u001b[0m\n    exec(code_obj, self.user_global_ns, self.user_ns)\u001b[0m\n",
      "\u001b[0;36m  File \u001b[0;32m/tmp/ipykernel_1140452/2656997865.py:23\u001b[0;36m\n\u001b[0;31m    import Utils\u001b[0;36m\n",
      "\u001b[0;36m  File \u001b[0;32m~/Documents/FLFScripts/GEE/.ipynb_checkpoints/Utils.py:7\u001b[0;36m\u001b[0m\n\u001b[0;31m    import ee\u001b[0m\n\u001b[0m    ^\u001b[0m\n\u001b[0;31mIndentationError\u001b[0m\u001b[0;31m:\u001b[0m expected an indented block after 'if' statement on line 5\n"
     ]
    },
    {
     "ename": "IndentationError",
     "evalue": "expected an indented block after 'if' statement on line 5 (Utils.py, line 7)",
     "output_type": "error",
     "traceback": [
      "Traceback \u001b[0;36m(most recent call last)\u001b[0m:\n",
      "\u001b[0m  File \u001b[1;32m~/.local/lib/python3.10/site-packages/IPython/core/interactiveshell.py:3460\u001b[0m in \u001b[1;35mrun_code\u001b[0m\n    exec(code_obj, self.user_global_ns, self.user_ns)\u001b[0m\n",
      "\u001b[0m  File \u001b[1;32m/tmp/ipykernel_1140452/1749158592.py:41\u001b[0m\n    get_ipython().run_line_magic('run', 'Sentinel2b.ipynb')\u001b[0m\n",
      "\u001b[0m  File \u001b[1;32m~/.local/lib/python3.10/site-packages/IPython/core/interactiveshell.py:2369\u001b[0m in \u001b[1;35mrun_line_magic\u001b[0m\n    result = fn(*args, **kwargs)\u001b[0m\n",
      "\u001b[0m  File \u001b[1;32m~/.local/lib/python3.10/site-packages/IPython/core/magics/execution.py:719\u001b[0m in \u001b[1;35mrun\u001b[0m\n    self.shell.safe_execfile_ipy(filename, raise_exceptions=True)\u001b[0m\n",
      "\u001b[0m  File \u001b[1;32m~/.local/lib/python3.10/site-packages/IPython/core/interactiveshell.py:2891\u001b[0m in \u001b[1;35msafe_execfile_ipy\u001b[0m\n    result.raise_error()\u001b[0m\n",
      "\u001b[0m  File \u001b[1;32m~/.local/lib/python3.10/site-packages/IPython/core/interactiveshell.py:266\u001b[0m in \u001b[1;35mraise_error\u001b[0m\n    raise self.error_in_exec\u001b[0m\n",
      "\u001b[0m  File \u001b[1;32m~/.local/lib/python3.10/site-packages/IPython/core/interactiveshell.py:3460\u001b[0m in \u001b[1;35mrun_code\u001b[0m\n    exec(code_obj, self.user_global_ns, self.user_ns)\u001b[0m\n",
      "\u001b[0;36m  File \u001b[0;32m/tmp/ipykernel_1140452/2656997865.py:23\u001b[0;36m\n\u001b[0;31m    import Utils\u001b[0;36m\n",
      "\u001b[0;36m  File \u001b[0;32m~/Documents/FLFScripts/GEE/.ipynb_checkpoints/Utils.py:7\u001b[0;36m\u001b[0m\n\u001b[0;31m    import ee\u001b[0m\n\u001b[0m    ^\u001b[0m\n\u001b[0;31mIndentationError\u001b[0m\u001b[0;31m:\u001b[0m expected an indented block after 'if' statement on line 5\n"
     ]
    },
    {
     "ename": "IndentationError",
     "evalue": "expected an indented block after 'if' statement on line 5 (Utils.py, line 7)",
     "output_type": "error",
     "traceback": [
      "Traceback \u001b[0;36m(most recent call last)\u001b[0m:\n",
      "\u001b[0m  File \u001b[1;32m~/.local/lib/python3.10/site-packages/IPython/core/interactiveshell.py:3460\u001b[0m in \u001b[1;35mrun_code\u001b[0m\n    exec(code_obj, self.user_global_ns, self.user_ns)\u001b[0m\n",
      "\u001b[0m  Cell \u001b[1;32mIn[1], line 14\u001b[0m\n    get_ipython().run_line_magic('run', 'Manager.ipynb')\u001b[0m\n",
      "\u001b[0m  File \u001b[1;32m~/.local/lib/python3.10/site-packages/IPython/core/interactiveshell.py:2369\u001b[0m in \u001b[1;35mrun_line_magic\u001b[0m\n    result = fn(*args, **kwargs)\u001b[0m\n",
      "\u001b[0m  File \u001b[1;32m~/.local/lib/python3.10/site-packages/IPython/core/magics/execution.py:719\u001b[0m in \u001b[1;35mrun\u001b[0m\n    self.shell.safe_execfile_ipy(filename, raise_exceptions=True)\u001b[0m\n",
      "\u001b[0m  File \u001b[1;32m~/.local/lib/python3.10/site-packages/IPython/core/interactiveshell.py:2891\u001b[0m in \u001b[1;35msafe_execfile_ipy\u001b[0m\n    result.raise_error()\u001b[0m\n",
      "\u001b[0m  File \u001b[1;32m~/.local/lib/python3.10/site-packages/IPython/core/interactiveshell.py:266\u001b[0m in \u001b[1;35mraise_error\u001b[0m\n    raise self.error_in_exec\u001b[0m\n",
      "\u001b[0m  File \u001b[1;32m~/.local/lib/python3.10/site-packages/IPython/core/interactiveshell.py:3460\u001b[0m in \u001b[1;35mrun_code\u001b[0m\n    exec(code_obj, self.user_global_ns, self.user_ns)\u001b[0m\n",
      "\u001b[0m  File \u001b[1;32m/tmp/ipykernel_1140452/1749158592.py:41\u001b[0m\n    get_ipython().run_line_magic('run', 'Sentinel2b.ipynb')\u001b[0m\n",
      "\u001b[0m  File \u001b[1;32m~/.local/lib/python3.10/site-packages/IPython/core/interactiveshell.py:2369\u001b[0m in \u001b[1;35mrun_line_magic\u001b[0m\n    result = fn(*args, **kwargs)\u001b[0m\n",
      "\u001b[0m  File \u001b[1;32m~/.local/lib/python3.10/site-packages/IPython/core/magics/execution.py:719\u001b[0m in \u001b[1;35mrun\u001b[0m\n    self.shell.safe_execfile_ipy(filename, raise_exceptions=True)\u001b[0m\n",
      "\u001b[0m  File \u001b[1;32m~/.local/lib/python3.10/site-packages/IPython/core/interactiveshell.py:2891\u001b[0m in \u001b[1;35msafe_execfile_ipy\u001b[0m\n    result.raise_error()\u001b[0m\n",
      "\u001b[0m  File \u001b[1;32m~/.local/lib/python3.10/site-packages/IPython/core/interactiveshell.py:266\u001b[0m in \u001b[1;35mraise_error\u001b[0m\n    raise self.error_in_exec\u001b[0m\n",
      "\u001b[0m  File \u001b[1;32m~/.local/lib/python3.10/site-packages/IPython/core/interactiveshell.py:3460\u001b[0m in \u001b[1;35mrun_code\u001b[0m\n    exec(code_obj, self.user_global_ns, self.user_ns)\u001b[0m\n",
      "\u001b[0;36m  File \u001b[0;32m/tmp/ipykernel_1140452/2656997865.py:23\u001b[0;36m\n\u001b[0;31m    import Utils\u001b[0;36m\n",
      "\u001b[0;36m  File \u001b[0;32m~/Documents/FLFScripts/GEE/.ipynb_checkpoints/Utils.py:7\u001b[0;36m\u001b[0m\n\u001b[0;31m    import ee\u001b[0m\n\u001b[0m    ^\u001b[0m\n\u001b[0;31mIndentationError\u001b[0m\u001b[0;31m:\u001b[0m expected an indented block after 'if' statement on line 5\n"
     ]
    }
   ],
   "source": [
    "# Include these lines in tests and comment out Authenticate after the first use to avoid \n",
    "# Authenticate at each run.\n",
    "import ee\n",
    "#ee.Authenticate()\n",
    "ee.Initialize()\n",
    "import sys\n",
    "print(sys.getrecursionlimit())\n",
    "sys.setrecursionlimit(9000)\n",
    "\n",
    "\n",
    "import sys\n",
    "modulename = 'ipynb_Manager'\n",
    "if modulename not in sys.modules:\n",
    "    %run Manager.ipynb\n",
    "    # adding an identifier to sys.modules to avoiding loading the same file multiple times\n",
    "    sys.modules['ipynb_Manager'] = None \n",
    "#else\n",
    "   # Utils modules has already been loaded somewhere else\n",
    "\n"
   ]
  },
  {
   "cell_type": "code",
   "execution_count": null,
   "metadata": {},
   "outputs": [],
   "source": [
    "startDate = '2017-01-01'\n",
    "endDate   = '2017-12-31'\n",
    "\n",
    "countries = ee.FeatureCollection('USDOS/LSIB_SIMPLE/2017')\n",
    "geometry = countries.filter(ee.Filter.eq('country_na', 'Spain'))\n",
    "\n",
    "myManager = Manager(geometry,startDate,endDate)\n",
    "## With this command you can see all the supported collections and the associated \n",
    "## labels that you need to use to add the data into the manager\n",
    "#myManager.printAvailableCollections()\n",
    "\n",
    "## These are some test on how you may change the default collection\n",
    "myManager.changeDefaultCollection('sentinel-1',\"helloworld\")\n",
    "#myManager.changeDefaultCollection('sentinel-2',\"helloworld2\")\n",
    "#myManager.changeDefaultCollection('helloworld',\"helloworld2\")\n",
    "myManager.printAvailableCollections()\n",
    "\n",
    "csvFile = \"/home/milto/Documents/FLFScripts/sampleData/plot234_column.csv\"\n",
    "myManager.addFieldData(csvFile,\"EPSG:3042\",\"year\")\n",
    "\n",
    "## the addCollection command adds a collection to the manager\n",
    "## It takes as input the label of the collection and a variable\n",
    "## If a variable is not required then 0 is recommended to be used (e.g., in Sentinel-1)\n",
    "## For Sentinel-2 the variable is used to define the cloud percentage\n",
    "#myManager.addCollection('sentinel-1', 0) # Sentinel1 does not requires an extra variable so 0 is used \n",
    "myManager.addCollection('sentinel-2',50) # 50 for cloud percentage\n",
    "myManager.addCollection('sentinel-2',50) # 50 for cloud percentage\n",
    "#myManager.addCollection('helloworld', 0)\n",
    "\n",
    "myManager.exportFieldData(\"gdrivefolder\", \"featurevectors\",\"/home/milto/Documents/FLFScripts/sampleData/exportTest\",20)\n",
    "\n",
    "\n"
   ]
  },
  {
   "cell_type": "markdown",
   "metadata": {},
   "source": []
  }
 ],
 "metadata": {
  "kernelspec": {
   "display_name": "Python 3",
   "language": "python",
   "name": "python3"
  },
  "language_info": {
   "codemirror_mode": {
    "name": "ipython",
    "version": 3
   },
   "file_extension": ".py",
   "mimetype": "text/x-python",
   "name": "python",
   "nbconvert_exporter": "python",
   "pygments_lexer": "ipython3",
   "version": "3.10.6"
  },
  "orig_nbformat": 4
 },
 "nbformat": 4,
 "nbformat_minor": 2
}
