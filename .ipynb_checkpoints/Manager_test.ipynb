{
 "cells": [
  {
   "cell_type": "code",
   "execution_count": null,
   "metadata": {},
   "outputs": [],
   "source": [
    "# Include these lines in tests and comment out Authenticate after the first use to avoid \n",
    "# authenticate at each run.\n",
    "import ee\n",
    "#ee.Authenticate()\n",
    "ee.Initialize()\n",
    "import sys\n",
    "%run Manager.ipynb\n",
    "\n",
    "\n",
    "# By default recursion is 1000. By increasing it you can handling more plot data at once \n",
    "# but you are doing it at your own risk \n",
    "sys.setrecursionlimit(9000)\n",
    "\n",
    "print(\"hello\")\n",
    "\n",
    "countries = ee.FeatureCollection('USDOS/LSIB_SIMPLE/2017')\n",
    "geometry = countries.filter(ee.Filter.eq('country_na', 'Spain'))\n",
    "\n",
    "# Define a geometry as small as possible containing your area of interest\n",
    "#geometry = ee.Geometry.Polygon(\n",
    "#    [[[-5.586640856054208, 40.07176423657564],\n",
    "#      [-5.391633531835458, 40.07176423657564],\n",
    "#      [-5.391633531835458, 40.17257546939766],\n",
    "#      [-5.6106734488276455, 40.170476760191924]]])\n",
    "\n",
    "# Example locations of test plot data\n",
    "csvFile = \"/home/milto/Documents/FLFScripts/sampleData/plot234_column.csv\"\n",
    "csvFile = \"/home/milto/Documents/FLFScripts/sampleData/plot234_sample1800.csv\"\n",
    "#csvFile = \"/home/milto/Documents/FLFScripts/sampleData/samplePlots.csv\"\n",
    "\n",
    "# Define the field data as a dictionary using these three compulsory fields\n",
    "# 'csvfilename'   : name of csv file containing the plot data with its path directory \n",
    "# 'proj'          : the projection of the plot data\n",
    "# 'radius'        : the radius of the plot data that is consistent across all of them\n",
    "fieldData = {\n",
    "    'csvfilename'   :csvFile,\n",
    "    'proj'          :\"EPSG:3042\",\n",
    "    'radius'        :30\n",
    "    }\n",
    "\n",
    "# Create a manager\n",
    "myManager = Manager(geometry,fieldData,\"CX\", \"CY\",2017)\n",
    "\n",
    "## With this command you can see all the supported collections and the associated \n",
    "## labels that you need to use to add the data into the manager\n",
    "myManager.printAvailableCollections()\n",
    "\n",
    "\n",
    "# Adding masks is optional. You may add none from multiple masks as follow. \n",
    "# If no masks are set then no masks are applied\n",
    "# masks={}\n",
    "masks = {\n",
    "    'gsw': 30, \n",
    "    'lmask': 30, \n",
    "    'forestMask': {\n",
    "        'buffer':30, \n",
    "        'startDate':'2000-01-01', \n",
    "        'endDate':'2017-12-31'}\n",
    "        } #,'aspectDes':0,'aspectAsc':0}\n",
    "myManager.setMasks(masks)\n",
    "#myManager.setYear(2022)\n",
    "\n",
    "# GEE cannot handle long csv files so the system allows you to break processing into \n",
    "# smaller samples. The size is user defined and there is a script that once all sub-samples \n",
    "# are exported the user can use to merge them.\n",
    "myManager.setSampling(600)\n",
    "\n",
    "## the addCollection command adds a collection to the manager\n",
    "## It takes as input the label of the collection and a variable\n",
    "myManager.addCollection('sentinel-1', False) # False for not using the aspect maps\n",
    "myManager.addCollection('sentinel-2',50    ) # 50 for cloud percentage\n",
    "\n",
    "myManager.exportFeatures(\"gdrivefolderLALA\", \"featurevectorLALA\")\n",
    "\n"
   ]
  },
  {
   "cell_type": "markdown",
   "metadata": {},
   "source": []
  }
 ],
 "metadata": {
  "kernelspec": {
   "display_name": "Python 3",
   "language": "python",
   "name": "python3"
  },
  "language_info": {
   "codemirror_mode": {
    "name": "ipython",
    "version": 3
   },
   "file_extension": ".py",
   "mimetype": "text/x-python",
   "name": "python",
   "nbconvert_exporter": "python",
   "pygments_lexer": "ipython3",
   "version": "3.10.6"
  },
  "orig_nbformat": 4,
  "vscode": {
   "interpreter": {
    "hash": "916dbcbb3f70747c44a77c7bcd40155683ae19c65e1c03b4aa3499c5328201f1"
   }
  }
 },
 "nbformat": 4,
 "nbformat_minor": 2
}
