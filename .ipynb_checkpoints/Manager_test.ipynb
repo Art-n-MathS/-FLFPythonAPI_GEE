{
 "cells": [
  {
   "cell_type": "code",
   "execution_count": null,
   "metadata": {},
   "outputs": [],
   "source": [
    "# Include these lines in tests and comment out Authenticate after the first use to avoid \n",
    "# Authenticate at each run.\n",
    "import ee\n",
    "#ee.Authenticate()\n",
    "ee.Initialize()\n",
    "import sys\n",
    "print(sys.getrecursionlimit())\n",
    "sys.setrecursionlimit(9000)\n",
    "\n",
    "\n",
    "import sys\n",
    "modulename = 'ipynb_Manager'\n",
    "if modulename not in sys.modules:\n",
    "    %run Manager.ipynb\n",
    "    # adding an identifier to sys.modules to avoiding loading the same file multiple times\n",
    "    sys.modules['ipynb_Manager'] = None \n",
    "#else\n",
    "   # Utils modules has already been loaded somewhere else\n",
    "\n",
    "sys.setrecursionlimit(9000)"
   ]
  },
  {
   "cell_type": "code",
   "execution_count": null,
   "metadata": {},
   "outputs": [],
   "source": [
    "startDate = '2017-01-01'\n",
    "endDate   = '2017-12-31'\n",
    "\n",
    "countries = ee.FeatureCollection('USDOS/LSIB_SIMPLE/2017')\n",
    "geometry = countries.filter(ee.Filter.eq('country_na', 'Spain'))\n",
    "\n",
    "\n",
    "\n",
    "myManager = Manager(geometry)\n",
    "## With this command you can see all the supported collections and the associated \n",
    "## labels that you need to use to add the data into the manager\n",
    "myManager.printAvailableCollections()\n",
    "\n",
    "## These are some test on how you may change the default collection\n",
    "#myManager.changeDefaultCollection('sentinel-1',\"helloworld\")\n",
    "#myManager.changeDefaultCollection('sentinel-2',\"helloworld2\")\n",
    "#myManager.changeDefaultCollection('helloworld',\"helloworld2\")\n",
    "\n",
    "fstartDate = '2000-01-01'\n",
    "fendDate   = '2017-12-31'\n",
    "\n",
    "masks = {\n",
    "    'gsw': 30, \n",
    "    'lmask': 30, \n",
    "    'forestMask': {\n",
    "        'buffer':30, \n",
    "        'startDate':fstartDate, \n",
    "        'endDate':fendDate}\n",
    "        } #,'aspectDes':0,'aspectAsc':0}\n",
    "\n",
    "myManager.setMasks(masks)\n",
    "myManager.setYear(2024)\n",
    "\n",
    "#csvFile = \"/home/milto/Documents/FLFScripts/sampleData/plot234_column.csv\"\n",
    "csvFile = \"/home/milto/Documents/FLFScripts/sampleData/samplePlots.csv\"\n",
    "myManager.addFieldData({\n",
    "    'csvfilename'   :csvFile,\n",
    "    'proj'          :\"EPSG:3042\"\n",
    "    })\n",
    "\n",
    "\n",
    "## the addCollection command adds a collection to the manager\n",
    "## It takes as input the label of the collection and a variable\n",
    "## If a variable is not required then 0 is recommended to be used (e.g., in Sentinel-1)\n",
    "## For Sentinel-2 the variable is used to define the cloud percentage\n",
    "myManager.addCollection('sentinel-1', 0) # Sentinel1 does not requires an extra variable so 0 is used \n",
    "myManager.addCollection('sentinel-2',50) # 50 for cloud percentage\n",
    "exit(0)\n",
    "myManager.exportFeatures(\"gdrivefolder\", \"featurevectors\",\"/home/milto/Documents/FLFScripts/sampleData/exportTest\",10)\n",
    "\n",
    "\n",
    "print (\"Hello world 111\")\n"
   ]
  },
  {
   "cell_type": "markdown",
   "metadata": {},
   "source": []
  }
 ],
 "metadata": {
  "kernelspec": {
   "display_name": "Python 3",
   "language": "python",
   "name": "python3"
  },
  "language_info": {
   "codemirror_mode": {
    "name": "ipython",
    "version": 3
   },
   "file_extension": ".py",
   "mimetype": "text/x-python",
   "name": "python",
   "nbconvert_exporter": "python",
   "pygments_lexer": "ipython3",
   "version": "3.10.6"
  },
  "orig_nbformat": 4
 },
 "nbformat": 4,
 "nbformat_minor": 2
}
