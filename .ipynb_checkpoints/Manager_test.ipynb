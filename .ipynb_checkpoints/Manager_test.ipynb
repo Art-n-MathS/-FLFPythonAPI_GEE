{
 "cells": [
  {
   "cell_type": "code",
   "execution_count": 3,
   "metadata": {},
   "outputs": [
    {
     "name": "stdout",
     "output_type": "stream",
     "text": [
      "9000\n"
     ]
    }
   ],
   "source": [
    "# Include these lines in tests and comment out Authenticate after the first use to avoid \n",
    "# Authenticate at each run.\n",
    "import ee\n",
    "#ee.Authenticate()\n",
    "ee.Initialize()\n",
    "import sys\n",
    "print(sys.getrecursionlimit())\n",
    "sys.setrecursionlimit(9000)\n",
    "\n",
    "\n",
    "import sys\n",
    "modulename = 'ipynb_Manager'\n",
    "if modulename not in sys.modules:\n",
    "    %run Manager.ipynb\n",
    "    # adding an identifier to sys.modules to avoiding loading the same file multiple times\n",
    "    sys.modules['ipynb_Manager'] = None \n",
    "#else\n",
    "   # Utils modules has already been loaded somewhere else\n",
    "\n"
   ]
  },
  {
   "cell_type": "code",
   "execution_count": 4,
   "metadata": {},
   "outputs": [
    {
     "name": "stdout",
     "output_type": "stream",
     "text": [
      "There are  2  available within the system:\n",
      "You may add to the manager the following collections using the corresponding label:\n",
      "        label                   collection\n",
      "0  sentinel-1            COPERNICUS/S1_GRD\n",
      "1  sentinel-2  COPERNICUS/S2_SR_HARMONIZED\n"
     ]
    },
    {
     "ename": "AttributeError",
     "evalue": "'Manager' object has no attribute 'setMasks'",
     "output_type": "error",
     "traceback": [
      "\u001b[0;31m---------------------------------------------------------------------------\u001b[0m",
      "\u001b[0;31mAttributeError\u001b[0m                            Traceback (most recent call last)",
      "Cell \u001b[0;32mIn[4], line 20\u001b[0m\n\u001b[1;32m     14\u001b[0m \u001b[39m## These are some test on how you may change the default collection\u001b[39;00m\n\u001b[1;32m     15\u001b[0m \u001b[39m#myManager.changeDefaultCollection('sentinel-1',\"helloworld\")\u001b[39;00m\n\u001b[1;32m     16\u001b[0m \u001b[39m#myManager.changeDefaultCollection('sentinel-2',\"helloworld2\")\u001b[39;00m\n\u001b[1;32m     17\u001b[0m \u001b[39m#myManager.changeDefaultCollection('helloworld',\"helloworld2\")\u001b[39;00m\n\u001b[1;32m     19\u001b[0m masks \u001b[39m=\u001b[39m {\u001b[39m'\u001b[39m\u001b[39mgsw\u001b[39m\u001b[39m'\u001b[39m: \u001b[39m30\u001b[39m, \u001b[39m'\u001b[39m\u001b[39mlmask\u001b[39m\u001b[39m'\u001b[39m: \u001b[39m30\u001b[39m, \u001b[39m'\u001b[39m\u001b[39mforestMask\u001b[39m\u001b[39m'\u001b[39m: {\u001b[39m30\u001b[39m,startDate,endDate}} \u001b[39m#,'aspectDes':0,'aspectAsc':0}\u001b[39;00m\n\u001b[0;32m---> 20\u001b[0m myManager\u001b[39m.\u001b[39;49msetMasks(masks)\n\u001b[1;32m     22\u001b[0m \u001b[39m#csvFile = \"/home/milto/Documents/FLFScripts/sampleData/plot234_column.csv\"\u001b[39;00m\n\u001b[1;32m     23\u001b[0m csvFile \u001b[39m=\u001b[39m \u001b[39m\"\u001b[39m\u001b[39m/home/milto/Documents/FLFScripts/sampleData/samplePlots.csv\u001b[39m\u001b[39m\"\u001b[39m\n",
      "\u001b[0;31mAttributeError\u001b[0m: 'Manager' object has no attribute 'setMasks'"
     ]
    }
   ],
   "source": [
    "startDate = '2017-01-01'\n",
    "endDate   = '2017-12-31'\n",
    "\n",
    "countries = ee.FeatureCollection('USDOS/LSIB_SIMPLE/2017')\n",
    "geometry = countries.filter(ee.Filter.eq('country_na', 'Spain'))\n",
    "\n",
    "\n",
    "\n",
    "myManager = Manager(geometry,startDate,endDate)\n",
    "## With this command you can see all the supported collections and the associated \n",
    "## labels that you need to use to add the data into the manager\n",
    "myManager.printAvailableCollections()\n",
    "\n",
    "## These are some test on how you may change the default collection\n",
    "#myManager.changeDefaultCollection('sentinel-1',\"helloworld\")\n",
    "#myManager.changeDefaultCollection('sentinel-2',\"helloworld2\")\n",
    "#myManager.changeDefaultCollection('helloworld',\"helloworld2\")\n",
    "\n",
    "masks = {'gsw': 30, 'lmask': 30, 'forestMask': {30,startDate,endDate}} #,'aspectDes':0,'aspectAsc':0}\n",
    "myManager.setMasks(masks)\n",
    "\n",
    "#csvFile = \"/home/milto/Documents/FLFScripts/sampleData/plot234_column.csv\"\n",
    "csvFile = \"/home/milto/Documents/FLFScripts/sampleData/samplePlots.csv\"\n",
    "myManager.addFieldData(csvFile,\"EPSG:3042\",\"year\")\n",
    "print (\"Hello world \")\n",
    "\n",
    "## the addCollection command adds a collection to the manager\n",
    "## It takes as input the label of the collection and a variable\n",
    "## If a variable is not required then 0 is recommended to be used (e.g., in Sentinel-1)\n",
    "## For Sentinel-2 the variable is used to define the cloud percentage\n",
    "myManager.addCollection('sentinel-1', 0) # Sentinel1 does not requires an extra variable so 0 is used \n",
    "print (\"Hello world 1\")\n",
    "myManager.addCollection('sentinel-2',50) # 50 for cloud percentage\n",
    "#myManager.addCollection('sentinel-2',50) # 50 for cloud percentage\n",
    "#myManager.addCollection('helloworld', 0)\n",
    "print (\"Hello world 11\")\n",
    "#myManager.exportFieldData(\"gdrivefolder\", \"featurevectors\",\"/home/milto/Documents/FLFScripts/sampleData/exportTest\",10)\n",
    "\n",
    "\n",
    "print (\"Hello world 111\")\n"
   ]
  },
  {
   "cell_type": "markdown",
   "metadata": {},
   "source": []
  }
 ],
 "metadata": {
  "kernelspec": {
   "display_name": "Python 3",
   "language": "python",
   "name": "python3"
  },
  "language_info": {
   "codemirror_mode": {
    "name": "ipython",
    "version": 3
   },
   "file_extension": ".py",
   "mimetype": "text/x-python",
   "name": "python",
   "nbconvert_exporter": "python",
   "pygments_lexer": "ipython3",
   "version": "3.10.6"
  },
  "orig_nbformat": 4
 },
 "nbformat": 4,
 "nbformat_minor": 2
}
