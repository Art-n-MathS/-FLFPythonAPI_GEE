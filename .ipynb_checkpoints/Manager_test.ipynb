{
 "cells": [
  {
   "cell_type": "code",
   "execution_count": 1,
   "metadata": {},
   "outputs": [
    {
     "name": "stdout",
     "output_type": "stream",
     "text": [
      "3000\n",
      "GEE already imported\n",
      "Utils imported\n",
      "Masks class imported\n",
      "GEE already imported\n",
      "Sentinel1 class imported\n",
      "Sentinel2b class imported\n",
      "GEE already imported\n",
      "Class fieldData imported\n",
      "Masks class imported\n"
     ]
    }
   ],
   "source": [
    "# Include these lines in tests and comment out Authenticate after the first use to avoid \n",
    "# Authenticate at each run.\n",
    "import ee\n",
    "#ee.Authenticate()\n",
    "ee.Initialize()\n",
    "import sys\n",
    "print(sys.getrecursionlimit())\n",
    "sys.setrecursionlimit(9000)\n",
    "\n",
    "\n",
    "import sys\n",
    "modulename = 'ipynb_Manager'\n",
    "if modulename not in sys.modules:\n",
    "    %run Manager.ipynb\n",
    "    # adding an identifier to sys.modules to avoiding loading the same file multiple times\n",
    "    sys.modules['ipynb_Manager'] = None \n",
    "#else\n",
    "   # Utils modules has already been loaded somewhere else\n",
    "\n",
    "sys.setrecursionlimit(9000)"
   ]
  },
  {
   "cell_type": "code",
   "execution_count": 2,
   "metadata": {},
   "outputs": [
    {
     "name": "stdout",
     "output_type": "stream",
     "text": [
      "WARNING: Sentinel-2 data will not be exported as the year requested is before launched date.\n",
      "Sentinel1:  2014-04-01 2014-12-31\n",
      "Sentinel2:   \n",
      "There are  2  collections available within the system:\n",
      "        label                   collection\n",
      "0  sentinel-1            COPERNICUS/S1_GRD\n",
      "1  sentinel-2  COPERNICUS/S2_SR_HARMONIZED\n",
      "Sentinel1:  2021-01-01 2021-12-31\n",
      "Sentinel2:  2021-01-01 2021-12-31\n",
      "SEntinel 2 added !!!!!!!!!!!!!!!!!!!!!!1 True\n",
      "WARNING: Sentinel 1 collection parameters loaded are NOT valid and system is skipping this collection\n",
      "Sentinel 2 collection parameters loaded are valid and system is now intepreting data\n",
      "Start end dates: 2021-01-01 2021-12-31\n",
      "-1 -1 -1 -1 -1 +++++\n",
      "self.sentinel2Info[startDate] 2021-01-01 <class 'str'>\n",
      "self.sentinel2Info[endDate] 2021-12-31 <class 'str'>\n",
      "2021 2021 <class 'int'> <class 'int'> lys, lye 000000000000000000000000000000000\n",
      "Band names s2bands:  ['0_B1', '0_B2', '0_B3', '0_B4', '0_B5', '0_B6', '0_B7', '0_B8', '0_B8A', '0_B9', '0_B11', '0_B12', '1_B1', '1_B2', '1_B3', '1_B4', '1_B5', '1_B6', '1_B7', '1_B8', '1_B8A', '1_B9', '1_B11', '1_B12', '2_B1', '2_B2', '2_B3', '2_B4', '2_B5', '2_B6', '2_B7', '2_B8', '2_B8A', '2_B9', '2_B11', '2_B12', '3_B1', '3_B2', '3_B3', '3_B4', '3_B5', '3_B6', '3_B7', '3_B8', '3_B8A', '3_B9', '3_B11', '3_B12', '4_B1', '4_B2', '4_B3', '4_B4', '4_B5', '4_B6', '4_B7', '4_B8', '4_B8A', '4_B9', '4_B11', '4_B12', '5_B1', '5_B2', '5_B3', '5_B4', '5_B5', '5_B6', '5_B7', '5_B8', '5_B8A', '5_B9', '5_B11', '5_B12', '6_B1', '6_B2', '6_B3', '6_B4', '6_B5', '6_B6', '6_B7', '6_B8', '6_B8A', '6_B9', '6_B11', '6_B12', '7_B1', '7_B2', '7_B3', '7_B4', '7_B5', '7_B6', '7_B7', '7_B8', '7_B8A', '7_B9', '7_B11', '7_B12', '8_B1', '8_B2', '8_B3', '8_B4', '8_B5', '8_B6', '8_B7', '8_B8', '8_B8A', '8_B9', '8_B11', '8_B12', '9_B1', '9_B2', '9_B3', '9_B4', '9_B5', '9_B6', '9_B7', '9_B8', '9_B8A', '9_B9', '9_B11', '9_B12', '10_B1', '10_B2', '10_B3', '10_B4', '10_B5', '10_B6', '10_B7', '10_B8', '10_B8A', '10_B9', '10_B11', '10_B12', '11_B1', '11_B2', '11_B3', '11_B4', '11_B5', '11_B6', '11_B7', '11_B8', '11_B8A', '11_B9', '11_B11', '11_B12']\n",
      "START EXPORTING FEATURES VECTORS\n",
      "STOP EXPORTING: CHECK PROGRESS ON GOOGLE EARTH ENGINE - FILES ON DRIVE\n",
      "features vectors exported!!\n"
     ]
    }
   ],
   "source": [
    "\n",
    "\n",
    "countries = ee.FeatureCollection('USDOS/LSIB_SIMPLE/2017')\n",
    "geometry = countries.filter(ee.Filter.eq('country_na', 'Spain'))\n",
    "\n",
    "\n",
    "\n",
    "geometry = ee.Geometry.Polygon(\n",
    "    [[[-5.586640856054208, 40.07176423657564],\n",
    "      [-5.391633531835458, 40.07176423657564],\n",
    "      [-5.391633531835458, 40.17257546939766],\n",
    "      [-5.6106734488276455, 40.170476760191924]]])\n",
    "\n",
    "#csvFile = \"/home/milto/Documents/FLFScripts/sampleData/plot234_column.csv\"\n",
    "#csvFile = \"/home/milto/Documents/FLFScripts/sampleData/samplePlots.csv\"\n",
    "\n",
    "fieldData = {\n",
    "    'csvfilename'   :\"/home/milto/Documents/fieldData/plotSample.csv\",\n",
    "    'proj'          :\"EPSG:3042\",\n",
    "    'radius'        :30\n",
    "    }\n",
    "\n",
    "myManager = Manager(geometry,fieldData,\"CX\", \"CY\",2014)\n",
    "## With this command you can see all the supported collections and the associated \n",
    "## labels that you need to use to add the data into the manager\n",
    "myManager.printAvailableCollections()\n",
    "\n",
    "## These are some test on how you may change the default collection\n",
    "#myManager.changeDefaultCollection('sentinel-1',\"helloworld\")\n",
    "#myManager.changeDefaultCollection('sentinel-2',\"helloworld2\")\n",
    "#myManager.changeDefaultCollection('helloworld',\"helloworld2\")\n",
    "\n",
    "# These dates are used for the period that forest disturbances according to Global Forest Watched will be removed\n",
    "fstartDate = '2000-01-01'\n",
    "fendDate   = '2017-12-31'\n",
    "\n",
    "masks = {\n",
    "    'gsw': 30, \n",
    "    'lmask': 30, \n",
    "    'forestMask': {\n",
    "        'buffer':30, \n",
    "        'startDate':fstartDate, \n",
    "        'endDate':fendDate}\n",
    "        } #,'aspectDes':0,'aspectAsc':0}\n",
    "\n",
    "#myManager.setMasks(masks)\n",
    "myManager.setYear(2017)\n",
    "\n",
    "\n",
    "\n",
    "\n",
    "\n",
    "## the addCollection command adds a collection to the manager\n",
    "## It takes as input the label of the collection and a variable\n",
    "## If a variable is not required then 0 is recommended to be used (e.g., in Sentinel-1)\n",
    "## For Sentinel-2 the variable is used to define the cloud percentage\n",
    "#myManager.addCollection('sentinel-1', 0) # Sentinel1 does not requires an extra variable so 0 is used \n",
    "myManager.addCollection('sentinel-2',50) # 50 for cloud percentage\n",
    "\n",
    "myManager.exportFeatures(\"gdrivefolder\", \"featurevectors\")\n",
    "\n"
   ]
  },
  {
   "cell_type": "markdown",
   "metadata": {},
   "source": []
  }
 ],
 "metadata": {
  "kernelspec": {
   "display_name": "Python 3",
   "language": "python",
   "name": "python3"
  },
  "language_info": {
   "codemirror_mode": {
    "name": "ipython",
    "version": 3
   },
   "file_extension": ".py",
   "mimetype": "text/x-python",
   "name": "python",
   "nbconvert_exporter": "python",
   "pygments_lexer": "ipython3",
   "version": "3.10.6"
  },
  "orig_nbformat": 4
 },
 "nbformat": 4,
 "nbformat_minor": 2
}
