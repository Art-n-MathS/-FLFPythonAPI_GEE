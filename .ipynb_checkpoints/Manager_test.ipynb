{
 "cells": [
  {
   "cell_type": "code",
   "execution_count": 1,
   "metadata": {},
   "outputs": [
    {
     "name": "stdout",
     "output_type": "stream",
     "text": [
      "3000\n",
      "GEE already imported\n",
      "Utils imported\n",
      "Masks class imported\n",
      "GEE already imported\n",
      "Sentinel1 class imported\n",
      "Sentinel2b class imported\n",
      "GEE already imported\n",
      "Class fieldData imported\n",
      "Masks class imported\n"
     ]
    }
   ],
   "source": [
    "# Include these lines in tests and comment out Authenticate after the first use to avoid \n",
    "# Authenticate at each run.\n",
    "import ee\n",
    "#ee.Authenticate()\n",
    "ee.Initialize()\n",
    "import sys\n",
    "print(sys.getrecursionlimit())\n",
    "sys.setrecursionlimit(9000)\n",
    "\n",
    "\n",
    "import sys\n",
    "modulename = 'ipynb_Manager'\n",
    "if modulename not in sys.modules:\n",
    "    %run Manager.ipynb\n",
    "    # adding an identifier to sys.modules to avoiding loading the same file multiple times\n",
    "    sys.modules['ipynb_Manager'] = None \n",
    "#else\n",
    "   # Utils modules has already been loaded somewhere else\n",
    "\n",
    "sys.setrecursionlimit(9000)"
   ]
  },
  {
   "cell_type": "code",
   "execution_count": 2,
   "metadata": {},
   "outputs": [
    {
     "name": "stdout",
     "output_type": "stream",
     "text": [
      "WARNING: Sentinel-2 data will not be exported as the year requested is before launched date.\n",
      "Sentinel1:  2014-04-01 2014-12-31\n",
      "Sentinel2:   \n",
      "There are  2  collections available within the system:\n",
      "        label                   collection\n",
      "0  sentinel-1            COPERNICUS/S1_GRD\n",
      "1  sentinel-2  COPERNICUS/S2_SR_HARMONIZED\n",
      "Sentinel1:  2016-01-01 2016-12-31\n",
      "Sentinel2:  2016-01-01 2016-12-31\n",
      "SEntinel 2 added !!!!!!!!!!!!!!!!!!!!!!1 True\n",
      "WARNING: Sentinel 1 collection parameters loaded are NOT valid and system is skipping this collection\n",
      "Sentinel 2 collection parameters loaded are valid and system is now intepreting data\n",
      "Start end dates: 2016-01-01 2016-12-31\n",
      "-1 -1 -1 -1 -1 +++++\n",
      "self.sentinel2Info[startDate] 2016-01-01 <class 'str'>\n",
      "self.sentinel2Info[endDate] 2016-12-31 <class 'str'>\n",
      "2016 2016 <class 'int'> <class 'int'> lys, lye 000000000000000000000000000000000\n",
      "00000000000000000000000000000000000000000000000---------------------\n",
      "[<ee.image.Image object at 0x7fa2a26d8fd0>, <ee.image.Image object at 0x7fa2a26d8dc0>, <ee.image.Image object at 0x7fa2a26d97b0>, <ee.image.Image object at 0x7fa2a26d82e0>, <ee.image.Image object at 0x7fa2a26d4a30>, <ee.image.Image object at 0x7fa2a26d4f70>, <ee.image.Image object at 0x7fa2a26d5e40>, <ee.image.Image object at 0x7fa2a26d6c20>, <ee.image.Image object at 0x7fa2a26d41f0>, <ee.image.Image object at 0x7fa2a26d5600>, <ee.image.Image object at 0x7fa2a26d5510>, <ee.image.Image object at 0x7fa2a26d5300>]\n",
      "00000000000000000000000000000000000000000000000---------------------\n",
      "00000000000000000000000000000000000000000000000---------------------\n",
      "Band names s2bands:  []\n",
      "START EXPORTING FEATURES VECTGORS\n",
      "STOP EXPORTING: CHECK PROGRESS ON GOOGLE EARTH ENGINE - FILES ON DRIVE\n",
      "features vectors exported!!\n",
      "Hello world 111\n"
     ]
    }
   ],
   "source": [
    "startDate = '2017-01-01'\n",
    "endDate   = '2017-12-31'\n",
    "\n",
    "countries = ee.FeatureCollection('USDOS/LSIB_SIMPLE/2017')\n",
    "geometry = countries.filter(ee.Filter.eq('country_na', 'Spain'))\n",
    "geometry = ee.Geometry.Polygon(\n",
    "    [[[-5.586640856054208, 40.07176423657564],\n",
    "      [-5.391633531835458, 40.07176423657564],\n",
    "      [-5.391633531835458, 40.17257546939766],\n",
    "      [-5.6106734488276455, 40.170476760191924]]])\n",
    "\n",
    "#csvFile = \"/home/milto/Documents/FLFScripts/sampleData/plot234_column.csv\"\n",
    "#csvFile = \"/home/milto/Documents/FLFScripts/sampleData/samplePlots.csv\"\n",
    "\n",
    "fieldData = {\n",
    "    'csvfilename'   :\"/home/milto/Documents/fieldData/plotSample.csv\",\n",
    "    'proj'          :\"EPSG:3042\",\n",
    "    'radius'        :30\n",
    "    }\n",
    "\n",
    "myManager = Manager(geometry,fieldData,\"CX\", \"CY\",2014)\n",
    "## With this command you can see all the supported collections and the associated \n",
    "## labels that you need to use to add the data into the manager\n",
    "myManager.printAvailableCollections()\n",
    "\n",
    "## These are some test on how you may change the default collection\n",
    "#myManager.changeDefaultCollection('sentinel-1',\"helloworld\")\n",
    "#myManager.changeDefaultCollection('sentinel-2',\"helloworld2\")\n",
    "#myManager.changeDefaultCollection('helloworld',\"helloworld2\")\n",
    "\n",
    "fstartDate = '2000-01-01'\n",
    "fendDate   = '2017-12-31'\n",
    "\n",
    "masks = {\n",
    "    'gsw': 30, \n",
    "    'lmask': 30, \n",
    "    'forestMask': {\n",
    "        'buffer':30, \n",
    "        'startDate':fstartDate, \n",
    "        'endDate':fendDate}\n",
    "        } #,'aspectDes':0,'aspectAsc':0}\n",
    "\n",
    "#myManager.setMasks(masks)\n",
    "myManager.setYear(2016)\n",
    "\n",
    "\n",
    "\n",
    "\n",
    "\n",
    "## the addCollection command adds a collection to the manager\n",
    "## It takes as input the label of the collection and a variable\n",
    "## If a variable is not required then 0 is recommended to be used (e.g., in Sentinel-1)\n",
    "## For Sentinel-2 the variable is used to define the cloud percentage\n",
    "#myManager.addCollection('sentinel-1', 0) # Sentinel1 does not requires an extra variable so 0 is used \n",
    "myManager.addCollection('sentinel-2',50) # 50 for cloud percentage\n",
    "\n",
    "myManager.exportFeatures(\"gdrivefolder\", \"featurevectors\",\"/home/milto/Documents/FLFScripts/sampleData/exportTest\",10)\n",
    "\n",
    "\n",
    "print (\"Hello world 111\")\n"
   ]
  },
  {
   "cell_type": "markdown",
   "metadata": {},
   "source": []
  }
 ],
 "metadata": {
  "kernelspec": {
   "display_name": "Python 3",
   "language": "python",
   "name": "python3"
  },
  "language_info": {
   "codemirror_mode": {
    "name": "ipython",
    "version": 3
   },
   "file_extension": ".py",
   "mimetype": "text/x-python",
   "name": "python",
   "nbconvert_exporter": "python",
   "pygments_lexer": "ipython3",
   "version": "3.10.6"
  },
  "orig_nbformat": 4
 },
 "nbformat": 4,
 "nbformat_minor": 2
}
