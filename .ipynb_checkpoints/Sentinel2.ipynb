{
 "cells": [
  {
   "cell_type": "code",
   "execution_count": 1,
   "metadata": {},
   "outputs": [
    {
     "data": {
      "text/html": [
       "<p>To authorize access needed by Earth Engine, open the following\n",
       "        URL in a web browser and follow the instructions:</p>\n",
       "        <p><a href=https://code.earthengine.google.com/client-auth?scopes=https%3A//www.googleapis.com/auth/earthengine%20https%3A//www.googleapis.com/auth/devstorage.full_control&request_id=qZFKTueqpL3lJb0HpmAeT48p2UtDXL68ZEsIcYUCP1Q&tc=3QWjHwwGKbjQVyTivoklvRepCjqxotwij7KsvyFVIhs&cc=QwnKyjGuyIaV6AKa2dqfTnQkuhIElqSq1Lf0bU_nrkM>https://code.earthengine.google.com/client-auth?scopes=https%3A//www.googleapis.com/auth/earthengine%20https%3A//www.googleapis.com/auth/devstorage.full_control&request_id=qZFKTueqpL3lJb0HpmAeT48p2UtDXL68ZEsIcYUCP1Q&tc=3QWjHwwGKbjQVyTivoklvRepCjqxotwij7KsvyFVIhs&cc=QwnKyjGuyIaV6AKa2dqfTnQkuhIElqSq1Lf0bU_nrkM</a></p>\n",
       "        <p>The authorization workflow will generate a code, which you should paste in the box below.</p>\n",
       "        "
      ],
      "text/plain": [
       "<IPython.core.display.HTML object>"
      ]
     },
     "metadata": {},
     "output_type": "display_data"
    },
    {
     "name": "stdout",
     "output_type": "stream",
     "text": [
      "\n",
      "Successfully saved authorization token.\n",
      "Utils imported\n"
     ]
    }
   ],
   "source": [
    "import sys\n",
    "\n",
    "# check if GEE is already imported to avoid requesting authenticatiation multiple times\n",
    "modulename = 'ee'\n",
    "if modulename not in sys.modules: \n",
    "   # import GEE and Authenticate, token or log in will be asked from web browser\n",
    "   import ee\n",
    "   ee.Authenticate()\n",
    "   ee.Initialize()\n",
    "else:\n",
    "   print('GEE already imported')\n",
    "   # google earth engine already imported and authenticated\n",
    "\n",
    "\n",
    "modulename = 'ipynb_masks'\n",
    "if modulename not in sys.modules:\n",
    "    %run Masks.ipynb\n",
    "    sys.modules['ipynb_masks'] = None\n",
    "#else\n",
    "    # module already loaded\n",
    "\n",
    "modulename = 'ipynb_Utils'\n",
    "if modulename not in sys.modules:\n",
    "    %run Utils.ipynb\n",
    "    # adding an identifier to sys.modules to avoiding loading the same file multiple times\n",
    "    sys.modules['ipynb_Utils'] = None \n",
    "#else\n",
    "   # Utils modules has already been loaded somewhere else"
   ]
  },
  {
   "cell_type": "code",
   "execution_count": 3,
   "metadata": {},
   "outputs": [],
   "source": [
    "AOI = ee.Geometry.Point(-122.269, 45.701)\n",
    "START_DATE = '2020-06-01'\n",
    "END_DATE = '2020-06-02'\n",
    "CLOUD_FILTER = 60\n",
    "CLD_PRB_THRESH = 50\n",
    "NIR_DRK_THRESH = 0.15\n",
    "CLD_PRJ_DIST = 1\n",
    "BUFFER = 50\n",
    "\n",
    "class Sentinel2:\n",
    "    # @param[in] fb is the pre-defined buffer used for aspects maps masks - recommended 0\n",
    "    def getS2collection(aoi, start_date, end_date):\n",
    "        # Import and filter S2 SR.\n",
    "        s2_sr_col = (ee.ImageCollection('COPERNICUS/S2_SR')\n",
    "            .filterBounds(aoi)\n",
    "            .filterDate(start_date, end_date)\n",
    "            .filter(ee.Filter.lte('CLOUDY_PIXEL_PERCENTAGE', CLOUD_FILTER)))\n",
    "\n",
    "        # Import and filter s2cloudless.\n",
    "        s2_cloudless_col = (ee.ImageCollection('COPERNICUS/S2_CLOUD_PROBABILITY')\n",
    "            .filterBounds(aoi)\n",
    "            .filterDate(start_date, end_date))\n",
    "\n",
    "        # Join the filtered s2cloudless collection to the SR collection by the 'system:index' property.\n",
    "        return ee.ImageCollection(ee.Join.saveFirst('s2cloudless').apply(**{\n",
    "            'primary': s2_sr_col,\n",
    "            'secondary': s2_cloudless_col,\n",
    "            'condition': ee.Filter.equals(**{\n",
    "                'leftField': 'system:index',\n",
    "                'rightField': 'system:index'\n",
    "            })\n",
    "        }))\n",
    "    \n",
    "    def add_cloud_bands(img):\n",
    "        # Get s2cloudless image, subset the probability band.\n",
    "        cld_prb = ee.Image(img.get('s2cloudless')).select('probability')\n",
    "\n",
    "        # Condition s2cloudless by the probability threshold value.\n",
    "        is_cloud = cld_prb.gt(CLD_PRB_THRESH).rename('clouds')\n",
    "\n",
    "        # Add the cloud probability layer and cloud mask as image bands.\n",
    "        return img.addBands(ee.Image([cld_prb, is_cloud]))\n",
    "\n",
    "    def add_shadow_bands(img):\n",
    "        # Identify water pixels from the SCL band.\n",
    "        not_water = img.select('SCL').neq(6)\n",
    "\n",
    "        # Identify dark NIR pixels that are not water (potential cloud shadow pixels).\n",
    "        SR_BAND_SCALE = 1e4\n",
    "        dark_pixels = img.select('B8').lt(NIR_DRK_THRESH*SR_BAND_SCALE).multiply(not_water).rename('dark_pixels')\n",
    "\n",
    "        # Determine the direction to project cloud shadow from clouds (assumes UTM projection).\n",
    "        shadow_azimuth = ee.Number(90).subtract(ee.Number(img.get('MEAN_SOLAR_AZIMUTH_ANGLE')));\n",
    "\n",
    "        # Project shadows from clouds for the distance specified by the CLD_PRJ_DIST input.\n",
    "        cld_proj = (img.select('clouds').directionalDistanceTransform(shadow_azimuth, CLD_PRJ_DIST*10)\n",
    "            .reproject(**{'crs': img.select(0).projection(), 'scale': 100})\n",
    "            .select('distance')\n",
    "            .mask()\n",
    "            .rename('cloud_transform'))\n",
    "\n",
    "        # Identify the intersection of dark pixels with cloud shadow projection.\n",
    "        shadows = cld_proj.multiply(dark_pixels).rename('shadows')\n",
    "\n",
    "        # Add dark pixels, cloud projection, and identified shadows as image bands.\n",
    "        return img.addBands(ee.Image([dark_pixels, cld_proj, shadows]))\n",
    "\n",
    "\n",
    "    def add_cld_shdw_mask(img):\n",
    "        # Add cloud component bands.\n",
    "        img_cloud = add_cloud_bands(img)\n",
    "\n",
    "        # Add cloud shadow component bands.\n",
    "        img_cloud_shadow = add_shadow_bands(img_cloud)\n",
    "\n",
    "        # Combine cloud and shadow mask, set cloud and shadow as value 1, else 0.\n",
    "        is_cld_shdw = img_cloud_shadow.select('clouds').add(img_cloud_shadow.select('shadows')).gt(0)\n",
    "\n",
    "        # Remove small cloud-shadow patches and dilate remaining pixels by BUFFER input.\n",
    "        # 20 m scale is for speed, and assumes clouds don't require 10 m precision.\n",
    "        is_cld_shdw = (is_cld_shdw.focal_min(2).focal_max(BUFFER*2/20)\n",
    "            .reproject(**{'crs': img.select([0]).projection(), 'scale': 20})\n",
    "            .rename('cloudmask'))\n",
    "\n",
    "        # Add the final cloud-shadow mask to the image.\n",
    "        return img_cloud_shadow.addBands(is_cld_shdw)\n",
    "\n",
    "\n",
    "    def __init__(self,startDate,endDate,aoi):\n",
    "        self.s2collection = getS2collection(self,aoi, startDate, endDate).map(add_cld_shdw_mask)\n",
    "        \n",
    "\n",
    "        \n",
    "        \n",
    "        \n",
    "    "
   ]
  }
 ],
 "metadata": {
  "kernelspec": {
   "display_name": "Python 3",
   "language": "python",
   "name": "python3"
  },
  "language_info": {
   "codemirror_mode": {
    "name": "ipython",
    "version": 3
   },
   "file_extension": ".py",
   "mimetype": "text/x-python",
   "name": "python",
   "nbconvert_exporter": "python",
   "pygments_lexer": "ipython3",
   "version": "3.11.1"
  },
  "orig_nbformat": 4,
  "vscode": {
   "interpreter": {
    "hash": "cab1d7ef7b90e69a2393a883ac82077044fd5f1d4df4dae9ffefa7c49ee44033"
   }
  }
 },
 "nbformat": 4,
 "nbformat_minor": 2
}
