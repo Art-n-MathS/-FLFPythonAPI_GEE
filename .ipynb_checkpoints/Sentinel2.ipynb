{
 "cells": [
  {
   "cell_type": "code",
   "execution_count": null,
   "metadata": {},
   "outputs": [],
   "source": [
    "\n",
    "### **** NOTE: THIS CLASS IS NOT WORKING *** ###\n",
    "\n",
    "import sys\n",
    "\n",
    "# check if GEE is already imported to avoid requesting authenticatiation multiple times\n",
    "modulename = 'ee'\n",
    "if modulename not in sys.modules: \n",
    "   # import GEE and Authenticate, token or log in will be asked from web browser\n",
    "   import ee\n",
    "   ee.Authenticate()\n",
    "   ee.Initialize()\n",
    "else:\n",
    "   print('GEE already imported')\n",
    "   # google earth engine already imported and authenticated\n",
    "\n",
    "\n",
    "modulename = 'ipynb_masks'\n",
    "if modulename not in sys.modules:\n",
    "    %run Masks.ipynb\n",
    "    sys.modules['ipynb_masks'] = None\n",
    "#else\n",
    "    # module already loaded\n",
    "\n",
    "modulename = 'ipynb_Utils'\n",
    "if modulename not in sys.modules:\n",
    "    %run Utils.ipynb\n",
    "    # adding an identifier to sys.modules to avoiding loading the same file multiple times\n",
    "    sys.modules['ipynb_Utils'] = None \n",
    "#else\n",
    "   # Utils modules has already been loaded somewhere else\n",
    "\n",
    "\n",
    "modulename = 'py_SatelitteCol'\n",
    "if modulename not in sys.modules:\n",
    "    from SatelitteCol import SatelitteCol\n",
    "    # adding an identifier to sys.modules to avoiding loading the same file multiple times\n",
    "    sys.modules['py_SatelitteCol'] = None \n",
    "#else\n",
    "   # Utils modules has already been loaded somewhere else\n",
    "\n",
    "class Sentinel2(SatelitteCol):\n",
    "    def __init__(self,startDate,endDate,geometry, masks):\n",
    "        SatelitteCol.__init__(self,startDate,endDate,geometry, masks)\n",
    "        print('hello')\n",
    "    "
   ]
  },
  {
   "cell_type": "code",
   "execution_count": null,
   "metadata": {},
   "outputs": [],
   "source": [
    "modulename = 'py_SatelitteCol'\n",
    "if modulename not in sys.modules:\n",
    "    from SatelitteCol import SatelitteCol\n",
    "    # adding an identifier to sys.modules to avoiding loading the same file multiple times\n",
    "    sys.modules['py_SatelitteCol'] = None \n",
    "#else\n",
    "   # Utils modules has already been loaded somewhere else\n",
    "\n",
    "class Sentinel2(SatelitteCol):\n",
    "    def __init__(self,startDate,endDate,geometry, masks):\n",
    "        SatelitteCol.__init__(self,startDate,endDate,geometry, masks)\n",
    "        print('hello')\n",
    "    "
   ]
  }
 ],
 "metadata": {
  "kernelspec": {
   "display_name": "Python 3",
   "language": "python",
   "name": "python3"
  },
  "language_info": {
   "codemirror_mode": {
    "name": "ipython",
    "version": 3
   },
   "file_extension": ".py",
   "mimetype": "text/x-python",
   "name": "python",
   "nbconvert_exporter": "python",
   "pygments_lexer": "ipython3",
   "version": "3.10.6"
  },
  "orig_nbformat": 4,
  "vscode": {
   "interpreter": {
    "hash": "cab1d7ef7b90e69a2393a883ac82077044fd5f1d4df4dae9ffefa7c49ee44033"
   }
  }
 },
 "nbformat": 4,
 "nbformat_minor": 2
}
