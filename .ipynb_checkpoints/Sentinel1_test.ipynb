{
 "cells": [
  {
   "cell_type": "code",
   "execution_count": 1,
   "metadata": {},
   "outputs": [
    {
     "data": {
      "text/html": [
       "<p>To authorize access needed by Earth Engine, open the following\n",
       "        URL in a web browser and follow the instructions:</p>\n",
       "        <p><a href=https://code.earthengine.google.com/client-auth?scopes=https%3A//www.googleapis.com/auth/earthengine%20https%3A//www.googleapis.com/auth/devstorage.full_control&request_id=bInuV1PFd-k6-ZELDIxRCzuq-JFYnXU0ylIcuyHyhvE&tc=25vLKzQIom22MdNQqVRCrBn6GCQjbO8kYJqvJ-NNfLo&cc=RXHD4Co3157Bx2mCSthZQ4wV5UsJlO9uw3C_OvpOkBk>https://code.earthengine.google.com/client-auth?scopes=https%3A//www.googleapis.com/auth/earthengine%20https%3A//www.googleapis.com/auth/devstorage.full_control&request_id=bInuV1PFd-k6-ZELDIxRCzuq-JFYnXU0ylIcuyHyhvE&tc=25vLKzQIom22MdNQqVRCrBn6GCQjbO8kYJqvJ-NNfLo&cc=RXHD4Co3157Bx2mCSthZQ4wV5UsJlO9uw3C_OvpOkBk</a></p>\n",
       "        <p>The authorization workflow will generate a code, which you should paste in the box below.</p>\n",
       "        "
      ],
      "text/plain": [
       "<IPython.core.display.HTML object>"
      ]
     },
     "metadata": {},
     "output_type": "display_data"
    },
    {
     "name": "stdout",
     "output_type": "stream",
     "text": [
      "\n",
      "Successfully saved authorization token.\n",
      "Utils imported\n",
      "Masks class imported\n",
      "Sentinel1 class imported\n",
      "MapVisualisation class imported - uses folium library\n"
     ]
    }
   ],
   "source": [
    "import sys\n",
    "\n",
    "# check if GEE is already imported to avoid requesting authenticatiation multiple times\n",
    "modulename = 'ipynb_Sentinel1'\n",
    "if modulename not in sys.modules:\n",
    "    %run Sentinel1.ipynb\n",
    "    # adding an identifier to sys.modules to avoiding loading the same file multiple times\n",
    "    sys.modules['ipynb_Sentinel1'] = None \n",
    "#else\n",
    "   # Sentinel1 modules has already been loaded somewhere else\n",
    "\n",
    "\n",
    "# Visualisation\n",
    "modulename = 'ipynb_MapVisualisation'\n",
    "if modulename not in sys.modules:\n",
    "    %run MapVisualisation.ipynb\n",
    "    # adding an identifier to sys.modules to avoiding loading the same file multiple times\n",
    "    sys.modules['ipynb_MapVisualisation'] = None \n",
    "#else\n",
    "   # MapVisualisation module has already been loaded somewhere else"
   ]
  },
  {
   "cell_type": "code",
   "execution_count": 2,
   "metadata": {},
   "outputs": [
    {
     "ename": "TypeError",
     "evalue": "'>' not supported between instances of 'str' and 'int'",
     "output_type": "error",
     "traceback": [
      "\u001b[0;31m---------------------------------------------------------------------------\u001b[0m",
      "\u001b[0;31mTypeError\u001b[0m                                 Traceback (most recent call last)",
      "Cell \u001b[0;32mIn[2], line 10\u001b[0m\n\u001b[1;32m      5\u001b[0m geometry \u001b[39m=\u001b[39m countries\u001b[39m.\u001b[39mfilter(ee\u001b[39m.\u001b[39mFilter\u001b[39m.\u001b[39meq(\u001b[39m'\u001b[39m\u001b[39mcountry_na\u001b[39m\u001b[39m'\u001b[39m, \u001b[39m'\u001b[39m\u001b[39mCyprus\u001b[39m\u001b[39m'\u001b[39m))\n\u001b[1;32m      8\u001b[0m masks \u001b[39m=\u001b[39m {\u001b[39m'\u001b[39m\u001b[39mgsw\u001b[39m\u001b[39m'\u001b[39m: \u001b[39m30\u001b[39m, \u001b[39m'\u001b[39m\u001b[39mlmask\u001b[39m\u001b[39m'\u001b[39m: \u001b[39m30\u001b[39m, \u001b[39m'\u001b[39m\u001b[39mforestMask\u001b[39m\u001b[39m'\u001b[39m: {\u001b[39m30\u001b[39m,startDate,endDate}} \u001b[39m#,'aspectDes':0,'aspectAsc':0}\u001b[39;00m\n\u001b[0;32m---> 10\u001b[0m s1 \u001b[39m=\u001b[39m Sentinel1(startDate,endDate,geometry,masks)\n\u001b[1;32m     12\u001b[0m \u001b[39m# remove images from the collection \u001b[39;00m\n\u001b[1;32m     13\u001b[0m \u001b[39m# in Sentinel 1 there is an internal removePeriod command for removing the selected period \u001b[39;00m\n\u001b[1;32m     14\u001b[0m \u001b[39m# for all VV, VH asc and desc respectively \u001b[39;00m\n\u001b[1;32m     15\u001b[0m \u001b[39m# This is why the removePeriodFromCollection() function is not used\u001b[39;00m\n\u001b[1;32m     16\u001b[0m s1\u001b[39m.\u001b[39mremovePeriod(startDate,\u001b[39m'\u001b[39m\u001b[39m2017-01-10\u001b[39m\u001b[39m'\u001b[39m)\n",
      "File \u001b[0;32m/tmp/ipykernel_383809/2639440177.py:53\u001b[0m, in \u001b[0;36mSentinel1.__init__\u001b[0;34m(self, startDate, endDate, geometry, masks)\u001b[0m\n\u001b[1;32m     42\u001b[0m \u001b[39mself\u001b[39m\u001b[39m.\u001b[39msentinel1 \u001b[39m=\u001b[39m ee\u001b[39m.\u001b[39mImageCollection(\u001b[39m'\u001b[39m\u001b[39mCOPERNICUS/S1_GRD\u001b[39m\u001b[39m'\u001b[39m) \\\n\u001b[1;32m     43\u001b[0m                    \u001b[39m.\u001b[39mfilterDate(startDate,endDate) \\\n\u001b[1;32m     44\u001b[0m                    \u001b[39m.\u001b[39mfilterBounds(geometry) \\\n\u001b[1;32m     45\u001b[0m                    \u001b[39m.\u001b[39mfilter(ee\u001b[39m.\u001b[39mFilter\u001b[39m.\u001b[39mlistContains(\u001b[39m'\u001b[39m\u001b[39mtransmitterReceiverPolarisation\u001b[39m\u001b[39m'\u001b[39m,\u001b[39m'\u001b[39m\u001b[39mVV\u001b[39m\u001b[39m'\u001b[39m)) \\\n\u001b[1;32m     46\u001b[0m                    \u001b[39m.\u001b[39mfilter(ee\u001b[39m.\u001b[39mFilter\u001b[39m.\u001b[39mlistContains(\u001b[39m'\u001b[39m\u001b[39mtransmitterReceiverPolarisation\u001b[39m\u001b[39m'\u001b[39m,\u001b[39m'\u001b[39m\u001b[39mVH\u001b[39m\u001b[39m'\u001b[39m)) \\\n\u001b[1;32m     47\u001b[0m                    \u001b[39m.\u001b[39mfilter(ee\u001b[39m.\u001b[39mFilter\u001b[39m.\u001b[39meq(\u001b[39m'\u001b[39m\u001b[39minstrumentMode\u001b[39m\u001b[39m'\u001b[39m, \u001b[39m'\u001b[39m\u001b[39mIW\u001b[39m\u001b[39m'\u001b[39m))\n\u001b[1;32m     52\u001b[0m masksHandler \u001b[39m=\u001b[39m Masks(geometry,masks)\n\u001b[0;32m---> 53\u001b[0m masksHandler\u001b[39m.\u001b[39;49mcalculateCombinedMask()\n\u001b[1;32m     54\u001b[0m \u001b[39mself\u001b[39m\u001b[39m.\u001b[39msentinel1 \u001b[39m=\u001b[39m \u001b[39mself\u001b[39m\u001b[39m.\u001b[39msentinel1\u001b[39m.\u001b[39mmap(algorithm \u001b[39m=\u001b[39m masksHandler\u001b[39m.\u001b[39mupdateCombinedMask)\n\u001b[1;32m     59\u001b[0m \u001b[39mself\u001b[39m\u001b[39m.\u001b[39mVVAsc     \u001b[39m=\u001b[39m \u001b[39mself\u001b[39m\u001b[39m.\u001b[39msentinel1\u001b[39m.\u001b[39mfilter(ee\u001b[39m.\u001b[39mFilter\u001b[39m.\u001b[39meq(\u001b[39m'\u001b[39m\u001b[39morbitProperties_pass\u001b[39m\u001b[39m'\u001b[39m,\u001b[39m'\u001b[39m\u001b[39mASCENDING\u001b[39m\u001b[39m'\u001b[39m )) \\\n\u001b[1;32m     60\u001b[0m                                                 \u001b[39m.\u001b[39mselect(\u001b[39m'\u001b[39m\u001b[39mVV\u001b[39m\u001b[39m'\u001b[39m) \\\n\u001b[1;32m     61\u001b[0m                                                 \u001b[39m.\u001b[39mmap(filterSpeckles3x3) \\\n\u001b[1;32m     62\u001b[0m                                                 \u001b[39m.\u001b[39mmap(algorithm \u001b[39m=\u001b[39m masksHandler\u001b[39m.\u001b[39mupdateAscMask) \\\n\u001b[1;32m     63\u001b[0m                                                 \u001b[39m.\u001b[39mmap(algorithm \u001b[39m=\u001b[39m \u001b[39mself\u001b[39m\u001b[39m.\u001b[39mrenameVVAsc)\n",
      "File \u001b[0;32m/tmp/ipykernel_383809/1234029304.py:151\u001b[0m, in \u001b[0;36mMasks.calculateCombinedMask\u001b[0;34m(self)\u001b[0m\n\u001b[1;32m    148\u001b[0m \u001b[39mif\u001b[39;00m (\u001b[39mself\u001b[39m\u001b[39m.\u001b[39mlmaskBuffer\u001b[39m>\u001b[39m\u001b[39m0\u001b[39m):\n\u001b[1;32m    149\u001b[0m     \u001b[39mself\u001b[39m\u001b[39m.\u001b[39mcombinedMask \u001b[39m=\u001b[39m \u001b[39mself\u001b[39m\u001b[39m.\u001b[39mcombinedMask\u001b[39m.\u001b[39mAnd(\u001b[39mself\u001b[39m\u001b[39m.\u001b[39mgetlandMask(\u001b[39mself\u001b[39m\u001b[39m.\u001b[39mlmaskBuffer))\n\u001b[0;32m--> 151\u001b[0m \u001b[39mif\u001b[39;00m (\u001b[39mself\u001b[39;49m\u001b[39m.\u001b[39;49mforestMaskBuffer\u001b[39m>\u001b[39;49m\u001b[39m0\u001b[39;49m):\n\u001b[1;32m    152\u001b[0m     \u001b[39mself\u001b[39m\u001b[39m.\u001b[39mcombinedMask \u001b[39m=\u001b[39m \u001b[39mself\u001b[39m\u001b[39m.\u001b[39mcombinedMask\u001b[39m.\u001b[39mAnd(\u001b[39mself\u001b[39m\u001b[39m.\u001b[39mgetForestLostMask(\u001b[39mself\u001b[39m\u001b[39m.\u001b[39mstartDate,\u001b[39mself\u001b[39m\u001b[39m.\u001b[39mendDate,\u001b[39mself\u001b[39m\u001b[39m.\u001b[39mforestMaskBuffer))\n\u001b[1;32m    154\u001b[0m \u001b[39mif\u001b[39;00m (\u001b[39mself\u001b[39m\u001b[39m.\u001b[39maspectDesBuffer\u001b[39m==\u001b[39m\u001b[39m0\u001b[39m):\n",
      "\u001b[0;31mTypeError\u001b[0m: '>' not supported between instances of 'str' and 'int'"
     ]
    }
   ],
   "source": [
    "startDate = '2017-01-01'\n",
    "endDate   = '2017-12-31'\n",
    "\n",
    "countries = ee.FeatureCollection('USDOS/LSIB_SIMPLE/2017')\n",
    "geometry = countries.filter(ee.Filter.eq('country_na', 'Cyprus'))\n",
    "\n",
    "\n",
    "masks = {'gsw': 30, 'lmask': 30, 'forestMask': {30,startDate,endDate}} #,'aspectDes':0,'aspectAsc':0}\n",
    "\n",
    "s1 = Sentinel1(startDate,endDate,geometry,masks)\n",
    "\n",
    "# remove images from the collection \n",
    "# in Sentinel 1 there is an internal removePeriod command for removing the selected period \n",
    "# for all VV, VH asc and desc respectively \n",
    "# This is why the removePeriodFromCollection() function is not used\n",
    "s1.removePeriod(startDate,'2017-01-10')\n",
    "s1.byMonth(2017)\n",
    "\n",
    "VVAsc = s1.getVVAsc()\n",
    "VHAsc = s1.getVHAsc()\n",
    "VVDes = s1.getVVDes()\n",
    "VHDes = s1.getVHDes()\n",
    "\n",
    "VHDes1 = VHDes.filter(ee.Filter.calendarRange(1, 1, 'month'))#.mean().set('month',1)\n"
   ]
  },
  {
   "cell_type": "code",
   "execution_count": null,
   "metadata": {},
   "outputs": [],
   "source": [
    "\n",
    "# Set visualization parameters.\n",
    "#vis_params = {\n",
    "#  'min': 0,\n",
    "#  'max': 4000,\n",
    "#  'palette': ['006633', 'E5FFCC', '662A00', 'D8D8D8', 'F5F5F5']}\n",
    "\n",
    "# Create a folium map object.\n",
    "my_map = folium.Map(location=[40,-3], zoom_start=5, height=400)\n",
    "\n",
    "\n",
    "# Add custom basemaps\n",
    "basemaps['Google Maps'].add_to(my_map)\n",
    "basemaps['Google Satellite Hybrid'].add_to(my_map)\n",
    "\n",
    "\n",
    "#s1.byMonthVHDesVHDes()\n",
    "\n",
    "# Add VVAsc to the map\n",
    "my_map.add_ee_layer(VVAsc, {'min':-30,'max':0}, 'VVAsc')\n",
    "# Add VHAsc tp the map \n",
    "my_map.add_ee_layer(VHAsc, {'min':-30,'max':0}, 'VHAsc')\n",
    "# Add VVDes to the map \n",
    "my_map.add_ee_layer(VVDes, {'min':-30,'max':0}, 'VVDes')\n",
    "# Add descending aspects map to the map\n",
    "my_map.add_ee_layer(VHDes, {'min':-30,'max':0}, 'VHDes')\n",
    "my_map.add_ee_layer(VHDes1, {'min':-30,'max':0}, 'VHDes1')\n",
    "\n",
    "\n",
    "# remove images from the collection \n",
    "# NEVER apply this to a single aspect, always call internal Sentinel 1 member function\n",
    "# to be applied to all VVAsc, VHAsc, VVDes, VHDes\n",
    "# VHAsc = removePeriodFromCollection(VHAsc,startDate,'2017-04-30')\n",
    "# ** Use this method for removing period instead before requesting the data*** \n",
    "# s1 = s1.removePeriod(startDate,'2017-04-30')\n",
    "\n",
    "#VV12 = VVDes.filter(ee.Filter.calendarRange(1, 3, 'month'))#.mean().set('month',1)\n",
    "#my_map.add_ee_layer(VV12, {'min':-30,'max':0}, 'VV12')\n",
    "\n",
    "\n",
    "VHAscDict = VHDes.getInfo()\n",
    "\n",
    "#print(VHAscDict)\n",
    "#print(VHAscDict1)\n",
    "i = 0\n",
    "for d in VHAscDict.values():\n",
    "    leni = 0\n",
    "    i = i + 1\n",
    "    # it contains five elements and the 5th one is a list with the properties of each img in the collection\n",
    "    if(i == 5): \n",
    "        print(type(d))\n",
    "        for k in d:\n",
    "            # count how many imgs exist in the collection\n",
    "            leni = leni + 1\n",
    "\n",
    "\n",
    "print(\"No of images in between \", startDate, \" and \", endDate, \" \", leni) #,  len(VHAsc.getInfo()))\n",
    "#print(VHAsc.getInfo())\n",
    "startDate = '2017-06-01'\n",
    "endDate   = '2017-12-31'\n",
    "\n",
    "#print(\"No remaining images: \", getNoOfBands(VVAsc))\n",
    "# Add a layer control panel to the map.\n",
    "my_map.add_child(folium.LayerControl())\n",
    "\n",
    "\n",
    "plugins.Fullscreen().add_to(my_map)\n",
    "\n",
    "# Add a layer control panel to the map.\n",
    "my_map.add_child(folium.LayerControl())\n",
    "\n",
    "# Add fullscreen button\n",
    "plugins.Fullscreen().add_to(my_map)\n",
    "\n",
    "# Display the map.\n",
    "display(my_map)\n",
    "\n"
   ]
  },
  {
   "cell_type": "markdown",
   "metadata": {},
   "source": []
  }
 ],
 "metadata": {
  "kernelspec": {
   "display_name": "Python 3",
   "language": "python",
   "name": "python3"
  },
  "language_info": {
   "codemirror_mode": {
    "name": "ipython",
    "version": 3
   },
   "file_extension": ".py",
   "mimetype": "text/x-python",
   "name": "python",
   "nbconvert_exporter": "python",
   "pygments_lexer": "ipython3",
   "version": "3.10.6"
  },
  "orig_nbformat": 4,
  "vscode": {
   "interpreter": {
    "hash": "cab1d7ef7b90e69a2393a883ac82077044fd5f1d4df4dae9ffefa7c49ee44033"
   }
  }
 },
 "nbformat": 4,
 "nbformat_minor": 2
}
