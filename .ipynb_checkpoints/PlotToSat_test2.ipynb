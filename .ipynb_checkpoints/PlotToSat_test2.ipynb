{
 "cells": [
  {
   "cell_type": "code",
   "execution_count": 2,
   "metadata": {},
   "outputs": [
    {
     "data": {
      "text/html": [
       "<p>To authorize access needed by Earth Engine, open the following\n",
       "        URL in a web browser and follow the instructions:</p>\n",
       "        <p><a href=https://code.earthengine.google.com/client-auth?scopes=https%3A//www.googleapis.com/auth/earthengine%20https%3A//www.googleapis.com/auth/devstorage.full_control&request_id=RhzUgpGWpusSS1DcXU8cWovM9txVYv35z3p21_CKlzY&tc=uP3IggzP09Tv1XCCzPUlp2OORkE_jHRfRuKdD9QEcX4&cc=YBiBlFIjKNN8AAOyzbmJpOkxz1xyyt029GirR7IKC_0>https://code.earthengine.google.com/client-auth?scopes=https%3A//www.googleapis.com/auth/earthengine%20https%3A//www.googleapis.com/auth/devstorage.full_control&request_id=RhzUgpGWpusSS1DcXU8cWovM9txVYv35z3p21_CKlzY&tc=uP3IggzP09Tv1XCCzPUlp2OORkE_jHRfRuKdD9QEcX4&cc=YBiBlFIjKNN8AAOyzbmJpOkxz1xyyt029GirR7IKC_0</a></p>\n",
       "        <p>The authorization workflow will generate a code, which you should paste in the box below.</p>\n",
       "        "
      ],
      "text/plain": [
       "<IPython.core.display.HTML object>"
      ]
     },
     "metadata": {},
     "output_type": "display_data"
    },
    {
     "name": "stdout",
     "output_type": "stream",
     "text": [
      "\n",
      "Successfully saved authorization token.\n",
      "Utils imported\n",
      "Masks class imported\n",
      "GEE already imported\n",
      "Sentinel1 class imported\n",
      "Sentinel2b class imported\n",
      "GEE already imported\n",
      "Class fieldData imported\n",
      "Masks class imported\n"
     ]
    },
    {
     "name": "stderr",
     "output_type": "stream",
     "text": [
      "/tmp/ipykernel_518308/2451550985.py:90: DtypeWarning: Columns (56) have mixed types. Specify dtype option on import or set low_memory=False.\n",
      "  self.df = pd.read_csv(self.csvfile)\n"
     ]
    },
    {
     "ename": "KeyError",
     "evalue": "['Coord_X']",
     "output_type": "error",
     "traceback": [
      "\u001b[0;31m---------------------------------------------------------------------------\u001b[0m",
      "\u001b[0;31mKeyError\u001b[0m                                  Traceback (most recent call last)",
      "\u001b[1;32m/home/milto/Documents/FLFScripts/GEE/.ipynb_checkpoints/PlotToSat_test2.ipynb Cell 1\u001b[0m line \u001b[0;36m3\n\u001b[1;32m     <a href='vscode-notebook-cell:/home/milto/Documents/FLFScripts/GEE/.ipynb_checkpoints/PlotToSat_test2.ipynb#W0sZmlsZQ%3D%3D?line=30'>31</a>\u001b[0m year \u001b[39m=\u001b[39m \u001b[39m2018\u001b[39m\n\u001b[1;32m     <a href='vscode-notebook-cell:/home/milto/Documents/FLFScripts/GEE/.ipynb_checkpoints/PlotToSat_test2.ipynb#W0sZmlsZQ%3D%3D?line=32'>33</a>\u001b[0m \u001b[39m# Create an instance of the Manager\u001b[39;00m\n\u001b[0;32m---> <a href='vscode-notebook-cell:/home/milto/Documents/FLFScripts/GEE/.ipynb_checkpoints/PlotToSat_test2.ipynb#W0sZmlsZQ%3D%3D?line=33'>34</a>\u001b[0m myPlotToSat \u001b[39m=\u001b[39m PlotToSat(polygon,fieldData,year) \n\u001b[1;32m     <a href='vscode-notebook-cell:/home/milto/Documents/FLFScripts/GEE/.ipynb_checkpoints/PlotToSat_test2.ipynb#W0sZmlsZQ%3D%3D?line=35'>36</a>\u001b[0m \u001b[39m## With this command you can see all the supported collections and the associated \u001b[39;00m\n\u001b[1;32m     <a href='vscode-notebook-cell:/home/milto/Documents/FLFScripts/GEE/.ipynb_checkpoints/PlotToSat_test2.ipynb#W0sZmlsZQ%3D%3D?line=36'>37</a>\u001b[0m \u001b[39m## labels that you need to use to add the data into the manager\u001b[39;00m\n\u001b[1;32m     <a href='vscode-notebook-cell:/home/milto/Documents/FLFScripts/GEE/.ipynb_checkpoints/PlotToSat_test2.ipynb#W0sZmlsZQ%3D%3D?line=37'>38</a>\u001b[0m myPlotToSat\u001b[39m.\u001b[39mprintAvailableCollections()\n",
      "File \u001b[0;32m/tmp/ipykernel_518308/279817374.py:122\u001b[0m, in \u001b[0;36mPlotToSat.__init__\u001b[0;34m(self, geometry, fieldDataProperties, year)\u001b[0m\n\u001b[1;32m    119\u001b[0m     fieldDataProperties[\u001b[39m'\u001b[39m\u001b[39moutPlotFileWithIDs\u001b[39m\u001b[39m'\u001b[39m] \u001b[39m=\u001b[39m \u001b[39mself\u001b[39m\u001b[39m.\u001b[39mfiledataFilewithIDs\n\u001b[1;32m    120\u001b[0m \u001b[39m# else:\u001b[39;00m\n\u001b[1;32m    121\u001b[0m   \u001b[39m# outFlotFileWithIDs has been defined by the user  \u001b[39;00m\n\u001b[0;32m--> 122\u001b[0m \u001b[39mself\u001b[39;49m\u001b[39m.\u001b[39;49maddFieldData(fieldDataProperties)\n\u001b[1;32m    123\u001b[0m \u001b[39mself\u001b[39m\u001b[39m.\u001b[39msetYear(year)\n\u001b[1;32m    124\u001b[0m \u001b[39mif\u001b[39;00m(\u001b[39mself\u001b[39m\u001b[39m.\u001b[39mcsvDF \u001b[39m==\u001b[39m \u001b[39mNone\u001b[39;00m \u001b[39mor\u001b[39;00m \u001b[39mself\u001b[39m\u001b[39m.\u001b[39mmaxSize\u001b[39m==\u001b[39m\u001b[39m0\u001b[39m):\n",
      "File \u001b[0;32m/tmp/ipykernel_518308/279817374.py:63\u001b[0m, in \u001b[0;36mPlotToSat.addFieldData\u001b[0;34m(self, properties)\u001b[0m\n\u001b[1;32m     61\u001b[0m \u001b[39mdef\u001b[39;00m \u001b[39maddFieldData\u001b[39m(\u001b[39mself\u001b[39m,properties): \u001b[39m# csvfile,proj,yearlabel):\u001b[39;00m\n\u001b[0;32m---> 63\u001b[0m     \u001b[39mself\u001b[39m\u001b[39m.\u001b[39mcsvDF \u001b[39m=\u001b[39m FieldData(properties)\n\u001b[1;32m     64\u001b[0m     \u001b[39mself\u001b[39m\u001b[39m.\u001b[39mmaxSize \u001b[39m=\u001b[39m \u001b[39mself\u001b[39m\u001b[39m.\u001b[39mcsvDF\u001b[39m.\u001b[39mgetLen()\n",
      "File \u001b[0;32m/tmp/ipykernel_518308/2451550985.py:92\u001b[0m, in \u001b[0;36mFieldData.__init__\u001b[0;34m(self, properties)\u001b[0m\n\u001b[1;32m     90\u001b[0m \u001b[39mself\u001b[39m\u001b[39m.\u001b[39mdf \u001b[39m=\u001b[39m pd\u001b[39m.\u001b[39mread_csv(\u001b[39mself\u001b[39m\u001b[39m.\u001b[39mcsvfile) \n\u001b[1;32m     91\u001b[0m \u001b[39m# Removing Nan values\u001b[39;00m\n\u001b[0;32m---> 92\u001b[0m \u001b[39mself\u001b[39;49m\u001b[39m.\u001b[39;49mdf\u001b[39m.\u001b[39;49mdropna(subset\u001b[39m=\u001b[39;49m[\u001b[39mself\u001b[39;49m\u001b[39m.\u001b[39;49mcolX],inplace\u001b[39m=\u001b[39;49m\u001b[39mTrue\u001b[39;49;00m)\n\u001b[1;32m     93\u001b[0m \u001b[39mself\u001b[39m\u001b[39m.\u001b[39mdf\u001b[39m.\u001b[39mdropna(subset\u001b[39m=\u001b[39m[\u001b[39mself\u001b[39m\u001b[39m.\u001b[39mcolY],inplace\u001b[39m=\u001b[39m\u001b[39mTrue\u001b[39;00m)\n\u001b[1;32m     94\u001b[0m \u001b[39mself\u001b[39m\u001b[39m.\u001b[39mdf \u001b[39m=\u001b[39m \u001b[39mself\u001b[39m\u001b[39m.\u001b[39mdf\u001b[39m.\u001b[39mreset_index()\n",
      "File \u001b[0;32m~/.local/lib/python3.10/site-packages/pandas/util/_decorators.py:331\u001b[0m, in \u001b[0;36mdeprecate_nonkeyword_arguments.<locals>.decorate.<locals>.wrapper\u001b[0;34m(*args, **kwargs)\u001b[0m\n\u001b[1;32m    325\u001b[0m \u001b[39mif\u001b[39;00m \u001b[39mlen\u001b[39m(args) \u001b[39m>\u001b[39m num_allow_args:\n\u001b[1;32m    326\u001b[0m     warnings\u001b[39m.\u001b[39mwarn(\n\u001b[1;32m    327\u001b[0m         msg\u001b[39m.\u001b[39mformat(arguments\u001b[39m=\u001b[39m_format_argument_list(allow_args)),\n\u001b[1;32m    328\u001b[0m         \u001b[39mFutureWarning\u001b[39;00m,\n\u001b[1;32m    329\u001b[0m         stacklevel\u001b[39m=\u001b[39mfind_stack_level(),\n\u001b[1;32m    330\u001b[0m     )\n\u001b[0;32m--> 331\u001b[0m \u001b[39mreturn\u001b[39;00m func(\u001b[39m*\u001b[39;49margs, \u001b[39m*\u001b[39;49m\u001b[39m*\u001b[39;49mkwargs)\n",
      "File \u001b[0;32m~/.local/lib/python3.10/site-packages/pandas/core/frame.py:6561\u001b[0m, in \u001b[0;36mDataFrame.dropna\u001b[0;34m(self, axis, how, thresh, subset, inplace)\u001b[0m\n\u001b[1;32m   6559\u001b[0m     check \u001b[39m=\u001b[39m indices \u001b[39m==\u001b[39m \u001b[39m-\u001b[39m\u001b[39m1\u001b[39m\n\u001b[1;32m   6560\u001b[0m     \u001b[39mif\u001b[39;00m check\u001b[39m.\u001b[39many():\n\u001b[0;32m-> 6561\u001b[0m         \u001b[39mraise\u001b[39;00m \u001b[39mKeyError\u001b[39;00m(np\u001b[39m.\u001b[39marray(subset)[check]\u001b[39m.\u001b[39mtolist())\n\u001b[1;32m   6562\u001b[0m     agg_obj \u001b[39m=\u001b[39m \u001b[39mself\u001b[39m\u001b[39m.\u001b[39mtake(indices, axis\u001b[39m=\u001b[39magg_axis)\n\u001b[1;32m   6564\u001b[0m \u001b[39mif\u001b[39;00m thresh \u001b[39mis\u001b[39;00m \u001b[39mnot\u001b[39;00m no_default:\n",
      "\u001b[0;31mKeyError\u001b[0m: ['Coord_X']"
     ]
    }
   ],
   "source": [
    "# Include these lines and comment out \"ee.Authenticate()\" after the first use to avoid \n",
    "# authenticate at each run.\n",
    "import ee\n",
    "ee.Authenticate()\n",
    "ee.Initialize()\n",
    "import sys\n",
    "\n",
    "# import all the necessary libraries\n",
    "%run PlotToSat.ipynb\n",
    "\n",
    "# By default recursion is 1000. By increasing it you can handling more plot data at once \n",
    "# but you are doing it at your own risk \n",
    "sys.setrecursionlimit(9000)\n",
    "\n",
    "# Definition of Study area\n",
    "countries = ee.FeatureCollection('USDOS/LSIB_SIMPLE/2017')\n",
    "polygon = countries.filter(ee.Filter.eq('country_na', 'Spain'))\n",
    "\n",
    "# Create a dictionary that holds the relevant plot information\n",
    "fieldData = {\n",
    "              #\"csvfilename\"   : \"./samplePlots.csv\",\n",
    "              \"csvfilename\"   : \"/home/milto/Documents/fieldData/plot234_column_original.csv\",\n",
    "              \"proj\"          :\"EPSG:3042\",\n",
    "              \"radius\"        :25,\n",
    "              \"xcol\"          :\"CX\",    \n",
    "              \"ycol\"          :\"CY\",\n",
    "              \"outPlotFileWithIDs\"  :\"fieldDataWithIdentifiers/FieldDataWithIdentifiersSpain.csv\"\n",
    "       }\n",
    "\n",
    "# Specify the year of interest\n",
    "year = 2018\n",
    "\n",
    "# Create an instance of the Manager\n",
    "myPlotToSat = PlotToSat(polygon,fieldData,year) \n",
    "\n",
    "## With this command you can see all the supported collections and the associated \n",
    "## labels that you need to use to add the data into the manager\n",
    "myPlotToSat.printAvailableCollections()\n",
    "\n",
    "# Optionally, users can define a set of masks\n",
    "masks = {\n",
    "              \"gsw\": 30, \n",
    "              \"lmask\": 30, \n",
    "              \"forestMask\": {\n",
    "                     \"buffer\":30, \n",
    "                     \"startDate\":'2000-01-01', \n",
    "                     \"endDate\":'2019-12-31'\n",
    "              }\n",
    "       } \n",
    "myPlotToSat.setMasks(masks)\n",
    "\n",
    "# GEE cannot handle long csv files with plot data so the system allows you to break them \n",
    "# into smaller segments. The default size is 400 but it is advised to use big number (as \n",
    "# long as GEE can handle it). In this example a small number for testing purposes as \n",
    "# \"./samplePlots.csv\" provided with the User Guide only contains 15 plots\n",
    "myPlotToSat.setSampling(300)\n",
    "\n",
    "# Adding Earth Observation Collections\n",
    "myPlotToSat.addCollection(\"sentinel-1\", False) \n",
    "myPlotToSat.addCollection(\"sentinel-2\", 50  ) \n",
    "\n",
    "#Definition and exportation of outputs\n",
    "myPlotToSat.exportFeatures(\"gdrivefolderTest_Spain_r25_2018\", \"gdrivefolderTest_plot_Spain_r25_2018\")\t\n",
    "\n",
    "#myPlotToSat.exprtFeaturesMinMax(\"gdrivefolderTest_plot234_column_original_BB_r25_2018\", \"gdrivefolderTest_plot234_column_original_BB_r25_2018\",6600,6900)\t\n",
    "\n"
   ]
  }
 ],
 "metadata": {
  "kernelspec": {
   "display_name": "Python 3",
   "language": "python",
   "name": "python3"
  },
  "language_info": {
   "codemirror_mode": {
    "name": "ipython",
    "version": 3
   },
   "file_extension": ".py",
   "mimetype": "text/x-python",
   "name": "python",
   "nbconvert_exporter": "python",
   "pygments_lexer": "ipython3",
   "version": "3.10.6"
  },
  "orig_nbformat": 4
 },
 "nbformat": 4,
 "nbformat_minor": 2
}
