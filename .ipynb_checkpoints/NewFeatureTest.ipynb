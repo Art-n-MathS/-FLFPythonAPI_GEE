{
 "cells": [
  {
   "cell_type": "code",
   "execution_count": 1,
   "metadata": {},
   "outputs": [
    {
     "data": {
      "text/html": [
       "<p>To authorize access needed by Earth Engine, open the following\n",
       "        URL in a web browser and follow the instructions:</p>\n",
       "        <p><a href=https://code.earthengine.google.com/client-auth?scopes=https%3A//www.googleapis.com/auth/earthengine%20https%3A//www.googleapis.com/auth/devstorage.full_control&request_id=gLIs9p2or0PDMqntA7dvI0bGN9buUPwABUl92ZaOkuc&tc=6udKUMbKJT7jn6X92a9Ia557ExkSHNkti9OOReIYCLc&cc=ufIj__HXxuWckfZvTsz55aTRIfjRCkRVIfUx5tCx0Uo>https://code.earthengine.google.com/client-auth?scopes=https%3A//www.googleapis.com/auth/earthengine%20https%3A//www.googleapis.com/auth/devstorage.full_control&request_id=gLIs9p2or0PDMqntA7dvI0bGN9buUPwABUl92ZaOkuc&tc=6udKUMbKJT7jn6X92a9Ia557ExkSHNkti9OOReIYCLc&cc=ufIj__HXxuWckfZvTsz55aTRIfjRCkRVIfUx5tCx0Uo</a></p>\n",
       "        <p>The authorization workflow will generate a code, which you should paste in the box below.</p>\n",
       "        "
      ],
      "text/plain": [
       "<IPython.core.display.HTML object>"
      ]
     },
     "metadata": {},
     "output_type": "display_data"
    },
    {
     "ename": "KeyError",
     "evalue": "'client_id'",
     "output_type": "error",
     "traceback": [
      "\u001b[0;31m---------------------------------------------------------------------------\u001b[0m",
      "\u001b[0;31mKeyError\u001b[0m                                  Traceback (most recent call last)",
      "File \u001b[0;32m/tmp/ipykernel_62752/4287806616.py:8\u001b[0m\n\u001b[1;32m      5\u001b[0m \u001b[39mif\u001b[39;00m modulename \u001b[39mnot\u001b[39;00m \u001b[39min\u001b[39;00m sys\u001b[39m.\u001b[39mmodules: \n\u001b[1;32m      6\u001b[0m    \u001b[39m# import GEE and Authenticate, token or log in will be asked from web browser\u001b[39;00m\n\u001b[1;32m      7\u001b[0m    \u001b[39mimport\u001b[39;00m \u001b[39mee\u001b[39;00m\n\u001b[0;32m----> 8\u001b[0m    ee\u001b[39m.\u001b[39;49mAuthenticate()\n\u001b[1;32m      9\u001b[0m    ee\u001b[39m.\u001b[39mInitialize()\n\u001b[1;32m     10\u001b[0m \u001b[39m#else:\u001b[39;00m\n\u001b[1;32m     11\u001b[0m    \u001b[39m# google earth engine already imported and authenticated\u001b[39;00m\n",
      "File \u001b[0;32m~/.local/lib/python3.10/site-packages/ee/__init__.py:103\u001b[0m, in \u001b[0;36mAuthenticate\u001b[0;34m(authorization_code, quiet, code_verifier, auth_mode, scopes)\u001b[0m\n\u001b[1;32m     77\u001b[0m \u001b[39mdef\u001b[39;00m \u001b[39mAuthenticate\u001b[39m(\n\u001b[1;32m     78\u001b[0m     authorization_code\u001b[39m=\u001b[39m\u001b[39mNone\u001b[39;00m,\n\u001b[1;32m     79\u001b[0m     quiet\u001b[39m=\u001b[39m\u001b[39mNone\u001b[39;00m,\n\u001b[1;32m     80\u001b[0m     code_verifier\u001b[39m=\u001b[39m\u001b[39mNone\u001b[39;00m,\n\u001b[1;32m     81\u001b[0m     auth_mode\u001b[39m=\u001b[39m\u001b[39mNone\u001b[39;00m,\n\u001b[1;32m     82\u001b[0m     scopes\u001b[39m=\u001b[39m\u001b[39mNone\u001b[39;00m):\n\u001b[1;32m     83\u001b[0m   \u001b[39m\"\"\"Prompts the user to authorize access to Earth Engine via OAuth2.\u001b[39;00m\n\u001b[1;32m     84\u001b[0m \n\u001b[1;32m     85\u001b[0m \u001b[39m  Args:\u001b[39;00m\n\u001b[0;32m   (...)\u001b[0m\n\u001b[1;32m    101\u001b[0m \u001b[39m     (auth_url, code_verifier) when called with quiet='init_only'\u001b[39;00m\n\u001b[1;32m    102\u001b[0m \u001b[39m  \"\"\"\u001b[39;00m\n\u001b[0;32m--> 103\u001b[0m   \u001b[39mreturn\u001b[39;00m oauth\u001b[39m.\u001b[39;49mauthenticate(authorization_code, quiet, code_verifier, auth_mode,\n\u001b[1;32m    104\u001b[0m                             scopes)\n",
      "File \u001b[0;32m~/.local/lib/python3.10/site-packages/ee/oauth.py:408\u001b[0m, in \u001b[0;36mauthenticate\u001b[0;34m(cli_authorization_code, quiet, cli_code_verifier, auth_mode, scopes)\u001b[0m\n\u001b[1;32m    405\u001b[0m \u001b[39mif\u001b[39;00m flow\u001b[39m.\u001b[39mdisplay_instructions(quiet):\n\u001b[1;32m    406\u001b[0m   _open_new_browser(flow\u001b[39m.\u001b[39mauth_url)\n\u001b[0;32m--> 408\u001b[0m flow\u001b[39m.\u001b[39;49msave_code()\n",
      "File \u001b[0;32m~/.local/lib/python3.10/site-packages/ee/oauth.py:451\u001b[0m, in \u001b[0;36mFlow.save_code\u001b[0;34m(self, code)\u001b[0m\n\u001b[1;32m    449\u001b[0m   redirect_uri \u001b[39m=\u001b[39m \u001b[39mself\u001b[39m\u001b[39m.\u001b[39mserver\u001b[39m.\u001b[39murl\n\u001b[1;32m    450\u001b[0m   code \u001b[39m=\u001b[39m \u001b[39mself\u001b[39m\u001b[39m.\u001b[39mserver\u001b[39m.\u001b[39mfetch_code()  \u001b[39m# Waits for oauth callback\u001b[39;00m\n\u001b[0;32m--> 451\u001b[0m _obtain_and_write_token(code, \u001b[39mself\u001b[39;49m\u001b[39m.\u001b[39;49mcode_verifier, \u001b[39mself\u001b[39;49m\u001b[39m.\u001b[39;49mscopes, redirect_uri)\n",
      "File \u001b[0;32m~/.local/lib/python3.10/site-packages/ee/oauth.py:188\u001b[0m, in \u001b[0;36m_obtain_and_write_token\u001b[0;34m(auth_code, code_verifier, scopes, redirect_uri)\u001b[0m\n\u001b[1;32m    185\u001b[0m   fetch_client \u001b[39m=\u001b[39m urllib\u001b[39m.\u001b[39mrequest\u001b[39m.\u001b[39mRequest(FETCH_URL, data\u001b[39m=\u001b[39mdata, headers\u001b[39m=\u001b[39mheaders)\n\u001b[1;32m    186\u001b[0m   fetched_info \u001b[39m=\u001b[39m json\u001b[39m.\u001b[39mloads(\n\u001b[1;32m    187\u001b[0m       urllib\u001b[39m.\u001b[39mrequest\u001b[39m.\u001b[39murlopen(fetch_client)\u001b[39m.\u001b[39mread()\u001b[39m.\u001b[39mdecode())\n\u001b[0;32m--> 188\u001b[0m   client_info \u001b[39m=\u001b[39m {k: fetched_info[k] \u001b[39mfor\u001b[39;00m k \u001b[39min\u001b[39;00m [\u001b[39m'\u001b[39m\u001b[39mclient_id\u001b[39m\u001b[39m'\u001b[39m, \u001b[39m'\u001b[39m\u001b[39mclient_secret\u001b[39m\u001b[39m'\u001b[39m]}\n\u001b[1;32m    189\u001b[0m   scopes \u001b[39m=\u001b[39m fetched_info\u001b[39m.\u001b[39mget(\u001b[39m'\u001b[39m\u001b[39mscopes\u001b[39m\u001b[39m'\u001b[39m) \u001b[39mor\u001b[39;00m scopes\n\u001b[1;32m    190\u001b[0m token \u001b[39m=\u001b[39m request_token(auth_code\u001b[39m.\u001b[39mstrip(), code_verifier, \u001b[39m*\u001b[39m\u001b[39m*\u001b[39mclient_info)\n",
      "File \u001b[0;32m~/.local/lib/python3.10/site-packages/ee/oauth.py:188\u001b[0m, in \u001b[0;36m<dictcomp>\u001b[0;34m(.0)\u001b[0m\n\u001b[1;32m    185\u001b[0m   fetch_client \u001b[39m=\u001b[39m urllib\u001b[39m.\u001b[39mrequest\u001b[39m.\u001b[39mRequest(FETCH_URL, data\u001b[39m=\u001b[39mdata, headers\u001b[39m=\u001b[39mheaders)\n\u001b[1;32m    186\u001b[0m   fetched_info \u001b[39m=\u001b[39m json\u001b[39m.\u001b[39mloads(\n\u001b[1;32m    187\u001b[0m       urllib\u001b[39m.\u001b[39mrequest\u001b[39m.\u001b[39murlopen(fetch_client)\u001b[39m.\u001b[39mread()\u001b[39m.\u001b[39mdecode())\n\u001b[0;32m--> 188\u001b[0m   client_info \u001b[39m=\u001b[39m {k: fetched_info[k] \u001b[39mfor\u001b[39;00m k \u001b[39min\u001b[39;00m [\u001b[39m'\u001b[39m\u001b[39mclient_id\u001b[39m\u001b[39m'\u001b[39m, \u001b[39m'\u001b[39m\u001b[39mclient_secret\u001b[39m\u001b[39m'\u001b[39m]}\n\u001b[1;32m    189\u001b[0m   scopes \u001b[39m=\u001b[39m fetched_info\u001b[39m.\u001b[39mget(\u001b[39m'\u001b[39m\u001b[39mscopes\u001b[39m\u001b[39m'\u001b[39m) \u001b[39mor\u001b[39;00m scopes\n\u001b[1;32m    190\u001b[0m token \u001b[39m=\u001b[39m request_token(auth_code\u001b[39m.\u001b[39mstrip(), code_verifier, \u001b[39m*\u001b[39m\u001b[39m*\u001b[39mclient_info)\n",
      "\u001b[0;31mKeyError\u001b[0m: 'client_id'"
     ]
    },
    {
     "ename": "KeyError",
     "evalue": "'client_id'",
     "output_type": "error",
     "traceback": [
      "\u001b[0;31m---------------------------------------------------------------------------\u001b[0m",
      "\u001b[0;31mKeyError\u001b[0m                                  Traceback (most recent call last)",
      "Cell \u001b[0;32mIn[1], line 1\u001b[0m\n\u001b[0;32m----> 1\u001b[0m get_ipython()\u001b[39m.\u001b[39;49mrun_line_magic(\u001b[39m'\u001b[39;49m\u001b[39mrun\u001b[39;49m\u001b[39m'\u001b[39;49m, \u001b[39m'\u001b[39;49m\u001b[39mMapVisualisation.ipynb\u001b[39;49m\u001b[39m'\u001b[39;49m)\n\u001b[1;32m      5\u001b[0m   \u001b[39m# Apply the scaling factors to the appropriate bands.\u001b[39;00m\n\u001b[1;32m      6\u001b[0m \u001b[39mdef\u001b[39;00m \u001b[39mgetFactorImg\u001b[39m (factorNames):\n",
      "File \u001b[0;32m~/.local/lib/python3.10/site-packages/IPython/core/interactiveshell.py:2369\u001b[0m, in \u001b[0;36mInteractiveShell.run_line_magic\u001b[0;34m(self, magic_name, line, _stack_depth)\u001b[0m\n\u001b[1;32m   2367\u001b[0m     kwargs[\u001b[39m'\u001b[39m\u001b[39mlocal_ns\u001b[39m\u001b[39m'\u001b[39m] \u001b[39m=\u001b[39m \u001b[39mself\u001b[39m\u001b[39m.\u001b[39mget_local_scope(stack_depth)\n\u001b[1;32m   2368\u001b[0m \u001b[39mwith\u001b[39;00m \u001b[39mself\u001b[39m\u001b[39m.\u001b[39mbuiltin_trap:\n\u001b[0;32m-> 2369\u001b[0m     result \u001b[39m=\u001b[39m fn(\u001b[39m*\u001b[39;49margs, \u001b[39m*\u001b[39;49m\u001b[39m*\u001b[39;49mkwargs)\n\u001b[1;32m   2371\u001b[0m \u001b[39m# The code below prevents the output from being displayed\u001b[39;00m\n\u001b[1;32m   2372\u001b[0m \u001b[39m# when using magics with decodator @output_can_be_silenced\u001b[39;00m\n\u001b[1;32m   2373\u001b[0m \u001b[39m# when the last Python token in the expression is a ';'.\u001b[39;00m\n\u001b[1;32m   2374\u001b[0m \u001b[39mif\u001b[39;00m \u001b[39mgetattr\u001b[39m(fn, magic\u001b[39m.\u001b[39mMAGIC_OUTPUT_CAN_BE_SILENCED, \u001b[39mFalse\u001b[39;00m):\n",
      "File \u001b[0;32m~/.local/lib/python3.10/site-packages/IPython/core/magics/execution.py:719\u001b[0m, in \u001b[0;36mExecutionMagics.run\u001b[0;34m(self, parameter_s, runner, file_finder)\u001b[0m\n\u001b[1;32m    717\u001b[0m     \u001b[39mwith\u001b[39;00m preserve_keys(\u001b[39mself\u001b[39m\u001b[39m.\u001b[39mshell\u001b[39m.\u001b[39muser_ns, \u001b[39m'\u001b[39m\u001b[39m__file__\u001b[39m\u001b[39m'\u001b[39m):\n\u001b[1;32m    718\u001b[0m         \u001b[39mself\u001b[39m\u001b[39m.\u001b[39mshell\u001b[39m.\u001b[39muser_ns[\u001b[39m'\u001b[39m\u001b[39m__file__\u001b[39m\u001b[39m'\u001b[39m] \u001b[39m=\u001b[39m filename\n\u001b[0;32m--> 719\u001b[0m         \u001b[39mself\u001b[39;49m\u001b[39m.\u001b[39;49mshell\u001b[39m.\u001b[39;49msafe_execfile_ipy(filename, raise_exceptions\u001b[39m=\u001b[39;49m\u001b[39mTrue\u001b[39;49;00m)\n\u001b[1;32m    720\u001b[0m     \u001b[39mreturn\u001b[39;00m\n\u001b[1;32m    722\u001b[0m \u001b[39m# Control the response to exit() calls made by the script being run\u001b[39;00m\n",
      "File \u001b[0;32m~/.local/lib/python3.10/site-packages/IPython/core/interactiveshell.py:2891\u001b[0m, in \u001b[0;36mInteractiveShell.safe_execfile_ipy\u001b[0;34m(self, fname, shell_futures, raise_exceptions)\u001b[0m\n\u001b[1;32m   2889\u001b[0m result \u001b[39m=\u001b[39m \u001b[39mself\u001b[39m\u001b[39m.\u001b[39mrun_cell(cell, silent\u001b[39m=\u001b[39m\u001b[39mTrue\u001b[39;00m, shell_futures\u001b[39m=\u001b[39mshell_futures)\n\u001b[1;32m   2890\u001b[0m \u001b[39mif\u001b[39;00m raise_exceptions:\n\u001b[0;32m-> 2891\u001b[0m     result\u001b[39m.\u001b[39;49mraise_error()\n\u001b[1;32m   2892\u001b[0m \u001b[39melif\u001b[39;00m \u001b[39mnot\u001b[39;00m result\u001b[39m.\u001b[39msuccess:\n\u001b[1;32m   2893\u001b[0m     \u001b[39mbreak\u001b[39;00m\n",
      "File \u001b[0;32m~/.local/lib/python3.10/site-packages/IPython/core/interactiveshell.py:266\u001b[0m, in \u001b[0;36mExecutionResult.raise_error\u001b[0;34m(self)\u001b[0m\n\u001b[1;32m    264\u001b[0m     \u001b[39mraise\u001b[39;00m \u001b[39mself\u001b[39m\u001b[39m.\u001b[39merror_before_exec\n\u001b[1;32m    265\u001b[0m \u001b[39mif\u001b[39;00m \u001b[39mself\u001b[39m\u001b[39m.\u001b[39merror_in_exec \u001b[39mis\u001b[39;00m \u001b[39mnot\u001b[39;00m \u001b[39mNone\u001b[39;00m:\n\u001b[0;32m--> 266\u001b[0m     \u001b[39mraise\u001b[39;00m \u001b[39mself\u001b[39m\u001b[39m.\u001b[39merror_in_exec\n",
      "    \u001b[0;31m[... skipping hidden 1 frame]\u001b[0m\n",
      "File \u001b[0;32m/tmp/ipykernel_62752/4287806616.py:8\u001b[0m\n\u001b[1;32m      5\u001b[0m \u001b[39mif\u001b[39;00m modulename \u001b[39mnot\u001b[39;00m \u001b[39min\u001b[39;00m sys\u001b[39m.\u001b[39mmodules: \n\u001b[1;32m      6\u001b[0m    \u001b[39m# import GEE and Authenticate, token or log in will be asked from web browser\u001b[39;00m\n\u001b[1;32m      7\u001b[0m    \u001b[39mimport\u001b[39;00m \u001b[39mee\u001b[39;00m\n\u001b[0;32m----> 8\u001b[0m    ee\u001b[39m.\u001b[39;49mAuthenticate()\n\u001b[1;32m      9\u001b[0m    ee\u001b[39m.\u001b[39mInitialize()\n\u001b[1;32m     10\u001b[0m \u001b[39m#else:\u001b[39;00m\n\u001b[1;32m     11\u001b[0m    \u001b[39m# google earth engine already imported and authenticated\u001b[39;00m\n",
      "File \u001b[0;32m~/.local/lib/python3.10/site-packages/ee/__init__.py:103\u001b[0m, in \u001b[0;36mAuthenticate\u001b[0;34m(authorization_code, quiet, code_verifier, auth_mode, scopes)\u001b[0m\n\u001b[1;32m     77\u001b[0m \u001b[39mdef\u001b[39;00m \u001b[39mAuthenticate\u001b[39m(\n\u001b[1;32m     78\u001b[0m     authorization_code\u001b[39m=\u001b[39m\u001b[39mNone\u001b[39;00m,\n\u001b[1;32m     79\u001b[0m     quiet\u001b[39m=\u001b[39m\u001b[39mNone\u001b[39;00m,\n\u001b[1;32m     80\u001b[0m     code_verifier\u001b[39m=\u001b[39m\u001b[39mNone\u001b[39;00m,\n\u001b[1;32m     81\u001b[0m     auth_mode\u001b[39m=\u001b[39m\u001b[39mNone\u001b[39;00m,\n\u001b[1;32m     82\u001b[0m     scopes\u001b[39m=\u001b[39m\u001b[39mNone\u001b[39;00m):\n\u001b[1;32m     83\u001b[0m   \u001b[39m\"\"\"Prompts the user to authorize access to Earth Engine via OAuth2.\u001b[39;00m\n\u001b[1;32m     84\u001b[0m \n\u001b[1;32m     85\u001b[0m \u001b[39m  Args:\u001b[39;00m\n\u001b[0;32m   (...)\u001b[0m\n\u001b[1;32m    101\u001b[0m \u001b[39m     (auth_url, code_verifier) when called with quiet='init_only'\u001b[39;00m\n\u001b[1;32m    102\u001b[0m \u001b[39m  \"\"\"\u001b[39;00m\n\u001b[0;32m--> 103\u001b[0m   \u001b[39mreturn\u001b[39;00m oauth\u001b[39m.\u001b[39;49mauthenticate(authorization_code, quiet, code_verifier, auth_mode,\n\u001b[1;32m    104\u001b[0m                             scopes)\n",
      "File \u001b[0;32m~/.local/lib/python3.10/site-packages/ee/oauth.py:408\u001b[0m, in \u001b[0;36mauthenticate\u001b[0;34m(cli_authorization_code, quiet, cli_code_verifier, auth_mode, scopes)\u001b[0m\n\u001b[1;32m    405\u001b[0m \u001b[39mif\u001b[39;00m flow\u001b[39m.\u001b[39mdisplay_instructions(quiet):\n\u001b[1;32m    406\u001b[0m   _open_new_browser(flow\u001b[39m.\u001b[39mauth_url)\n\u001b[0;32m--> 408\u001b[0m flow\u001b[39m.\u001b[39;49msave_code()\n",
      "File \u001b[0;32m~/.local/lib/python3.10/site-packages/ee/oauth.py:451\u001b[0m, in \u001b[0;36mFlow.save_code\u001b[0;34m(self, code)\u001b[0m\n\u001b[1;32m    449\u001b[0m   redirect_uri \u001b[39m=\u001b[39m \u001b[39mself\u001b[39m\u001b[39m.\u001b[39mserver\u001b[39m.\u001b[39murl\n\u001b[1;32m    450\u001b[0m   code \u001b[39m=\u001b[39m \u001b[39mself\u001b[39m\u001b[39m.\u001b[39mserver\u001b[39m.\u001b[39mfetch_code()  \u001b[39m# Waits for oauth callback\u001b[39;00m\n\u001b[0;32m--> 451\u001b[0m _obtain_and_write_token(code, \u001b[39mself\u001b[39;49m\u001b[39m.\u001b[39;49mcode_verifier, \u001b[39mself\u001b[39;49m\u001b[39m.\u001b[39;49mscopes, redirect_uri)\n",
      "File \u001b[0;32m~/.local/lib/python3.10/site-packages/ee/oauth.py:188\u001b[0m, in \u001b[0;36m_obtain_and_write_token\u001b[0;34m(auth_code, code_verifier, scopes, redirect_uri)\u001b[0m\n\u001b[1;32m    185\u001b[0m   fetch_client \u001b[39m=\u001b[39m urllib\u001b[39m.\u001b[39mrequest\u001b[39m.\u001b[39mRequest(FETCH_URL, data\u001b[39m=\u001b[39mdata, headers\u001b[39m=\u001b[39mheaders)\n\u001b[1;32m    186\u001b[0m   fetched_info \u001b[39m=\u001b[39m json\u001b[39m.\u001b[39mloads(\n\u001b[1;32m    187\u001b[0m       urllib\u001b[39m.\u001b[39mrequest\u001b[39m.\u001b[39murlopen(fetch_client)\u001b[39m.\u001b[39mread()\u001b[39m.\u001b[39mdecode())\n\u001b[0;32m--> 188\u001b[0m   client_info \u001b[39m=\u001b[39m {k: fetched_info[k] \u001b[39mfor\u001b[39;00m k \u001b[39min\u001b[39;00m [\u001b[39m'\u001b[39m\u001b[39mclient_id\u001b[39m\u001b[39m'\u001b[39m, \u001b[39m'\u001b[39m\u001b[39mclient_secret\u001b[39m\u001b[39m'\u001b[39m]}\n\u001b[1;32m    189\u001b[0m   scopes \u001b[39m=\u001b[39m fetched_info\u001b[39m.\u001b[39mget(\u001b[39m'\u001b[39m\u001b[39mscopes\u001b[39m\u001b[39m'\u001b[39m) \u001b[39mor\u001b[39;00m scopes\n\u001b[1;32m    190\u001b[0m token \u001b[39m=\u001b[39m request_token(auth_code\u001b[39m.\u001b[39mstrip(), code_verifier, \u001b[39m*\u001b[39m\u001b[39m*\u001b[39mclient_info)\n",
      "File \u001b[0;32m~/.local/lib/python3.10/site-packages/ee/oauth.py:188\u001b[0m, in \u001b[0;36m<dictcomp>\u001b[0;34m(.0)\u001b[0m\n\u001b[1;32m    185\u001b[0m   fetch_client \u001b[39m=\u001b[39m urllib\u001b[39m.\u001b[39mrequest\u001b[39m.\u001b[39mRequest(FETCH_URL, data\u001b[39m=\u001b[39mdata, headers\u001b[39m=\u001b[39mheaders)\n\u001b[1;32m    186\u001b[0m   fetched_info \u001b[39m=\u001b[39m json\u001b[39m.\u001b[39mloads(\n\u001b[1;32m    187\u001b[0m       urllib\u001b[39m.\u001b[39mrequest\u001b[39m.\u001b[39murlopen(fetch_client)\u001b[39m.\u001b[39mread()\u001b[39m.\u001b[39mdecode())\n\u001b[0;32m--> 188\u001b[0m   client_info \u001b[39m=\u001b[39m {k: fetched_info[k] \u001b[39mfor\u001b[39;00m k \u001b[39min\u001b[39;00m [\u001b[39m'\u001b[39m\u001b[39mclient_id\u001b[39m\u001b[39m'\u001b[39m, \u001b[39m'\u001b[39m\u001b[39mclient_secret\u001b[39m\u001b[39m'\u001b[39m]}\n\u001b[1;32m    189\u001b[0m   scopes \u001b[39m=\u001b[39m fetched_info\u001b[39m.\u001b[39mget(\u001b[39m'\u001b[39m\u001b[39mscopes\u001b[39m\u001b[39m'\u001b[39m) \u001b[39mor\u001b[39;00m scopes\n\u001b[1;32m    190\u001b[0m token \u001b[39m=\u001b[39m request_token(auth_code\u001b[39m.\u001b[39mstrip(), code_verifier, \u001b[39m*\u001b[39m\u001b[39m*\u001b[39mclient_info)\n",
      "\u001b[0;31mKeyError\u001b[0m: 'client_id'"
     ]
    }
   ],
   "source": [
    "%run MapVisualisation.ipynb\n",
    "\n",
    "\n",
    "\n",
    "  # Apply the scaling factors to the appropriate bands.\n",
    "def getFactorImg (factorNames):\n",
    "    factorList = image.toDictionary().select(factorNames).values()\n",
    "    return ee.Image.constant(factorList)\n",
    "  \n",
    "    scaleImg = getFactorImg(['REFLECTANCE_MULT_BAND_.|TEMPERATURE_MULT_BAND_ST_B10'])\n",
    "    offsetImg = getFactorImg(['REFLECTANCE_ADD_BAND_.|TEMPERATURE_ADD_BAND_ST_B10'])\n",
    "    scaled = image.select('SR_B.|ST_B10').multiply(scaleImg).add(offsetImg)\n",
    "\n",
    "    #Replace original bands with scaled bands and apply masks.\n",
    "    return image.addBands(scaled, null, true) \\\n",
    "                .updateMask(qaMask).updateMask(saturationMask)\n",
    "\n",
    "\n",
    "# Make a cloud-free Landsat 8 surface reflectance composite.\n",
    "image = ee.ImageCollection('LANDSAT/LC08/C02/T1_L2') \\\n",
    "  .filterDate('2021-03-01', '2021-07-01')\\\n",
    "  .median()\n",
    "\n",
    "# Use these bands for prediction.\n",
    "bands = ['SR_B2', 'SR_B3', 'SR_B4', 'SR_B5', 'SR_B6', 'SR_B7', 'ST_B10']\n",
    "\n",
    "# Load training points. The numeric property 'class' stores known labels.\n",
    "points = ee.FeatureCollection('GOOGLE/EE/DEMOS/demo_landcover_labels')\n",
    "\n",
    "# This property stores the land cover labels as consecutive\n",
    "# integers starting from zero.\n",
    "label = 'landcover'\n",
    "\n",
    "# Overlay the points on the imagery to get training.\n",
    "training = image.select(bands).sampleRegions(\n",
    "  collection=points,\n",
    "  properties=[label],\n",
    "  scale=30\n",
    ")\n",
    "\n",
    "# Train a CART classifier with default parameters.\n",
    "trained = ee.Classifier.smileCart().train(training, label, bands)\n",
    "\n",
    "# Classify the image with the same bands used for training.\n",
    "classified = image.select(bands).classify(trained)\n",
    "\n",
    "# Create a folium map object.\n",
    "my_map = folium.Map(location=[40,-3], zoom_start=5, height=400)\n",
    "# Add custom basemaps\n",
    "basemaps['Google Maps'].add_to(my_map)\n",
    "basemaps['Google Satellite Hybrid'].add_to(my_map)\n",
    "my_map.add_ee_layer(image,\n",
    "             {'bands': ['SR_B4', 'SR_B3', 'SR_B2'], min: 0, max: 0.25},\n",
    "             'image')\n",
    "\n",
    "my_map.add_ee_layer(classified,\n",
    "             {min: 0, max: 2, 'palette': ['orange', 'green', 'blue']},\n",
    "             'classification')\n",
    "\n",
    "\n",
    "# Add a layer control panel to the map.\n",
    "my_map.add_child(folium.LayerControl())\n",
    "plugins.Fullscreen().add_to(my_map)\n",
    "\n",
    "# Add a layer control panel to the map.\n",
    "my_map.add_child(folium.LayerControl())\n",
    "\n",
    "# Add fullscreen button\n",
    "plugins.Fullscreen().add_to(my_map)\n",
    "\n",
    "# Display the map.\n",
    "display(my_map)"
   ]
  }
 ],
 "metadata": {
  "kernelspec": {
   "display_name": "Python 3",
   "language": "python",
   "name": "python3"
  },
  "language_info": {
   "codemirror_mode": {
    "name": "ipython",
    "version": 3
   },
   "file_extension": ".py",
   "mimetype": "text/x-python",
   "name": "python",
   "nbconvert_exporter": "python",
   "pygments_lexer": "ipython3",
   "version": "3.10.6"
  },
  "orig_nbformat": 4
 },
 "nbformat": 4,
 "nbformat_minor": 2
}
