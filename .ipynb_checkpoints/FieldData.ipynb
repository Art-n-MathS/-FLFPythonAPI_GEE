{
 "cells": [
  {
   "cell_type": "code",
   "execution_count": null,
   "metadata": {},
   "outputs": [],
   "source": [
    "# coordinate system of Spain field data: EPSG: 3042\n",
    "\n",
    "# info from: https://gis.stackexchange.com/questions/362582/coordinate-system-mismatch-in-folium \n",
    "# all coordinates passed to Leaflet functions/methods are always EPSG:4326.\n",
    "# [latitude, longitude]\n",
    "\n",
    "# when defining/creating map with folium.Map call, actual crs of map has to be specified. Map is in EPSG:3857\n",
    "\n",
    "# transforming coordinates with gdal:\n",
    "# https://gdal.org/programs/gdaltransform.html\n",
    "\n",
    "\n"
   ]
  },
  {
   "cell_type": "code",
   "execution_count": null,
   "metadata": {},
   "outputs": [],
   "source": [
    "\n",
    "import sys\n",
    "\n",
    "# check if GEE is already imported to avoid requesting authenticatiation multiple times\n",
    "modulename = 'ee'\n",
    "if modulename not in sys.modules: \n",
    "   # import GEE and Authenticate, token or log in will be asked from web browser\n",
    "   import ee\n",
    "   ee.Authenticate()\n",
    "   ee.Initialize()\n",
    "else:\n",
    "   print('GEE already imported')\n",
    "   # google earth engine already imported and authenticated\n",
    "\n",
    "import pandas as pd\n"
   ]
  },
  {
   "cell_type": "code",
   "execution_count": 1,
   "metadata": {},
   "outputs": [],
   "source": [
    "\"\"\"\n",
    "var table = ee.FeatureCollection([\n",
    "  ee.Geometry.Point([10, 0]),\n",
    "  ee.Geometry.Point([10, 0.1]),\n",
    "  ee.Geometry.Point([10, 0.2])\n",
    "])\n",
    "\n",
    "var buffered = table.map(function (feature) {\n",
    "  return feature.buffer(5000, 1)\n",
    "})\n",
    "\"\"\"\n",
    "\n",
    "class fieldData: \n",
    "    # constructor\n",
    "    def __init__(self,csvFileName, proj):\n",
    "        self.proj = proj \n",
    "        self.df = pd.read_csv(csvFileName) \n",
    "        self.df = self.df.reset_index()\n",
    "        self.distance = 30\n",
    "\n",
    "    # @brief method that keeps the years of interests (inclusive) and discards the rest\n",
    "    def filterYearsOfInterest(self,startYear,endYear,yearlabel):\n",
    "        self.df = self.df[self.df[yearlabel].isin(list(range(startYear,endYear+1)))]\n",
    "        self.df = self.df.reset_index()\n",
    "        return None\n",
    "    \n",
    "    def bufferPoint(self,feature):\n",
    "        return feature.buffer(self.distance, 1)\n",
    "    \n",
    "    # @brief method that reads the coordinates stored in the xlabel, and ylabel and creates a polygon with radius r \n",
    "    # @param[in] xlabel the label of the column containing the x coordinates\n",
    "    # @param[in] ylabel the label of the column containing the y coordinates\n",
    "    # @param[in] r size of the radius in meters\n",
    "    # @param[in] id the label of the column that defines the name of the plot\n",
    "    def getBufferedPoints(self,xlabel, ylabel, r, id):\n",
    "        pointsList=[]\n",
    "        for index, row in self.df.iterrows():\n",
    "            pointsList.append([ee.Feature(ee.Geometry.Point([row[xlabel],row[ylabel]],self.proj))])\n",
    "        pointsTable = ee.FeatureCollection(ee.List(pointsList))\n",
    "        self.distance = r \n",
    "        bufferedPoints = pointsTable.map(algorithm = self.bufferPoint)\n",
    "        #return bufferedPoints\n",
    "        return pointsTable\n",
    "\n",
    "    def printFieldData(self):\n",
    "        print(self.df.to_string())  "
   ]
  },
  {
   "cell_type": "code",
   "execution_count": null,
   "metadata": {},
   "outputs": [],
   "source": [
    "print (\"Class fieldData imported\")"
   ]
  }
 ],
 "metadata": {
  "kernelspec": {
   "display_name": "Python 3",
   "language": "python",
   "name": "python3"
  },
  "language_info": {
   "codemirror_mode": {
    "name": "ipython",
    "version": 3
   },
   "file_extension": ".py",
   "mimetype": "text/x-python",
   "name": "python",
   "nbconvert_exporter": "python",
   "pygments_lexer": "ipython3",
   "version": "3.11.1"
  },
  "orig_nbformat": 4,
  "vscode": {
   "interpreter": {
    "hash": "cab1d7ef7b90e69a2393a883ac82077044fd5f1d4df4dae9ffefa7c49ee44033"
   }
  }
 },
 "nbformat": 4,
 "nbformat_minor": 2
}
