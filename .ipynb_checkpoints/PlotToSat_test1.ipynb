{
 "cells": [
  {
   "cell_type": "code",
   "execution_count": 1,
   "metadata": {},
   "outputs": [
    {
     "data": {
      "text/html": [
       "<p>To authorize access needed by Earth Engine, open the following\n",
       "        URL in a web browser and follow the instructions:</p>\n",
       "        <p><a href=https://code.earthengine.google.com/client-auth?scopes=https%3A//www.googleapis.com/auth/earthengine%20https%3A//www.googleapis.com/auth/devstorage.full_control&request_id=7PR3TUUWLdshB9Eh83rwH0p2htwqhCeMlaFgbh_R5iM&tc=RDiMUB-41mW8FvLvKB2cZDjIkxm-8mMsrWk7vii_SGY&cc=V1eNQmkUrRCRnl4ac78k4t6dKF4-DnERhjX8zR43uOg>https://code.earthengine.google.com/client-auth?scopes=https%3A//www.googleapis.com/auth/earthengine%20https%3A//www.googleapis.com/auth/devstorage.full_control&request_id=7PR3TUUWLdshB9Eh83rwH0p2htwqhCeMlaFgbh_R5iM&tc=RDiMUB-41mW8FvLvKB2cZDjIkxm-8mMsrWk7vii_SGY&cc=V1eNQmkUrRCRnl4ac78k4t6dKF4-DnERhjX8zR43uOg</a></p>\n",
       "        <p>The authorization workflow will generate a code, which you should paste in the box below.</p>\n",
       "        "
      ],
      "text/plain": [
       "<IPython.core.display.HTML object>"
      ]
     },
     "metadata": {},
     "output_type": "display_data"
    }
   ],
   "source": [
    "# import all the necessary libraries\n",
    "%run PlotToSat.ipynb\n",
    "\n",
    "# Define study region\n",
    "polygon = ee.Geometry.Polygon(\n",
    "[[[-6.7820312500000135, 37.744682241748094],\n",
    "[-1.1570312500000135, 37.32651387565316],\n",
    "[0.1613281249999865, 42.25294129803316],\n",
    "[-7.3093750000000135, 43.349172765639516]]])\n",
    "\n",
    "# Create a dictionary that holds the relevant plot information\n",
    "fieldData = {\n",
    "       \"csvfilename\"         : \"./samplePlots.csv\",\n",
    "       \"proj\"                : \"EPSG:3042\",\n",
    "       \"radius\"              : 30,\n",
    "       \"xcol\"                : \"CX\",    \n",
    "       \"ycol\"                : \"CY\",\n",
    "       \"outPlotFileWithIDs\"  : r\"plotsWithIDs\\SpainIDs_1.csv\"\n",
    "}\n",
    "\n",
    "# Specify the year of interest\n",
    "year = 2019\n",
    "\n",
    "# Create an instance of the Manager\n",
    "myPlotToSat = PlotToSat(polygon,fieldData,year) \n",
    "\n",
    "# Add Earth Observation Collections of interest\n",
    "myPlotToSat.addCollection(\"sentinel-1\", True) \n",
    "myPlotToSat.addCollection(\"sentinel-2\", 50  ) \n",
    "\n",
    "#Definition and exportation of outputs\n",
    "myPlotToSat.exportFeatures(\"folderSpain1\", \"outfeaturevectors\")\t"
   ]
  }
 ],
 "metadata": {
  "kernelspec": {
   "display_name": "Python 3",
   "language": "python",
   "name": "python3"
  },
  "language_info": {
   "codemirror_mode": {
    "name": "ipython",
    "version": 3
   },
   "file_extension": ".py",
   "mimetype": "text/x-python",
   "name": "python",
   "nbconvert_exporter": "python",
   "pygments_lexer": "ipython3",
   "version": "3.11.1"
  },
  "orig_nbformat": 4
 },
 "nbformat": 4,
 "nbformat_minor": 2
}
