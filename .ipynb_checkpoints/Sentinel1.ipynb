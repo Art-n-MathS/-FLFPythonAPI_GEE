{
 "cells": [
  {
   "cell_type": "code",
   "execution_count": 1,
   "metadata": {},
   "outputs": [
    {
     "data": {
      "text/html": [
       "<p>To authorize access needed by Earth Engine, open the following\n",
       "        URL in a web browser and follow the instructions:</p>\n",
       "        <p><a href=https://code.earthengine.google.com/client-auth?scopes=https%3A//www.googleapis.com/auth/earthengine%20https%3A//www.googleapis.com/auth/devstorage.full_control&request_id=gchMTgUwqq1Xg_W6ncKnGEruErIWrKQgMy0JIjy7VCA&tc=4s0MykImXlcB6zoqa07-pFU7zPbNfUhLA_NA3mwQ0rU&cc=mTHMkbsusOJb8lZ46ZZgt4wkkFnWWLJsLGZ1YLsjRVk>https://code.earthengine.google.com/client-auth?scopes=https%3A//www.googleapis.com/auth/earthengine%20https%3A//www.googleapis.com/auth/devstorage.full_control&request_id=gchMTgUwqq1Xg_W6ncKnGEruErIWrKQgMy0JIjy7VCA&tc=4s0MykImXlcB6zoqa07-pFU7zPbNfUhLA_NA3mwQ0rU&cc=mTHMkbsusOJb8lZ46ZZgt4wkkFnWWLJsLGZ1YLsjRVk</a></p>\n",
       "        <p>The authorization workflow will generate a code, which you should paste in the box below.</p>\n",
       "        "
      ],
      "text/plain": [
       "<IPython.core.display.HTML object>"
      ]
     },
     "metadata": {},
     "output_type": "display_data"
    },
    {
     "name": "stdout",
     "output_type": "stream",
     "text": [
      "\n",
      "Successfully saved authorization token.\n",
      "Utils imported\n",
      "Masks class imported\n"
     ]
    }
   ],
   "source": [
    "import sys\n",
    "\n",
    "# check if GEE is already imported to avoid requesting authenticatiation multiple times\n",
    "modulename = 'ee'\n",
    "if modulename not in sys.modules: \n",
    "   # import GEE and Authenticate, token or log in will be asked from web browser\n",
    "   import ee\n",
    "   ee.Authenticate()\n",
    "   ee.Initialize()\n",
    "else:\n",
    "   print('GEE already imported')\n",
    "   # google earth engine already imported and authenticated\n",
    "\n",
    "\n",
    "modulename = 'ipynb_masks'\n",
    "if modulename not in sys.modules:\n",
    "    %run Masks.ipynb\n",
    "    sys.modules['ipynb_masks'] = None\n",
    "#else\n",
    "    # module already loaded\n",
    "\n",
    "modulename = 'ipynb_Utils'\n",
    "if modulename not in sys.modules:\n",
    "    %run Utils.ipynb\n",
    "    # adding an identifier to sys.modules to avoiding loading the same file multiple times\n",
    "    sys.modules['ipynb_Utils'] = None \n",
    "#else\n",
    "   # Utils modules has already been loaded somewhere else\n",
    "\n"
   ]
  },
  {
   "cell_type": "code",
   "execution_count": 2,
   "metadata": {},
   "outputs": [],
   "source": [
    "class Sentinel1:\n",
    "    \n",
    "\n",
    "\n",
    "    # @brief method that takes as input a collection, calculates pixelwise average for each month and returns a new collection\n",
    "    def byMonthIndermidateFunction(self,m):\n",
    "        phenCol =  self.sentinel1.filter(ee.Filter.calendarRange(m, m, 'month')).mean().set('month', m)        \n",
    "        return phenCol\n",
    "    \n",
    "    \n",
    "    # @param[in] collection : the collection to be processed\n",
    "    # @return a collection annual monthly average pixel values\n",
    "\n",
    "    def byMonth (self):\n",
    "        months = ee.List.sequence(1, 12)\n",
    "        return ee.ImageCollection.fromImages(months.map(algorithm = self.byMonthIndermidateFunction))\n",
    "\n",
    "    def renameVVAsc(self,img):\n",
    "        return img.rename('VVAsc')\n",
    "        \n",
    "    def renameVHAsc(self,img):\n",
    "        return img.rename('VHAsc')\n",
    "\n",
    "    def renameVVDes(self,img):\n",
    "        return img.rename('VVDes')\n",
    "\n",
    "    def renameVHDes(self,img):\n",
    "        return img.rename('VHDes')\n",
    "    \n",
    "    # @brief initialisation of Sentinel1 class\n",
    "    # @param[in] geometry: area of interest\n",
    "    # @param[in] startDate: start date of the collection to be retrived\n",
    "    # @param[in] endDate: end date of the collection to be retrived\n",
    "    # @param[in] cloudfilter: percentage of non acceptable clouds for removing images\n",
    "    # @param[in] masks: a dictonary containing the masks to be applied \n",
    "    # Format of masks should be the following, but it should include only the masks \n",
    "    # that we want to be applied\n",
    "    # masks = {'gsw':buffer, 'lmask': buffer, 'forestMask': {buffer,year}}\n",
    "    def __init__(self,startDate,endDate,geometry, masks):\n",
    "        self.sentinel1 = ee.ImageCollection('COPERNICUS/S1_GRD') \\\n",
    "                           .filterDate(startDate,endDate) \\\n",
    "                           .filterBounds(geometry) \\\n",
    "                           .filter(ee.Filter.listContains('transmitterReceiverPolarisation','VV')) \\\n",
    "                           .filter(ee.Filter.listContains('transmitterReceiverPolarisation','VH')) \\\n",
    "                           .filter(ee.Filter.eq('instrumentMode', 'IW'))\n",
    "\n",
    "        # apply water and land mask\n",
    "        # create forest lost mask \n",
    "        buffer = 30\n",
    "        year = ee.Date(endDate).get('year') \n",
    "        masksHandler = Masks(geometry,buffer,buffer,buffer,0)\n",
    "        forestLossMask = masksHandler.getForestLostMask(year,buffer)\n",
    "        # create surface water mask\n",
    "        SWM = masksHandler.getNoSurfaceWaterMask(buffer)\n",
    "        # create Land Mask\n",
    "        landMask = masksHandler.getlandMask(buffer)\n",
    "        \n",
    "        gswBuffer = 0\n",
    "        lmaskBuffer = 0\n",
    "        forestMaskBuffer = 0\n",
    "        forestYear =0\n",
    "        # aspects buffer will be 0 and not applied\n",
    "\n",
    "        if ('gsw' in masks):\n",
    "            gswBuffer = masks['gsw']\n",
    "\n",
    "        if ('lmask' in masks):\n",
    "            lmaskBuffer = masks['lmask']\n",
    "\n",
    "        if ('forestMask' in masks):\n",
    "            forestMaskBuffer,forestYear = masks['forestMask']\n",
    "\n",
    "        masksHandler = Masks(geometry,gswBuffer,lmaskBuffer,forestMaskBuffer,0)\n",
    "\n",
    "        self.sentinel1 = self.sentinel1.map(algorithm = masksHandler.updateNoSurfaceWaterMask)\n",
    "        self.sentinel1 = self.sentinel1.map(algorithm = masksHandler.updateLandMask) # (updateMask(forestLossMask).updateMask(SWM).updateMask(landMask)\n",
    "        self.VVAsc     = self.sentinel1.filter(ee.Filter.eq('orbitProperties_pass','ASCENDING' )) \\\n",
    "                                                        .select('VV') \\\n",
    "                                                        .map(filterSpeckles) \\\n",
    "                                                        .map(algorithm = masksHandler.updateAscMask) \\\n",
    "                                                        .map(algorithm = self.renameVVAsc)\n",
    "        self.VHAsc     = self.sentinel1.filter(ee.Filter.eq('orbitProperties_pass', 'ASCENDING' )) \\\n",
    "                                                        .select('VH') \\\n",
    "                                                        .map(filterSpeckles) \\\n",
    "                                                        .map(algorithm = masksHandler.updateAscMask) \\\n",
    "                                                        .map(algorithm = self.renameVHAsc)\n",
    "        self.VVDes     = self.sentinel1.filter(ee.Filter.eq('orbitProperties_pass', 'DESCENDING')) \\\n",
    "                                                        .select('VV') \\\n",
    "                                                        .map(filterSpeckles) \\\n",
    "                                                        .map(algorithm = masksHandler.updateDesMask) \\\n",
    "                                                        .map(algorithm = self.renameVVDes)\n",
    "        self.VHDes     = self.sentinel1.filter(ee.Filter.eq('orbitProperties_pass', 'DESCENDING')).select('VH') \\\n",
    "                                                        .map(filterSpeckles) \\\n",
    "                                                        .map(algorithm = masksHandler.updateDesMask) \\\n",
    "                                                        .map(algorithm = self.renameVHDes)\n",
    "\n",
    "        years  = [2017]\n",
    "        months = list(range(1,13))\n",
    "        #self.VHDes = monthly_Avg(self.VHDes,years,months)\n",
    "        #self.VHDes     = byMonth(self.VHDes)\n",
    "   \n",
    "\n",
    "    def getVVAsc(self):\n",
    "        return self.VVAsc\n",
    "\n",
    "    def getVHAsc(self):\n",
    "        return self.VHAsc\n",
    "\n",
    "    def getVVDes(self):\n",
    "        return self.VVDes\n",
    "\n",
    "    def getVHDes(self):\n",
    "        return self.VHDes \n",
    "\n",
    "\n",
    "    # method that removed a given period from the dataset\n",
    "    def removePeriod(self,startDate, endDate):\n",
    "        badDataFilter = ee.Filter.date(startDate,endDate)\n",
    "        self.VHAsc = self.VHAsc.filter(badDataFilter.Not())\n",
    "        self.VVAsc = self.VVAsc.filter(badDataFilter.Not())\n",
    "        self.VHDes = self.VHDes.filter(badDataFilter.Not())\n",
    "        self.VVDes = self.VVDes.filter(badDataFilter.Not())\n",
    "        print(\"Period from \", startDate, \" to \", endDate, \" removed\")\n"
   ]
  },
  {
   "cell_type": "code",
   "execution_count": 3,
   "metadata": {},
   "outputs": [
    {
     "name": "stdout",
     "output_type": "stream",
     "text": [
      "Sentinel1 class imported\n"
     ]
    }
   ],
   "source": [
    "print (\"Sentinel1 class imported\")"
   ]
  }
 ],
 "metadata": {
  "kernelspec": {
   "display_name": "Python 3",
   "language": "python",
   "name": "python3"
  },
  "language_info": {
   "codemirror_mode": {
    "name": "ipython",
    "version": 3
   },
   "file_extension": ".py",
   "mimetype": "text/x-python",
   "name": "python",
   "nbconvert_exporter": "python",
   "pygments_lexer": "ipython3",
   "version": "3.11.1"
  },
  "orig_nbformat": 4,
  "vscode": {
   "interpreter": {
    "hash": "cab1d7ef7b90e69a2393a883ac82077044fd5f1d4df4dae9ffefa7c49ee44033"
   }
  }
 },
 "nbformat": 4,
 "nbformat_minor": 2
}
