{
 "cells": [
  {
   "cell_type": "code",
   "execution_count": 1,
   "metadata": {},
   "outputs": [
    {
     "data": {
      "text/html": [
       "<p>To authorize access needed by Earth Engine, open the following\n",
       "        URL in a web browser and follow the instructions:</p>\n",
       "        <p><a href=https://code.earthengine.google.com/client-auth?scopes=https%3A//www.googleapis.com/auth/earthengine%20https%3A//www.googleapis.com/auth/devstorage.full_control&request_id=edGCovli-eW6VFAPbYAiVuzUYw_rR1z0ee2acSuZu7E&tc=s6iaKdcQTVw4Vmw-zvlMR3vK_D6Mf-uyW7qgzmf9zps&cc=4TWLGPUhb0fJuEgbrSP23RGV5uJnKG1dbiJvLbQMefo>https://code.earthengine.google.com/client-auth?scopes=https%3A//www.googleapis.com/auth/earthengine%20https%3A//www.googleapis.com/auth/devstorage.full_control&request_id=edGCovli-eW6VFAPbYAiVuzUYw_rR1z0ee2acSuZu7E&tc=s6iaKdcQTVw4Vmw-zvlMR3vK_D6Mf-uyW7qgzmf9zps&cc=4TWLGPUhb0fJuEgbrSP23RGV5uJnKG1dbiJvLbQMefo</a></p>\n",
       "        <p>The authorization workflow will generate a code, which you should paste in the box below.</p>\n",
       "        "
      ],
      "text/plain": [
       "<IPython.core.display.HTML object>"
      ]
     },
     "metadata": {},
     "output_type": "display_data"
    },
    {
     "name": "stdout",
     "output_type": "stream",
     "text": [
      "\n",
      "Successfully saved authorization token.\n",
      "GEE already imported\n",
      "Utils imported\n"
     ]
    }
   ],
   "source": [
    "import sys\n",
    "\n",
    "# check if GEE is already imported to avoid requesting authenticatiation multiple times\n",
    "modulename = 'ee'\n",
    "if modulename not in sys.modules: \n",
    "   # import GEE and Authenticate, token or log in will be asked from web browser\n",
    "   import ee\n",
    "   ee.Authenticate()\n",
    "   ee.Initialize()\n",
    "else:\n",
    "   print('GEE already imported')\n",
    "   # google earth engine already imported and authenticated\n",
    "\n",
    "\n",
    "modulename = 'ipynb_masks'\n",
    "if modulename not in sys.modules:\n",
    "    %run Masks.ipynb\n",
    "    sys.modules['ipynb_masks'] = None\n",
    "#else\n",
    "    # module already loaded\n"
   ]
  },
  {
   "cell_type": "code",
   "execution_count": 2,
   "metadata": {},
   "outputs": [],
   "source": [
    "class Sentinel1:\n",
    "\n",
    "    def __init__(self,startDate,endDate):\n",
    "        self.sentinel1 = ee.ImageCollection('COPERNICUS/S1_GRD').filterDate(startDate, \n",
    "                            endDate).filter(ee.Filter.listContains('transmitterReceiverPolarisation',  #.filterBounds(polygon)\n",
    "                            'VV')).filter(ee.Filter.listContains('transmitterReceiverPolarisation', \n",
    "                            'VH')).filter(ee.Filter.eq('instrumentMode', 'IW'))\n",
    "        # apply water and land mask\n",
    "        # create forest lost mask \n",
    "        year = ee.Date(endDate).get('year') \n",
    "        forestLossMask = getForestLostMask(year,buffer)\n",
    "        # create surface water mask\n",
    "        SWM = getNoSurfaceWaterMask(buffer)\n",
    "        # create Land Mask\n",
    "        landMask = getlandMask(buffer)\n",
    "        self.sentinel1 = self.sentinel1.updateMask(forestLossMask).updateMask(SWM).updateMask(landMask)\n",
    "        self.VVASc     = sentinel1.filter(ee.Filter.eq('orbitProperties_pass', 'ASCENDING')).select('VV').map(filterSpeckles)\n",
    "\n",
    "        \n",
    "        \n",
    "S = Sentinel1('2017-01-01', '2017-12-31')"
   ]
  }
 ],
 "metadata": {
  "kernelspec": {
   "display_name": "Python 3",
   "language": "python",
   "name": "python3"
  },
  "language_info": {
   "codemirror_mode": {
    "name": "ipython",
    "version": 3
   },
   "file_extension": ".py",
   "mimetype": "text/x-python",
   "name": "python",
   "nbconvert_exporter": "python",
   "pygments_lexer": "ipython3",
   "version": "3.11.1"
  },
  "orig_nbformat": 4,
  "vscode": {
   "interpreter": {
    "hash": "cab1d7ef7b90e69a2393a883ac82077044fd5f1d4df4dae9ffefa7c49ee44033"
   }
  }
 },
 "nbformat": 4,
 "nbformat_minor": 2
}
