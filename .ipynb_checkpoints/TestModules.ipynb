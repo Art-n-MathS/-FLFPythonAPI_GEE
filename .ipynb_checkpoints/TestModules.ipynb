{
 "cells": [
  {
   "cell_type": "code",
   "execution_count": 1,
   "metadata": {},
   "outputs": [
    {
     "data": {
      "text/html": [
       "<p>To authorize access needed by Earth Engine, open the following\n",
       "        URL in a web browser and follow the instructions:</p>\n",
       "        <p><a href=https://code.earthengine.google.com/client-auth?scopes=https%3A//www.googleapis.com/auth/earthengine%20https%3A//www.googleapis.com/auth/devstorage.full_control&request_id=LsI_MauTXUQXv9EKdDxgW660HhYjd__wpV_oFeBrCnc&tc=siCq1eVkj0qYlrV727K6__SY6Rvb0Xpwo8l3ppfp96g&cc=IIQFLTaTDgejNp5cTYPgm8mBunjnvJ3EX6ShcOJAvmo>https://code.earthengine.google.com/client-auth?scopes=https%3A//www.googleapis.com/auth/earthengine%20https%3A//www.googleapis.com/auth/devstorage.full_control&request_id=LsI_MauTXUQXv9EKdDxgW660HhYjd__wpV_oFeBrCnc&tc=siCq1eVkj0qYlrV727K6__SY6Rvb0Xpwo8l3ppfp96g&cc=IIQFLTaTDgejNp5cTYPgm8mBunjnvJ3EX6ShcOJAvmo</a></p>\n",
       "        <p>The authorization workflow will generate a code, which you should paste in the box below.</p>\n",
       "        "
      ],
      "text/plain": [
       "<IPython.core.display.HTML object>"
      ]
     },
     "metadata": {},
     "output_type": "display_data"
    },
    {
     "name": "stdout",
     "output_type": "stream",
     "text": [
      "\n",
      "Successfully saved authorization token.\n"
     ]
    }
   ],
   "source": [
    "import sys\n",
    "\n",
    "# check if GEE is already imported to avoid requesting authenticatiation multiple times\n",
    "modulename = 'ee'\n",
    "if modulename not in sys.modules: \n",
    "   # import GEE and Authenticate, token or log in will be asked from web browser\n",
    "   import ee\n",
    "   ee.Authenticate()\n",
    "   ee.Initialize()\n",
    "else:\n",
    "   print('GEE already imported')\n",
    "   # google earth engine already imported and authenticated"
   ]
  },
  {
   "cell_type": "code",
   "execution_count": 2,
   "metadata": {},
   "outputs": [
    {
     "ename": "AttributeError",
     "evalue": "'ImageCollection' object has no attribute 'values'",
     "output_type": "error",
     "traceback": [
      "\u001b[1;31m---------------------------------------------------------------------------\u001b[0m",
      "\u001b[1;31mAttributeError\u001b[0m                            Traceback (most recent call last)",
      "Cell \u001b[1;32mIn[2], line 47\u001b[0m\n\u001b[0;32m     42\u001b[0m vvIwDescMean \u001b[39m=\u001b[39m vvVhIwDesc\u001b[39m.\u001b[39mselect(\u001b[39m'\u001b[39m\u001b[39mVV\u001b[39m\u001b[39m'\u001b[39m)\n\u001b[0;32m     45\u001b[0m \u001b[39m#print(vhIwDescMean.getInfo())\u001b[39;00m\n\u001b[0;32m     46\u001b[0m \u001b[39m#print(vvIwAscMean.getInfo())\u001b[39;00m\n\u001b[1;32m---> 47\u001b[0m \u001b[39mprint\u001b[39m(getNoOfImgs(vvVhIwDesc))\n\u001b[0;32m     49\u001b[0m VHDes \u001b[39m=\u001b[39m  ee\u001b[39m.\u001b[39mImageCollection\u001b[39m.\u001b[39mfromImages(ee\u001b[39m.\u001b[39mList([\n\u001b[0;32m     50\u001b[0m             ee\u001b[39m.\u001b[39mImage(vvVhIwDesc\u001b[39m.\u001b[39mfilter(ee\u001b[39m.\u001b[39mFilter\u001b[39m.\u001b[39mcalendarRange(\u001b[39m1\u001b[39m, \u001b[39m1\u001b[39m, \u001b[39m'\u001b[39m\u001b[39mmonth\u001b[39m\u001b[39m'\u001b[39m))\u001b[39m.\u001b[39mmean()\u001b[39m.\u001b[39mset(\u001b[39m'\u001b[39m\u001b[39mmonth\u001b[39m\u001b[39m'\u001b[39m,\u001b[39m1\u001b[39m)),\n\u001b[0;32m     51\u001b[0m             ee\u001b[39m.\u001b[39mImage(vvVhIwDesc\u001b[39m.\u001b[39mfilter(ee\u001b[39m.\u001b[39mFilter\u001b[39m.\u001b[39mcalendarRange(\u001b[39m2\u001b[39m, \u001b[39m2\u001b[39m, \u001b[39m'\u001b[39m\u001b[39mmonth\u001b[39m\u001b[39m'\u001b[39m))\u001b[39m.\u001b[39mmean()\u001b[39m.\u001b[39mset(\u001b[39m'\u001b[39m\u001b[39mmonth\u001b[39m\u001b[39m'\u001b[39m,\u001b[39m2\u001b[39m)),\n\u001b[1;32m   (...)\u001b[0m\n\u001b[0;32m     60\u001b[0m             ee\u001b[39m.\u001b[39mImage(vvVhIwDesc\u001b[39m.\u001b[39mfilter(ee\u001b[39m.\u001b[39mFilter\u001b[39m.\u001b[39mcalendarRange(\u001b[39m11\u001b[39m, \u001b[39m11\u001b[39m, \u001b[39m'\u001b[39m\u001b[39mmonth\u001b[39m\u001b[39m'\u001b[39m))\u001b[39m.\u001b[39mmean()\u001b[39m.\u001b[39mset(\u001b[39m'\u001b[39m\u001b[39mmonth\u001b[39m\u001b[39m'\u001b[39m,\u001b[39m11\u001b[39m)),\n\u001b[0;32m     61\u001b[0m             ee\u001b[39m.\u001b[39mImage(vvVhIwDesc\u001b[39m.\u001b[39mfilter(ee\u001b[39m.\u001b[39mFilter\u001b[39m.\u001b[39mcalendarRange(\u001b[39m12\u001b[39m, \u001b[39m12\u001b[39m, \u001b[39m'\u001b[39m\u001b[39mmonth\u001b[39m\u001b[39m'\u001b[39m))\u001b[39m.\u001b[39mmean()\u001b[39m.\u001b[39mset(\u001b[39m'\u001b[39m\u001b[39mmonth\u001b[39m\u001b[39m'\u001b[39m,\u001b[39m12\u001b[39m))] ))\n\u001b[0;32m     63\u001b[0m \u001b[39mprint\u001b[39m(getNoOfImgs(VHDes))\n",
      "Cell \u001b[1;32mIn[2], line 3\u001b[0m, in \u001b[0;36mgetNoOfImgs\u001b[1;34m(col)\u001b[0m\n\u001b[0;32m      1\u001b[0m \u001b[39mdef\u001b[39;00m \u001b[39mgetNoOfImgs\u001b[39m(col):\n\u001b[0;32m      2\u001b[0m     leni \u001b[39m=\u001b[39m \u001b[39m0\u001b[39m\n\u001b[1;32m----> 3\u001b[0m     \u001b[39mfor\u001b[39;00m d \u001b[39min\u001b[39;00m col\u001b[39m.\u001b[39;49mvalues():\n\u001b[0;32m      4\u001b[0m       i \u001b[39m=\u001b[39m i \u001b[39m+\u001b[39m \u001b[39m1\u001b[39m\n\u001b[0;32m      5\u001b[0m       \u001b[39m# it contains five elements and the 5th one is a list with the properties of each img in the collection\u001b[39;00m\n",
      "\u001b[1;31mAttributeError\u001b[0m: 'ImageCollection' object has no attribute 'values'"
     ]
    }
   ],
   "source": [
    "\n",
    "def getNoOfImgs(col):\n",
    "    leni = 0\n",
    "    print(leni)\n",
    "    for d in col.values():\n",
    "      i = i + 1\n",
    "      \n",
    "      print(leni)\n",
    "      # it contains five elements and the 5th one is a list with the properties of each img in the collection\n",
    "      if(i == 5): \n",
    "          \n",
    "          print(leni)\n",
    "          print(type(d))\n",
    "          for k in d:\n",
    "              # count how many imgs exist in the collection\n",
    "              leni = leni + 1\n",
    "    return leni\n",
    "\n",
    "\n",
    "\n",
    "polygonGeoJSON = ee.Geometry.Polygon([[[100.0, 0.0],[103.0, 0.0],[103.0, 3.0],[100.0, 3.0],[100.0, 0.0]], \\\n",
    "    [ [101.0, 1.0],[102.0, 2.0],[102.0, 1.0]]])\n",
    "\n",
    "\n",
    "startDate = '2017-01-01'\n",
    "endDate   = '2017-12-31'\n",
    "\n",
    "countries = ee.FeatureCollection('USDOS/LSIB_SIMPLE/2017')\n",
    "geometry = countries.filter(ee.Filter.eq('country_na', 'Cyprus'))\n",
    "\n",
    "sentinel1 = ee.ImageCollection('COPERNICUS/S1_GRD') \\\n",
    "                    .filterBounds(geometry) \\\n",
    "                    .filterDate(startDate, endDate)\n",
    "\n",
    "\n",
    "vvVhIw = sentinel1.filter(ee.Filter.listContains('transmitterReceiverPolarisation', 'VV')) \\\n",
    "                  .filter(ee.Filter.listContains('transmitterReceiverPolarisation', 'VH')) \\\n",
    "                  .filter(ee.Filter.eq('instrumentMode', 'IW'))\n",
    "\n",
    "vvVhIwAsc = vvVhIw.filter(\n",
    "  ee.Filter.eq('orbitProperties_pass', 'ASCENDING'))\n",
    "vvVhIwDesc = vvVhIw.filter(\n",
    "  ee.Filter.eq('orbitProperties_pass', 'DESCENDING'))\n",
    "\n",
    "vhIwAscMean = vvVhIwAsc.select('VH')\n",
    "vhIwDescMean = vvVhIwDesc.select('VH')\n",
    "vvIwAscMean = vvVhIwAsc.select('VV')\n",
    "vvIwDescMean = vvVhIwDesc.select('VV')\n",
    "\n",
    "\n",
    "#print(vhIwDescMean.getInfo())\n",
    "#print(vvIwAscMean.getInfo())\n",
    "print(getNoOfImgs(vvVhIwDesc))\n",
    "\n",
    "VHDes =  ee.ImageCollection.fromImages(ee.List([\n",
    "            ee.Image(vvVhIwDesc.filter(ee.Filter.calendarRange(1, 1, 'month')).mean().set('month',1)),\n",
    "            ee.Image(vvVhIwDesc.filter(ee.Filter.calendarRange(2, 2, 'month')).mean().set('month',2)),\n",
    "            ee.Image(vvVhIwDesc.filter(ee.Filter.calendarRange(3, 3, 'month')).mean().set('month',3)),\n",
    "            ee.Image(vvVhIwDesc.filter(ee.Filter.calendarRange(4, 4, 'month')).mean().set('month',4)),\n",
    "            ee.Image(vvVhIwDesc.filter(ee.Filter.calendarRange(5, 5, 'month')).mean().set('month',5)),\n",
    "            ee.Image(vvVhIwDesc.filter(ee.Filter.calendarRange(6, 6, 'month')).mean().set('month',6)),\n",
    "            ee.Image(vvVhIwDesc.filter(ee.Filter.calendarRange(7, 7, 'month')).mean().set('month',7)),\n",
    "            ee.Image(vvVhIwDesc.filter(ee.Filter.calendarRange(8, 8, 'month')).mean().set('month',8)),\n",
    "            ee.Image(vvVhIwDesc.filter(ee.Filter.calendarRange(9, 9, 'month')).mean().set('month',9)),\n",
    "            ee.Image(vvVhIwDesc.filter(ee.Filter.calendarRange(10, 10, 'month')).mean().set('month',10)),\n",
    "            ee.Image(vvVhIwDesc.filter(ee.Filter.calendarRange(11, 11, 'month')).mean().set('month',11)),\n",
    "            ee.Image(vvVhIwDesc.filter(ee.Filter.calendarRange(12, 12, 'month')).mean().set('month',12))] ))\n",
    "\n",
    "print(getNoOfImgs(VHDes))"
   ]
  },
  {
   "cell_type": "code",
   "execution_count": null,
   "metadata": {},
   "outputs": [],
   "source": []
  }
 ],
 "metadata": {
  "kernelspec": {
   "display_name": "Python 3",
   "language": "python",
   "name": "python3"
  },
  "language_info": {
   "codemirror_mode": {
    "name": "ipython",
    "version": 3
   },
   "file_extension": ".py",
   "mimetype": "text/x-python",
   "name": "python",
   "nbconvert_exporter": "python",
   "pygments_lexer": "ipython3",
   "version": "3.11.1"
  },
  "orig_nbformat": 4,
  "vscode": {
   "interpreter": {
    "hash": "cab1d7ef7b90e69a2393a883ac82077044fd5f1d4df4dae9ffefa7c49ee44033"
   }
  }
 },
 "nbformat": 4,
 "nbformat_minor": 2
}
