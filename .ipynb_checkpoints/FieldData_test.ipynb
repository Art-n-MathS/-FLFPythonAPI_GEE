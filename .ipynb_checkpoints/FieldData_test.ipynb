{
 "cells": [
  {
   "attachments": {},
   "cell_type": "markdown",
   "metadata": {},
   "source": [
    "This is a test file for the FieldData class\n",
    "It requires input parameters from the command line as follow\n"
   ]
  },
  {
   "cell_type": "code",
   "execution_count": 1,
   "metadata": {},
   "outputs": [],
   "source": [
    "#Example on how to run the code from terminal but input arguments are still not working\n",
    "# Found at https://stackoverflow.com/questions/35545402/how-to-run-an-ipynb-jupyter-notebook-from-terminal (Accessed 22/02/2023)\n",
    "#@echo on\n",
    "#call \"C:\\ProgramData\\Anaconda3\\Scripts\\activate.bat\"\n",
    "#ipython \"path\\test.ipynb\"\n",
    "#pause\n"
   ]
  },
  {
   "cell_type": "code",
   "execution_count": 2,
   "metadata": {},
   "outputs": [
    {
     "name": "stdout",
     "output_type": "stream",
     "text": [
      "GEE already imported\n",
      "FieldData imported\n",
      "Utils imported\n",
      "Masks class imported\n"
     ]
    },
    {
     "ename": "ModuleNotFoundError",
     "evalue": "import of Utils halted; None in sys.modules",
     "output_type": "error",
     "traceback": [
      "\u001b[0;31m---------------------------------------------------------------------------\u001b[0m",
      "\u001b[0;31mModuleNotFoundError\u001b[0m                       Traceback (most recent call last)",
      "File \u001b[0;32m/tmp/ipykernel_1141105/2656997865.py:23\u001b[0m\n\u001b[1;32m     21\u001b[0m modulename \u001b[39m=\u001b[39m \u001b[39m'\u001b[39m\u001b[39mpy_Utils\u001b[39m\u001b[39m'\u001b[39m\n\u001b[1;32m     22\u001b[0m \u001b[39mif\u001b[39;00m modulename \u001b[39mnot\u001b[39;00m \u001b[39min\u001b[39;00m sys\u001b[39m.\u001b[39mmodules:\n\u001b[0;32m---> 23\u001b[0m     \u001b[39mimport\u001b[39;00m \u001b[39mUtils\u001b[39;00m\n\u001b[1;32m     24\u001b[0m     \u001b[39m# adding an identifier to sys.modules to avoiding loading the same file multiple times\u001b[39;00m\n\u001b[1;32m     25\u001b[0m     sys\u001b[39m.\u001b[39mmodules[\u001b[39m'\u001b[39m\u001b[39mpy_Utils\u001b[39m\u001b[39m'\u001b[39m] \u001b[39m=\u001b[39m \u001b[39mNone\u001b[39;00m \n",
      "\u001b[0;31mModuleNotFoundError\u001b[0m: import of Utils halted; None in sys.modules"
     ]
    },
    {
     "ename": "ModuleNotFoundError",
     "evalue": "import of Utils halted; None in sys.modules",
     "output_type": "error",
     "traceback": [
      "\u001b[0;31m---------------------------------------------------------------------------\u001b[0m",
      "\u001b[0;31mModuleNotFoundError\u001b[0m                       Traceback (most recent call last)",
      "Cell \u001b[0;32mIn[2], line 36\u001b[0m\n\u001b[1;32m     34\u001b[0m modulename \u001b[39m=\u001b[39m \u001b[39m'\u001b[39m\u001b[39mipynb_Sentinel2b\u001b[39m\u001b[39m'\u001b[39m\n\u001b[1;32m     35\u001b[0m \u001b[39mif\u001b[39;00m modulename \u001b[39mnot\u001b[39;00m \u001b[39min\u001b[39;00m sys\u001b[39m.\u001b[39mmodules:\n\u001b[0;32m---> 36\u001b[0m     get_ipython()\u001b[39m.\u001b[39;49mrun_line_magic(\u001b[39m'\u001b[39;49m\u001b[39mrun\u001b[39;49m\u001b[39m'\u001b[39;49m, \u001b[39m'\u001b[39;49m\u001b[39mSentinel2b.ipynb\u001b[39;49m\u001b[39m'\u001b[39;49m)\n\u001b[1;32m     37\u001b[0m     \u001b[39m# adding an identifier to sys.modules to avoiding loading the same file multiple times\u001b[39;00m\n\u001b[1;32m     38\u001b[0m     sys\u001b[39m.\u001b[39mmodules[\u001b[39m'\u001b[39m\u001b[39mipynb_Sentinel2b\u001b[39m\u001b[39m'\u001b[39m] \u001b[39m=\u001b[39m \u001b[39mNone\u001b[39;00m \n",
      "File \u001b[0;32m~/.local/lib/python3.10/site-packages/IPython/core/interactiveshell.py:2369\u001b[0m, in \u001b[0;36mInteractiveShell.run_line_magic\u001b[0;34m(self, magic_name, line, _stack_depth)\u001b[0m\n\u001b[1;32m   2367\u001b[0m     kwargs[\u001b[39m'\u001b[39m\u001b[39mlocal_ns\u001b[39m\u001b[39m'\u001b[39m] \u001b[39m=\u001b[39m \u001b[39mself\u001b[39m\u001b[39m.\u001b[39mget_local_scope(stack_depth)\n\u001b[1;32m   2368\u001b[0m \u001b[39mwith\u001b[39;00m \u001b[39mself\u001b[39m\u001b[39m.\u001b[39mbuiltin_trap:\n\u001b[0;32m-> 2369\u001b[0m     result \u001b[39m=\u001b[39m fn(\u001b[39m*\u001b[39;49margs, \u001b[39m*\u001b[39;49m\u001b[39m*\u001b[39;49mkwargs)\n\u001b[1;32m   2371\u001b[0m \u001b[39m# The code below prevents the output from being displayed\u001b[39;00m\n\u001b[1;32m   2372\u001b[0m \u001b[39m# when using magics with decodator @output_can_be_silenced\u001b[39;00m\n\u001b[1;32m   2373\u001b[0m \u001b[39m# when the last Python token in the expression is a ';'.\u001b[39;00m\n\u001b[1;32m   2374\u001b[0m \u001b[39mif\u001b[39;00m \u001b[39mgetattr\u001b[39m(fn, magic\u001b[39m.\u001b[39mMAGIC_OUTPUT_CAN_BE_SILENCED, \u001b[39mFalse\u001b[39;00m):\n",
      "File \u001b[0;32m~/.local/lib/python3.10/site-packages/IPython/core/magics/execution.py:719\u001b[0m, in \u001b[0;36mExecutionMagics.run\u001b[0;34m(self, parameter_s, runner, file_finder)\u001b[0m\n\u001b[1;32m    717\u001b[0m     \u001b[39mwith\u001b[39;00m preserve_keys(\u001b[39mself\u001b[39m\u001b[39m.\u001b[39mshell\u001b[39m.\u001b[39muser_ns, \u001b[39m'\u001b[39m\u001b[39m__file__\u001b[39m\u001b[39m'\u001b[39m):\n\u001b[1;32m    718\u001b[0m         \u001b[39mself\u001b[39m\u001b[39m.\u001b[39mshell\u001b[39m.\u001b[39muser_ns[\u001b[39m'\u001b[39m\u001b[39m__file__\u001b[39m\u001b[39m'\u001b[39m] \u001b[39m=\u001b[39m filename\n\u001b[0;32m--> 719\u001b[0m         \u001b[39mself\u001b[39;49m\u001b[39m.\u001b[39;49mshell\u001b[39m.\u001b[39;49msafe_execfile_ipy(filename, raise_exceptions\u001b[39m=\u001b[39;49m\u001b[39mTrue\u001b[39;49;00m)\n\u001b[1;32m    720\u001b[0m     \u001b[39mreturn\u001b[39;00m\n\u001b[1;32m    722\u001b[0m \u001b[39m# Control the response to exit() calls made by the script being run\u001b[39;00m\n",
      "File \u001b[0;32m~/.local/lib/python3.10/site-packages/IPython/core/interactiveshell.py:2891\u001b[0m, in \u001b[0;36mInteractiveShell.safe_execfile_ipy\u001b[0;34m(self, fname, shell_futures, raise_exceptions)\u001b[0m\n\u001b[1;32m   2889\u001b[0m result \u001b[39m=\u001b[39m \u001b[39mself\u001b[39m\u001b[39m.\u001b[39mrun_cell(cell, silent\u001b[39m=\u001b[39m\u001b[39mTrue\u001b[39;00m, shell_futures\u001b[39m=\u001b[39mshell_futures)\n\u001b[1;32m   2890\u001b[0m \u001b[39mif\u001b[39;00m raise_exceptions:\n\u001b[0;32m-> 2891\u001b[0m     result\u001b[39m.\u001b[39;49mraise_error()\n\u001b[1;32m   2892\u001b[0m \u001b[39melif\u001b[39;00m \u001b[39mnot\u001b[39;00m result\u001b[39m.\u001b[39msuccess:\n\u001b[1;32m   2893\u001b[0m     \u001b[39mbreak\u001b[39;00m\n",
      "File \u001b[0;32m~/.local/lib/python3.10/site-packages/IPython/core/interactiveshell.py:266\u001b[0m, in \u001b[0;36mExecutionResult.raise_error\u001b[0;34m(self)\u001b[0m\n\u001b[1;32m    264\u001b[0m     \u001b[39mraise\u001b[39;00m \u001b[39mself\u001b[39m\u001b[39m.\u001b[39merror_before_exec\n\u001b[1;32m    265\u001b[0m \u001b[39mif\u001b[39;00m \u001b[39mself\u001b[39m\u001b[39m.\u001b[39merror_in_exec \u001b[39mis\u001b[39;00m \u001b[39mnot\u001b[39;00m \u001b[39mNone\u001b[39;00m:\n\u001b[0;32m--> 266\u001b[0m     \u001b[39mraise\u001b[39;00m \u001b[39mself\u001b[39m\u001b[39m.\u001b[39merror_in_exec\n",
      "    \u001b[0;31m[... skipping hidden 1 frame]\u001b[0m\n",
      "File \u001b[0;32m/tmp/ipykernel_1141105/2656997865.py:23\u001b[0m\n\u001b[1;32m     21\u001b[0m modulename \u001b[39m=\u001b[39m \u001b[39m'\u001b[39m\u001b[39mpy_Utils\u001b[39m\u001b[39m'\u001b[39m\n\u001b[1;32m     22\u001b[0m \u001b[39mif\u001b[39;00m modulename \u001b[39mnot\u001b[39;00m \u001b[39min\u001b[39;00m sys\u001b[39m.\u001b[39mmodules:\n\u001b[0;32m---> 23\u001b[0m     \u001b[39mimport\u001b[39;00m \u001b[39mUtils\u001b[39;00m\n\u001b[1;32m     24\u001b[0m     \u001b[39m# adding an identifier to sys.modules to avoiding loading the same file multiple times\u001b[39;00m\n\u001b[1;32m     25\u001b[0m     sys\u001b[39m.\u001b[39mmodules[\u001b[39m'\u001b[39m\u001b[39mpy_Utils\u001b[39m\u001b[39m'\u001b[39m] \u001b[39m=\u001b[39m \u001b[39mNone\u001b[39;00m \n",
      "\u001b[0;31mModuleNotFoundError\u001b[0m: import of Utils halted; None in sys.modules"
     ]
    }
   ],
   "source": [
    "import sys\n",
    "\n",
    "# check if GEE is already imported to avoid requesting authenticatiation multiple times\n",
    "modulename = 'ee'\n",
    "if modulename not in sys.modules: \n",
    "   # import GEE and Authenticate, token or log in will be asked from web browser\n",
    "   import ee\n",
    "   #ee.Authenticate()\n",
    "   ee.Initialize()\n",
    "else:\n",
    "   print('GEE already imported')\n",
    "   # google earth engine already imported and authenticated\n",
    "\n",
    "\n",
    "\n",
    "import sys\n",
    "modulename = 'ipynb_Utils'\n",
    "if modulename not in sys.modules:\n",
    "    import Utils\n",
    "    # adding an identifier to sys.modules to avoiding loading the same file multiple times\n",
    "    sys.modules['Utils'] = None \n",
    "#else\n",
    "   # Utils modules has already been loaded somewhere else\n",
    "\n",
    "import sys\n",
    "modulename = 'ipynb_FieldData'\n",
    "if modulename not in sys.modules:\n",
    "    %run FieldData.ipynb\n",
    "    # adding an identifier to sys.modules to avoiding loading the same file multiple times\n",
    "    sys.modules['FieldData'] = None \n",
    "#else\n",
    "   # FieldData modules has already been loaded somewhere else\n",
    "\n",
    "modulename = 'ipynb_Sentinel2b'\n",
    "if modulename not in sys.modules:\n",
    "    %run Sentinel2b.ipynb\n",
    "    # adding an identifier to sys.modules to avoiding loading the same file multiple times\n",
    "    sys.modules['ipynb_Sentinel2b'] = None \n",
    "#else\n",
    "   # Sentinel-2 modules has already been loaded somewhere else\n",
    "\n",
    "modulename = 'ipynb_MapVisualisation'\n",
    "if modulename not in sys.modules:\n",
    "    %run MapVisualisation.ipynb\n",
    "    # adding an identifier to sys.modules to avoiding loading the same file multiple times\n",
    "    sys.modules['ipynb_MapVisualisation'] = None \n",
    "#else\n",
    "   # MapVisualisation modules has already been loaded somewhere else\n"
   ]
  },
  {
   "cell_type": "code",
   "execution_count": null,
   "metadata": {},
   "outputs": [],
   "source": [
    "# parsing command line inputs - Could not find a way to add the arguments in ipython\n",
    "\"\"\" parser = argparse.ArgumentParser()\n",
    "parser.add_argument(\"-in\",\n",
    "     required=True,\n",
    "     help=\"The input csv file with its directory containing field plot data\",\n",
    "     metavar='<string>')\n",
    "\n",
    "\n",
    "\n",
    "params       = vars(parser.parse_args())\n",
    "csvFile      = params[\"in\"   ]\n",
    "\n",
    "\n",
    "print (\"imported csv file     = \", csvFile ) \"\"\"\n",
    "\n",
    "# import a Sentinel 2 collection and crop Spain\n",
    "countries = ee.FeatureCollection('USDOS/LSIB_SIMPLE/2017')\n",
    "AOI = countries.filter(ee.Filter.eq('country_na', 'Spain'))\n",
    "\n",
    "geometry = ee.Geometry.Polygon(\n",
    "        [[[-5.586640856054208, 40.07176423657564],\n",
    "          [-5.391633531835458, 40.07176423657564],\n",
    "          [-5.391633531835458, 40.17257546939766],\n",
    "          [-5.6106734488276455, 40.170476760191924]]])\n",
    "\n",
    "START_DATE = '2021-03-01'\n",
    "END_DATE = '2021-07-01'\n",
    "masks = {}#'gsw': 30, 'lmask': 30, 'forestMask': {30,2021}}\n",
    "\n",
    "s2_col = ee.ImageCollection('COPERNICUS/S2_SR_HARMONIZED') \\\n",
    "            .filterBounds(geometry) \\\n",
    "            .filterDate('2021-03-01', '2021-07-01') \\\n",
    "            .median()\n",
    "\n",
    "bandNames = s2_col.bandNames()\n",
    "print('Band names s2_col: ', bandNames.getInfo())\n",
    "\n",
    "\n",
    "s2 = Sentinel2(AOI,START_DATE,END_DATE,50, masks)\n",
    "s2.byMonth(2017)\n",
    "col = s2.getCollectionToBands()\n",
    "medianS2 = s2.getMedian()\n",
    "bandNames = medianS2.bandNames()\n",
    "print('Band names medianS2: ', bandNames.getInfo())\n",
    "\n",
    "# Make a cloud-free Landsat 8 surface reflectance composite.\n",
    "image = ee.ImageCollection('LANDSAT/LC08/C02/T1_L2') \\\n",
    "  .filterBounds(AOI) \\\n",
    "  .filterDate('2021-03-01', '2021-07-01')\\\n",
    "  .median()\n",
    "\n",
    "#csvFile = \"C:/Users/mm2705/Documents/Cambridge/Milto_SPSW/L2/Spain/plot234_column.csv\"\n",
    "csvFile = \"/home/milto/Documents/fieldData/plotSample.csv\"\n",
    "csvDF = fieldData(csvFile,\"EPSG:3042\")\n",
    "#csvDF.filterYearsOfInterest(2017,2018,\"year\")\n",
    "bufferredPoints = csvDF.createBufferedPoints(\"CX\",\"CY\",10)\n",
    "csvDF.exportfeatureVectorsToDrive(col,\"TestIndClassSentinel2c_06_04.csv\",\"earth_engine_demos\",10)\n",
    "#csvDF.mergeFeatureVectorsToPlotData(\"/home/milto/Documents/FLFScripts/sampleData/mergedcsv.csv\")\n",
    "csvDF.exportPlotDataWithAddedIdentifiers(\"/home/milto/Documents/FLFScripts/sampleData/fieldDatawithIds.csv\")\n",
    "\n",
    "\n",
    "\n",
    "print(\"   ***   EXIT   ***\")"
   ]
  },
  {
   "cell_type": "code",
   "execution_count": null,
   "metadata": {},
   "outputs": [],
   "source": [
    "#%run MapVisualisation.ipynb\n",
    "my_map = folium.Map(location=[40,-3], zoom_start=5, height=400)\n",
    "# Add custom basemaps\n",
    "basemaps['Google Maps'].add_to(my_map)\n",
    "basemaps['Google Satellite Hybrid'].add_to(my_map)\n",
    "# Add Land Mask to the map\n",
    "my_map.add_ee_layer(s2_col, {'bands': ['B4', 'B3', 'B2'], 'min': 0, 'max': 2500, 'gamma': 1.1}, 'median'      )\n",
    "my_map.add_ee_layer(bufferredPoints, {},'bufferredPoints')\n",
    "my_map.add_ee_layer(geometry,{},\"geometry\")\n",
    "\n",
    "# Add a layer control panel to the map.\n",
    "my_map.add_child(folium.LayerControl())\n",
    "plugins.Fullscreen().add_to(my_map)\n",
    "\n",
    "# Add a layer control panel to the map.\n",
    "my_map.add_child(folium.LayerControl())\n",
    "\n",
    "# Add fullscreen button\n",
    "plugins.Fullscreen().add_to(my_map)\n",
    "\n",
    "# Display the map.\n",
    "display(my_map)"
   ]
  }
 ],
 "metadata": {
  "kernelspec": {
   "display_name": "Python 3",
   "language": "python",
   "name": "python3"
  },
  "language_info": {
   "codemirror_mode": {
    "name": "ipython",
    "version": 3
   },
   "file_extension": ".py",
   "mimetype": "text/x-python",
   "name": "python",
   "nbconvert_exporter": "python",
   "pygments_lexer": "ipython3",
   "version": "3.10.6"
  },
  "orig_nbformat": 4,
  "vscode": {
   "interpreter": {
    "hash": "cab1d7ef7b90e69a2393a883ac82077044fd5f1d4df4dae9ffefa7c49ee44033"
   }
  }
 },
 "nbformat": 4,
 "nbformat_minor": 2
}
