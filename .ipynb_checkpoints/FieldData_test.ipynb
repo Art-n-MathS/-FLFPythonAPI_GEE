{
 "cells": [
  {
   "attachments": {},
   "cell_type": "markdown",
   "metadata": {},
   "source": [
    "This is a test file for the FieldData class\n",
    "It requires input parameters from the command line as follow\n"
   ]
  },
  {
   "cell_type": "code",
   "execution_count": 1,
   "metadata": {},
   "outputs": [],
   "source": [
    "#Example on how to run the code from terminal but input arguments are still not working\n",
    "# Found at https://stackoverflow.com/questions/35545402/how-to-run-an-ipynb-jupyter-notebook-from-terminal (Accessed 22/02/2023)\n",
    "#@echo on\n",
    "#call \"C:\\ProgramData\\Anaconda3\\Scripts\\activate.bat\"\n",
    "#ipython \"path\\test.ipynb\"\n",
    "#pause\n"
   ]
  },
  {
   "cell_type": "code",
   "execution_count": 2,
   "metadata": {},
   "outputs": [
    {
     "name": "stdout",
     "output_type": "stream",
     "text": [
      "GEE already imported\n",
      "Class fieldData imported\n",
      "Utils imported\n",
      "Masks class imported\n",
      "Sentinel2b class imported\n",
      "MapVisualisation class imported - uses folium library\n"
     ]
    }
   ],
   "source": [
    "import sys\n",
    "\n",
    "# check if GEE is already imported to avoid requesting authenticatiation multiple times\n",
    "modulename = 'ee'\n",
    "if modulename not in sys.modules: \n",
    "   # import GEE and Authenticate, token or log in will be asked from web browser\n",
    "   import ee\n",
    "   #ee.Authenticate()\n",
    "   ee.Initialize()\n",
    "else:\n",
    "   print('GEE already imported')\n",
    "   # google earth engine already imported and authenticated\n",
    "\n",
    "\n",
    "import sys\n",
    "modulename = 'ipynb_FieldData'\n",
    "if modulename not in sys.modules:\n",
    "    %run FieldData.ipynb\n",
    "    # adding an identifier to sys.modules to avoiding loading the same file multiple times\n",
    "    sys.modules['FieldData'] = None \n",
    "#else\n",
    "   # Utils modules has already been loaded somewhere else\n",
    "\n",
    "modulename = 'ipynb_Sentinel2b'\n",
    "if modulename not in sys.modules:\n",
    "    %run Sentinel2b.ipynb\n",
    "    # adding an identifier to sys.modules to avoiding loading the same file multiple times\n",
    "    sys.modules['ipynb_Sentinel2b'] = None \n",
    "#else\n",
    "   # Utils modules has already been loaded somewhere else\n",
    "\n",
    "modulename = 'ipynb_MapVisualisation'\n",
    "if modulename not in sys.modules:\n",
    "    %run MapVisualisation.ipynb\n",
    "    # adding an identifier to sys.modules to avoiding loading the same file multiple times\n",
    "    sys.modules['ipynb_MapVisualisation'] = None \n",
    "#else\n",
    "   # Utils modules has already been loaded somewhere else\n"
   ]
  },
  {
   "cell_type": "code",
   "execution_count": 3,
   "metadata": {},
   "outputs": [
    {
     "name": "stdout",
     "output_type": "stream",
     "text": [
      "Sentinel2b: init:  2021-01-01 2021-12-01\n",
      "Band names s2_col:  ['B1', 'B2', 'B3', 'B4', 'B5', 'B6', 'B7', 'B8', 'B8A', 'B9', 'B11', 'B12']\n",
      "-1 -1 -1 -1 -1 +++++\n",
      "*** start and end dates ***:  2021-01-01 2021-12-01\n",
      "lys lye  2021 2021 ****************************\n"
     ]
    },
    {
     "ename": "Exception",
     "evalue": "ERROR: start and end dates should be within the same year",
     "output_type": "error",
     "traceback": [
      "\u001b[0;31m---------------------------------------------------------------------------\u001b[0m",
      "\u001b[0;31mException\u001b[0m                                 Traceback (most recent call last)",
      "Cell \u001b[0;32mIn[3], line 34\u001b[0m\n\u001b[1;32m     29\u001b[0m masks \u001b[39m=\u001b[39m {}\u001b[39m#'gsw': 30, 'lmask': 30, 'forestMask': {30,2021}}\u001b[39;00m\n\u001b[1;32m     33\u001b[0m s2 \u001b[39m=\u001b[39m Sentinel2(AOI,START_DATE,END_DATE,\u001b[39m0\u001b[39m, masks)\n\u001b[0;32m---> 34\u001b[0m s2\u001b[39m.\u001b[39;49mbyMonth(START_DATE,END_DATE) \u001b[39m# if the year is not within the start end end date then an empty csv file is returned\u001b[39;00m\n\u001b[1;32m     39\u001b[0m \u001b[39m# csvFile = \"C:/Users/mm2705/Documents/Cambridge/Milto_SPSW/L2/Spain/plot234_column.csv\"\u001b[39;00m\n\u001b[1;32m     40\u001b[0m csvFile \u001b[39m=\u001b[39m \u001b[39m\"\u001b[39m\u001b[39m/home/milto/Documents/fieldData/plotSample.csv\u001b[39m\u001b[39m\"\u001b[39m\n",
      "File \u001b[0;32m/tmp/ipykernel_100925/2728515086.py:165\u001b[0m, in \u001b[0;36mSentinel2.byMonth\u001b[0;34m(self, starDate, endDate)\u001b[0m\n\u001b[1;32m    163\u001b[0m     \u001b[39mself\u001b[39m\u001b[39m.\u001b[39ms2_sr_cld_col_eval_disp \u001b[39m=\u001b[39m byMonth(lys,\u001b[39mself\u001b[39m\u001b[39m.\u001b[39ms2_sr_cld_col_eval_disp) \n\u001b[1;32m    164\u001b[0m \u001b[39melse\u001b[39;00m :\n\u001b[0;32m--> 165\u001b[0m     \u001b[39mraise\u001b[39;00m \u001b[39mException\u001b[39;00m(\u001b[39m\"\u001b[39m\u001b[39mERROR: start and end dates should be within the same year\u001b[39m\u001b[39m\"\u001b[39m)\n\u001b[1;32m    166\u001b[0m exit(\u001b[39m0\u001b[39m)\n",
      "\u001b[0;31mException\u001b[0m: ERROR: start and end dates should be within the same year"
     ]
    }
   ],
   "source": [
    "# parsing command line inputs - Could not find a way to add the arguments in ipython\n",
    "\"\"\" parser = argparse.ArgumentParser()\n",
    "parser.add_argument(\"-in\",\n",
    "     required=True,\n",
    "     help=\"The input csv file with its directory containing field plot data\",\n",
    "     metavar='<string>')\n",
    "\n",
    "\n",
    "\n",
    "params       = vars(parser.parse_args())\n",
    "csvFile      = params[\"in\"   ]\n",
    "\n",
    "\n",
    "print (\"imported csv file     = \", csvFile ) \"\"\"\n",
    "\n",
    "# import a Sentinel 2 collection and crop Spain\n",
    "countries = ee.FeatureCollection('USDOS/LSIB_SIMPLE/2017')\n",
    "AOI = countries.filter(ee.Filter.eq('country_na', 'Spain'))\n",
    "\n",
    "geometry = ee.Geometry.Polygon(\n",
    "    [[[-5.586640856054208, 40.07176423657564],\n",
    "      [-5.391633531835458, 40.07176423657564],\n",
    "      [-5.391633531835458, 40.17257546939766],\n",
    "      [-5.6106734488276455, 40.170476760191924]]])\n",
    "\n",
    "\n",
    "START_DATE = '2021-01-01'\n",
    "END_DATE = '2021-12-01'\n",
    "masks = {}#'gsw': 30, 'lmask': 30, 'forestMask': {30,2021}}\n",
    "\n",
    "\n",
    "\n",
    "s2 = Sentinel2(AOI,START_DATE,END_DATE,0, masks)\n",
    "s2.byMonth(START_DATE,END_DATE) # if the year is not within the start end end date then an empty csv file is returned\n",
    "\n",
    "\n",
    "\n",
    "\n",
    "# csvFile = \"C:/Users/mm2705/Documents/Cambridge/Milto_SPSW/L2/Spain/plot234_column.csv\"\n",
    "csvFile = \"/home/milto/Documents/fieldData/plotSample.csv\"\n",
    "csvDF = FieldData(csvFile, \"EPSG:3042\")\n",
    "# csvDF.filterYearsOfInterest(2017,2018,\"year\")\n",
    "\n",
    "bufferredPoints = csvDF.createBufferedPoints(\"CX\", \"CY\", 30) #radius=30\n",
    "\n",
    "s2bands = s2.getCollectionToBands()\n",
    "csvDF.exportFeaturesMeanStdCSV(s2bands,\"ouutCsvFeatureVectors2021_r30_s10\",\"GEE\",10) #scale=50\n",
    "\n",
    "\n",
    "# THIS IS THE OTHER METHOD THAT EXPORTS FOR EACH PIXEL - DOES NOT HANDLES GAPS SO NEEDS EXTRA POST-PROCESSSING\n",
    "# csvDF.exportfeatureVectorsToDrive(col,\"TestIndClassSentinel2c.csv\",\"earth_engine_demos\",10)\n",
    "# csvDF.mergeFeatureVectorsToPlotData(\"/home/milto/Documents/FLFScripts/sampleData/mergedcsv.csv\")\n",
    "# csvDF.exportPlotDataWithAddedIdentifiers(\"/home/milto/Documents/FLFScripts/sampleData/fieldDatawithIds.csv\")\n",
    "\n",
    "\n",
    "print(\"   ***   EXIT   ***\")\n"
   ]
  },
  {
   "cell_type": "code",
   "execution_count": null,
   "metadata": {},
   "outputs": [],
   "source": [
    "#%run MapVisualisation.ipynb\n",
    "my_map = folium.Map(location=[40,-3], zoom_start=5, height=400)\n",
    "# Add custom basemaps\n",
    "basemaps['Google Maps'].add_to(my_map)\n",
    "basemaps['Google Satellite Hybrid'].add_to(my_map)\n",
    "# Add Land Mask to the map\n",
    "my_map.add_ee_layer(s2bands, {'bands': ['2_B4', '2_B3', '2_B2'], 'min': 0, 'max': 2500, 'gamma': 1.1}, 'median'      )\n",
    "my_map.add_ee_layer(bufferredPoints, {},'bufferredPoints')\n",
    "#my_map.add_ee_layer(geometry,{},\"geometry\")\n",
    "\n",
    "# Add a layer control panel to the map.\n",
    "my_map.add_child(folium.LayerControl())\n",
    "plugins.Fullscreen().add_to(my_map)\n",
    "\n",
    "# Add a layer control panel to the map.\n",
    "my_map.add_child(folium.LayerControl())\n",
    "\n",
    "# Add fullscreen button\n",
    "plugins.Fullscreen().add_to(my_map)\n",
    "\n",
    "# Display the map.\n",
    "display(my_map)"
   ]
  }
 ],
 "metadata": {
  "kernelspec": {
   "display_name": "Python 3",
   "language": "python",
   "name": "python3"
  },
  "language_info": {
   "codemirror_mode": {
    "name": "ipython",
    "version": 3
   },
   "file_extension": ".py",
   "mimetype": "text/x-python",
   "name": "python",
   "nbconvert_exporter": "python",
   "pygments_lexer": "ipython3",
   "version": "3.10.6"
  },
  "orig_nbformat": 4,
  "vscode": {
   "interpreter": {
    "hash": "cab1d7ef7b90e69a2393a883ac82077044fd5f1d4df4dae9ffefa7c49ee44033"
   }
  }
 },
 "nbformat": 4,
 "nbformat_minor": 2
}
