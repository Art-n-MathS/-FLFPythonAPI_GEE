{
 "cells": [
  {
   "attachments": {},
   "cell_type": "markdown",
   "metadata": {},
   "source": [
    "This is a test file for the FieldData class\n",
    "It requires input parameters from the command line as follow\n"
   ]
  },
  {
   "cell_type": "code",
   "execution_count": 1,
   "metadata": {},
   "outputs": [],
   "source": [
    "#Example on how to run the code from terminal but input arguments are still not working\n",
    "# Found at https://stackoverflow.com/questions/35545402/how-to-run-an-ipynb-jupyter-notebook-from-terminal (Accessed 22/02/2023)\n",
    "#@echo on\n",
    "#call \"C:\\ProgramData\\Anaconda3\\Scripts\\activate.bat\"\n",
    "#ipython \"path\\test.ipynb\"\n",
    "#pause\n"
   ]
  },
  {
   "cell_type": "code",
   "execution_count": 2,
   "metadata": {},
   "outputs": [
    {
     "name": "stdout",
     "output_type": "stream",
     "text": [
      "GEE already imported\n",
      "Class fieldData imported\n",
      "Utils imported\n",
      "Masks class imported\n",
      "Sentinel2b class imported\n",
      "MapVisualisation class imported - uses folium library\n"
     ]
    }
   ],
   "source": [
    "import sys\n",
    "\n",
    "# check if GEE is already imported to avoid requesting authenticatiation multiple times\n",
    "modulename = 'ee'\n",
    "if modulename not in sys.modules: \n",
    "   # import GEE and Authenticate, token or log in will be asked from web browser\n",
    "   import ee\n",
    "   #ee.Authenticate()\n",
    "   ee.Initialize()\n",
    "else:\n",
    "   print('GEE already imported')\n",
    "   # google earth engine already imported and authenticated\n",
    "\n",
    "\n",
    "import sys\n",
    "modulename = 'ipynb_FieldData'\n",
    "if modulename not in sys.modules:\n",
    "    %run FieldData.ipynb\n",
    "    # adding an identifier to sys.modules to avoiding loading the same file multiple times\n",
    "    sys.modules['FieldData'] = None \n",
    "#else\n",
    "   # Utils modules has already been loaded somewhere else\n",
    "\n",
    "modulename = 'ipynb_Sentinel2b'\n",
    "if modulename not in sys.modules:\n",
    "    %run Sentinel2b.ipynb\n",
    "    # adding an identifier to sys.modules to avoiding loading the same file multiple times\n",
    "    sys.modules['ipynb_Sentinel2b'] = None \n",
    "#else\n",
    "   # Utils modules has already been loaded somewhere else\n",
    "\n",
    "modulename = 'ipynb_MapVisualisation'\n",
    "if modulename not in sys.modules:\n",
    "    %run MapVisualisation.ipynb\n",
    "    # adding an identifier to sys.modules to avoiding loading the same file multiple times\n",
    "    sys.modules['ipynb_MapVisualisation'] = None \n",
    "#else\n",
    "   # Utils modules has already been loaded somewhere else\n"
   ]
  },
  {
   "cell_type": "code",
   "execution_count": 3,
   "metadata": {},
   "outputs": [
    {
     "name": "stdout",
     "output_type": "stream",
     "text": [
      "Sentinel2b: init:  2017-01-01 2017-12-01\n",
      "Band names s2_col:  ['B1', 'B2', 'B3', 'B4', 'B5', 'B6', 'B7', 'B8', 'B8A', 'B9', 'B11', 'B12']\n",
      "-1 -1 -1 -1 -1 +++++\n",
      "Warning: month 0  is discarded. Probably no images were fetched or clouds existed on all images producing wholes. Try smaller polygons as study area. Months counting starts from 0-Jan\n",
      "Warning: month 1  is discarded. Probably no images were fetched or clouds existed on all images producing wholes. Try smaller polygons as study area. Months counting starts from 0-Jan\n",
      "Warning: month 11  is discarded. Probably no images were fetched or clouds existed on all images producing wholes. Try smaller polygons as study area. Months counting starts from 0-Jan\n",
      "Band names s2bands:  ['0_B1', '0_B2', '0_B3', '0_B4', '0_B5', '0_B6', '0_B7', '0_B8', '0_B8A', '0_B9', '0_B11', '0_B12', '1_B1', '1_B2', '1_B3', '1_B4', '1_B5', '1_B6', '1_B7', '1_B8', '1_B8A', '1_B9', '1_B11', '1_B12', '2_B1', '2_B2', '2_B3', '2_B4', '2_B5', '2_B6', '2_B7', '2_B8', '2_B8A', '2_B9', '2_B11', '2_B12', '3_B1', '3_B2', '3_B3', '3_B4', '3_B5', '3_B6', '3_B7', '3_B8', '3_B8A', '3_B9', '3_B11', '3_B12', '4_B1', '4_B2', '4_B3', '4_B4', '4_B5', '4_B6', '4_B7', '4_B8', '4_B8A', '4_B9', '4_B11', '4_B12', '5_B1', '5_B2', '5_B3', '5_B4', '5_B5', '5_B6', '5_B7', '5_B8', '5_B8A', '5_B9', '5_B11', '5_B12', '6_B1', '6_B2', '6_B3', '6_B4', '6_B5', '6_B6', '6_B7', '6_B8', '6_B8A', '6_B9', '6_B11', '6_B12', '7_B1', '7_B2', '7_B3', '7_B4', '7_B5', '7_B6', '7_B7', '7_B8', '7_B8A', '7_B9', '7_B11', '7_B12', '8_B1', '8_B2', '8_B3', '8_B4', '8_B5', '8_B6', '8_B7', '8_B8', '8_B8A', '8_B9', '8_B11', '8_B12']\n",
      "START EXPORTING FEATURES VECTORS\n",
      "STOP EXPORTING: CHECK PROGRESS ON GOOGLE EARTH ENGINE - FILES ON DRIVE\n",
      "   ***   EXIT   ***\n"
     ]
    }
   ],
   "source": [
    "# parsing command line inputs - Could not find a way to add the arguments in ipython\n",
    "\"\"\" parser = argparse.ArgumentParser()\n",
    "parser.add_argument(\"-in\",\n",
    "     required=True,\n",
    "     help=\"The input csv file with its directory containing field plot data\",\n",
    "     metavar='<string>')\n",
    "\n",
    "\n",
    "\n",
    "params       = vars(parser.parse_args())\n",
    "csvFile      = params[\"in\"   ]\n",
    "\n",
    "\n",
    "print (\"imported csv file     = \", csvFile ) \"\"\"\n",
    "\n",
    "# import a Sentinel 2 collection and crop Spain\n",
    "countries = ee.FeatureCollection('USDOS/LSIB_SIMPLE/2017')\n",
    "AOI = countries.filter(ee.Filter.eq('country_na', 'Spain'))\n",
    "\n",
    "geometry = ee.Geometry.Polygon(\n",
    "    [[[-5.586640856054208, 40.07176423657564],\n",
    "      [-5.391633531835458, 40.07176423657564],\n",
    "      [-5.391633531835458, 40.17257546939766],\n",
    "      [-5.6106734488276455, 40.170476760191924]]])\n",
    "\n",
    "\n",
    "START_DATE = '2017-01-01'\n",
    "END_DATE = '2017-12-01'\n",
    "masks = {}#'gsw': 30, 'lmask': 30, 'forestMask': {30,2021}}\n",
    "\n",
    "\n",
    "\n",
    "s2 = Sentinel2(AOI,START_DATE,END_DATE,0, masks)\n",
    "s2.byMonth(START_DATE,END_DATE) # if the year is not within the start end end date then an empty csv file is returned\n",
    "\n",
    "\n",
    "\n",
    "\n",
    "# csvFile = \"C:/Users/mm2705/Documents/Cambridge/Milto_SPSW/L2/Spain/plot234_column.csv\"\n",
    "csvFile = \"/home/milto/Documents/fieldData/plotSample.csv\"\n",
    "csvDF = FieldData(csvFile, \"EPSG:3042\")\n",
    "# csvDF.filterYearsOfInterest(2017,2018,\"year\")\n",
    "\n",
    "bufferredPoints = csvDF.createBufferedPoints(\"CX\", \"CY\", 10)\n",
    "\n",
    "s2bands = s2.getCollectionToBands()\n",
    "csvDF.exportFeaturesMeanStdCSV(s2bands,\"ouutCsvFeatureVectors2017\",\"GEE\")\n",
    "\n",
    "\n",
    "# THIS IS THE OTHER METHOD THAT EXPORTS FOR EACH PIXEL - DOES NOT HANDLES GAPS SO NEEDS EXTRA POST-PROCESSSING\n",
    "# csvDF.exportfeatureVectorsToDrive(col,\"TestIndClassSentinel2c.csv\",\"earth_engine_demos\",10)\n",
    "# csvDF.mergeFeatureVectorsToPlotData(\"/home/milto/Documents/FLFScripts/sampleData/mergedcsv.csv\")\n",
    "# csvDF.exportPlotDataWithAddedIdentifiers(\"/home/milto/Documents/FLFScripts/sampleData/fieldDatawithIds.csv\")\n",
    "\n",
    "\n",
    "print(\"   ***   EXIT   ***\")\n"
   ]
  },
  {
   "cell_type": "code",
   "execution_count": 4,
   "metadata": {},
   "outputs": [
    {
     "ename": "NameError",
     "evalue": "name 's2_col' is not defined",
     "output_type": "error",
     "traceback": [
      "\u001b[0;31m---------------------------------------------------------------------------\u001b[0m",
      "\u001b[0;31mNameError\u001b[0m                                 Traceback (most recent call last)",
      "Cell \u001b[0;32mIn[4], line 7\u001b[0m\n\u001b[1;32m      5\u001b[0m basemaps[\u001b[39m'\u001b[39m\u001b[39mGoogle Satellite Hybrid\u001b[39m\u001b[39m'\u001b[39m]\u001b[39m.\u001b[39madd_to(my_map)\n\u001b[1;32m      6\u001b[0m \u001b[39m# Add Land Mask to the map\u001b[39;00m\n\u001b[0;32m----> 7\u001b[0m my_map\u001b[39m.\u001b[39madd_ee_layer(s2_col, {\u001b[39m'\u001b[39m\u001b[39mbands\u001b[39m\u001b[39m'\u001b[39m: [\u001b[39m'\u001b[39m\u001b[39mB4\u001b[39m\u001b[39m'\u001b[39m, \u001b[39m'\u001b[39m\u001b[39mB3\u001b[39m\u001b[39m'\u001b[39m, \u001b[39m'\u001b[39m\u001b[39mB2\u001b[39m\u001b[39m'\u001b[39m], \u001b[39m'\u001b[39m\u001b[39mmin\u001b[39m\u001b[39m'\u001b[39m: \u001b[39m0\u001b[39m, \u001b[39m'\u001b[39m\u001b[39mmax\u001b[39m\u001b[39m'\u001b[39m: \u001b[39m2500\u001b[39m, \u001b[39m'\u001b[39m\u001b[39mgamma\u001b[39m\u001b[39m'\u001b[39m: \u001b[39m1.1\u001b[39m}, \u001b[39m'\u001b[39m\u001b[39mmedian\u001b[39m\u001b[39m'\u001b[39m      )\n\u001b[1;32m      8\u001b[0m my_map\u001b[39m.\u001b[39madd_ee_layer(bufferredPoints, {},\u001b[39m'\u001b[39m\u001b[39mbufferredPoints\u001b[39m\u001b[39m'\u001b[39m)\n\u001b[1;32m      9\u001b[0m \u001b[39m#my_map.add_ee_layer(geometry,{},\"geometry\")\u001b[39;00m\n\u001b[1;32m     10\u001b[0m \n\u001b[1;32m     11\u001b[0m \u001b[39m# Add a layer control panel to the map.\u001b[39;00m\n",
      "\u001b[0;31mNameError\u001b[0m: name 's2_col' is not defined"
     ]
    }
   ],
   "source": [
    "#%run MapVisualisation.ipynb\n",
    "my_map = folium.Map(location=[40,-3], zoom_start=5, height=400)\n",
    "# Add custom basemaps\n",
    "basemaps['Google Maps'].add_to(my_map)\n",
    "basemaps['Google Satellite Hybrid'].add_to(my_map)\n",
    "# Add Land Mask to the map\n",
    "my_map.add_ee_layer(s2_col, {'bands': ['B4', 'B3', 'B2'], 'min': 0, 'max': 2500, 'gamma': 1.1}, 'median'      )\n",
    "my_map.add_ee_layer(bufferredPoints, {},'bufferredPoints')\n",
    "#my_map.add_ee_layer(geometry,{},\"geometry\")\n",
    "\n",
    "# Add a layer control panel to the map.\n",
    "my_map.add_child(folium.LayerControl())\n",
    "plugins.Fullscreen().add_to(my_map)\n",
    "\n",
    "# Add a layer control panel to the map.\n",
    "my_map.add_child(folium.LayerControl())\n",
    "\n",
    "# Add fullscreen button\n",
    "plugins.Fullscreen().add_to(my_map)\n",
    "\n",
    "# Display the map.\n",
    "display(my_map)"
   ]
  }
 ],
 "metadata": {
  "kernelspec": {
   "display_name": "Python 3",
   "language": "python",
   "name": "python3"
  },
  "language_info": {
   "codemirror_mode": {
    "name": "ipython",
    "version": 3
   },
   "file_extension": ".py",
   "mimetype": "text/x-python",
   "name": "python",
   "nbconvert_exporter": "python",
   "pygments_lexer": "ipython3",
   "version": "3.10.6"
  },
  "orig_nbformat": 4,
  "vscode": {
   "interpreter": {
    "hash": "cab1d7ef7b90e69a2393a883ac82077044fd5f1d4df4dae9ffefa7c49ee44033"
   }
  }
 },
 "nbformat": 4,
 "nbformat_minor": 2
}
