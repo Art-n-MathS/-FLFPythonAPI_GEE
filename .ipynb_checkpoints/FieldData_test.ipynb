{
 "cells": [
  {
   "attachments": {},
   "cell_type": "markdown",
   "metadata": {},
   "source": [
    "This is a test file for the FieldData class\n",
    "It requires input parameters from the command line as follow\n"
   ]
  },
  {
   "cell_type": "code",
   "execution_count": 1,
   "metadata": {},
   "outputs": [],
   "source": [
    "#Example on how to run the code from terminal but input arguments are still not working\n",
    "# Found at https://stackoverflow.com/questions/35545402/how-to-run-an-ipynb-jupyter-notebook-from-terminal (Accessed 22/02/2023)\n",
    "#@echo on\n",
    "#call \"C:\\ProgramData\\Anaconda3\\Scripts\\activate.bat\"\n",
    "#ipython \"path\\test.ipynb\"\n",
    "#pause\n"
   ]
  },
  {
   "cell_type": "code",
   "execution_count": 2,
   "metadata": {},
   "outputs": [
    {
     "data": {
      "text/html": [
       "<p>To authorize access needed by Earth Engine, open the following\n",
       "        URL in a web browser and follow the instructions:</p>\n",
       "        <p><a href=https://code.earthengine.google.com/client-auth?scopes=https%3A//www.googleapis.com/auth/earthengine%20https%3A//www.googleapis.com/auth/devstorage.full_control&request_id=IWlIo5Utyfo3YMYa3NCxWQKZStYFiJphEtnK4iYTYaM&tc=qbOwbkGBrJMVFRqqgYG8G7_DkaukrOGXE_6dNJJ0PSI&cc=A1C2k23EipVTD2gbu_2UYFVmM1f7YXi3NtjZBTD2fcI>https://code.earthengine.google.com/client-auth?scopes=https%3A//www.googleapis.com/auth/earthengine%20https%3A//www.googleapis.com/auth/devstorage.full_control&request_id=IWlIo5Utyfo3YMYa3NCxWQKZStYFiJphEtnK4iYTYaM&tc=qbOwbkGBrJMVFRqqgYG8G7_DkaukrOGXE_6dNJJ0PSI&cc=A1C2k23EipVTD2gbu_2UYFVmM1f7YXi3NtjZBTD2fcI</a></p>\n",
       "        <p>The authorization workflow will generate a code, which you should paste in the box below.</p>\n",
       "        "
      ],
      "text/plain": [
       "<IPython.core.display.HTML object>"
      ]
     },
     "metadata": {},
     "output_type": "display_data"
    },
    {
     "name": "stdout",
     "output_type": "stream",
     "text": [
      "\n",
      "Successfully saved authorization token.\n",
      "Class fieldData imported\n",
      "Utils imported\n",
      "Masks class imported\n",
      "Sentinel2b class imported\n",
      "MapVisualisation class imported - uses folium library\n"
     ]
    }
   ],
   "source": [
    "import sys\n",
    "modulename = 'ipynb_FieldData'\n",
    "if modulename not in sys.modules:\n",
    "    %run FieldData.ipynb\n",
    "    # adding an identifier to sys.modules to avoiding loading the same file multiple times\n",
    "    sys.modules['FieldData'] = None \n",
    "#else\n",
    "   # Utils modules has already been loaded somewhere else\n",
    "\n",
    "modulename = 'ipynb_Sentinel2b'\n",
    "if modulename not in sys.modules:\n",
    "    %run Sentinel2b.ipynb\n",
    "    # adding an identifier to sys.modules to avoiding loading the same file multiple times\n",
    "    sys.modules['ipynb_Sentinel2b'] = None \n",
    "#else\n",
    "   # Utils modules has already been loaded somewhere else\n",
    "\n",
    "modulename = 'ipynb_MapVisualisation'\n",
    "if modulename not in sys.modules:\n",
    "    %run MapVisualisation.ipynb\n",
    "    # adding an identifier to sys.modules to avoiding loading the same file multiple times\n",
    "    sys.modules['ipynb_MapVisualisation'] = None \n",
    "#else\n",
    "   # Utils modules has already been loaded somewhere else\n"
   ]
  },
  {
   "cell_type": "code",
   "execution_count": 3,
   "metadata": {},
   "outputs": [
    {
     "ename": "NameError",
     "evalue": "name 'AOI' is not defined",
     "output_type": "error",
     "traceback": [
      "\u001b[0;31m---------------------------------------------------------------------------\u001b[0m",
      "\u001b[0;31mNameError\u001b[0m                                 Traceback (most recent call last)",
      "Cell \u001b[0;32mIn[3], line 30\u001b[0m\n\u001b[1;32m     15\u001b[0m \u001b[39m\"\"\"\u001b[39;00m\n\u001b[1;32m     16\u001b[0m \u001b[39m# import a Sentinel 2 collection and crop Spain\u001b[39;00m\n\u001b[1;32m     17\u001b[0m \u001b[39mcountries = ee.FeatureCollection('USDOS/LSIB_SIMPLE/2017')\u001b[39;00m\n\u001b[0;32m   (...)\u001b[0m\n\u001b[1;32m     26\u001b[0m \u001b[39mprint('Band names: ', bandNames.getInfo())\u001b[39;00m\n\u001b[1;32m     27\u001b[0m \u001b[39m\"\"\"\u001b[39;00m\n\u001b[1;32m     28\u001b[0m \u001b[39m# Make a cloud-free Landsat 8 surface reflectance composite.\u001b[39;00m\n\u001b[1;32m     29\u001b[0m image \u001b[39m=\u001b[39m ee\u001b[39m.\u001b[39mImageCollection(\u001b[39m'\u001b[39m\u001b[39mLANDSAT/LC08/C02/T1_L2\u001b[39m\u001b[39m'\u001b[39m) \\\n\u001b[0;32m---> 30\u001b[0m   \u001b[39m.\u001b[39mfilterBounds(AOI) \\\n\u001b[1;32m     31\u001b[0m   \u001b[39m.\u001b[39mfilterDate(\u001b[39m'\u001b[39m\u001b[39m2021-03-01\u001b[39m\u001b[39m'\u001b[39m, \u001b[39m'\u001b[39m\u001b[39m2021-07-01\u001b[39m\u001b[39m'\u001b[39m)\\\n\u001b[1;32m     32\u001b[0m   \u001b[39m.\u001b[39mmedian()\n\u001b[1;32m     34\u001b[0m \u001b[39m#csvFile = \"C:/Users/mm2705/Documents/Cambridge/Milto_SPSW/L2/Spain/plot234_column.csv\"\u001b[39;00m\n\u001b[1;32m     35\u001b[0m csvFile \u001b[39m=\u001b[39m \u001b[39m\"\u001b[39m\u001b[39m/home/milto/Documents/fieldData/plotSample.csv\u001b[39m\u001b[39m\"\u001b[39m\n",
      "\u001b[0;31mNameError\u001b[0m: name 'AOI' is not defined"
     ]
    }
   ],
   "source": [
    "# parsing command line inputs - Could not find a way to add the arguments in ipython\n",
    "\"\"\" parser = argparse.ArgumentParser()\n",
    "parser.add_argument(\"-in\",\n",
    "     required=True,\n",
    "     help=\"The input csv file with its directory containing field plot data\",\n",
    "     metavar='<string>')\n",
    "\n",
    "\n",
    "\n",
    "params       = vars(parser.parse_args())\n",
    "csvFile      = params[\"in\"   ]\n",
    "\n",
    "\n",
    "print (\"imported csv file     = \", csvFile ) \"\"\"\n",
    "\n",
    "# import a Sentinel 2 collection and crop Spain\n",
    "countries = ee.FeatureCollection('USDOS/LSIB_SIMPLE/2017')\n",
    "AOI = countries.filter(ee.Filter.eq('country_na', 'Spain'))\n",
    "\"\"\"\n",
    "START_DATE = '2017-01-01'\n",
    "END_DATE = '2017-12-31'\n",
    "masks = {'gsw': 30, 'lmask': 30, 'forestMask': {30,2017}}\n",
    "s2 = Sentinel2(AOI,START_DATE,END_DATE,50, masks)\n",
    "s2.byMonthVHDesVHDes(2017)\n",
    "medianS2 = s2.getMedian()\n",
    "bandNames = medianS2.bandNames()\n",
    "print('Band names: ', bandNames.getInfo())\n",
    "\"\"\"\n",
    "# Make a cloud-free Landsat 8 surface reflectance composite.\n",
    "image = ee.ImageCollection('LANDSAT/LC08/C02/T1_L2') \\\n",
    "  .filterBounds(AOI) \\\n",
    "  .filterDate('2021-03-01', '2021-07-01')\\\n",
    "  .median()\n",
    "\n",
    "#csvFile = \"C:/Users/mm2705/Documents/Cambridge/Milto_SPSW/L2/Spain/plot234_column.csv\"\n",
    "csvFile = \"/home/milto/Documents/fieldData/plotSample.csv\"\n",
    "csvDF = fieldData(csvFile,\"EPSG:3042\")\n",
    "csvDF.filterYearsOfInterest(2017,2018,\"year\")\n",
    "bufferredPoints = csvDF.createBufferedPoints(\"CX\",\"CY\",10)\n",
    "csvDF.exportfeatureVectors(image,\"medianS2spain1.csv\",\"earth_engine_demos\",10)\n",
    "\n",
    "\n",
    "print(\"   ***   EXIT   ***\")"
   ]
  },
  {
   "cell_type": "code",
   "execution_count": null,
   "metadata": {},
   "outputs": [],
   "source": [
    "#%run MapVisualisation.ipynb\n",
    "my_map = folium.Map(location=[40,-3], zoom_start=5, height=400)\n",
    "# Add custom basemaps\n",
    "basemaps['Google Maps'].add_to(my_map)\n",
    "basemaps['Google Satellite Hybrid'].add_to(my_map)\n",
    "# Add Land Mask to the map\n",
    "my_map.add_ee_layer(medianS2, {'bands': ['B4', 'B3', 'B2'], 'min': 0, 'max': 2500, 'gamma': 1.1}, 'median'      )\n",
    "my_map.add_ee_layer(bufferredPoints, {}, 'bufferredPoints'      )\n",
    "\n",
    "# Add a layer control panel to the map.\n",
    "my_map.add_child(folium.LayerControl())\n",
    "plugins.Fullscreen().add_to(my_map)\n",
    "\n",
    "# Add a layer control panel to the map.\n",
    "my_map.add_child(folium.LayerControl())\n",
    "\n",
    "# Add fullscreen button\n",
    "plugins.Fullscreen().add_to(my_map)\n",
    "\n",
    "# Display the map.\n",
    "display(my_map)"
   ]
  }
 ],
 "metadata": {
  "kernelspec": {
   "display_name": "Python 3",
   "language": "python",
   "name": "python3"
  },
  "language_info": {
   "codemirror_mode": {
    "name": "ipython",
    "version": 3
   },
   "file_extension": ".py",
   "mimetype": "text/x-python",
   "name": "python",
   "nbconvert_exporter": "python",
   "pygments_lexer": "ipython3",
   "version": "3.10.6"
  },
  "orig_nbformat": 4,
  "vscode": {
   "interpreter": {
    "hash": "cab1d7ef7b90e69a2393a883ac82077044fd5f1d4df4dae9ffefa7c49ee44033"
   }
  }
 },
 "nbformat": 4,
 "nbformat_minor": 2
}
