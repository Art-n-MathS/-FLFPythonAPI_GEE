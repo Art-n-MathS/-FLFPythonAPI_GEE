{
 "cells": [
  {
   "attachments": {},
   "cell_type": "markdown",
   "metadata": {},
   "source": [
    "This is a test file for the FieldData class\n",
    "It requires input parameters from the command line as follow\n"
   ]
  },
  {
   "cell_type": "code",
   "execution_count": null,
   "metadata": {},
   "outputs": [],
   "source": [
    "#Example on how to run the code from terminal but input arguments are still not working\n",
    "# Found at https://stackoverflow.com/questions/35545402/how-to-run-an-ipynb-jupyter-notebook-from-terminal (Accessed 22/02/2023)\n",
    "#@echo on\n",
    "#call \"C:\\ProgramData\\Anaconda3\\Scripts\\activate.bat\"\n",
    "#ipython \"path\\test.ipynb\"\n",
    "#pause\n"
   ]
  },
  {
   "cell_type": "code",
   "execution_count": null,
   "metadata": {},
   "outputs": [],
   "source": [
    "import argparse\n",
    "%run FieldData.ipynb\n",
    "\n",
    "import sys\n",
    "\n",
    "modulename = 'ipynb_MapVisualisation'\n",
    "if modulename not in sys.modules:\n",
    "    %run MapVisualisation.ipynb\n",
    "    # adding an identifier to sys.modules to avoiding loading the same file multiple times\n",
    "    sys.modules['ipynb_MapVisualisation'] = None \n",
    "#else\n",
    "   # Utils modules has already been loaded somewhere else\n"
   ]
  },
  {
   "cell_type": "code",
   "execution_count": null,
   "metadata": {},
   "outputs": [],
   "source": [
    "# parsing command line inputs - Could not find a way to add the arguments in ipython\n",
    "\"\"\" parser = argparse.ArgumentParser()\n",
    "parser.add_argument(\"-in\",\n",
    "     required=True,\n",
    "     help=\"The input csv file with its directory containing field plot data\",\n",
    "     metavar='<string>')\n",
    "\n",
    "\n",
    "\n",
    "params       = vars(parser.parse_args())\n",
    "csvFile      = params[\"in\"   ]\n",
    "\n",
    "\n",
    "print (\"imported csv file     = \", csvFile ) \"\"\"\n",
    "\n",
    "csvFile = \"C:/Users/mm2705/Documents/Cambridge/Milto_SPSW/L2/Spain/plot234_column.csv\"\n",
    "csvDF = fieldData(csvFile,\"EPSG:3042\")\n",
    "csvDF.filterYearsOfInterest(2017,2018,\"year\")\n",
    "bufferredPoints = csvDF.getBufferedPoints(\"CX\",\"CY\",10,\"PLOTCODE\")\n",
    "\n",
    "\n",
    "\n",
    "print(\"   ***   EXIT   ***\")"
   ]
  },
  {
   "cell_type": "code",
   "execution_count": null,
   "metadata": {},
   "outputs": [],
   "source": [
    "#%run MapVisualisation.ipynb\n",
    "my_map = folium.Map(location=[40,-3], zoom_start=5, height=400)\n",
    "# Add custom basemaps\n",
    "basemaps['Google Maps'].add_to(my_map)\n",
    "basemaps['Google Satellite Hybrid'].add_to(my_map)\n",
    "# Add Land Mask to the map\n",
    "\n",
    "my_map.add_ee_layer(bufferredPoints, {}, 'bufferredPoints'      )\n",
    "\n",
    "# Add a layer control panel to the map.\n",
    "my_map.add_child(folium.LayerControl())\n",
    "plugins.Fullscreen().add_to(my_map)\n",
    "\n",
    "# Add a layer control panel to the map.\n",
    "my_map.add_child(folium.LayerControl())\n",
    "\n",
    "# Add fullscreen button\n",
    "plugins.Fullscreen().add_to(my_map)\n",
    "\n",
    "# Display the map.\n",
    "display(my_map)"
   ]
  }
 ],
 "metadata": {
  "kernelspec": {
   "display_name": "Python 3",
   "language": "python",
   "name": "python3"
  },
  "language_info": {
   "codemirror_mode": {
    "name": "ipython",
    "version": 3
   },
   "file_extension": ".py",
   "mimetype": "text/x-python",
   "name": "python",
   "nbconvert_exporter": "python",
   "pygments_lexer": "ipython3",
   "version": "3.11.1"
  },
  "orig_nbformat": 4,
  "vscode": {
   "interpreter": {
    "hash": "cab1d7ef7b90e69a2393a883ac82077044fd5f1d4df4dae9ffefa7c49ee44033"
   }
  }
 },
 "nbformat": 4,
 "nbformat_minor": 2
}
