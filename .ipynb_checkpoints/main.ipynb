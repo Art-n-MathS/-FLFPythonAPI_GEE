{
 "cells": [
  {
   "attachments": {},
   "cell_type": "markdown",
   "id": "1484442f",
   "metadata": {},
   "source": [
    "This module handles various masks including surface water mask and land mask\n",
    " \n",
    "author:  Dr Milto Miltiadou\n",
    "date:    Dec 2022\n",
    "version: 1.0"
   ]
  },
  {
   "attachments": {},
   "cell_type": "markdown",
   "id": "ebde84c6",
   "metadata": {},
   "source": [
    "Importing important libraries and authenticate Google Earth Engine. A internet explorer window will pop up, follow the instructions"
   ]
  },
  {
   "cell_type": "code",
   "execution_count": 1,
   "id": "52813ded",
   "metadata": {},
   "outputs": [
    {
     "data": {
      "text/html": [
       "<p>To authorize access needed by Earth Engine, open the following\n",
       "        URL in a web browser and follow the instructions:</p>\n",
       "        <p><a href=https://code.earthengine.google.com/client-auth?scopes=https%3A//www.googleapis.com/auth/earthengine%20https%3A//www.googleapis.com/auth/devstorage.full_control&request_id=8N1EuPuQFYXofyxuoVAUMl7Q-abi2o8uBDEFrlmFOlc&tc=O6hdMsYBnOiVuQAjHJc8PFfK5NZRqhpd-KxY__c5gNE&cc=0DewDdnwOSrlmDmz9yT5nk5yN9ejtPiuAFDrWikN0zg>https://code.earthengine.google.com/client-auth?scopes=https%3A//www.googleapis.com/auth/earthengine%20https%3A//www.googleapis.com/auth/devstorage.full_control&request_id=8N1EuPuQFYXofyxuoVAUMl7Q-abi2o8uBDEFrlmFOlc&tc=O6hdMsYBnOiVuQAjHJc8PFfK5NZRqhpd-KxY__c5gNE&cc=0DewDdnwOSrlmDmz9yT5nk5yN9ejtPiuAFDrWikN0zg</a></p>\n",
       "        <p>The authorization workflow will generate a code, which you should paste in the box below.</p>\n",
       "        "
      ],
      "text/plain": [
       "<IPython.core.display.HTML object>"
      ]
     },
     "metadata": {},
     "output_type": "display_data"
    },
    {
     "name": "stdout",
     "output_type": "stream",
     "text": [
      "\n",
      "Successfully saved authorization token.\n"
     ]
    }
   ],
   "source": [
    "import sys\n",
    "\n",
    "# check if GEE is already imported to avoid requesting authenticatiation multiple times\n",
    "modulename = 'ee'\n",
    "if modulename not in sys.modules: \n",
    "   # import GEE and Authenticate, token or log in will be asked from web browser\n",
    "   import ee\n",
    "   ee.Authenticate()\n",
    "   ee.Initialize()\n",
    "#else:\n",
    "   # google earth engine already imported and authenticated\n",
    "\n",
    "%run MapVisualisation.ipynb\n",
    "\n",
    "\n",
    "   "
   ]
  },
  {
   "attachments": {},
   "cell_type": "markdown",
   "id": "ed8af418",
   "metadata": {},
   "source": [
    "Visualise my results"
   ]
  },
  {
   "cell_type": "code",
   "execution_count": null,
   "id": "d0c2763d",
   "metadata": {},
   "outputs": [],
   "source": []
  },
  {
   "cell_type": "code",
   "execution_count": 2,
   "id": "04c68199",
   "metadata": {},
   "outputs": [
    {
     "name": "stdout",
     "output_type": "stream",
     "text": [
      "   ***   EXIT   ***\n"
     ]
    }
   ],
   "source": [
    "print (\"   ***   EXIT   ***\")"
   ]
  }
 ],
 "metadata": {
  "kernelspec": {
   "display_name": "Python 3",
   "language": "python",
   "name": "python3"
  },
  "language_info": {
   "codemirror_mode": {
    "name": "ipython",
    "version": 3
   },
   "file_extension": ".py",
   "mimetype": "text/x-python",
   "name": "python",
   "nbconvert_exporter": "python",
   "pygments_lexer": "ipython3",
   "version": "3.11.1"
  },
  "vscode": {
   "interpreter": {
    "hash": "cab1d7ef7b90e69a2393a883ac82077044fd5f1d4df4dae9ffefa7c49ee44033"
   }
  }
 },
 "nbformat": 4,
 "nbformat_minor": 5
}
