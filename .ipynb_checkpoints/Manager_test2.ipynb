{
 "cells": [
  {
   "cell_type": "code",
   "execution_count": 2,
   "metadata": {},
   "outputs": [
    {
     "ename": "SyntaxError",
     "evalue": "invalid syntax (575874065.py, line 23)",
     "output_type": "error",
     "traceback": [
      "\u001b[0;36m  Cell \u001b[0;32mIn[2], line 23\u001b[0;36m\u001b[0m\n\u001b[0;31m    \"proj\"          :\"EPSG:3042\",\u001b[0m\n\u001b[0m                    ^\u001b[0m\n\u001b[0;31mSyntaxError\u001b[0m\u001b[0;31m:\u001b[0m invalid syntax\n"
     ]
    }
   ],
   "source": [
    "# Include these lines and comment out \"ee.Authenticate()\" after the first use to avoid \n",
    "# authenticate at each run.\n",
    "import ee\n",
    "ee.Authenticate()\n",
    "ee.Initialize()\n",
    "import sys\n",
    "\n",
    "# import all the necessary libraries\n",
    "%run Manager.ipynb\n",
    "\n",
    "# By default recursion is 1000. By increasing it you can handling more plot data at once \n",
    "# but you are doing it at your own risk \n",
    "sys.setrecursionlimit(9000)\n",
    "\n",
    "# Definition of Study area\n",
    "countries = ee.FeatureCollection('USDOS/LSIB_SIMPLE/2017')\n",
    "polygon = countries.filter(ee.Filter.eq('country_na', 'Spain'))\n",
    "\n",
    "# Create a dictionary that holds the relevant plot information\n",
    "fieldData = {\n",
    "              #\"csvfilename\"   : \"./samplePlots.csv\",\n",
    "              \"csvfilename\"   : \"/home/milto/Documents/fieldData/plot234_column_original.csv\",\n",
    "              \"proj\"          :\"EPSG:3042\",\n",
    "              \"radius\"        :25,\n",
    "              \"xcol\"          :\"CX\",    \n",
    "              \"ycol\"          :\"CY\"\n",
    "       }\n",
    "\n",
    "# Specify the year of interest\n",
    "year = 2019\n",
    "\n",
    "# Create an instance of the Manager\n",
    "myManager = Manager(polygon,fieldData,year) \n",
    "\n",
    "## With this command you can see all the supported collections and the associated \n",
    "## labels that you need to use to add the data into the manager\n",
    "myManager.printAvailableCollections()\n",
    "\n",
    "# Optionally, users can define a set of masks\n",
    "masks = {\n",
    "              \"gsw\": 30, \n",
    "              \"lmask\": 30, \n",
    "              \"forestMask\": {\n",
    "                     \"buffer\":30, \n",
    "                     \"startDate\":'2000-01-01', \n",
    "                     \"endDate\":'2019-12-31'\n",
    "              }\n",
    "       } \n",
    "myManager.setMasks(masks)\n",
    "\n",
    "# GEE cannot handle long csv files with plot data so the system allows you to break them \n",
    "# into smaller segments. The default size is 400 but it is advised to use big number (as \n",
    "# long as GEE can handle it). In this example a small number for testing purposes as \n",
    "# \"./samplePlots.csv\" provided with the User Guide only contains 15 plots\n",
    "myManager.setSampling(300)\n",
    "\n",
    "# Adding Earth Observation Collections\n",
    "myManager.addCollection(\"sentinel-1\", True) \n",
    "myManager.addCollection(\"sentinel-2\", 50  ) \n",
    "\n",
    "#Definition and exportation of outputs\n",
    "myManager.exportFeatures(\"gdrivefolderTest_plot234_column_original_B\", \"plot234_column_original_B\")\t"
   ]
  }
 ],
 "metadata": {
  "kernelspec": {
   "display_name": "Python 3",
   "language": "python",
   "name": "python3"
  },
  "language_info": {
   "codemirror_mode": {
    "name": "ipython",
    "version": 3
   },
   "file_extension": ".py",
   "mimetype": "text/x-python",
   "name": "python",
   "nbconvert_exporter": "python",
   "pygments_lexer": "ipython3",
   "version": "3.10.6"
  },
  "orig_nbformat": 4
 },
 "nbformat": 4,
 "nbformat_minor": 2
}
