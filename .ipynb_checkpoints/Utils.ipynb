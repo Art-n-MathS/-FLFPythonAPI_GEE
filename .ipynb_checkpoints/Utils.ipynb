{
 "cells": [
  {
   "attachments": {},
   "cell_type": "markdown",
   "metadata": {},
   "source": [
    "This is a module containing many useful functions that can be used throughout different classes\n",
    "It is written as a module for better mantainance\n",
    "\n",
    "Version : 1.0\n",
    "Date    : Feb 2023\n",
    "Author  : Milto Miltiadou"
   ]
  },
  {
   "cell_type": "code",
   "execution_count": 2,
   "metadata": {},
   "outputs": [
    {
     "data": {
      "text/html": [
       "<p>To authorize access needed by Earth Engine, open the following\n",
       "        URL in a web browser and follow the instructions:</p>\n",
       "        <p><a href=https://code.earthengine.google.com/client-auth?scopes=https%3A//www.googleapis.com/auth/earthengine%20https%3A//www.googleapis.com/auth/devstorage.full_control&request_id=CTlCy-F_IaACykAD0nEfK5r2mxj3_LZpaNwBhpAJtAo&tc=05clQGj2EvEttQl2M53r-F33tqZKp1H-RehvIHb8xu0&cc=Uj_jnV6PiO_N6HF8rq8uCH3KiuRiU5GSNm58ppNqXAY>https://code.earthengine.google.com/client-auth?scopes=https%3A//www.googleapis.com/auth/earthengine%20https%3A//www.googleapis.com/auth/devstorage.full_control&request_id=CTlCy-F_IaACykAD0nEfK5r2mxj3_LZpaNwBhpAJtAo&tc=05clQGj2EvEttQl2M53r-F33tqZKp1H-RehvIHb8xu0&cc=Uj_jnV6PiO_N6HF8rq8uCH3KiuRiU5GSNm58ppNqXAY</a></p>\n",
       "        <p>The authorization workflow will generate a code, which you should paste in the box below.</p>\n",
       "        "
      ],
      "text/plain": [
       "<IPython.core.display.HTML object>"
      ]
     },
     "metadata": {},
     "output_type": "display_data"
    },
    {
     "name": "stdout",
     "output_type": "stream",
     "text": [
      "\n",
      "Successfully saved authorization token.\n"
     ]
    }
   ],
   "source": [
    "import sys\n",
    "\n",
    "# check if GEE is already imported to avoid requesting authenticatiation multiple times\n",
    "modulename = 'ee'\n",
    "if modulename not in sys.modules: \n",
    "   # import GEE and Authenticate, token or log in will be asked from web browser\n",
    "   import ee\n",
    "   ee.Authenticate()\n",
    "   ee.Initialize()\n",
    "#else:\n",
    "   # google earth engine already imported and authenticated\n",
    "  "
   ]
  },
  {
   "cell_type": "code",
   "execution_count": 5,
   "metadata": {},
   "outputs": [],
   "source": [
    "## Function that adds a buffer around a given raster\n",
    "# image: imported raster to be buffered \n",
    "# buffer: number of meters to add around the given raster\n",
    "def addBuffer (image, buffer):\n",
    "  # return ee.Image(1).cumulativeCost({\n",
    "  #    'source': image, \n",
    "  #    'maxDistance': buffer\n",
    "  #  })\n",
    "  return image\n",
    "\n",
    "\n",
    "\n",
    "\n",
    "def filterSpeckles (img):\n",
    "    #Apply a focal median filter\n",
    "    img.focalMedian(3,'circle','pixels').copyProperties(img, ['system:time_start'])\n",
    "\n",
    "print (\"Utils imported\")\n"
   ]
  }
 ],
 "metadata": {
  "kernelspec": {
   "display_name": "Python 3",
   "language": "python",
   "name": "python3"
  },
  "language_info": {
   "codemirror_mode": {
    "name": "ipython",
    "version": 3
   },
   "file_extension": ".py",
   "mimetype": "text/x-python",
   "name": "python",
   "nbconvert_exporter": "python",
   "pygments_lexer": "ipython3",
   "version": "3.11.1"
  },
  "orig_nbformat": 4,
  "vscode": {
   "interpreter": {
    "hash": "cab1d7ef7b90e69a2393a883ac82077044fd5f1d4df4dae9ffefa7c49ee44033"
   }
  }
 },
 "nbformat": 4,
 "nbformat_minor": 2
}
