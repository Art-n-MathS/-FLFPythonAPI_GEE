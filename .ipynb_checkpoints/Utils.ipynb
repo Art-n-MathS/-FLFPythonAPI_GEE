{
 "cells": [
  {
   "attachments": {},
   "cell_type": "markdown",
   "metadata": {},
   "source": [
    "This is a module containing many useful functions that can be used throughout different classes\n",
    "It is written as a module for better mantainance\n",
    "\n",
    "Version : 1.0\n",
    "Date    : Feb 2023\n",
    "Author  : Milto Miltiadou"
   ]
  },
  {
   "cell_type": "code",
   "execution_count": null,
   "metadata": {},
   "outputs": [],
   "source": [
    "import sys\n",
    "\n",
    "# check if GEE is already imported to avoid requesting authenticatiation multiple times\n",
    "modulename = 'ee'\n",
    "if modulename not in sys.modules: \n",
    "   # import GEE and Authenticate, token or log in will be asked from web browser\n",
    "   import ee\n",
    "   ee.Authenticate()\n",
    "   ee.Initialize()\n",
    "#else:\n",
    "   # google earth engine already imported and authenticated\n",
    "  "
   ]
  },
  {
   "cell_type": "code",
   "execution_count": null,
   "metadata": {},
   "outputs": [],
   "source": [
    "## Function that adds a buffer around a given raster\n",
    "# image: imported raster to be buffered \n",
    "# buffer: number of meters to add around the given raster\n",
    "def addBuffer (image, buffer):\n",
    "    if (buffer == 0):\n",
    "       print(\"ERROR: Utils: Buffer must not be equal to zero\")     \n",
    "       exit(1)\n",
    "    return ee.Image(1).cumulativeCost(image, buffer, True)\n",
    "  \n",
    "  \n",
    "\n",
    "\n",
    "\n",
    "def filterSpeckles (img):\n",
    "    #Apply a focal median filter\n",
    "    return img.focalMedian(3,'circle','pixels').copyProperties(img, ['system:time_start'])\n",
    "\n",
    "\n",
    "\n",
    "\n",
    "\n",
    "# @brief method that takes as input a collection, calculates pixelwise average for each month and returns a new collection\n",
    "# @param[in] collection : the collection to be processed\n",
    "# @return a collection annual monthly average pixel values\n",
    "def byMonth (col):\n",
    "  months = ee.List.sequence(1, 12)\n",
    "  #print(months)\n",
    "#  return ee.ImageCollection.fromImages(\n",
    "#      months.map(\n",
    "#    }))\n",
    "\n",
    "\n",
    "\n",
    "\n",
    "# this function was taken from https://gis.stackexchange.com/questions/426662/image-collection-monthly-averages-using-geemap-package\n",
    "def monthly_Avg (collection, years, months):\n",
    "    avg = []\n",
    "    for year in years:\n",
    "        print (\"++++++++++++ YEAR = \", year)\n",
    "        for month in months:   \n",
    "            print(\"month :) \")\n",
    "            Monthly_avg = collection.filter(ee.Filter.calendarRange(year, year, 'year')) \\\n",
    "                                .filter(ee.Filter.calendarRange(month, month, 'month')) \\\n",
    "                                .mean() \\\n",
    "                                .set({'month': month, 'year': year})\n",
    "            avg.append (Monthly_avg)\n",
    "    return ee.ImageCollection.fromImages(avg)\n",
    "\n",
    "\n",
    "## @brief method that takes as input a period and removes it from the collection\n",
    "# @brief param[in] sentinel1 the sentinel1 collection (or any collection)\n",
    "# @brief param[in] start  the start date of the bad period of data to be removed 'YYYY-MM-DD'\n",
    "# @brief param[in] end    the end data of bad data to be removed 'YYYY-MM-DD'\n",
    "def removePeriodFromCollection (col,start,end): \n",
    "   badDataFilter = ee.Filter.date(start,end)\n",
    "   newCol= col.filter(badDataFilter.Not())  \n",
    "   return newCol\n",
    "\n",
    "  \n",
    "\n",
    "## @brief method that returns the number of images withing a given collection\n",
    "# @param[in] col a collection\n",
    "# @returns the number of images within the collection\n",
    "def getNoOfBands(col):\n",
    "    #col.first().getInfo()\n",
    "    return ee.Number(col.count())\n",
    "\n",
    "## @brief method that takes as input a collection, calculates pixelwise average for each month and returns a new collection\n",
    "# @param[in] collection : the collection to be processed\n",
    "# @return a collection annual monthly average pixel values\n",
    "tmpCol = None\n",
    "def byMonthSupportingFun (m):\n",
    "    phenCol =  tmpCol.filter(ee.Filter.calendarRange(m, m, 'month')) \\\n",
    "                  .mean() \\\n",
    "                  .set('month', m) \n",
    "      \n",
    "    return phenCol\n",
    "\n",
    "def byMonth(col):\n",
    "    tmpCol = col\n",
    "    months = ee.List.sequence(1, 12)\n",
    "    return ee.ImageCollection.fromImages(months.map(algorithm = byMonthSupportingFun))\n",
    "\n",
    "\n"
   ]
  },
  {
   "cell_type": "code",
   "execution_count": null,
   "metadata": {},
   "outputs": [],
   "source": [
    "print(\"Utils imported\")"
   ]
  }
 ],
 "metadata": {
  "kernelspec": {
   "display_name": "Python 3",
   "language": "python",
   "name": "python3"
  },
  "language_info": {
   "codemirror_mode": {
    "name": "ipython",
    "version": 3
   },
   "file_extension": ".py",
   "mimetype": "text/x-python",
   "name": "python",
   "nbconvert_exporter": "python",
   "pygments_lexer": "ipython3",
   "version": "3.11.1"
  },
  "orig_nbformat": 4,
  "vscode": {
   "interpreter": {
    "hash": "cab1d7ef7b90e69a2393a883ac82077044fd5f1d4df4dae9ffefa7c49ee44033"
   }
  }
 },
 "nbformat": 4,
 "nbformat_minor": 2
}
