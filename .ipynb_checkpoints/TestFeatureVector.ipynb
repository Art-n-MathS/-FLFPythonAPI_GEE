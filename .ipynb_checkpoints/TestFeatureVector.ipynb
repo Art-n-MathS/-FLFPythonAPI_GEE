{
 "cells": [
  {
   "cell_type": "code",
   "execution_count": 2,
   "metadata": {},
   "outputs": [
    {
     "name": "stdout",
     "output_type": "stream",
     "text": [
      "Sentinel2b class imported\n"
     ]
    }
   ],
   "source": [
    "import sys\n",
    "\n",
    "modulename = 'ipynb_MapVisualisation'\n",
    "if modulename not in sys.modules:\n",
    "    %run MapVisualisation.ipynb\n",
    "    # adding an identifier to sys.modules to avoiding loading the same file multiple times\n",
    "    sys.modules['ipynb_MapVisualisation'] = None \n",
    "#else\n",
    "   # Utils modules has already been loaded somewhere else\n",
    "\n",
    "\n",
    "modulename = 'ipynb_Sentinel2b'\n",
    "if modulename not in sys.modules:\n",
    "    %run Sentinel2b.ipynb\n",
    "    # adding an identifier to sys.modules to avoiding loading the same file multiple times\n",
    "    sys.modules['ipynb_MapVisualisation'] = None \n",
    "#else\n",
    "   # Utils modules has already been loaded somewhere else\n",
    "\n"
   ]
  },
  {
   "cell_type": "code",
   "execution_count": 3,
   "metadata": {},
   "outputs": [],
   "source": [
    "countries = ee.FeatureCollection('USDOS/LSIB_SIMPLE/2017')\n",
    "geometry = countries.filter(ee.Filter.eq('country_na', 'Cyprus'))\n",
    "startDate = '2017-01-01'\n",
    "endDate   = '2017-12-31'\n",
    "\n",
    "\n",
    "\n",
    "masks = {}#'gsw': 30, 'lmask': 30, 'forestMask': {30,2020}}\n",
    "\n",
    "s2 = Sentinel2(geometry,startDate,endDate,50, masks)\n",
    "\n",
    "\n",
    "\n"
   ]
  },
  {
   "cell_type": "code",
   "execution_count": 4,
   "metadata": {},
   "outputs": [
    {
     "ename": "NameError",
     "evalue": "name 'medianS2' is not defined",
     "output_type": "error",
     "traceback": [
      "\u001b[1;31m---------------------------------------------------------------------------\u001b[0m",
      "\u001b[1;31mNameError\u001b[0m                                 Traceback (most recent call last)",
      "Cell \u001b[1;32mIn[4], line 7\u001b[0m\n\u001b[0;32m      5\u001b[0m basemaps[\u001b[39m'\u001b[39m\u001b[39mGoogle Satellite Hybrid\u001b[39m\u001b[39m'\u001b[39m]\u001b[39m.\u001b[39madd_to(my_map)\n\u001b[0;32m      6\u001b[0m \u001b[39m# Add Land Mask to the map\u001b[39;00m\n\u001b[1;32m----> 7\u001b[0m my_map\u001b[39m.\u001b[39madd_ee_layer(medianS2      , {\u001b[39m'\u001b[39m\u001b[39mbands\u001b[39m\u001b[39m'\u001b[39m: [\u001b[39m'\u001b[39m\u001b[39mB4\u001b[39m\u001b[39m'\u001b[39m, \u001b[39m'\u001b[39m\u001b[39mB3\u001b[39m\u001b[39m'\u001b[39m, \u001b[39m'\u001b[39m\u001b[39mB2\u001b[39m\u001b[39m'\u001b[39m], \u001b[39m'\u001b[39m\u001b[39mmin\u001b[39m\u001b[39m'\u001b[39m: \u001b[39m0\u001b[39m, \u001b[39m'\u001b[39m\u001b[39mmax\u001b[39m\u001b[39m'\u001b[39m: \u001b[39m2500\u001b[39m, \u001b[39m'\u001b[39m\u001b[39mgamma\u001b[39m\u001b[39m'\u001b[39m: \u001b[39m1.1\u001b[39m}, \u001b[39m'\u001b[39m\u001b[39mmedian\u001b[39m\u001b[39m'\u001b[39m      )\n\u001b[0;32m      9\u001b[0m \u001b[39m# Add a layer control panel to the map.\u001b[39;00m\n\u001b[0;32m     10\u001b[0m my_map\u001b[39m.\u001b[39madd_child(folium\u001b[39m.\u001b[39mLayerControl())\n",
      "\u001b[1;31mNameError\u001b[0m: name 'medianS2' is not defined"
     ]
    }
   ],
   "source": [
    "#%run MapVisualisation.ipynb\n",
    "my_map = folium.Map(location=[40,-3], zoom_start=5, height=400)\n",
    "# Add custom basemaps\n",
    "basemaps['Google Maps'].add_to(my_map)\n",
    "basemaps['Google Satellite Hybrid'].add_to(my_map)\n",
    "# Add Land Mask to the map\n",
    "\n",
    "medianS2 = s2.getMedian()\n",
    "my_map.add_ee_layer(medianS2      , {'bands': ['B4', 'B3', 'B2'], 'min': 0, 'max': 2500, 'gamma': 1.1}, 'median'      )\n",
    "\n",
    "# Add a layer control panel to the map.\n",
    "my_map.add_child(folium.LayerControl())\n",
    "plugins.Fullscreen().add_to(my_map)\n",
    "\n",
    "# Add a layer control panel to the map.\n",
    "my_map.add_child(folium.LayerControl())\n",
    "\n",
    "# Add fullscreen button\n",
    "plugins.Fullscreen().add_to(my_map)\n",
    "\n",
    "# Display the map.\n",
    "display(my_map)"
   ]
  }
 ],
 "metadata": {
  "kernelspec": {
   "display_name": "Python 3",
   "language": "python",
   "name": "python3"
  },
  "language_info": {
   "codemirror_mode": {
    "name": "ipython",
    "version": 3
   },
   "file_extension": ".py",
   "mimetype": "text/x-python",
   "name": "python",
   "nbconvert_exporter": "python",
   "pygments_lexer": "ipython3",
   "version": "3.11.1"
  },
  "orig_nbformat": 4,
  "vscode": {
   "interpreter": {
    "hash": "cab1d7ef7b90e69a2393a883ac82077044fd5f1d4df4dae9ffefa7c49ee44033"
   }
  }
 },
 "nbformat": 4,
 "nbformat_minor": 2
}
