{
 "cells": [
  {
   "attachments": {},
   "cell_type": "markdown",
   "metadata": {},
   "source": [
    "The Masks Class handles, forest disturbances, surface water and land masks\n",
    "\n",
    "Version : 2.0\n",
    "Date    : Feb 2023\n",
    "Author  : Dr Milto Miltiadou"
   ]
  },
  {
   "cell_type": "code",
   "execution_count": 2,
   "metadata": {},
   "outputs": [
    {
     "data": {
      "text/html": [
       "<p>To authorize access needed by Earth Engine, open the following\n",
       "        URL in a web browser and follow the instructions:</p>\n",
       "        <p><a href=https://code.earthengine.google.com/client-auth?scopes=https%3A//www.googleapis.com/auth/earthengine%20https%3A//www.googleapis.com/auth/devstorage.full_control&request_id=Bm0CqDzJkpdQS4Pv_x3BrkoAnMt810hHM8lMxWl7SMk&tc=4JsDDsI11yM7EYp7L5blazUuKgg1HO3EfB4XgX2MI0c&cc=TFGyzXry5XfnTA1NkeVm4CxEcJroj32AaVRqPyEZlic>https://code.earthengine.google.com/client-auth?scopes=https%3A//www.googleapis.com/auth/earthengine%20https%3A//www.googleapis.com/auth/devstorage.full_control&request_id=Bm0CqDzJkpdQS4Pv_x3BrkoAnMt810hHM8lMxWl7SMk&tc=4JsDDsI11yM7EYp7L5blazUuKgg1HO3EfB4XgX2MI0c&cc=TFGyzXry5XfnTA1NkeVm4CxEcJroj32AaVRqPyEZlic</a></p>\n",
       "        <p>The authorization workflow will generate a code, which you should paste in the box below.</p>\n",
       "        "
      ],
      "text/plain": [
       "<IPython.core.display.HTML object>"
      ]
     },
     "metadata": {},
     "output_type": "display_data"
    },
    {
     "name": "stdout",
     "output_type": "stream",
     "text": [
      "\n",
      "Successfully saved authorization token.\n",
      "Utils imported\n"
     ]
    }
   ],
   "source": [
    "import sys\n",
    "\n",
    "# check if GEE is already imported to avoid requesting authenticatiation multiple times\n",
    "modulename = 'ee'\n",
    "if modulename not in sys.modules: \n",
    "   # import GEE and Authenticate, token or log in will be asked from web browser\n",
    "   import ee\n",
    "   ee.Authenticate()\n",
    "   ee.Initialize()\n",
    "else:\n",
    "   print('GEE already imported')\n",
    "   # google earth engine already imported and authenticated\n",
    "\n",
    "modulename = 'ipynb_Utils'\n",
    "if modulename not in sys.modules:\n",
    "    %run Utils.ipynb\n",
    "    # adding an identifier to sys.modules to avoiding loading the same file multiple times\n",
    "    sys.modules['ipynb_Utils'] = None \n",
    "#else\n",
    "   # Utils modules has already been loaded somewhere else"
   ]
  },
  {
   "cell_type": "code",
   "execution_count": 12,
   "metadata": {},
   "outputs": [],
   "source": [
    " \n",
    "class Masks:\n",
    "    def __init__(self,geometry):\n",
    "        self.dem = ee.Image('NASA/NASADEM_HGT/001').select('elevation').clip(geometry)\n",
    "        self.aspect = ee.Terrain.aspect(self.dem)\n",
    "        self.asc = (self.aspect.gt(202.5) and (self.aspect.lt(337.5)))\n",
    "        self.desc = (self.aspect.gt(22.5) and (self.aspect.lt(157.5)))\n",
    "        # load ground surface water\n",
    "        gsw = ee.Image('JRC/GSW1_0/GlobalSurfaceWater').clip(geometry)\n",
    "        self.occurrence = gsw.select('occurrence')\n",
    "        # load a land mask\n",
    "        self.landMask = ee.Image('CGIAR/SRTM90_V4').clip(geometry).mask()\n",
    "        # Load Global Forest Change Data\n",
    "        # \"The Hansen et al. (2013) Global Forest Change dataset in Earth \n",
    "        # Engine represents forest change, at 30 meters resolution, globally, between 2000 and 2021.\"\n",
    "        # These data are updated annually\n",
    "        gfc2021 =ee.Image(\"UMD/hansen/global_forest_change_2021_v1_9\").clip(geometry)\n",
    "        # extract the band that gives me which year was each tree covered area lost\n",
    "        self.lossYear = gfc2021.select(['lossyear'])\n",
    "        self.loss     = gfc2021.select(['loss'    ])\n",
    "\n",
    "    def getAscAspects(self):\n",
    "        return self.asc\n",
    "    \n",
    "    def getDesAspects(self):\n",
    "        return self.desc\n",
    "\n",
    "    ## @brief method that merges land surface and ocean/sea water into a single mask \n",
    "    # @brief buffer amount of meters to be added around the water areas \n",
    "    # @return the land mask of does not contain surface water\n",
    "    def getNoSurfaceWaterMask (self,buffer):\n",
    "        # Load a map containing the global surface water\n",
    "        return  addBuffer(self.occurrence, buffer).unmask(-999).eq(-999)\n",
    "\n",
    "    ## method that return land mask\n",
    "    # buffer amount of meters to be added around the water areas \n",
    "    # @return the land mask of does not contain surface water\n",
    "    def getlandMask (self,buffer):     \n",
    "        return addBuffer(self.landMask, buffer).add(1)\n",
    "\n",
    "    def getForestLostMask (self, year, buffer):   \n",
    "        yearNo = year.subtract(2000)\n",
    "        YOI = self.lossYear.where(self.lossYear.gt(yearNo), 0)\n",
    "        result = YOI.where(YOI.gt(0),1)\n",
    "        resultUnmasked = result.unmask(0)\n",
    "        return addBuffer(result,buffer).unmask(-999).eq(-999)\n",
    "\n",
    "    \n",
    "    \n",
    "\n"
   ]
  },
  {
   "cell_type": "markdown",
   "metadata": {},
   "source": []
  }
 ],
 "metadata": {
  "kernelspec": {
   "display_name": "Python 3",
   "language": "python",
   "name": "python3"
  },
  "language_info": {
   "codemirror_mode": {
    "name": "ipython",
    "version": 3
   },
   "file_extension": ".py",
   "mimetype": "text/x-python",
   "name": "python",
   "nbconvert_exporter": "python",
   "pygments_lexer": "ipython3",
   "version": "3.11.1"
  },
  "orig_nbformat": 4,
  "vscode": {
   "interpreter": {
    "hash": "cab1d7ef7b90e69a2393a883ac82077044fd5f1d4df4dae9ffefa7c49ee44033"
   }
  }
 },
 "nbformat": 4,
 "nbformat_minor": 2
}
