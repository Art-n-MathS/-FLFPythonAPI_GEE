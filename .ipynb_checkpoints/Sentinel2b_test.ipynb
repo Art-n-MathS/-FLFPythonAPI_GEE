{
 "cells": [
  {
   "cell_type": "code",
   "execution_count": 1,
   "metadata": {},
   "outputs": [
    {
     "data": {
      "text/html": [
       "<p>To authorize access needed by Earth Engine, open the following\n",
       "        URL in a web browser and follow the instructions:</p>\n",
       "        <p><a href=https://code.earthengine.google.com/client-auth?scopes=https%3A//www.googleapis.com/auth/earthengine%20https%3A//www.googleapis.com/auth/devstorage.full_control&request_id=Wq3ZpLGgWDlHpz3-ihKM7rBzGa9FpLGBFiLVX3p2NuI&tc=__jEATKOv_aur2reAqfOGBxFznaHjUX8dM3o4bFYAqk&cc=pg_WQrVHbA6Z7N6i2ohFvOM7fwRYU76jQWmB6EubkKs>https://code.earthengine.google.com/client-auth?scopes=https%3A//www.googleapis.com/auth/earthengine%20https%3A//www.googleapis.com/auth/devstorage.full_control&request_id=Wq3ZpLGgWDlHpz3-ihKM7rBzGa9FpLGBFiLVX3p2NuI&tc=__jEATKOv_aur2reAqfOGBxFznaHjUX8dM3o4bFYAqk&cc=pg_WQrVHbA6Z7N6i2ohFvOM7fwRYU76jQWmB6EubkKs</a></p>\n",
       "        <p>The authorization workflow will generate a code, which you should paste in the box below.</p>\n",
       "        "
      ],
      "text/plain": [
       "<IPython.core.display.HTML object>"
      ]
     },
     "metadata": {},
     "output_type": "display_data"
    },
    {
     "name": "stdout",
     "output_type": "stream",
     "text": [
      "\n",
      "Successfully saved authorization token.\n",
      "MapVisualisation class imported - uses folium library\n",
      "Utils imported\n",
      "Masks class imported\n",
      "Sentinel2b class imported\n"
     ]
    }
   ],
   "source": [
    "import sys\n",
    "\n",
    "modulename = 'ipynb_MapVisualisation'\n",
    "if modulename not in sys.modules:\n",
    "    %run MapVisualisation.ipynb\n",
    "    # adding an identifier to sys.modules to avoiding loading the same file multiple times\n",
    "    sys.modules['ipynb_MapVisualisation'] = None \n",
    "#else\n",
    "   # Utils modules has already been loaded somewhere else\n",
    "\n",
    "\n",
    "modulename = 'ipynb_Sentinel2b'\n",
    "if modulename not in sys.modules:\n",
    "    %run Sentinel2b.ipynb\n",
    "    # adding an identifier to sys.modules to avoiding loading the same file multiple times\n",
    "    sys.modules['ipynb_MapVisualisation'] = None \n",
    "#else\n",
    "   # Utils modules has already been loaded somewhere else\n",
    "\n"
   ]
  },
  {
   "cell_type": "code",
   "execution_count": 2,
   "metadata": {},
   "outputs": [
    {
     "ename": "ValueError",
     "evalue": "not enough values to unpack (expected 3, got 2)",
     "output_type": "error",
     "traceback": [
      "\u001b[0;31m---------------------------------------------------------------------------\u001b[0m",
      "\u001b[0;31mValueError\u001b[0m                                Traceback (most recent call last)",
      "Cell \u001b[0;32mIn[2], line 19\u001b[0m\n\u001b[1;32m     14\u001b[0m END_DATE \u001b[39m=\u001b[39m \u001b[39m'\u001b[39m\u001b[39m2020-12-31\u001b[39m\u001b[39m'\u001b[39m\n\u001b[1;32m     17\u001b[0m masks \u001b[39m=\u001b[39m {\u001b[39m'\u001b[39m\u001b[39mgsw\u001b[39m\u001b[39m'\u001b[39m: \u001b[39m30\u001b[39m, \u001b[39m'\u001b[39m\u001b[39mlmask\u001b[39m\u001b[39m'\u001b[39m: \u001b[39m30\u001b[39m, \u001b[39m'\u001b[39m\u001b[39mforestMask\u001b[39m\u001b[39m'\u001b[39m: {\u001b[39m30\u001b[39m,\u001b[39m2020\u001b[39m}}\n\u001b[0;32m---> 19\u001b[0m s2 \u001b[39m=\u001b[39m Sentinel2(AOI,START_DATE,END_DATE,\u001b[39m50\u001b[39;49m, masks)\n\u001b[1;32m     20\u001b[0m s2\u001b[39m.\u001b[39mbyMonthVHDesVHDes(\u001b[39m2020\u001b[39m)\n\u001b[1;32m     22\u001b[0m medianS2 \u001b[39m=\u001b[39m s2\u001b[39m.\u001b[39mgetMedian()\n",
      "File \u001b[0;32m/tmp/ipykernel_424781/519032866.py:138\u001b[0m, in \u001b[0;36mSentinel2.__init__\u001b[0;34m(self, geometry, startDate, endDate, cloudfilter, masks)\u001b[0m\n\u001b[1;32m    109\u001b[0m \u001b[39m#gswBuffer = 0\u001b[39;00m\n\u001b[1;32m    110\u001b[0m \u001b[39m#lmaskBuffer = 0\u001b[39;00m\n\u001b[1;32m    111\u001b[0m \u001b[39m#forestMaskBuffer = 0\u001b[39;00m\n\u001b[1;32m    112\u001b[0m \u001b[39m#forestYear =0\u001b[39;00m\n\u001b[1;32m    113\u001b[0m \u001b[39m# aspects buffer will be 0 and not applied\u001b[39;00m\n\u001b[1;32m    114\u001b[0m \u001b[39m\"\"\"\u001b[39;00m\n\u001b[1;32m    115\u001b[0m \u001b[39mif ('gsw' in masks):\u001b[39;00m\n\u001b[1;32m    116\u001b[0m \u001b[39m    gswBuffer = masks['gsw']\u001b[39;00m\n\u001b[0;32m   (...)\u001b[0m\n\u001b[1;32m    136\u001b[0m \u001b[39m    print (\"Forested areas disturbed before or during \", forestYear, \" has been removed\")\u001b[39;00m\n\u001b[1;32m    137\u001b[0m \u001b[39m\"\"\"\u001b[39;00m\n\u001b[0;32m--> 138\u001b[0m masksHandler \u001b[39m=\u001b[39m Masks(geometry,masks)\n\u001b[1;32m    139\u001b[0m masksHandler\u001b[39m.\u001b[39mcalculateCombinedMask()\n\u001b[1;32m    140\u001b[0m \u001b[39mself\u001b[39m\u001b[39m.\u001b[39ms2_sr_cld_col_eval_disp \u001b[39m=\u001b[39m \u001b[39mself\u001b[39m\u001b[39m.\u001b[39ms2_sr_cld_col_eval_disp\u001b[39m.\u001b[39mmap(algorithm \u001b[39m=\u001b[39m masksHandler\u001b[39m.\u001b[39mupdateCombinedMask)\n",
      "File \u001b[0;32m/tmp/ipykernel_424781/3847400203.py:31\u001b[0m, in \u001b[0;36mMasks.__init__\u001b[0;34m(self, geometry, masks)\u001b[0m\n\u001b[1;32m     28\u001b[0m     \u001b[39mself\u001b[39m\u001b[39m.\u001b[39maspectAscBuffer \u001b[39m=\u001b[39m \u001b[39mint\u001b[39m(masks[\u001b[39m'\u001b[39m\u001b[39maspectAsc\u001b[39m\u001b[39m'\u001b[39m])\n\u001b[1;32m     30\u001b[0m \u001b[39mif\u001b[39;00m (\u001b[39m'\u001b[39m\u001b[39mforestMask\u001b[39m\u001b[39m'\u001b[39m \u001b[39min\u001b[39;00m masks):\n\u001b[0;32m---> 31\u001b[0m     tmp,\u001b[39mself\u001b[39m\u001b[39m.\u001b[39mstartDate,\u001b[39mself\u001b[39m\u001b[39m.\u001b[39mendDate \u001b[39m=\u001b[39m masks[\u001b[39m'\u001b[39m\u001b[39mforestMask\u001b[39m\u001b[39m'\u001b[39m]\n\u001b[1;32m     32\u001b[0m     \u001b[39m#self.forestMaskBuffer = int(tmp)\u001b[39;00m\n\u001b[1;32m     34\u001b[0m \u001b[39mprint\u001b[39m(\u001b[39mself\u001b[39m\u001b[39m.\u001b[39mgswBuffer, \u001b[39mself\u001b[39m\u001b[39m.\u001b[39mlmaskBuffer, \u001b[39mself\u001b[39m\u001b[39m.\u001b[39maspectDesBuffer, \u001b[39mself\u001b[39m\u001b[39m.\u001b[39maspectAscBuffer, \u001b[39mself\u001b[39m\u001b[39m.\u001b[39mforestMaskBuffer, \u001b[39m\"\u001b[39m\u001b[39m+++++\u001b[39m\u001b[39m\"\u001b[39m)\n",
      "\u001b[0;31mValueError\u001b[0m: not enough values to unpack (expected 3, got 2)"
     ]
    }
   ],
   "source": [
    "#%run MapVisualisation.ipynb\n",
    "# These are the coordinates of Spain\n",
    "my_map = folium.Map(location=[40,-3], zoom_start=5, height=400)\n",
    "# Add custom basemaps\n",
    "basemaps['Google Maps'].add_to(my_map)\n",
    "basemaps['Google Satellite Hybrid'].add_to(my_map)\n",
    "\n",
    "def update_cld_shdw_mask(img):\n",
    "   print ('test')  \n",
    "\n",
    "countries = ee.FeatureCollection('USDOS/LSIB_SIMPLE/2017')\n",
    "AOI = countries.filter(ee.Filter.eq('country_na', 'Cyprus'))\n",
    "START_DATE = '2020-01-01'\n",
    "END_DATE = '2020-12-31'\n",
    "\n",
    "\n",
    "masks = {'gsw': 30, 'lmask': 30, 'forestMask': {30,START_DATE,END_DATE}}\n",
    "\n",
    "s2 = Sentinel2(AOI,START_DATE,END_DATE,50, masks)\n",
    "s2.byMonthVHDesVHDes(2020)\n",
    "\n",
    "medianS2 = s2.getMedian()\n",
    "bandNames = medianS2.bandNames()\n",
    "print('Band names: ', bandNames.getInfo())\n",
    "\n",
    "\n",
    "# Subset layers and prepare them for display.\n",
    "#clouds = medianS2.select('clouds').selfMask()\n",
    "#shadows = medianS2.select('shadows').selfMask()\n",
    "#dark_pixels = medianS2.select('dark_pixels').selfMask()\n",
    "#probability = medianS2.select('probability')\n",
    "#cloudmask = medianS2.select('cloudmask').selfMask()\n",
    "#cloud_transform = medianS2.select('cloud_transform')\n",
    "\n",
    "#cloudmask01 = getCloudMask(median)\n",
    "\n",
    "# Add Land Mask to the map\n",
    "my_map.add_ee_layer(medianS2, {'bands': ['B4', 'B3', 'B2'], 'min': 0, 'max': 2500, 'gamma': 1.1}, 'median'      )\n",
    "my_map.add_ee_layer(AOI, {}, 'AOI')\n",
    "\n",
    "#my_map.add_ee_layer(clouds, {}, 'clouds')\n",
    "#my_map.add_ee_layer(shadows, {}, 'shadows')\n",
    "#my_map.add_ee_layer(dark_pixels, {}, 'dark_pixels')\n",
    "#my_map.add_ee_layer(probability, {}, 'probability')\n",
    "#my_map.add_ee_layer(cloudmask, {}, 'cloudmask')\n",
    "#my_map.add_ee_layer(cloud_transform, {}, 'cloud_transform')\n",
    "\n",
    "#my_map.add_ee_layer(cloudmask01, {}, 'cloudmask01')\n",
    "\n",
    "# Add a layer control panel to the map.\n",
    "my_map.add_child(folium.LayerControl())\n",
    "plugins.Fullscreen().add_to(my_map)\n",
    "\n",
    "# Display the map.\n",
    "display(my_map)"
   ]
  }
 ],
 "metadata": {
  "kernelspec": {
   "display_name": "Python 3",
   "language": "python",
   "name": "python3"
  },
  "language_info": {
   "codemirror_mode": {
    "name": "ipython",
    "version": 3
   },
   "file_extension": ".py",
   "mimetype": "text/x-python",
   "name": "python",
   "nbconvert_exporter": "python",
   "pygments_lexer": "ipython3",
   "version": "3.10.6"
  },
  "orig_nbformat": 4,
  "vscode": {
   "interpreter": {
    "hash": "cab1d7ef7b90e69a2393a883ac82077044fd5f1d4df4dae9ffefa7c49ee44033"
   }
  }
 },
 "nbformat": 4,
 "nbformat_minor": 2
}
