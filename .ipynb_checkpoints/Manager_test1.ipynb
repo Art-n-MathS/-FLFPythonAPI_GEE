{
 "cells": [
  {
   "cell_type": "code",
   "execution_count": 1,
   "metadata": {},
   "outputs": [
    {
     "data": {
      "text/html": [
       "<p>To authorize access needed by Earth Engine, open the following\n",
       "        URL in a web browser and follow the instructions:</p>\n",
       "        <p><a href=https://code.earthengine.google.com/client-auth?scopes=https%3A//www.googleapis.com/auth/earthengine%20https%3A//www.googleapis.com/auth/devstorage.full_control&request_id=MNKJIfLraD8ol8jeZQjXUYQ6uBRalljYx-ndLvv5Y70&tc=ABEc40lul9tvEjsAHEzG73JHwb2FLyEHVhL06fk-QOQ&cc=-xsykGXK2vKt4qkFO32jxCYRTtC2Y4i6WYyWWgjGgCU>https://code.earthengine.google.com/client-auth?scopes=https%3A//www.googleapis.com/auth/earthengine%20https%3A//www.googleapis.com/auth/devstorage.full_control&request_id=MNKJIfLraD8ol8jeZQjXUYQ6uBRalljYx-ndLvv5Y70&tc=ABEc40lul9tvEjsAHEzG73JHwb2FLyEHVhL06fk-QOQ&cc=-xsykGXK2vKt4qkFO32jxCYRTtC2Y4i6WYyWWgjGgCU</a></p>\n",
       "        <p>The authorization workflow will generate a code, which you should paste in the box below.</p>\n",
       "        "
      ],
      "text/plain": [
       "<IPython.core.display.HTML object>"
      ]
     },
     "metadata": {},
     "output_type": "display_data"
    },
    {
     "name": "stdout",
     "output_type": "stream",
     "text": [
      "\n",
      "Successfully saved authorization token.\n",
      "Utils imported\n",
      "Masks class imported\n",
      "GEE already imported\n",
      "Sentinel1 class imported\n",
      "Sentinel2b class imported\n",
      "GEE already imported\n",
      "Class fieldData imported\n",
      "Masks class imported\n",
      "Sentinel1:  2017-01-01 2017-12-31\n",
      "Sentinel2:  2017-01-01 2017-12-31\n",
      "Sentinel 1 added\n",
      "Sentinel 2 added\n",
      "0000000000 0000000399 15 outfeaturevectors_0000000000_0000000399\n",
      "2017-01-01 2017-12-31 True\n",
      "Sentinel 1 collection parameters loaded are valid and system is now intepreting data\n",
      "Band names:  ['0_VHAsc', '1_VHAsc', '2_VHAsc', '3_VHAsc', '4_VHAsc', '5_VHAsc', '6_VHAsc', '7_VHAsc', '8_VHAsc', '9_VHAsc', '10_VHAsc', '11_VHAsc', '0_VVAsc', '1_VVAsc', '2_VVAsc', '3_VVAsc', '4_VVAsc', '5_VVAsc', '6_VVAsc', '7_VVAsc', '8_VVAsc', '9_VVAsc', '10_VVAsc', '11_VVAsc', '0_VHDes', '1_VHDes', '2_VHDes', '3_VHDes', '4_VHDes', '5_VHDes', '6_VHDes', '7_VHDes', '8_VHDes', '9_VHDes', '10_VHDes', '11_VHDes', '0_VVDes', '1_VVDes', '2_VVDes', '3_VVDes', '4_VVDes', '5_VVDes', '6_VVDes', '7_VVDes', '8_VVDes', '9_VVDes', '10_VVDes', '11_VVDes']\n",
      "START EXPORTING FEATURES VECTORS OF A SINGLE FILE\n",
      "STOP EXPORTING: CHECK PROGRESS ON GOOGLE EARTH ENGINE - FILES ON DRIVE\n",
      "Sentinel 2 collection parameters loaded are valid and system is now intepreting data\n",
      "Start end dates: 2017-01-01 2017-12-31\n",
      "Band names:  ['3_B1', '3_B2', '3_B3', '3_B4', '3_B5', '3_B6', '3_B7', '3_B8', '3_B8A', '3_B9', '3_B11', '3_B12', '4_B1', '4_B2', '4_B3', '4_B4', '4_B5', '4_B6', '4_B7', '4_B8', '4_B8A', '4_B9', '4_B11', '4_B12', '5_B1', '5_B2', '5_B3', '5_B4', '5_B5', '5_B6', '5_B7', '5_B8', '5_B8A', '5_B9', '5_B11', '5_B12', '6_B1', '6_B2', '6_B3', '6_B4', '6_B5', '6_B6', '6_B7', '6_B8', '6_B8A', '6_B9', '6_B11', '6_B12', '7_B1', '7_B2', '7_B3', '7_B4', '7_B5', '7_B6', '7_B7', '7_B8', '7_B8A', '7_B9', '7_B11', '7_B12', '8_B1', '8_B2', '8_B3', '8_B4', '8_B5', '8_B6', '8_B7', '8_B8', '8_B8A', '8_B9', '8_B11', '8_B12', '9_B1', '9_B2', '9_B3', '9_B4', '9_B5', '9_B6', '9_B7', '9_B8', '9_B8A', '9_B9', '9_B11', '9_B12', '10_B1', '10_B2', '10_B3', '10_B4', '10_B5', '10_B6', '10_B7', '10_B8', '10_B8A', '10_B9', '10_B11', '10_B12', '11_B1', '11_B2', '11_B3', '11_B4', '11_B5', '11_B6', '11_B7', '11_B8', '11_B8A', '11_B9', '11_B11', '11_B12']\n",
      "START EXPORTING FEATURES VECTORS OF A SINGLE FILE\n",
      "STOP EXPORTING: CHECK PROGRESS ON GOOGLE EARTH ENGINE - FILES ON DRIVE\n",
      "    *** End of exportation = Check progress on the Tasks tab at GEE ***\n"
     ]
    }
   ],
   "source": [
    "# import all the necessary libraries\n",
    "%run Manager.ipynb\n",
    "\n",
    "# Definition of Study area\n",
    "polygon = ee.Geometry.Polygon(\n",
    "              [[[33.14051796676924, 35.11082029560011],\n",
    "              [32.90980507614424, 35.07486329511283],\n",
    "              [32.96473671676924, 34.948889010363565]]])\n",
    "\n",
    "# Create a dictionary that holds the relevant plot information\n",
    "fieldData = {\n",
    "              \"csvfilename\"   : \"./samplePlots.csv\",\n",
    "              \"proj\"          :\"EPSG:3042\",\n",
    "              \"radius\"        :30,\n",
    "              \"xcol\"          :\"CX\",    \n",
    "              \"ycol\"          :\"CY\"\n",
    "       }\n",
    "\n",
    "# Specify the year of interest\n",
    "year = 2017\n",
    "\n",
    "# Create an instance of the Manager\n",
    "myManager = Manager(polygon,fieldData,year) \n",
    "\n",
    "# Adding Earth Observation Collections\n",
    "myManager.addCollection(\"sentinel-1\", True) \n",
    "myManager.addCollection(\"sentinel-2\", 50  ) \n",
    "\n",
    "#Definition and exportation of outputs\n",
    "myManager.exportFeatures(\"gdrivefolderTest1\", \"outfeaturevectors\")\t\n"
   ]
  }
 ],
 "metadata": {
  "kernelspec": {
   "display_name": "Python 3",
   "language": "python",
   "name": "python3"
  },
  "language_info": {
   "codemirror_mode": {
    "name": "ipython",
    "version": 3
   },
   "file_extension": ".py",
   "mimetype": "text/x-python",
   "name": "python",
   "nbconvert_exporter": "python",
   "pygments_lexer": "ipython3",
   "version": "3.11.1"
  },
  "orig_nbformat": 4
 },
 "nbformat": 4,
 "nbformat_minor": 2
}
