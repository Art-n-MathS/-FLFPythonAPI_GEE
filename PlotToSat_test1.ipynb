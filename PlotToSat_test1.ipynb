{
 "cells": [
  {
   "cell_type": "code",
   "execution_count": null,
   "metadata": {},
   "outputs": [],
   "source": [
    "# import all the necessary libraries\n",
    "%run PlotToSat.ipynb\n",
    "\n",
    "# Define study region\n",
    "polygon = ee.Geometry.Polygon(\n",
    "[[[-6.7820312500000135, 37.744682241748094],\n",
    "[-1.1570312500000135, 37.32651387565316],\n",
    "[0.1613281249999865, 42.25294129803316],\n",
    "[-7.3093750000000135, 43.349172765639516]]])\n",
    "\n",
    "# Create a dictionary that holds the relevant plot information\n",
    "fieldData = {\n",
    "       \"csvfilename\"         : r\"./samplePlots.csv\",\n",
    "       \"proj\"                : \"EPSG:3042\",\n",
    "       \"radius\"              : 30,\n",
    "       \"xcol\"                : \"CX\",    \n",
    "       \"ycol\"                : \"CY\",\n",
    "       \"outPlotFileWithIDs\"  : r\"plotsWithIDs\\SpainIDs_1.csv\"\n",
    "}\n",
    "\n",
    "# Specify the year of interest\n",
    "year = 2019\n",
    "\n",
    "# Create an instance of the Manager\n",
    "myPlotToSat = PlotToSat(polygon,fieldData,year) \n",
    "\n",
    "# Add Earth Observation Collections of interest\n",
    "myPlotToSat.addCollection(\"sentinel-1\", True) \n",
    "myPlotToSat.addCollection(\"sentinel-2\", 50  ) \n",
    "\n",
    "#Definition and exportation of outputs\n",
    "myPlotToSat.exportFeatures(\"folderSpain1\", \"outfeaturevectors\")\t\n"
   ]
  }
 ],
 "metadata": {
  "kernelspec": {
   "display_name": ".venv",
   "language": "python",
   "name": "python3"
  },
  "language_info": {
   "codemirror_mode": {
    "name": "ipython",
    "version": 3
   },
   "file_extension": ".py",
   "mimetype": "text/x-python",
   "name": "python",
   "nbconvert_exporter": "python",
   "pygments_lexer": "ipython3",
   "version": "3.12.6"
  },
  "orig_nbformat": 4
 },
 "nbformat": 4,
 "nbformat_minor": 2
}
