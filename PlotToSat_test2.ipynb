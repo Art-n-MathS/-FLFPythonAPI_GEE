{
 "cells": [
  {
   "cell_type": "code",
   "execution_count": 1,
   "metadata": {},
   "outputs": [
    {
     "name": "stdout",
     "output_type": "stream",
     "text": [
      "GEE already imported\n",
      "Utils imported\n",
      "Masks class imported\n",
      "GEE already imported\n",
      "Sentinel1 class imported\n",
      "Sentinel2b class imported\n",
      "GEE already imported\n",
      "Class fieldData imported\n",
      "Masks class imported\n",
      "Sentinel1:  2020-01-01 2020-12-31\n",
      "Sentinel2:  2020-01-01 2020-12-31\n",
      "./samplePlots.csv has been loaded\n"
     ]
    },
    {
     "ename": "Exception",
     "evalue": "Possibly both shp and csv are loading producing confusion",
     "output_type": "error",
     "traceback": [
      "\u001b[1;31m---------------------------------------------------------------------------\u001b[0m",
      "\u001b[1;31mException\u001b[0m                                 Traceback (most recent call last)",
      "Cell \u001b[1;32mIn[1], line 34\u001b[0m\n\u001b[0;32m     31\u001b[0m year \u001b[38;5;241m=\u001b[39m \u001b[38;5;241m2020\u001b[39m\n\u001b[0;32m     33\u001b[0m \u001b[38;5;66;03m# Create an instance of the PlotToSat class\u001b[39;00m\n\u001b[1;32m---> 34\u001b[0m myPlotToSat \u001b[38;5;241m=\u001b[39m \u001b[43mPlotToSat\u001b[49m\u001b[43m(\u001b[49m\u001b[43mpolygon\u001b[49m\u001b[43m,\u001b[49m\u001b[43mfieldData\u001b[49m\u001b[43m,\u001b[49m\u001b[43myear\u001b[49m\u001b[43m)\u001b[49m \n\u001b[0;32m     36\u001b[0m \u001b[38;5;66;03m# With this command you can see all the supported collections and the\u001b[39;00m\n\u001b[0;32m     37\u001b[0m \u001b[38;5;66;03m# associated labels needed for adding them into the PlotToSat instance\u001b[39;00m\n\u001b[0;32m     38\u001b[0m myPlotToSat\u001b[38;5;241m.\u001b[39mprintAvailableCollections()\n",
      "File \u001b[1;32m~\\AppData\\Local\\Temp\\ipykernel_13840\\738534171.py:134\u001b[0m, in \u001b[0;36mPlotToSat.__init__\u001b[1;34m(self, geometry, fieldDataProperties, year)\u001b[0m\n\u001b[0;32m    131\u001b[0m     \u001b[38;5;28mself\u001b[39m\u001b[38;5;241m.\u001b[39mfiledataFilewithIDs \u001b[38;5;241m=\u001b[39m fieldDataProperties[\u001b[38;5;124m'\u001b[39m\u001b[38;5;124moutPlotFileWithIDs\u001b[39m\u001b[38;5;124m'\u001b[39m] \n\u001b[0;32m    133\u001b[0m \u001b[38;5;28mself\u001b[39m\u001b[38;5;241m.\u001b[39msetYear(year)\n\u001b[1;32m--> 134\u001b[0m \u001b[38;5;28;43mself\u001b[39;49m\u001b[38;5;241;43m.\u001b[39;49m\u001b[43maddFieldData\u001b[49m\u001b[43m(\u001b[49m\u001b[43mfieldDataProperties\u001b[49m\u001b[43m)\u001b[49m\n\u001b[0;32m    136\u001b[0m \u001b[38;5;28;01mif\u001b[39;00m \u001b[38;5;124m\"\u001b[39m\u001b[38;5;124mshpfilename\u001b[39m\u001b[38;5;124m\"\u001b[39m \u001b[38;5;129;01min\u001b[39;00m fieldDataProperties:\n\u001b[0;32m    137\u001b[0m     \u001b[38;5;28mprint\u001b[39m(\u001b[38;5;124m\"\u001b[39m\u001b[38;5;124mShapefile is loaded\u001b[39m\u001b[38;5;124m\"\u001b[39m)\n",
      "File \u001b[1;32m~\\AppData\\Local\\Temp\\ipykernel_13840\\738534171.py:64\u001b[0m, in \u001b[0;36mPlotToSat.addFieldData\u001b[1;34m(self, properties)\u001b[0m\n\u001b[0;32m     61\u001b[0m \u001b[38;5;28;01mdef\u001b[39;00m \u001b[38;5;21maddFieldData\u001b[39m(\u001b[38;5;28mself\u001b[39m,properties): \u001b[38;5;66;03m# csvfile,proj,yearlabel):\u001b[39;00m\n\u001b[0;32m     63\u001b[0m     \u001b[38;5;28mself\u001b[39m\u001b[38;5;241m.\u001b[39mcsvDF \u001b[38;5;241m=\u001b[39m FieldData(properties)\n\u001b[1;32m---> 64\u001b[0m     \u001b[38;5;28mself\u001b[39m\u001b[38;5;241m.\u001b[39mmaxSize \u001b[38;5;241m=\u001b[39m \u001b[38;5;28;43mself\u001b[39;49m\u001b[38;5;241;43m.\u001b[39;49m\u001b[43mcsvDF\u001b[49m\u001b[38;5;241;43m.\u001b[39;49m\u001b[43mgetLen\u001b[49m\u001b[43m(\u001b[49m\u001b[43m)\u001b[49m\n",
      "File \u001b[1;32m~\\AppData\\Local\\Temp\\ipykernel_13840\\644450599.py:127\u001b[0m, in \u001b[0;36mFieldData.getLen\u001b[1;34m(self)\u001b[0m\n\u001b[0;32m    125\u001b[0m     \u001b[38;5;28;01mreturn\u001b[39;00m feature_count\n\u001b[0;32m    126\u001b[0m \u001b[38;5;28;01melse\u001b[39;00m : \n\u001b[1;32m--> 127\u001b[0m     \u001b[38;5;28;01mraise\u001b[39;00m \u001b[38;5;167;01mException\u001b[39;00m (\u001b[38;5;124m\"\u001b[39m\u001b[38;5;124mPossibly both shp and csv are loading producing confusion\u001b[39m\u001b[38;5;124m\"\u001b[39m)\n",
      "\u001b[1;31mException\u001b[0m: Possibly both shp and csv are loading producing confusion"
     ]
    }
   ],
   "source": [
    "# Include these lines and comment out \"ee.Authenticate()\" after the \n",
    "# first use to avoid authentication at each run.\n",
    "import ee\n",
    "ee.Authenticate()\n",
    "ee.Initialize()\n",
    "import sys\n",
    "        \n",
    "# import all the necessary libraries\n",
    "%run PlotToSat.ipynb\n",
    "        \n",
    "# By default recursion is 1000. By increasing it PloToSat can handle \n",
    "# more plot data at once but you are doing it at your own risk as\n",
    "# raising it too much could cause your personal computer to crash\n",
    "sys.setrecursionlimit(10000)\n",
    "        \n",
    "# Definition of Study area\n",
    "countries = ee.FeatureCollection('USDOS/LSIB_SIMPLE/2017')\n",
    "polygon = countries.filter(ee.Filter.eq('country_na', 'Spain'))\n",
    "        \n",
    "# Create a dictionary that holds the relevant plot information\n",
    "fieldData = {\n",
    "        \"csvfilename\"         : \"./samplePlots.csv\",\n",
    "        \"proj\"                : \"EPSG:3042\",\n",
    "        \"radius\"              : 25,\n",
    "        \"xcol\"                : \"CX\",    \n",
    "        \"ycol\"                : \"CY\",\n",
    "        \"outPlotFileWithIDs\"  : r\"plotsWithIDs\\SpainIDs_2.csv\"\n",
    "}\n",
    "        \n",
    "# Specify the year of interest\n",
    "year = 2020\n",
    "        \n",
    "# Create an instance of the PlotToSat class\n",
    "myPlotToSat = PlotToSat(polygon,fieldData,year) \n",
    "        \n",
    "# With this command you can see all the supported collections and the\n",
    "# associated labels needed for adding them into the PlotToSat instance\n",
    "myPlotToSat.printAvailableCollections()\n",
    "        \n",
    "# Example of defining the optional masks\n",
    "masks = {\n",
    "    \"gsw\"       : 30, \n",
    "    \"lmask\"     : 30, \n",
    "    \"forestMask\": {\n",
    "            \"buffer\"   :30, \n",
    "            \"startDate\":'2000-01-01', \n",
    "            \"endDate\"  :'2019-12-31'\n",
    "            }\n",
    "        } \n",
    "myPlotToSat.setMasks(masks)\n",
    "        \n",
    "# GEE limits processing of data, so PloToSat divides plots data into \n",
    "# groups. The default size of a group is 400 plots. A bigger number \n",
    "# produces less files to be merged and uses less GEE requests. But if \n",
    "# it is too big GEE returns an ERROR. So some testing is required here \n",
    "# to tune the sampling size. \n",
    "myPlotToSat.setSampling(300)\n",
    "        \n",
    "# Adding Earth Observation Collections\n",
    "myPlotToSat.addCollection(\"sentinel-1\", False) \n",
    "myPlotToSat.addCollection(\"sentinel-2\", 50  ) \n",
    "        \n",
    "# Definition and exportation of outputs\n",
    "myPlotToSat.exportFeatures(\"folderSpain2\", \"r25_2020\")  \n",
    "        \n",
    "# Command for re-running a subgroup of plots in case of time-out Errors\n",
    "myPlotToSat.exprtFeaturesMinMax(\"folderSpain2\",\"r25_2020\",300,600)   "
   ]
  }
 ],
 "metadata": {
  "kernelspec": {
   "display_name": "Python 3",
   "language": "python",
   "name": "python3"
  },
  "language_info": {
   "codemirror_mode": {
    "name": "ipython",
    "version": 3
   },
   "file_extension": ".py",
   "mimetype": "text/x-python",
   "name": "python",
   "nbconvert_exporter": "python",
   "pygments_lexer": "ipython3",
   "version": "3.12.6"
  },
  "orig_nbformat": 4
 },
 "nbformat": 4,
 "nbformat_minor": 2
}
