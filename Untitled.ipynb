{
 "cells": [
  {
   "cell_type": "code",
   "execution_count": 1,
   "id": "c292ce01",
   "metadata": {},
   "outputs": [],
   "source": [
    "import ee\n"
   ]
  },
  {
   "cell_type": "code",
   "execution_count": 2,
   "id": "52813ded",
   "metadata": {},
   "outputs": [
    {
     "data": {
      "text/html": [
       "<p>To authorize access needed by Earth Engine, open the following\n",
       "        URL in a web browser and follow the instructions:</p>\n",
       "        <p><a href=https://code.earthengine.google.com/client-auth?scopes=https%3A//www.googleapis.com/auth/earthengine%20https%3A//www.googleapis.com/auth/devstorage.full_control&request_id=ad9Gya3qYdswnybpzfgZDPtydCW0cu6V4MitdJZf3jY&tc=KsowXLlKqJao43cqyjvQHqq8Z6oHzx9VMNl0uPJoLE0&cc=qa_x2EJgjI09HwGvikDR0uX6MQZXRs2Xx2_p-TOPzRA>https://code.earthengine.google.com/client-auth?scopes=https%3A//www.googleapis.com/auth/earthengine%20https%3A//www.googleapis.com/auth/devstorage.full_control&request_id=ad9Gya3qYdswnybpzfgZDPtydCW0cu6V4MitdJZf3jY&tc=KsowXLlKqJao43cqyjvQHqq8Z6oHzx9VMNl0uPJoLE0&cc=qa_x2EJgjI09HwGvikDR0uX6MQZXRs2Xx2_p-TOPzRA</a></p>\n",
       "        <p>The authorization workflow will generate a code, which you should paste in the box below.</p>\n",
       "        "
      ],
      "text/plain": [
       "<IPython.core.display.HTML object>"
      ]
     },
     "metadata": {},
     "output_type": "display_data"
    },
    {
     "name": "stdout",
     "output_type": "stream",
     "text": [
      "Enter verification code: 4/1AWtgzh6Bj89E3XPreMSVn3bWMKRQ34Z1VhU9ytPlMomtYtS4BM1x_do5YBA\n",
      "\n",
      "Successfully saved authorization token.\n"
     ]
    }
   ],
   "source": [
    "ee.Authenticate()\n",
    "ee.Initialize()\n"
   ]
  },
  {
   "cell_type": "code",
   "execution_count": 3,
   "id": "159b1fb0",
   "metadata": {},
   "outputs": [
    {
     "name": "stdout",
     "output_type": "stream",
     "text": [
      "   ***   EXIT   ***\n"
     ]
    }
   ],
   "source": [
    "print (\"   ***   EXIT   ***\")"
   ]
  },
  {
   "cell_type": "code",
   "execution_count": null,
   "id": "d0c2763d",
   "metadata": {},
   "outputs": [],
   "source": []
  }
 ],
 "metadata": {
  "kernelspec": {
   "display_name": "Python 3",
   "language": "python",
   "name": "python3"
  },
  "language_info": {
   "codemirror_mode": {
    "name": "ipython",
    "version": 3
   },
   "file_extension": ".py",
   "mimetype": "text/x-python",
   "name": "python",
   "nbconvert_exporter": "python",
   "pygments_lexer": "ipython3",
   "version": "3.11.1"
  },
  "vscode": {
   "interpreter": {
    "hash": "cab1d7ef7b90e69a2393a883ac82077044fd5f1d4df4dae9ffefa7c49ee44033"
   }
  }
 },
 "nbformat": 4,
 "nbformat_minor": 5
}
