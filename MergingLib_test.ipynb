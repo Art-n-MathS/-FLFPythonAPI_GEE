{
 "cells": [
  {
   "cell_type": "code",
   "execution_count": 1,
   "metadata": {},
   "outputs": [],
   "source": [
    "\n",
    "\n",
    "%run MergingLib.ipynb\n"
   ]
  },
  {
   "cell_type": "code",
   "execution_count": 2,
   "metadata": {},
   "outputs": [
    {
     "name": "stdout",
     "output_type": "stream",
     "text": [
      "ListS1Mean 2      ListS2Mean  2      ListS1StdD  2      ListS2StdD  2\n",
      "Results are stored in  C:\\Users\\mm2705\\Downloads\\folderSpain2\\folderSpain2\\MergedCsvs\n"
     ]
    }
   ],
   "source": [
    "# Please change the pathname (directory and name of the folder) that contains the csv files downloade from your Drive\n",
    "# Please change the pathname of the variable \"fieldDataWithIdentifiers\" to be the same as the value of the key\n",
    "# \"outPlotFileWithIDs\" used when defining the plot related dictionary\n",
    "\n",
    "gdriveFolderDir = r\"C:\\Users\\mm2705\\Downloads\\folderSpain2\\folderSpain2\"\n",
    "#gdriveFolderDir = r\"C:\\Users\\mm2705\\Documents\\Cambridge\\Scripts\\SpainPlotToSatData\\gdrivefolderTest_Spain_r25_2018\"\n",
    "fieldDataWithIdentifiers = r\"plotsWithIDs\\FieldDataWithIdentifiersSpain.csv\"\n",
    "fieldDataWithIdentifiers = r\"plotsWithIDs\\SpainIDs_2.csv\"\n",
    "mergingTool = MergingLib(gdriveFolderDir,fieldDataWithIdentifiers)\n",
    "\n",
    "mergingTool.mergeAll()\n",
    "\n"
   ]
  },
  {
   "cell_type": "markdown",
   "metadata": {},
   "source": []
  }
 ],
 "metadata": {
  "kernelspec": {
   "display_name": "Python 3",
   "language": "python",
   "name": "python3"
  },
  "language_info": {
   "codemirror_mode": {
    "name": "ipython",
    "version": 3
   },
   "file_extension": ".py",
   "mimetype": "text/x-python",
   "name": "python",
   "nbconvert_exporter": "python",
   "pygments_lexer": "ipython3",
   "version": "3.11.1"
  },
  "orig_nbformat": 4
 },
 "nbformat": 4,
 "nbformat_minor": 2
}
