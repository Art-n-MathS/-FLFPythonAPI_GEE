{
 "cells": [
  {
   "cell_type": "code",
   "execution_count": null,
   "metadata": {},
   "outputs": [],
   "source": [
    "\n",
    "\n",
    "%run MergingLib.ipynb\n"
   ]
  },
  {
   "cell_type": "code",
   "execution_count": null,
   "metadata": {},
   "outputs": [],
   "source": [
    "# \"outPlotFileWithIDs\" used when defining the plot related dictionary\n",
    "\n",
    "gdriveFolderDir = r\"ResultsOfTestCases\\folderSpain1\"\n",
    "fieldDataWithIdentifiers = r\"plotsWithIDs\\SpainIDs_1.csv\"\n",
    "mergingTool = MergingLib(gdriveFolderDir,fieldDataWithIdentifiers)\n",
    "\n",
    "mergingTool.mergeAll()"
   ]
  },
  {
   "cell_type": "markdown",
   "metadata": {},
   "source": []
  }
 ],
 "metadata": {
  "kernelspec": {
   "display_name": "Python 3",
   "language": "python",
   "name": "python3"
  },
  "language_info": {
   "codemirror_mode": {
    "name": "ipython",
    "version": 3
   },
   "file_extension": ".py",
   "mimetype": "text/x-python",
   "name": "python",
   "nbconvert_exporter": "python",
   "pygments_lexer": "ipython3",
   "version": "3.13.0"
  },
  "orig_nbformat": 4
 },
 "nbformat": 4,
 "nbformat_minor": 2
}
