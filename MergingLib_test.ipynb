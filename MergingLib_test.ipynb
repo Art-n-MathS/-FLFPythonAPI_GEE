{
 "cells": [
  {
   "cell_type": "code",
   "execution_count": 1,
   "metadata": {},
   "outputs": [],
   "source": [
    "\n",
    "\n",
    "%run MergingLib.ipynb\n"
   ]
  },
  {
   "cell_type": "code",
   "execution_count": null,
   "metadata": {},
   "outputs": [
    {
     "name": "stdout",
     "output_type": "stream",
     "text": [
      "ListS1Mean 0     ListS2Mean  0      ListS1StdD  58      ListS2StdD  58\n",
      "WARNING: File  C:\\Users\\mm1397\\OneDrive - University of Exeter\\Documents\\Exeter\\Data\\ReprocessedNDVI\\Stds_25_50_100_2019\\folderSpain2_S1-2_2019_r50_std\\r50_2019_0000013800_0000014099_S1_stdD.csv  failed to be added to the merged file!\n",
      "WARNING: File  C:\\Users\\mm1397\\OneDrive - University of Exeter\\Documents\\Exeter\\Data\\ReprocessedNDVI\\Stds_25_50_100_2019\\folderSpain2_S1-2_2019_r50_std\\r50_2019_0000013800_0000014099_S2_stdD.csv  failed to be added to the merged file!\n"
     ]
    },
    {
     "ename": "Exception",
     "evalue": "ERROR: no data found. Both Sentinel-1 and Sentinel-2 lists are empty",
     "output_type": "error",
     "traceback": [
      "\u001b[1;31m---------------------------------------------------------------------------\u001b[0m",
      "\u001b[1;31mException\u001b[0m                                 Traceback (most recent call last)",
      "Cell \u001b[1;32mIn[4], line 7\u001b[0m\n\u001b[0;32m      5\u001b[0m gdriveFolderDir \u001b[38;5;241m=\u001b[39m \u001b[38;5;124mr\u001b[39m\u001b[38;5;124m\"\u001b[39m\u001b[38;5;124mC:\u001b[39m\u001b[38;5;124m\\\u001b[39m\u001b[38;5;124mUsers\u001b[39m\u001b[38;5;124m\\\u001b[39m\u001b[38;5;124mmm1397\u001b[39m\u001b[38;5;124m\\\u001b[39m\u001b[38;5;124mOneDrive - University of Exeter\u001b[39m\u001b[38;5;124m\\\u001b[39m\u001b[38;5;124mDocuments\u001b[39m\u001b[38;5;124m\\\u001b[39m\u001b[38;5;124mExeter\u001b[39m\u001b[38;5;124m\\\u001b[39m\u001b[38;5;124mData\u001b[39m\u001b[38;5;124m\\\u001b[39m\u001b[38;5;124mReprocessedNDVI\u001b[39m\u001b[38;5;124m\\\u001b[39m\u001b[38;5;124mStds_25_50_100_2019\u001b[39m\u001b[38;5;124m\\\u001b[39m\u001b[38;5;124mfolderSpain2_S1-2_2019_r50_std\u001b[39m\u001b[38;5;124m\"\u001b[39m\n\u001b[0;32m      6\u001b[0m fieldDataWithIdentifiers \u001b[38;5;241m=\u001b[39m \u001b[38;5;124mr\u001b[39m\u001b[38;5;124m\"\u001b[39m\u001b[38;5;124mplotsWithIDs\u001b[39m\u001b[38;5;124m\\\u001b[39m\u001b[38;5;124mSpainIDs_1.csv\u001b[39m\u001b[38;5;124m\"\u001b[39m\n\u001b[1;32m----> 7\u001b[0m \u001b[43mmergeAll\u001b[49m\u001b[43m(\u001b[49m\u001b[43mgdriveFolderDir\u001b[49m\u001b[43m,\u001b[49m\u001b[43mfieldDataWithIdentifiers\u001b[49m\u001b[43m)\u001b[49m\n",
      "File \u001b[1;32m~\\AppData\\Local\\Temp\\ipykernel_10376\\3734811248.py:151\u001b[0m, in \u001b[0;36mmergeAll\u001b[1;34m(nameOfCSVFolderDir, fieldDataWithIdentifiers)\u001b[0m\n\u001b[0;32m    149\u001b[0m     firstItem\u001b[38;5;241m=\u001b[39mListS2Mean[\u001b[38;5;241m0\u001b[39m]\n\u001b[0;32m    150\u001b[0m \u001b[38;5;28;01melse\u001b[39;00m :\n\u001b[1;32m--> 151\u001b[0m     \u001b[38;5;28;01mraise\u001b[39;00m \u001b[38;5;167;01mException\u001b[39;00m (\u001b[38;5;124m\"\u001b[39m\u001b[38;5;124mERROR: no data found. Both Sentinel-1 and Sentinel-2 lists are empty\u001b[39m\u001b[38;5;124m\"\u001b[39m)\n\u001b[0;32m    152\u001b[0m fileNames \u001b[38;5;241m=\u001b[39m firstItem[\u001b[38;5;241m0\u001b[39m:\u001b[38;5;28mlen\u001b[39m(firstItem)\u001b[38;5;241m-\u001b[39m\u001b[38;5;241m34\u001b[39m] \n\u001b[0;32m    153\u001b[0m head, fileNames \u001b[38;5;241m=\u001b[39m os\u001b[38;5;241m.\u001b[39mpath\u001b[38;5;241m.\u001b[39msplit(fileNames)\n",
      "\u001b[1;31mException\u001b[0m: ERROR: no data found. Both Sentinel-1 and Sentinel-2 lists are empty"
     ]
    }
   ],
   "source": [
    "\n",
    "# Please change the pathname (directory and name of the folder) that contains the csv files downloade from your Drive\n",
    "# Please change the pathname of the variable \"fieldDataWithIdentifiers\" to be the same as the value of the key\n",
    "# \"outPlotFileWithIDs\" used when defining the plot related dictionary\n",
    "\n",
    "gdriveFolderDir = r\"C:\\Users\\mm1397\\OneDrive - University of Exeter\\Documents\\Exeter\\Data\\ReprocessedNDVI\\Stds_25_50_100_2019\\folderSpain2_S1-2_2019_r100_std\"\n",
    "fieldDataWithIdentifiers = r\"plotsWithIDs\\SpainIDs_1.csv\"\n",
    "mergeAll(gdriveFolderDir,fieldDataWithIdentifiers)\n",
    "\n",
    "\n",
    "\n",
    "\n"
   ]
  },
  {
   "cell_type": "markdown",
   "metadata": {},
   "source": []
  }
 ],
 "metadata": {
  "kernelspec": {
   "display_name": "Python 3",
   "language": "python",
   "name": "python3"
  },
  "language_info": {
   "codemirror_mode": {
    "name": "ipython",
    "version": 3
   },
   "file_extension": ".py",
   "mimetype": "text/x-python",
   "name": "python",
   "nbconvert_exporter": "python",
   "pygments_lexer": "ipython3",
   "version": "3.13.0"
  },
  "orig_nbformat": 4
 },
 "nbformat": 4,
 "nbformat_minor": 2
}
