{
 "cells": [
  {
   "cell_type": "code",
   "execution_count": 1,
   "metadata": {},
   "outputs": [
    {
     "name": "stdout",
     "output_type": "stream",
     "text": [
      "Importing GEE\n",
      "Utils imported\n",
      "Masks class imported\n",
      "GEE already imported\n",
      "Sentinel1 class imported\n",
      "Sentinel2b class imported\n",
      "GEE already imported\n",
      "Class fieldData imported\n",
      "Masks class imported\n",
      "GEE already imported\n"
     ]
    }
   ],
   "source": [
    "\n",
    "\n",
    "%run MergingLib.ipynb\n"
   ]
  },
  {
   "cell_type": "code",
   "execution_count": null,
   "metadata": {},
   "outputs": [
    {
     "ename": "TypeError",
     "evalue": "PlotToSat.__init__() missing 2 required positional arguments: 'fieldDataProperties' and 'year'",
     "output_type": "error",
     "traceback": [
      "\u001b[1;31m---------------------------------------------------------------------------\u001b[0m",
      "\u001b[1;31mTypeError\u001b[0m                                 Traceback (most recent call last)",
      "Cell \u001b[1;32mIn[2], line 7\u001b[0m\n\u001b[0;32m      5\u001b[0m gdriveFolderDir \u001b[38;5;241m=\u001b[39m \u001b[38;5;124mr\u001b[39m\u001b[38;5;124m\"\u001b[39m\u001b[38;5;124mC:\u001b[39m\u001b[38;5;124m\\\u001b[39m\u001b[38;5;124mUsers\u001b[39m\u001b[38;5;124m\\\u001b[39m\u001b[38;5;124mmm1397\u001b[39m\u001b[38;5;124m\\\u001b[39m\u001b[38;5;124mDownloads\u001b[39m\u001b[38;5;124m\\\u001b[39m\u001b[38;5;124mfolderSpain1-20250102T134552Z-001\u001b[39m\u001b[38;5;124m\\\u001b[39m\u001b[38;5;124mfolderSpain1\u001b[39m\u001b[38;5;124m\"\u001b[39m\n\u001b[0;32m      6\u001b[0m fieldDataWithIdentifiers \u001b[38;5;241m=\u001b[39m \u001b[38;5;124mr\u001b[39m\u001b[38;5;124m\"\u001b[39m\u001b[38;5;124mplotsWithIDs\u001b[39m\u001b[38;5;124m\\\u001b[39m\u001b[38;5;124mSpainIDs_1.csv\u001b[39m\u001b[38;5;124m\"\u001b[39m\n\u001b[1;32m----> 7\u001b[0m mergingTool \u001b[38;5;241m=\u001b[39m \u001b[43mMergingLib\u001b[49m\u001b[43m(\u001b[49m\u001b[43mgdriveFolderDir\u001b[49m\u001b[43m,\u001b[49m\u001b[43mfieldDataWithIdentifiers\u001b[49m\u001b[43m)\u001b[49m\n\u001b[0;32m      9\u001b[0m mergingTool\u001b[38;5;241m.\u001b[39mmergeAll()\n",
      "File \u001b[1;32m~\\AppData\\Local\\Temp\\ipykernel_9940\\666318940.py:9\u001b[0m, in \u001b[0;36mMergingLib.__init__\u001b[1;34m(self, nameOfCSVFolderDir, fieldDataWithIdentifiers)\u001b[0m\n\u001b[0;32m      8\u001b[0m \u001b[38;5;28;01mdef\u001b[39;00m \u001b[38;5;21m__init__\u001b[39m(\u001b[38;5;28mself\u001b[39m,nameOfCSVFolderDir,fieldDataWithIdentifiers):\n\u001b[1;32m----> 9\u001b[0m     \u001b[38;5;28mself\u001b[39m\u001b[38;5;241m.\u001b[39mplotsStd \u001b[38;5;241m=\u001b[39m \u001b[43mPlotToSat\u001b[49m\u001b[43m(\u001b[49m\u001b[43mfieldDataWithIdentifiers\u001b[49m\u001b[43m)\u001b[49m\n\u001b[0;32m     10\u001b[0m     \u001b[38;5;28mself\u001b[39m\u001b[38;5;241m.\u001b[39mplotsMean \u001b[38;5;241m=\u001b[39m PlotToSat(fieldDataWithIdentifiers)\n\u001b[0;32m     11\u001b[0m     \u001b[38;5;28mself\u001b[39m\u001b[38;5;241m.\u001b[39mnameOfCSVFolderDir \u001b[38;5;241m=\u001b[39m nameOfCSVFolderDir\n",
      "\u001b[1;31mTypeError\u001b[0m: PlotToSat.__init__() missing 2 required positional arguments: 'fieldDataProperties' and 'year'"
     ]
    }
   ],
   "source": [
    "# \"outPlotFileWithIDs\" used when defining the plot related dictionary\n",
    "\n",
    "gdriveFolderDir = r\"C:\\Users\\mm2705\\Downloads\\folderSpain1a\"\n",
    "fieldDataWithIdentifiers = r\"plotsWithIDs\\SpainIDs_1.csv\"\n",
    "mergingTool = MergingLib(gdriveFolderDir,fieldDataWithIdentifiers)\n",
    "\n",
    "mergingTool.mergeAll()"
   ]
  },
  {
   "cell_type": "markdown",
   "metadata": {},
   "source": []
  }
 ],
 "metadata": {
  "kernelspec": {
   "display_name": "Python 3",
   "language": "python",
   "name": "python3"
  },
  "language_info": {
   "codemirror_mode": {
    "name": "ipython",
    "version": 3
   },
   "file_extension": ".py",
   "mimetype": "text/x-python",
   "name": "python",
   "nbconvert_exporter": "python",
   "pygments_lexer": "ipython3",
   "version": "3.13.0"
  },
  "orig_nbformat": 4
 },
 "nbformat": 4,
 "nbformat_minor": 2
}
