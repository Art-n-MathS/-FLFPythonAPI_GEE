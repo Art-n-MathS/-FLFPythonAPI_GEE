{
 "cells": [
  {
   "cell_type": "code",
   "execution_count": 1,
   "metadata": {},
   "outputs": [],
   "source": [
    "\n",
    "\n",
    "%run MergingLib.ipynb\n"
   ]
  },
  {
   "cell_type": "code",
   "execution_count": 2,
   "metadata": {},
   "outputs": [
    {
     "name": "stdout",
     "output_type": "stream",
     "text": [
      "MergedCsvs Exist. Deleting all of its content!\n",
      "ListS1Mean 3      ListS2Mean  3      ListS1StdD  3      ListS2StdD  3\n",
      "C:\\Users\\mm2705\\Documents\\Cambridge\\Scripts\\SpainPlotToSatData\\test\\gdrivefolderTest_plot_Spain_r25_2018_0000000000_0000000299_S1_mean.csv\n",
      "['system:index', '.geo']\n",
      "unwantedIndex  [0, 50]\n",
      "index_list  [68, 69, 70, 71, 72, 73, 74, 75, 76, 77, 78, 79, 80, 81, 82, 83, 84, 85, 86, 87, 88, 89, 90, 91, 92, 93, 94, 95, 96, 97, 98, 99, 100, 101, 102, 103, 104, 105, 106, 107, 108, 109, 110, 111, 112, 113, 114, 115, 67]\n",
      "['', 'index', 'No', 'PLOTCODE', 'CX', 'CY', 'IDPC', 'provincia', 'year2', 'year3', 'year4', 'year32', 'year43', 'Cut32', 'Cut34', 'ba_ha2', 'ba_ha3', 'ba_ha4', 'dens2', 'dens3', 'dens4', 'mdbh2', 'mdbh3', 'mdbh4', 'sddbh2', 'sddbh3', 'sddbh4', 'AB32vivo', 'AB43vivo', 'AB3muertosc', 'AB3muertopresente', 'AB3muertoausente', 'AB2muertosc', 'AB2muertopresente', 'AB2muertoausente', 'ABreclutado43', 'ABreclutado32', 'ba2_Mgha', 'br2_Mgha', 'ca2_Mgha', 'cr2_Mgha', 'ba3_Mgha', 'br3_Mgha', 'ca3_Mgha', 'cr3_Mgha', 'ba4_Mgha', 'br4_Mgha', 'ca4_Mgha', 'cr4_Mgha', 'ba32_Mgha', 'br32_Mgha', 'ca32_Mgha', 'cr32_Mgha', 'ba43_Mgha', 'br43_Mgha', 'ca43_Mgha', 'cr43_Mgha', 'fortype2', 'forsp2', 'pnulo3', 'pbajo3', 'pmedio3', 'palto3', 'pnulo4', 'pbajo4', 'pmedio4', 'palto4', 'indexField', '0_VHAsc', '0_VHDes', '0_VVAsc', '0_VVDes', '10_VHAsc', '10_VHDes', '10_VVAsc', '10_VVDes', '11_VHAsc', '11_VHDes', '11_VVAsc', '11_VVDes', '1_VHAsc', '1_VHDes', '1_VVAsc', '1_VVDes', '2_VHAsc', '2_VHDes', '2_VVAsc', '2_VVDes', '3_VHAsc', '3_VHDes', '3_VVAsc', '3_VVDes', '4_VHAsc', '4_VHDes', '4_VVAsc', '4_VVDes', '5_VHAsc', '5_VHDes', '5_VVAsc', '5_VVDes', '6_VHAsc', '6_VHDes', '6_VVAsc', '6_VVDes', '7_VHAsc', '7_VHDes', '7_VVAsc', '7_VVDes', '8_VHAsc', '8_VHDes', '8_VVAsc', '8_VVDes', '9_VHAsc', '9_VHDes', '9_VVAsc', '9_VVDes']\n",
      "['system:index', '0_VHAsc', '0_VHDes', '0_VVAsc', '0_VVDes', '10_VHAsc', '10_VHDes', '10_VVAsc', '10_VVDes', '11_VHAsc', '11_VHDes', '11_VVAsc', '11_VVDes', '1_VHAsc', '1_VHDes', '1_VVAsc', '1_VVDes', '2_VHAsc', '2_VHDes', '2_VVAsc', '2_VVDes', '3_VHAsc', '3_VHDes', '3_VVAsc', '3_VVDes', '4_VHAsc', '4_VHDes', '4_VVAsc', '4_VVDes', '5_VHAsc', '5_VHDes', '5_VVAsc', '5_VVDes', '6_VHAsc', '6_VHDes', '6_VVAsc', '6_VVDes', '7_VHAsc', '7_VHDes', '7_VVAsc', '7_VVDes', '8_VHAsc', '8_VHDes', '8_VVAsc', '8_VVDes', '9_VHAsc', '9_VHDes', '9_VVAsc', '9_VVDes', 'indexField', '.geo']\n",
      "67 ['system:index', '0_VHAsc', '0_VHDes', '0_VVAsc', '0_VVDes', '10_VHAsc', '10_VHDes', '10_VVAsc', '10_VVDes', '11_VHAsc', '11_VHDes', '11_VVAsc', '11_VVDes', '1_VHAsc', '1_VHDes', '1_VVAsc', '1_VVDes', '2_VHAsc', '2_VHDes', '2_VVAsc', '2_VVDes', '3_VHAsc', '3_VHDes', '3_VVAsc', '3_VVDes', '4_VHAsc', '4_VHDes', '4_VVAsc', '4_VVDes', '5_VHAsc', '5_VHDes', '5_VVAsc', '5_VVDes', '6_VHAsc', '6_VHDes', '6_VVAsc', '6_VVDes', '7_VHAsc', '7_VHDes', '7_VVAsc', '7_VVDes', '8_VHAsc', '8_VHDes', '8_VVAsc', '8_VVDes', '9_VHAsc', '9_VHDes', '9_VVAsc', '9_VVDes', 'indexField', '.geo']\n",
      "C:\\Users\\mm2705\\Documents\\Cambridge\\Scripts\\SpainPlotToSatData\\test\\gdrivefolderTest_plot_Spain_r25_2018_0000000300_0000000599_S1_mean.csv\n",
      "['system:index', '.geo']\n",
      "unwantedIndex  [0, 50]\n",
      "index_list  [68, 69, 70, 71, 72, 73, 74, 75, 76, 77, 78, 79, 80, 81, 82, 83, 84, 85, 86, 87, 88, 89, 90, 91, 92, 93, 94, 95, 96, 97, 98, 99, 100, 101, 102, 103, 104, 105, 106, 107, 108, 109, 110, 111, 112, 113, 114, 115, 67]\n",
      "['', 'index', 'No', 'PLOTCODE', 'CX', 'CY', 'IDPC', 'provincia', 'year2', 'year3', 'year4', 'year32', 'year43', 'Cut32', 'Cut34', 'ba_ha2', 'ba_ha3', 'ba_ha4', 'dens2', 'dens3', 'dens4', 'mdbh2', 'mdbh3', 'mdbh4', 'sddbh2', 'sddbh3', 'sddbh4', 'AB32vivo', 'AB43vivo', 'AB3muertosc', 'AB3muertopresente', 'AB3muertoausente', 'AB2muertosc', 'AB2muertopresente', 'AB2muertoausente', 'ABreclutado43', 'ABreclutado32', 'ba2_Mgha', 'br2_Mgha', 'ca2_Mgha', 'cr2_Mgha', 'ba3_Mgha', 'br3_Mgha', 'ca3_Mgha', 'cr3_Mgha', 'ba4_Mgha', 'br4_Mgha', 'ca4_Mgha', 'cr4_Mgha', 'ba32_Mgha', 'br32_Mgha', 'ca32_Mgha', 'cr32_Mgha', 'ba43_Mgha', 'br43_Mgha', 'ca43_Mgha', 'cr43_Mgha', 'fortype2', 'forsp2', 'pnulo3', 'pbajo3', 'pmedio3', 'palto3', 'pnulo4', 'pbajo4', 'pmedio4', 'palto4', 'indexField', '0_VHAsc', '0_VHDes', '0_VVAsc', '0_VVDes', '10_VHAsc', '10_VHDes', '10_VVAsc', '10_VVDes', '11_VHAsc', '11_VHDes', '11_VVAsc', '11_VVDes', '1_VHAsc', '1_VHDes', '1_VVAsc', '1_VVDes', '2_VHAsc', '2_VHDes', '2_VVAsc', '2_VVDes', '3_VHAsc', '3_VHDes', '3_VVAsc', '3_VVDes', '4_VHAsc', '4_VHDes', '4_VVAsc', '4_VVDes', '5_VHAsc', '5_VHDes', '5_VVAsc', '5_VVDes', '6_VHAsc', '6_VHDes', '6_VVAsc', '6_VVDes', '7_VHAsc', '7_VHDes', '7_VVAsc', '7_VVDes', '8_VHAsc', '8_VHDes', '8_VVAsc', '8_VVDes', '9_VHAsc', '9_VHDes', '9_VVAsc', '9_VVDes']\n",
      "['system:index', '0_VHAsc', '0_VHDes', '0_VVAsc', '0_VVDes', '10_VHAsc', '10_VHDes', '10_VVAsc', '10_VVDes', '11_VHAsc', '11_VHDes', '11_VVAsc', '11_VVDes', '1_VHAsc', '1_VHDes', '1_VVAsc', '1_VVDes', '2_VHAsc', '2_VHDes', '2_VVAsc', '2_VVDes', '3_VHAsc', '3_VHDes', '3_VVAsc', '3_VVDes', '4_VHAsc', '4_VHDes', '4_VVAsc', '4_VVDes', '5_VHAsc', '5_VHDes', '5_VVAsc', '5_VVDes', '6_VHAsc', '6_VHDes', '6_VVAsc', '6_VVDes', '7_VHAsc', '7_VHDes', '7_VVAsc', '7_VVDes', '8_VHAsc', '8_VHDes', '8_VVAsc', '8_VVDes', '9_VHAsc', '9_VHDes', '9_VVAsc', '9_VVDes', 'indexField', '.geo']\n",
      "67 ['system:index', '0_VHAsc', '0_VHDes', '0_VVAsc', '0_VVDes', '10_VHAsc', '10_VHDes', '10_VVAsc', '10_VVDes', '11_VHAsc', '11_VHDes', '11_VVAsc', '11_VVDes', '1_VHAsc', '1_VHDes', '1_VVAsc', '1_VVDes', '2_VHAsc', '2_VHDes', '2_VVAsc', '2_VVDes', '3_VHAsc', '3_VHDes', '3_VVAsc', '3_VVDes', '4_VHAsc', '4_VHDes', '4_VVAsc', '4_VVDes', '5_VHAsc', '5_VHDes', '5_VVAsc', '5_VVDes', '6_VHAsc', '6_VHDes', '6_VVAsc', '6_VVDes', '7_VHAsc', '7_VHDes', '7_VVAsc', '7_VVDes', '8_VHAsc', '8_VHDes', '8_VVAsc', '8_VVDes', '9_VHAsc', '9_VHDes', '9_VVAsc', '9_VVDes', 'indexField', '.geo']\n",
      "C:\\Users\\mm2705\\Documents\\Cambridge\\Scripts\\SpainPlotToSatData\\test\\gdrivefolderTest_plot_Spain_r25_2018_0000000600_0000000899_S1_mean.csv\n",
      "['system:index', '.geo']\n",
      "unwantedIndex  [0, 50]\n",
      "index_list  [68, 69, 70, 71, 72, 73, 74, 75, 76, 77, 78, 79, 80, 81, 82, 83, 84, 85, 86, 87, 88, 89, 90, 91, 92, 93, 94, 95, 96, 97, 98, 99, 100, 101, 102, 103, 104, 105, 106, 107, 108, 109, 110, 111, 112, 113, 114, 115, 67]\n",
      "['', 'index', 'No', 'PLOTCODE', 'CX', 'CY', 'IDPC', 'provincia', 'year2', 'year3', 'year4', 'year32', 'year43', 'Cut32', 'Cut34', 'ba_ha2', 'ba_ha3', 'ba_ha4', 'dens2', 'dens3', 'dens4', 'mdbh2', 'mdbh3', 'mdbh4', 'sddbh2', 'sddbh3', 'sddbh4', 'AB32vivo', 'AB43vivo', 'AB3muertosc', 'AB3muertopresente', 'AB3muertoausente', 'AB2muertosc', 'AB2muertopresente', 'AB2muertoausente', 'ABreclutado43', 'ABreclutado32', 'ba2_Mgha', 'br2_Mgha', 'ca2_Mgha', 'cr2_Mgha', 'ba3_Mgha', 'br3_Mgha', 'ca3_Mgha', 'cr3_Mgha', 'ba4_Mgha', 'br4_Mgha', 'ca4_Mgha', 'cr4_Mgha', 'ba32_Mgha', 'br32_Mgha', 'ca32_Mgha', 'cr32_Mgha', 'ba43_Mgha', 'br43_Mgha', 'ca43_Mgha', 'cr43_Mgha', 'fortype2', 'forsp2', 'pnulo3', 'pbajo3', 'pmedio3', 'palto3', 'pnulo4', 'pbajo4', 'pmedio4', 'palto4', 'indexField', '0_VHAsc', '0_VHDes', '0_VVAsc', '0_VVDes', '10_VHAsc', '10_VHDes', '10_VVAsc', '10_VVDes', '11_VHAsc', '11_VHDes', '11_VVAsc', '11_VVDes', '1_VHAsc', '1_VHDes', '1_VVAsc', '1_VVDes', '2_VHAsc', '2_VHDes', '2_VVAsc', '2_VVDes', '3_VHAsc', '3_VHDes', '3_VVAsc', '3_VVDes', '4_VHAsc', '4_VHDes', '4_VVAsc', '4_VVDes', '5_VHAsc', '5_VHDes', '5_VVAsc', '5_VVDes', '6_VHAsc', '6_VHDes', '6_VVAsc', '6_VVDes', '7_VHAsc', '7_VHDes', '7_VVAsc', '7_VVDes', '8_VHAsc', '8_VHDes', '8_VVAsc', '8_VVDes', '9_VHAsc', '9_VHDes', '9_VVAsc', '9_VVDes']\n",
      "['system:index', '0_VHAsc', '0_VHDes', '0_VVAsc', '0_VVDes', '10_VHAsc', '10_VHDes', '10_VVAsc', '10_VVDes', '11_VHAsc', '11_VHDes', '11_VVAsc', '11_VVDes', '1_VHAsc', '1_VHDes', '1_VVAsc', '1_VVDes', '2_VHAsc', '2_VHDes', '2_VVAsc', '2_VVDes', '3_VHAsc', '3_VHDes', '3_VVAsc', '3_VVDes', '4_VHAsc', '4_VHDes', '4_VVAsc', '4_VVDes', '5_VHAsc', '5_VHDes', '5_VVAsc', '5_VVDes', '6_VHAsc', '6_VHDes', '6_VVAsc', '6_VVDes', '7_VHAsc', '7_VHDes', '7_VVAsc', '7_VVDes', '8_VHAsc', '8_VHDes', '8_VVAsc', '8_VVDes', '9_VHAsc', '9_VHDes', '9_VVAsc', '9_VVDes', 'indexField', '.geo']\n",
      "67 ['system:index', '0_VHAsc', '0_VHDes', '0_VVAsc', '0_VVDes', '10_VHAsc', '10_VHDes', '10_VVAsc', '10_VVDes', '11_VHAsc', '11_VHDes', '11_VVAsc', '11_VVDes', '1_VHAsc', '1_VHDes', '1_VVAsc', '1_VVDes', '2_VHAsc', '2_VHDes', '2_VVAsc', '2_VVDes', '3_VHAsc', '3_VHDes', '3_VVAsc', '3_VVDes', '4_VHAsc', '4_VHDes', '4_VVAsc', '4_VVDes', '5_VHAsc', '5_VHDes', '5_VVAsc', '5_VVDes', '6_VHAsc', '6_VHDes', '6_VVAsc', '6_VVDes', '7_VHAsc', '7_VHDes', '7_VVAsc', '7_VVDes', '8_VHAsc', '8_VHDes', '8_VVAsc', '8_VVDes', '9_VHAsc', '9_VHDes', '9_VVAsc', '9_VVDes', 'indexField', '.geo']\n",
      "***\n",
      "\n",
      "['', 'index', 'No', 'PLOTCODE', 'CX', 'CY', 'IDPC', 'provincia', 'year2', 'year3', 'year4', 'year32', 'year43', 'Cut32', 'Cut34', 'ba_ha2', 'ba_ha3', 'ba_ha4', 'dens2', 'dens3', 'dens4', 'mdbh2', 'mdbh3', 'mdbh4', 'sddbh2', 'sddbh3', 'sddbh4', 'AB32vivo', 'AB43vivo', 'AB3muertosc', 'AB3muertopresente', 'AB3muertoausente', 'AB2muertosc', 'AB2muertopresente', 'AB2muertoausente', 'ABreclutado43', 'ABreclutado32', 'ba2_Mgha', 'br2_Mgha', 'ca2_Mgha', 'cr2_Mgha', 'ba3_Mgha', 'br3_Mgha', 'ca3_Mgha', 'cr3_Mgha', 'ba4_Mgha', 'br4_Mgha', 'ca4_Mgha', 'cr4_Mgha', 'ba32_Mgha', 'br32_Mgha', 'ca32_Mgha', 'cr32_Mgha', 'ba43_Mgha', 'br43_Mgha', 'ca43_Mgha', 'cr43_Mgha', 'fortype2', 'forsp2', 'pnulo3', 'pbajo3', 'pmedio3', 'palto3', 'pnulo4', 'pbajo4', 'pmedio4', 'palto4', 'indexField', '0_VHAsc', '0_VHDes', '0_VVAsc', '0_VVDes', '10_VHAsc', '10_VHDes', '10_VVAsc', '10_VVDes', '11_VHAsc', '11_VHDes', '11_VVAsc', '11_VVDes', '1_VHAsc', '1_VHDes', '1_VVAsc', '1_VVDes', '2_VHAsc', '2_VHDes', '2_VVAsc', '2_VVDes', '3_VHAsc', '3_VHDes', '3_VVAsc', '3_VVDes', '4_VHAsc', '4_VHDes', '4_VVAsc', '4_VVDes', '5_VHAsc', '5_VHDes', '5_VVAsc', '5_VVDes', '6_VHAsc', '6_VHDes', '6_VVAsc', '6_VVDes', '7_VHAsc', '7_VHDes', '7_VVAsc', '7_VVDes', '8_VHAsc', '8_VHDes', '8_VVAsc', '8_VVDes', '9_VHAsc', '9_VHDes', '9_VVAsc', '9_VVDes']\n",
      "***\n",
      "\n",
      "['', 'index', 'No', 'PLOTCODE', 'CX', 'CY', 'IDPC', 'provincia', 'year2', 'year3', 'year4', 'year32', 'year43', 'Cut32', 'Cut34', 'ba_ha2', 'ba_ha3', 'ba_ha4', 'dens2', 'dens3', 'dens4', 'mdbh2', 'mdbh3', 'mdbh4', 'sddbh2', 'sddbh3', 'sddbh4', 'AB32vivo', 'AB43vivo', 'AB3muertosc', 'AB3muertopresente', 'AB3muertoausente', 'AB2muertosc', 'AB2muertopresente', 'AB2muertoausente', 'ABreclutado43', 'ABreclutado32', 'ba2_Mgha', 'br2_Mgha', 'ca2_Mgha', 'cr2_Mgha', 'ba3_Mgha', 'br3_Mgha', 'ca3_Mgha', 'cr3_Mgha', 'ba4_Mgha', 'br4_Mgha', 'ca4_Mgha', 'cr4_Mgha', 'ba32_Mgha', 'br32_Mgha', 'ca32_Mgha', 'cr32_Mgha', 'ba43_Mgha', 'br43_Mgha', 'ca43_Mgha', 'cr43_Mgha', 'fortype2', 'forsp2', 'pnulo3', 'pbajo3', 'pmedio3', 'palto3', 'pnulo4', 'pbajo4', 'pmedio4', 'palto4', 'indexField']\n",
      "Results are stored in  C:\\Users\\mm2705\\Documents\\Cambridge\\Scripts\\SpainPlotToSatData\\test\\MergedCsvs\n"
     ]
    }
   ],
   "source": [
    "# Please change the pathname (directory and name of the folder) that contains the csv files downloade from your Drive\n",
    "# Please change the pathname of the variable \"fieldDataWithIdentifiers\" to be the same as the value of the key\n",
    "# \"outPlotFileWithIDs\" used when defining the plot related dictionary\n",
    "\n",
    "gdriveFolderDir = r\"C:\\Users\\mm2705\\Documents\\Cambridge\\Scripts\\SpainPlotToSatData\\test\"\n",
    "fieldDataWithIdentifiers = r\"plotsWithIDs\\FieldDataWithIdentifiersSpain.csv\"\n",
    "mergingTool = MergingLib(gdriveFolderDir,fieldDataWithIdentifiers)\n",
    "\n",
    "mergingTool.mergeAll()\n",
    "\n"
   ]
  }
 ],
 "metadata": {
  "kernelspec": {
   "display_name": "Python 3",
   "language": "python",
   "name": "python3"
  },
  "language_info": {
   "codemirror_mode": {
    "name": "ipython",
    "version": 3
   },
   "file_extension": ".py",
   "mimetype": "text/x-python",
   "name": "python",
   "nbconvert_exporter": "python",
   "pygments_lexer": "ipython3",
   "version": "3.11.1"
  },
  "orig_nbformat": 4
 },
 "nbformat": 4,
 "nbformat_minor": 2
}
