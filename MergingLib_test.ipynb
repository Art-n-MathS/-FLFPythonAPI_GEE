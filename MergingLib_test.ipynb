{
 "cells": [
  {
   "cell_type": "code",
   "execution_count": 12,
   "metadata": {},
   "outputs": [],
   "source": [
    "\n",
    "\n",
    "%run MergingLib.ipynb\n"
   ]
  },
  {
   "cell_type": "code",
   "execution_count": 13,
   "metadata": {},
   "outputs": [
    {
     "name": "stdout",
     "output_type": "stream",
     "text": [
      "MergedCsvs Exist. Deleting all of its content!\n",
      "WARNING:  C:\\Users\\mm2705\\Downloads\\folderSpain1a\\outfeaturevectors_0000000000_0000000399_S1Asc_mean(1).csv  is ignored since it is not recognised as an output of the system\n",
      "WARNING:  C:\\Users\\mm2705\\Downloads\\folderSpain1a\\outfeaturevectors_0000000000_0000000399_S1Asc_stdD(1).csv  is ignored since it is not recognised as an output of the system\n",
      "WARNING:  C:\\Users\\mm2705\\Downloads\\folderSpain1a\\outfeaturevectors_0000000000_0000000399_S1Des_mean(1).csv  is ignored since it is not recognised as an output of the system\n",
      "WARNING:  C:\\Users\\mm2705\\Downloads\\folderSpain1a\\outfeaturevectors_0000000000_0000000399_S1Des_stdD(1).csv  is ignored since it is not recognised as an output of the system\n",
      "WARNING:  C:\\Users\\mm2705\\Downloads\\folderSpain1a\\outfeaturevectors_0000000400_0000000799_S1Asc_mean(1).csv  is ignored since it is not recognised as an output of the system\n",
      "ListS1Mean  0     ListS2Mean  0     ListS2MeanAsc  2     ListS1MeanDes  2 \n",
      "ListS1StdD  0     ListS2StdD  0     ListS1StdDAsc  2     ListS1StdDDes  2\n",
      "Results are stored in  C:\\Users\\mm2705\\Downloads\\folderSpain1a\\MergedCsvs\n"
     ]
    }
   ],
   "source": [
    "# Please change the pathname (directory and name of the folder) that contains the csv files downloade from your Drive\n",
    "# Please change the pathname of the variable \"fieldDataWithIdentifiers\" to be the same as the value of the key\n",
    "# \"outPlotFileWithIDs\" used when defining the plot related dictionary\n",
    "\n",
    "gdriveFolderDir = r\"C:\\Users\\mm2705\\Downloads\\folderSpain1a\"\n",
    "fieldDataWithIdentifiers = r\"plotsWithIDs\\SpainIDs_1.csv\"\n",
    "mergingTool = MergingLib(gdriveFolderDir,fieldDataWithIdentifiers)\n",
    "\n",
    "mergingTool.mergeAll()\n",
    "\n"
   ]
  },
  {
   "cell_type": "markdown",
   "metadata": {},
   "source": []
  }
 ],
 "metadata": {
  "kernelspec": {
   "display_name": "Python 3",
   "language": "python",
   "name": "python3"
  },
  "language_info": {
   "codemirror_mode": {
    "name": "ipython",
    "version": 3
   },
   "file_extension": ".py",
   "mimetype": "text/x-python",
   "name": "python",
   "nbconvert_exporter": "python",
   "pygments_lexer": "ipython3",
   "version": "3.11.1"
  },
  "orig_nbformat": 4
 },
 "nbformat": 4,
 "nbformat_minor": 2
}
