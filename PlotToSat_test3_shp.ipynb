{
 "cells": [
  {
   "cell_type": "code",
   "execution_count": 1,
   "metadata": {},
   "outputs": [
    {
     "name": "stdout",
     "output_type": "stream",
     "text": [
      "Importing GEE\n",
      "Utils imported\n",
      "Masks class imported\n",
      "GEE already imported\n",
      "Sentinel1 class imported\n",
      "Sentinel2b class imported\n",
      "GEE already imported\n"
     ]
    },
    {
     "name": "stderr",
     "output_type": "stream",
     "text": [
      "<>:27: SyntaxWarning: invalid escape sequence '\\c'\n",
      "C:\\Users\\mm1397\\AppData\\Local\\Temp\\ipykernel_8836\\183477549.py:27: SyntaxWarning: invalid escape sequence '\\c'\n",
      "  raise Exception(\"CSV input file should be defined as follow  '\\csvfilename'\\:<csvfilename>\")\n"
     ]
    },
    {
     "name": "stdout",
     "output_type": "stream",
     "text": [
      "Class fieldData imported\n",
      "Masks class imported\n",
      "GEE already imported\n",
      "Return didn't work\n",
      "Sentinel1:  2021-01-01 2021-12-31\n",
      "Sentinel2:  2021-01-01 2021-12-31\n",
      "Shapefile  projects/ee-flf-milto/assets/England_Green_Belt_2022_23_WGS84  is loaded with  185  polygons\n",
      "Sampling size updated to 20\n",
      "NEW SAMPLING: =  20\n",
      "Sentinel 1 added\n",
      "Sentinel 2 added\n",
      "exporting collections\n",
      "Sentinel 1 collection parameters loaded are valid and system is now intepreting data\n"
     ]
    },
    {
     "name": "stderr",
     "output_type": "stream",
     "text": [
      "c:\\Users\\mm1397\\OneDrive - University of Exeter\\Documents\\PlotToSat\\.venv\\Lib\\site-packages\\ee\\deprecation.py:207: DeprecationWarning: \n",
      "\n",
      "Attention required for UMD/hansen/global_forest_change_2022_v1_10! You are using a deprecated asset.\n",
      "To ensure continued functionality, please update it.\n",
      "Learn more: https://developers.google.com/earth-engine/datasets/catalog/UMD_hansen_global_forest_change_2022_v1_10\n",
      "\n",
      "  warnings.warn(warning, category=DeprecationWarning)\n"
     ]
    },
    {
     "name": "stdout",
     "output_type": "stream",
     "text": [
      "Band names:  ['0_VHAsc', '1_VHAsc', '2_VHAsc', '3_VHAsc', '4_VHAsc', '5_VHAsc', '6_VHAsc', '7_VHAsc', '8_VHAsc', '9_VHAsc', '10_VHAsc', '11_VHAsc', '0_VVAsc', '1_VVAsc', '2_VVAsc', '3_VVAsc', '4_VVAsc', '5_VVAsc', '6_VVAsc', '7_VVAsc', '8_VVAsc', '9_VVAsc', '10_VVAsc', '11_VVAsc', '0_VHDes', '1_VHDes', '2_VHDes', '3_VHDes', '4_VHDes', '5_VHDes', '6_VHDes', '7_VHDes', '8_VHDes', '9_VHDes', '10_VHDes', '11_VHDes', '0_VVDes', '1_VVDes', '2_VVDes', '3_VVDes', '4_VVDes', '5_VVDes', '6_VVDes', '7_VVDes', '8_VVDes', '9_VVDes', '10_VVDes', '11_VVDes']\n",
      "START EXPORTING FEATURES VECTORS OF A SINGLE FILE\n",
      "Sentinel 2 collection parameters loaded are valid and system is now intepreting data\n",
      "Band names:  ['0_B1', '0_B2', '0_B3', '0_B4', '0_B5', '0_B6', '0_B7', '0_B8', '0_B8A', '0_B9', '0_B11', '0_B12', '0_ndvi', '1_B1', '1_B2', '1_B3', '1_B4', '1_B5', '1_B6', '1_B7', '1_B8', '1_B8A', '1_B9', '1_B11', '1_B12', '1_ndvi', '2_B1', '2_B2', '2_B3', '2_B4', '2_B5', '2_B6', '2_B7', '2_B8', '2_B8A', '2_B9', '2_B11', '2_B12', '2_ndvi', '3_B1', '3_B2', '3_B3', '3_B4', '3_B5', '3_B6', '3_B7', '3_B8', '3_B8A', '3_B9', '3_B11', '3_B12', '3_ndvi', '4_B1', '4_B2', '4_B3', '4_B4', '4_B5', '4_B6', '4_B7', '4_B8', '4_B8A', '4_B9', '4_B11', '4_B12', '4_ndvi', '5_B1', '5_B2', '5_B3', '5_B4', '5_B5', '5_B6', '5_B7', '5_B8', '5_B8A', '5_B9', '5_B11', '5_B12', '5_ndvi', '6_B1', '6_B2', '6_B3', '6_B4', '6_B5', '6_B6', '6_B7', '6_B8', '6_B8A', '6_B9', '6_B11', '6_B12', '6_ndvi', '7_B1', '7_B2', '7_B3', '7_B4', '7_B5', '7_B6', '7_B7', '7_B8', '7_B8A', '7_B9', '7_B11', '7_B12', '7_ndvi', '8_B1', '8_B2', '8_B3', '8_B4', '8_B5', '8_B6', '8_B7', '8_B8', '8_B8A', '8_B9', '8_B11', '8_B12', '8_ndvi', '9_B1', '9_B2', '9_B3', '9_B4', '9_B5', '9_B6', '9_B7', '9_B8', '9_B8A', '9_B9', '9_B11', '9_B12', '9_ndvi', '10_B1', '10_B2', '10_B3', '10_B4', '10_B5', '10_B6', '10_B7', '10_B8', '10_B8A', '10_B9', '10_B11', '10_B12', '10_ndvi', '11_B1', '11_B2', '11_B3', '11_B4', '11_B5', '11_B6', '11_B7', '11_B8', '11_B8A', '11_B9', '11_B11', '11_B12', '11_ndvi']\n",
      "START EXPORTING FEATURES VECTORS OF A SINGLE FILE\n"
     ]
    }
   ],
   "source": [
    "# import all the necessary libraries\n",
    "%run PlotToSat.ipynb\n",
    "\n",
    "# Define study region\n",
    "countries = ee.FeatureCollection('USDOS/LSIB_SIMPLE/2017')\n",
    "polygon = countries.filter(ee.Filter.eq('country_na', 'United Kingdom'))\n",
    "\n",
    "shp = {\n",
    "   \"shpfilename\"        : \"projects/ee-flf-milto/assets/England_Green_Belt_2022_23_WGS84\",\n",
    "   \"polygonKeyColumn\"   : \"LAD_CD\" # column that ids of polygons are stored\n",
    "}\n",
    "# Specify the year of interest\n",
    "year = 2021\n",
    "\n",
    "# Create an instance of the Manager\n",
    "#myPlotToSat = PlotToSat(polygon,fieldData,year) \n",
    "myPlotToSat = PlotToSat(polygon,shp,year) \n",
    "myPlotToSat.setSampling(20)\n",
    "\n",
    "\n",
    "# Add Earth Observation Collections of interest\n",
    "myPlotToSat.addCollection(\"sentinel-1\", False) \n",
    "myPlotToSat.addCollection(\"sentinel-2\", 50  ) \n",
    "\n",
    "#Definition and exportation of outputs\n",
    "#myPlotToSat.exportFeatures(\"Greenbelts_2024\", \"feature_vectors_\")\t\n",
    "\n",
    "myPlotToSat.exprtFeaturesMinMax(\"Greenbelts_2021\", \"feature_vectors_\",170,180)\t\n"
   ]
  }
 ],
 "metadata": {
  "kernelspec": {
   "display_name": ".venv",
   "language": "python",
   "name": "python3"
  },
  "language_info": {
   "codemirror_mode": {
    "name": "ipython",
    "version": 3
   },
   "file_extension": ".py",
   "mimetype": "text/x-python",
   "name": "python",
   "nbconvert_exporter": "python",
   "pygments_lexer": "ipython3",
   "version": "3.12.7"
  },
  "orig_nbformat": 4
 },
 "nbformat": 4,
 "nbformat_minor": 2
}
