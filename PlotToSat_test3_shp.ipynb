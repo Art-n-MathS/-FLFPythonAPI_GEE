{
 "cells": [
  {
   "cell_type": "code",
   "execution_count": 1,
   "metadata": {},
   "outputs": [
    {
     "name": "stdout",
     "output_type": "stream",
     "text": [
      "Importing GEE\n",
      "Utils imported\n",
      "Masks class imported\n",
      "GEE already imported\n",
      "Sentinel1 class imported\n",
      "Sentinel2b class imported\n",
      "GEE already imported\n",
      "Class fieldData imported\n",
      "Masks class imported\n",
      "GEE already imported\n",
      "Return didn't work\n",
      "Sentinel1:  2021-01-01 2021-12-31\n",
      "Sentinel2:  2021-01-01 2021-12-31\n"
     ]
    },
    {
     "name": "stderr",
     "output_type": "stream",
     "text": [
      "<>:27: SyntaxWarning: invalid escape sequence '\\c'\n",
      "C:\\Users\\mm1397\\AppData\\Local\\Temp\\ipykernel_45576\\183477549.py:27: SyntaxWarning: invalid escape sequence '\\c'\n",
      "  raise Exception(\"CSV input file should be defined as follow  '\\csvfilename'\\:<csvfilename>\")\n"
     ]
    },
    {
     "name": "stdout",
     "output_type": "stream",
     "text": [
      "Shapefile  projects/ee-flf-milto/assets/England_Green_Belt_2022_23_WGS84  is loaded with  185  polygons\n",
      "Sampling size updated to 20\n",
      "NEW SAMPLING: =  20\n",
      "Sentinel 1 added\n",
      "Sentinel 2 added\n"
     ]
    },
    {
     "ename": "TypeError",
     "evalue": "PlotToSat.selectIndices() missing 1 required positional argument: 'selectedIndices'",
     "output_type": "error",
     "traceback": [
      "\u001b[1;31m---------------------------------------------------------------------------\u001b[0m",
      "\u001b[1;31mTypeError\u001b[0m                                 Traceback (most recent call last)",
      "Cell \u001b[1;32mIn[1], line 31\u001b[0m\n\u001b[0;32m     27\u001b[0m \u001b[38;5;66;03m# print all the available indices\u001b[39;00m\n\u001b[0;32m     28\u001b[0m \u001b[38;5;66;03m#myPlotToSat.availableIndices(\"sentinel-2\")# TO DO : FIX\u001b[39;00m\n\u001b[0;32m     29\u001b[0m \u001b[38;5;66;03m# selected indices to be processed \u001b[39;00m\n\u001b[0;32m     30\u001b[0m selectedIndices \u001b[38;5;241m=\u001b[39m [\u001b[38;5;124m'\u001b[39m\u001b[38;5;124mndvi\u001b[39m\u001b[38;5;124m'\u001b[39m]\n\u001b[1;32m---> 31\u001b[0m \u001b[43mmyPlotToSat\u001b[49m\u001b[38;5;241;43m.\u001b[39;49m\u001b[43mselectIndices\u001b[49m\u001b[43m(\u001b[49m\u001b[43mselectedIndices\u001b[49m\u001b[43m)\u001b[49m\n\u001b[0;32m     34\u001b[0m \u001b[38;5;66;03m#Definition and exportation of outputs\u001b[39;00m\n\u001b[0;32m     35\u001b[0m \u001b[38;5;66;03m#myPlotToSat.exportFeatures(\"Greenbelts_2024\", \"feature_vectors_\")\t\u001b[39;00m\n\u001b[0;32m     37\u001b[0m myPlotToSat\u001b[38;5;241m.\u001b[39mexprtFeaturesMinMax(\u001b[38;5;124m\"\u001b[39m\u001b[38;5;124mGreenbelts_2021\u001b[39m\u001b[38;5;124m\"\u001b[39m, \u001b[38;5;124m\"\u001b[39m\u001b[38;5;124mfeature_vectors_\u001b[39m\u001b[38;5;124m\"\u001b[39m,\u001b[38;5;241m170\u001b[39m,\u001b[38;5;241m175\u001b[39m)\t\n",
      "\u001b[1;31mTypeError\u001b[0m: PlotToSat.selectIndices() missing 1 required positional argument: 'selectedIndices'"
     ]
    }
   ],
   "source": [
    "# import all the necessary libraries\n",
    "%run PlotToSat.ipynb\n",
    "\n",
    "# Define study region\n",
    "countries = ee.FeatureCollection('USDOS/LSIB_SIMPLE/2017')\n",
    "polygon = countries.filter(ee.Filter.eq('country_na', 'United Kingdom'))\n",
    "\n",
    "shp = {\n",
    "   \"shpfilename\"        : \"projects/ee-flf-milto/assets/England_Green_Belt_2022_23_WGS84\",\n",
    "   \"polygonKeyColumn\"   : \"LAD_CD\" # column that ids of polygons are stored\n",
    "}\n",
    "# Specify the year of interest\n",
    "year = 2021\n",
    "\n",
    "# Create an instance of the Manager\n",
    "#myPlotToSat = PlotToSat(polygon,fieldData,year) \n",
    "myPlotToSat = PlotToSat(polygon,shp,year) \n",
    "myPlotToSat.setSampling(20)\n",
    "\n",
    "\n",
    "# Add Earth Observation Collections of interest\n",
    "myPlotToSat.addCollection(\"sentinel-1\", False) \n",
    "myPlotToSat.addCollection(\"sentinel-2\", 50  ) \n",
    "\n",
    "selectedBands = ['B8', 'B4']\n",
    "myPlotToSat.selectBands(\"sentinel-2\", selectedBands)\n",
    "# print all the available indices\n",
    "#myPlotToSat.availableIndices(\"sentinel-2\")# TO DO : FIX\n",
    "# selected indices to be processed \n",
    "selectedIndices = ['ndvi']\n",
    "myPlotToSat.selectIndices(\"sentinel-2\",selectedIndices)\n",
    "\n",
    "\n",
    "#Definition and exportation of outputs\n",
    "#myPlotToSat.exportFeatures(\"Greenbelts_2024\", \"feature_vectors_\")\t\n",
    "\n",
    "myPlotToSat.exprtFeaturesMinMax(\"Greenbelts_2021\", \"feature_vectors_\",170,175)\t\n"
   ]
  }
 ],
 "metadata": {
  "kernelspec": {
   "display_name": ".venv",
   "language": "python",
   "name": "python3"
  },
  "language_info": {
   "codemirror_mode": {
    "name": "ipython",
    "version": 3
   },
   "file_extension": ".py",
   "mimetype": "text/x-python",
   "name": "python",
   "nbconvert_exporter": "python",
   "pygments_lexer": "ipython3",
   "version": "3.12.7"
  },
  "orig_nbformat": 4
 },
 "nbformat": 4,
 "nbformat_minor": 2
}
