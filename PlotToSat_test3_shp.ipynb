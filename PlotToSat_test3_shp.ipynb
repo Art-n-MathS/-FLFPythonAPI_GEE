{
 "cells": [
  {
   "cell_type": "code",
   "execution_count": 1,
   "metadata": {},
   "outputs": [
    {
     "name": "stdout",
     "output_type": "stream",
     "text": [
      "Importing GEE\n",
      "Utils imported\n",
      "Masks class imported\n",
      "GEE already imported\n",
      "Sentinel1 class imported\n",
      "Sentinel2b class imported\n",
      "GEE already imported\n",
      "Class fieldData imported\n",
      "Masks class imported\n",
      "GEE already imported\n"
     ]
    }
   ],
   "source": [
    "# import all the necessary libraries\n",
    "%run PlotToSat.ipynb\n"
   ]
  },
  {
   "cell_type": "code",
   "execution_count": 2,
   "metadata": {},
   "outputs": [
    {
     "name": "stdout",
     "output_type": "stream",
     "text": [
      "Return didn't work\n",
      "Sentinel1:  2021-01-01 2021-12-31\n",
      "Sentinel2:  2021-01-01 2021-12-31\n",
      "Shapefile  projects/ee-flf-milto/assets/England_Green_Belt_2022_23_WGS84  is loaded with  185  polygons\n",
      "Sampling size updated to 20\n",
      "NEW SAMPLING: =  20\n",
      "Sentinel 1 added\n",
      "Sentinel 2 added\n",
      "exporting collections\n",
      "Sentinel 1 collection parameters loaded are valid and system is now intepreting data\n"
     ]
    },
    {
     "name": "stderr",
     "output_type": "stream",
     "text": [
      "c:\\Users\\mm1397\\OneDrive - University of Exeter\\Documents\\PlotToSat\\.venv\\Lib\\site-packages\\ee\\deprecation.py:207: DeprecationWarning: \n",
      "\n",
      "Attention required for UMD/hansen/global_forest_change_2022_v1_10! You are using a deprecated asset.\n",
      "To ensure continued functionality, please update it.\n",
      "Learn more: https://developers.google.com/earth-engine/datasets/catalog/UMD_hansen_global_forest_change_2022_v1_10\n",
      "\n",
      "  warnings.warn(warning, category=DeprecationWarning)\n"
     ]
    },
    {
     "name": "stdout",
     "output_type": "stream",
     "text": [
      "Band names:  ['0_VHAsc', '1_VHAsc', '2_VHAsc', '3_VHAsc', '4_VHAsc', '5_VHAsc', '6_VHAsc', '7_VHAsc', '8_VHAsc', '9_VHAsc', '10_VHAsc', '11_VHAsc', '0_VVAsc', '1_VVAsc', '2_VVAsc', '3_VVAsc', '4_VVAsc', '5_VVAsc', '6_VVAsc', '7_VVAsc', '8_VVAsc', '9_VVAsc', '10_VVAsc', '11_VVAsc', '0_VHDes', '1_VHDes', '2_VHDes', '3_VHDes', '4_VHDes', '5_VHDes', '6_VHDes', '7_VHDes', '8_VHDes', '9_VHDes', '10_VHDes', '11_VHDes', '0_VVDes', '1_VVDes', '2_VVDes', '3_VVDes', '4_VVDes', '5_VVDes', '6_VVDes', '7_VVDes', '8_VVDes', '9_VVDes', '10_VVDes', '11_VVDes']\n",
      "START EXPORTING FEATURES VECTORS OF A SINGLE FILE\n",
      "Sentinel 2 collection parameters loaded are valid and system is now intepreting data\n",
      "selectedBandsNIndices: ['B8', 'B4', 'ndvi']\n",
      "Band names:  ['0_B8', '0_B4', '0_ndvi', '1_B8', '1_B4', '1_ndvi', '2_B8', '2_B4', '2_ndvi', '3_B8', '3_B4', '3_ndvi', '4_B8', '4_B4', '4_ndvi', '5_B8', '5_B4', '5_ndvi', '6_B8', '6_B4', '6_ndvi', '7_B8', '7_B4', '7_ndvi', '8_B8', '8_B4', '8_ndvi', '9_B8', '9_B4', '9_ndvi', '10_B8', '10_B4', '10_ndvi', '11_B8', '11_B4', '11_ndvi']\n",
      "START EXPORTING FEATURES VECTORS OF A SINGLE FILE\n"
     ]
    }
   ],
   "source": [
    "\n",
    "# Define study region\n",
    "countries = ee.FeatureCollection('USDOS/LSIB_SIMPLE/2017')\n",
    "polygon = countries.filter(ee.Filter.eq('country_na', 'United Kingdom'))\n",
    "\n",
    "shp = {\n",
    "   \"shpfilename\"        : \"projects/ee-flf-milto/assets/England_Green_Belt_2022_23_WGS84\",\n",
    "   \"polygonKeyColumn\"   : \"LAD_CD\" # column that ids of polygons are stored\n",
    "}\n",
    "# Specify the year of interest\n",
    "year = 2021\n",
    "\n",
    "# Create an instance of the Manager\n",
    "#myPlotToSat = PlotToSat(polygon,fieldData,year) \n",
    "myPlotToSat = PlotToSat(polygon,shp,year) \n",
    "myPlotToSat.setSampling(20)\n",
    "\n",
    "\n",
    "# Add Earth Observation Collections of interest\n",
    "myPlotToSat.addCollection(\"sentinel-1\", False) \n",
    "myPlotToSat.addCollection(\"sentinel-2\", 50  ) \n",
    "\n",
    "# Select indices to be processed\n",
    "selectedBands = ['B8', 'B4']\n",
    "myPlotToSat.selectBands(\"sentinel-2\", selectedBands)\n",
    "myPlotToSat.selectBands(\"sentinel-1\", ['VHAsc'])\n",
    "\n",
    "# selected indices to be processed \n",
    "selectedIndices = ['ndvi']\n",
    "myPlotToSat.selectIndices(\"sentinel-2\",selectedIndices)\n",
    "\n",
    "# print all the available indices (WORK IN PROGRESS)\n",
    "#myPlotToSat.availableIndices(\"sentinel-2\")# TO DO : FIX\n",
    "# selected indices to be processed \n",
    "\n",
    "# Stop the system from exporting Std - More efficient if only Mean is required\n",
    "myPlotToSat.exportStd(True)\n",
    "# Optional as by default it exports both Mean and Std\n",
    "myPlotToSat.exportMean(False) \n",
    "\n",
    "\n",
    "\n",
    "# Definition and exportation of outputs\n",
    "#myPlotToSat.exportFeatures(\"Greenbelts_2024\", \"feature_vectors_\")\t\n",
    "\n",
    "# Run a subset of data\n",
    "myPlotToSat.exprtFeaturesMinMax(\"Greenbelts_2021_test\", \"feature_vectors_S\",170,175)\t\n"
   ]
  },
  {
   "cell_type": "code",
   "execution_count": null,
   "metadata": {},
   "outputs": [],
   "source": []
  },
  {
   "cell_type": "code",
   "execution_count": null,
   "metadata": {},
   "outputs": [],
   "source": []
  }
 ],
 "metadata": {
  "kernelspec": {
   "display_name": ".venv",
   "language": "python",
   "name": "python3"
  },
  "language_info": {
   "codemirror_mode": {
    "name": "ipython",
    "version": 3
   },
   "file_extension": ".py",
   "mimetype": "text/x-python",
   "name": "python",
   "nbconvert_exporter": "python",
   "pygments_lexer": "ipython3",
   "version": "3.13.0"
  },
  "orig_nbformat": 4
 },
 "nbformat": 4,
 "nbformat_minor": 2
}
