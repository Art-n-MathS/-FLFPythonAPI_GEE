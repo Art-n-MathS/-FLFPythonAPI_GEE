{
 "cells": [
  {
   "cell_type": "code",
   "execution_count": 1,
   "metadata": {},
   "outputs": [
    {
     "name": "stdout",
     "output_type": "stream",
     "text": [
      "Importing GEE\n",
      "Utils imported\n",
      "Masks class imported\n",
      "GEE already imported\n",
      "Sentinel1 class imported\n",
      "Sentinel2b class imported\n",
      "GEE already imported\n",
      "Class fieldData imported\n",
      "Masks class imported\n",
      "Sentinel1:  2019-01-01 2019-12-31\n",
      "Sentinel2:  2019-01-01 2019-12-31\n",
      "projects/ee-flf-milto/assets/PlotToSatTestShp  has been loaded\n"
     ]
    },
    {
     "ename": "KeyError",
     "evalue": "'csvfilename'",
     "output_type": "error",
     "traceback": [
      "\u001b[1;31m---------------------------------------------------------------------------\u001b[0m",
      "\u001b[1;31mKeyError\u001b[0m                                  Traceback (most recent call last)",
      "Cell \u001b[1;32mIn[1], line 30\u001b[0m\n\u001b[0;32m     26\u001b[0m year \u001b[38;5;241m=\u001b[39m \u001b[38;5;241m2019\u001b[39m\n\u001b[0;32m     28\u001b[0m \u001b[38;5;66;03m# Create an instance of the Manager\u001b[39;00m\n\u001b[0;32m     29\u001b[0m \u001b[38;5;66;03m#myPlotToSat = PlotToSat(polygon,fieldData,year) \u001b[39;00m\n\u001b[1;32m---> 30\u001b[0m myPlotToSat \u001b[38;5;241m=\u001b[39m \u001b[43mPlotToSat\u001b[49m\u001b[43m(\u001b[49m\u001b[43mpolygon\u001b[49m\u001b[43m,\u001b[49m\u001b[43mshp\u001b[49m\u001b[43m,\u001b[49m\u001b[43myear\u001b[49m\u001b[43m)\u001b[49m \n\u001b[0;32m     31\u001b[0m myPlotToSat\u001b[38;5;241m.\u001b[39msetSampling(\u001b[38;5;241m300\u001b[39m)\n\u001b[0;32m     34\u001b[0m \u001b[38;5;66;03m# Add Earth Observation Collections of interest\u001b[39;00m\n",
      "File \u001b[1;32m~\\AppData\\Local\\Temp\\ipykernel_27944\\154240359.py:136\u001b[0m, in \u001b[0;36mPlotToSat.__init__\u001b[1;34m(self, geometry, fieldDataProperties, year)\u001b[0m\n\u001b[0;32m    133\u001b[0m     \u001b[38;5;28mself\u001b[39m\u001b[38;5;241m.\u001b[39mfiledataFilewithIDs \u001b[38;5;241m=\u001b[39m fieldDataProperties[\u001b[38;5;124m'\u001b[39m\u001b[38;5;124moutPlotFileWithIDs\u001b[39m\u001b[38;5;124m'\u001b[39m] \n\u001b[0;32m    135\u001b[0m \u001b[38;5;28mself\u001b[39m\u001b[38;5;241m.\u001b[39msetYear(year)\n\u001b[1;32m--> 136\u001b[0m \u001b[38;5;28;43mself\u001b[39;49m\u001b[38;5;241;43m.\u001b[39;49m\u001b[43maddFieldData\u001b[49m\u001b[43m(\u001b[49m\u001b[43mfieldDataProperties\u001b[49m\u001b[43m)\u001b[49m\n\u001b[0;32m    138\u001b[0m \u001b[38;5;28;01mif\u001b[39;00m \u001b[38;5;124m\"\u001b[39m\u001b[38;5;124mshpfilename\u001b[39m\u001b[38;5;124m\"\u001b[39m \u001b[38;5;129;01min\u001b[39;00m fieldDataProperties:\n\u001b[0;32m    139\u001b[0m     \u001b[38;5;28mprint\u001b[39m(\u001b[38;5;124m\"\u001b[39m\u001b[38;5;124mShapefile is loaded\u001b[39m\u001b[38;5;124m\"\u001b[39m)\n",
      "File \u001b[1;32m~\\AppData\\Local\\Temp\\ipykernel_27944\\154240359.py:65\u001b[0m, in \u001b[0;36mPlotToSat.addFieldData\u001b[1;34m(self, properties)\u001b[0m\n\u001b[0;32m     63\u001b[0m \u001b[38;5;28mself\u001b[39m\u001b[38;5;241m.\u001b[39mcsvDF \u001b[38;5;241m=\u001b[39m FieldData(properties)\n\u001b[0;32m     64\u001b[0m \u001b[38;5;28mself\u001b[39m\u001b[38;5;241m.\u001b[39mmaxSize \u001b[38;5;241m=\u001b[39m \u001b[38;5;28mself\u001b[39m\u001b[38;5;241m.\u001b[39mcsvDF\u001b[38;5;241m.\u001b[39mgetLen()\n\u001b[1;32m---> 65\u001b[0m \u001b[38;5;28mself\u001b[39m\u001b[38;5;241m.\u001b[39mcsvFileName \u001b[38;5;241m=\u001b[39m \u001b[43mproperties\u001b[49m\u001b[43m[\u001b[49m\u001b[38;5;124;43m\"\u001b[39;49m\u001b[38;5;124;43mcsvfilename\u001b[39;49m\u001b[38;5;124;43m\"\u001b[39;49m\u001b[43m]\u001b[49m\n",
      "\u001b[1;31mKeyError\u001b[0m: 'csvfilename'"
     ]
    }
   ],
   "source": [
    "# import all the necessary libraries\n",
    "%run PlotToSat.ipynb\n",
    "\n",
    "# Define study region\n",
    "polygon = ee.Geometry.Polygon(\n",
    "[[[-6.7820312500000135, 37.744682241748094],\n",
    "[-1.1570312500000135, 37.32651387565316],\n",
    "[0.1613281249999865, 42.25294129803316],\n",
    "[-7.3093750000000135, 43.349172765639516]]])\n",
    "\n",
    "# Create a dictionary that holds the relevant plot information\n",
    "fieldData = {\n",
    "       \"csvfilename\"         : r\".\\samplePlots.csv\",\n",
    "       \"proj\"                : \"EPSG:3042\",\n",
    "       \"radius\"              : 30,\n",
    "       \"xcol\"                : \"CX\",    \n",
    "       \"ycol\"                : \"CY\",\n",
    "       \"outPlotFileWithIDs\"  : r\"plotsWithIDs\\SpainIDs_1.csv\"\n",
    "}\n",
    "\n",
    "shp = {\n",
    "   \"shpfilename\" : \"projects/ee-flf-milto/assets/PlotToSatTestShp\",\n",
    "   'outPlotFileWithIDs' : r\"plotsWithIDs\\SpainIDs_shp_1.csv\"\n",
    "}\n",
    "# Specify the year of interest\n",
    "year = 2019\n",
    "\n",
    "# Create an instance of the Manager\n",
    "#myPlotToSat = PlotToSat(polygon,fieldData,year) \n",
    "myPlotToSat = PlotToSat(polygon,shp,year) \n",
    "myPlotToSat.setSampling(300)\n",
    "\n",
    "\n",
    "# Add Earth Observation Collections of interest\n",
    "myPlotToSat.addCollection(\"sentinel-1\", True) \n",
    "myPlotToSat.addCollection(\"sentinel-2\", 50  ) \n",
    "\n",
    "#Definition and exportation of outputs\n",
    "myPlotToSat.exportFeatures(\"folderSpain1shp1\", \"outfeaturevectors_shp\")\t\n"
   ]
  }
 ],
 "metadata": {
  "kernelspec": {
   "display_name": "Python 3",
   "language": "python",
   "name": "python3"
  },
  "language_info": {
   "codemirror_mode": {
    "name": "ipython",
    "version": 3
   },
   "file_extension": ".py",
   "mimetype": "text/x-python",
   "name": "python",
   "nbconvert_exporter": "python",
   "pygments_lexer": "ipython3",
   "version": "3.12.6"
  },
  "orig_nbformat": 4
 },
 "nbformat": 4,
 "nbformat_minor": 2
}
