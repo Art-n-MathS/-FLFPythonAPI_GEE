{
 "cells": [
  {
   "cell_type": "code",
   "execution_count": 1,
   "metadata": {},
   "outputs": [
    {
     "name": "stdout",
     "output_type": "stream",
     "text": [
      "Importing GEE\n",
      "Utils imported\n",
      "Masks class imported\n",
      "GEE already imported\n",
      "Sentinel1 class imported\n",
      "Sentinel2b class imported\n",
      "GEE already imported\n"
     ]
    },
    {
     "name": "stderr",
     "output_type": "stream",
     "text": [
      "<>:27: SyntaxWarning: invalid escape sequence '\\c'\n",
      "C:\\Users\\mm1397\\AppData\\Local\\Temp\\ipykernel_14980\\183477549.py:27: SyntaxWarning: invalid escape sequence '\\c'\n",
      "  raise Exception(\"CSV input file should be defined as follow  '\\csvfilename'\\:<csvfilename>\")\n"
     ]
    },
    {
     "name": "stdout",
     "output_type": "stream",
     "text": [
      "Class fieldData imported\n",
      "Masks class imported\n",
      "GEE already imported\n",
      "Return didn't work\n",
      "Sentinel1:  2020-01-01 2020-12-31\n",
      "Sentinel2:  2020-01-01 2020-12-31\n",
      "Shapefile  projects/ee-flf-milto/assets/BufferedSamplePoints  is loaded with  540  polygons\n",
      "Sampling size updated to 300\n",
      "NEW SAMPLING: =  300\n",
      "Sentinel 1 added\n",
      "Sentinel 2 added\n",
      "Sampling Polygons\n",
      "9\n",
      "exporting collections\n",
      "Sentinel 1 collection parameters loaded are valid and system is now intepreting data\n"
     ]
    },
    {
     "name": "stderr",
     "output_type": "stream",
     "text": [
      "c:\\Users\\mm1397\\OneDrive - University of Exeter\\Documents\\PlotToSat\\.venv\\Lib\\site-packages\\ee\\deprecation.py:207: DeprecationWarning: \n",
      "\n",
      "Attention required for UMD/hansen/global_forest_change_2022_v1_10! You are using a deprecated asset.\n",
      "To ensure continued functionality, please update it.\n",
      "Learn more: https://developers.google.com/earth-engine/datasets/catalog/UMD_hansen_global_forest_change_2022_v1_10\n",
      "\n",
      "  warnings.warn(warning, category=DeprecationWarning)\n"
     ]
    },
    {
     "name": "stdout",
     "output_type": "stream",
     "text": [
      "Band names:  ['0_VHAsc', '1_VHAsc', '2_VHAsc', '3_VHAsc', '4_VHAsc', '5_VHAsc', '6_VHAsc', '7_VHAsc', '8_VHAsc', '9_VHAsc', '10_VHAsc', '11_VHAsc', '0_VVAsc', '1_VVAsc', '2_VVAsc', '3_VVAsc', '4_VVAsc', '5_VVAsc', '6_VVAsc', '7_VVAsc', '8_VVAsc', '9_VVAsc', '10_VVAsc', '11_VVAsc', '0_VHDes', '1_VHDes', '2_VHDes', '3_VHDes', '4_VHDes', '5_VHDes', '6_VHDes', '7_VHDes', '8_VHDes', '9_VHDes', '10_VHDes', '11_VHDes', '0_VVDes', '1_VVDes', '2_VVDes', '3_VVDes', '4_VVDes', '5_VVDes', '6_VVDes', '7_VVDes', '8_VVDes', '9_VVDes', '10_VVDes', '11_VVDes']\n"
     ]
    },
    {
     "ename": "AttributeError",
     "evalue": "'List' object has no attribute 'select'",
     "output_type": "error",
     "traceback": [
      "\u001b[1;31m---------------------------------------------------------------------------\u001b[0m",
      "\u001b[1;31mAttributeError\u001b[0m                            Traceback (most recent call last)",
      "Cell \u001b[1;32mIn[1], line 41\u001b[0m\n\u001b[0;32m     36\u001b[0m myPlotToSat\u001b[38;5;241m.\u001b[39maddCollection(\u001b[38;5;124m\"\u001b[39m\u001b[38;5;124msentinel-2\u001b[39m\u001b[38;5;124m\"\u001b[39m, \u001b[38;5;241m50\u001b[39m  ) \n\u001b[0;32m     38\u001b[0m \u001b[38;5;66;03m#Definition and exportation of outputs\u001b[39;00m\n\u001b[0;32m     39\u001b[0m \u001b[38;5;66;03m#myPlotToSat.exportFeatures(\"Greenbelts_2020_BufferedSamplePoints\", \"feature_vectors_\")\t\u001b[39;00m\n\u001b[1;32m---> 41\u001b[0m \u001b[43mmyPlotToSat\u001b[49m\u001b[38;5;241;43m.\u001b[39;49m\u001b[43mexprtFeaturesMinMax\u001b[49m\u001b[43m(\u001b[49m\u001b[38;5;124;43m\"\u001b[39;49m\u001b[38;5;124;43mGreenbelts_2020_BufferedSamplePoints\u001b[39;49m\u001b[38;5;124;43m\"\u001b[39;49m\u001b[43m,\u001b[49m\u001b[43m \u001b[49m\u001b[38;5;124;43m\"\u001b[39;49m\u001b[38;5;124;43mfeature_vectors_\u001b[39;49m\u001b[38;5;124;43m\"\u001b[39;49m\u001b[43m,\u001b[49m\u001b[38;5;241;43m1\u001b[39;49m\u001b[43m,\u001b[49m\u001b[38;5;241;43m10\u001b[39;49m\u001b[43m)\u001b[49m\t\n",
      "File \u001b[1;32m~\\AppData\\Local\\Temp\\ipykernel_14980\\2941357061.py:295\u001b[0m, in \u001b[0;36mPlotToSat.exprtFeaturesMinMax\u001b[1;34m(self, gdrivefolder, startOffeaturesFilename, min, max)\u001b[0m\n\u001b[0;32m    293\u001b[0m \u001b[38;5;28;01mif\u001b[39;00m ((\u001b[38;5;28mself\u001b[39m\u001b[38;5;241m.\u001b[39mshp \u001b[38;5;129;01mis\u001b[39;00m \u001b[38;5;129;01mnot\u001b[39;00m \u001b[38;5;28;01mNone\u001b[39;00m \u001b[38;5;129;01mor\u001b[39;00m \u001b[38;5;28mself\u001b[39m\u001b[38;5;241m.\u001b[39mcsvDF \u001b[38;5;129;01mis\u001b[39;00m \u001b[38;5;129;01mnot\u001b[39;00m \u001b[38;5;28;01mNone\u001b[39;00m) \u001b[38;5;129;01mand\u001b[39;00m polygons \u001b[38;5;129;01mis\u001b[39;00m \u001b[38;5;129;01mnot\u001b[39;00m \u001b[38;5;28;01mNone\u001b[39;00m):\n\u001b[0;32m    294\u001b[0m     \u001b[38;5;28mprint\u001b[39m (\u001b[38;5;124m\"\u001b[39m\u001b[38;5;124mexporting collections\u001b[39m\u001b[38;5;124m\"\u001b[39m)\n\u001b[1;32m--> 295\u001b[0m     \u001b[38;5;28;43mself\u001b[39;49m\u001b[38;5;241;43m.\u001b[39;49m\u001b[43mexportCollections\u001b[49m\u001b[43m(\u001b[49m\u001b[43mstartOffeaturesFilenamesWithSampling\u001b[49m\u001b[43m,\u001b[49m\u001b[43mgdrivefolder\u001b[49m\u001b[43m)\u001b[49m\n\u001b[0;32m    296\u001b[0m \u001b[38;5;28;01melse\u001b[39;00m :\n\u001b[0;32m    297\u001b[0m        \u001b[38;5;28mprint\u001b[39m( \u001b[38;5;124m\"\u001b[39m\u001b[38;5;124mWARNING: Skipping exportation as polygons from \u001b[39m\u001b[38;5;124m\"\u001b[39m, currentMin, \u001b[38;5;124m\"\u001b[39m\u001b[38;5;124m to \u001b[39m\u001b[38;5;124m\"\u001b[39m, currentMax, \n\u001b[0;32m    298\u001b[0m              \u001b[38;5;124m\"\u001b[39m\u001b[38;5;124m haven\u001b[39m\u001b[38;5;124m'\u001b[39m\u001b[38;5;124mt been created\u001b[39m\u001b[38;5;124m\"\u001b[39m)\n",
      "File \u001b[1;32m~\\AppData\\Local\\Temp\\ipykernel_14980\\2941357061.py:248\u001b[0m, in \u001b[0;36mPlotToSat.exportCollections\u001b[1;34m(self, startOffeaturesFilenamesWithSampling, gdrivefolder)\u001b[0m\n\u001b[0;32m    246\u001b[0m                 \u001b[38;5;28mself\u001b[39m\u001b[38;5;241m.\u001b[39mcsvDF\u001b[38;5;241m.\u001b[39mexportFeaturesMeanStdCSV(s1bands,startOffeaturesFilenamesWithSampling\u001b[38;5;241m+\u001b[39m\u001b[38;5;124m\"\u001b[39m\u001b[38;5;124m_S1\u001b[39m\u001b[38;5;124m\"\u001b[39m,gdrivefolder)\n\u001b[0;32m    247\u001b[0m             \u001b[38;5;28;01melse\u001b[39;00m :\n\u001b[1;32m--> 248\u001b[0m                 \u001b[38;5;28;43mself\u001b[39;49m\u001b[38;5;241;43m.\u001b[39;49m\u001b[43mshpPolygons\u001b[49m\u001b[38;5;241;43m.\u001b[39;49m\u001b[43mexportFeaturesMeanStdCSV\u001b[49m\u001b[43m(\u001b[49m\u001b[43ms1bands\u001b[49m\u001b[43m,\u001b[49m\u001b[43mstartOffeaturesFilenamesWithSampling\u001b[49m\u001b[38;5;241;43m+\u001b[39;49m\u001b[38;5;124;43m\"\u001b[39;49m\u001b[38;5;124;43m_S1\u001b[39;49m\u001b[38;5;124;43m\"\u001b[39;49m\u001b[43m,\u001b[49m\u001b[43mgdrivefolder\u001b[49m\u001b[43m)\u001b[49m\n\u001b[0;32m    250\u001b[0m \u001b[38;5;28;01melse\u001b[39;00m:\n\u001b[0;32m    251\u001b[0m     \u001b[38;5;28mprint\u001b[39m(\u001b[38;5;124m\"\u001b[39m\u001b[38;5;124mWARNING: Sentinel 1 collection parameters loaded are NOT valid and system is skipping this collection\u001b[39m\u001b[38;5;124m\"\u001b[39m)\n",
      "File \u001b[1;32m~\\AppData\\Local\\Temp\\ipykernel_14980\\3629414238.py:109\u001b[0m, in \u001b[0;36mPolygons.exportFeaturesMeanStdCSV\u001b[1;34m(self, collection, ouutCsvFeatureVectors, driveFolder)\u001b[0m\n\u001b[0;32m    107\u001b[0m \u001b[38;5;28;01mif\u001b[39;00m (\u001b[38;5;28mself\u001b[39m\u001b[38;5;241m.\u001b[39mcurrentSubset \u001b[38;5;241m==\u001b[39m \u001b[38;5;28;01mNone\u001b[39;00m):\n\u001b[0;32m    108\u001b[0m     \u001b[38;5;28;01mraise\u001b[39;00m \u001b[38;5;167;01mException\u001b[39;00m(\u001b[38;5;124m\"\u001b[39m\u001b[38;5;124mPlease call check _init_ since shp has not been loaded\u001b[39m\u001b[38;5;124m\"\u001b[39m )\n\u001b[1;32m--> 109\u001b[0m featureCollection \u001b[38;5;241m=\u001b[39m \u001b[38;5;28;43mself\u001b[39;49m\u001b[38;5;241;43m.\u001b[39;49m\u001b[43mgetFeatureCollection\u001b[49m\u001b[43m(\u001b[49m\u001b[43mcollection\u001b[49m\u001b[43m,\u001b[49m\u001b[38;5;28;43mself\u001b[39;49m\u001b[38;5;241;43m.\u001b[39;49m\u001b[43mcurrentSubset\u001b[49m\u001b[43m)\u001b[49m\n\u001b[0;32m    111\u001b[0m tableMean \u001b[38;5;241m=\u001b[39m \u001b[38;5;28mself\u001b[39m\u001b[38;5;241m.\u001b[39mformatMean(featureCollection)\n\u001b[0;32m    112\u001b[0m tableStd  \u001b[38;5;241m=\u001b[39m \u001b[38;5;28mself\u001b[39m\u001b[38;5;241m.\u001b[39mformatStd (featureCollection)\n",
      "File \u001b[1;32m~\\AppData\\Local\\Temp\\ipykernel_14980\\3629414238.py:49\u001b[0m, in \u001b[0;36mPolygons.getFeatureCollection\u001b[1;34m(self, collection, bpoints)\u001b[0m\n\u001b[0;32m     47\u001b[0m featureCollection1 \u001b[38;5;241m=\u001b[39m ee\u001b[38;5;241m.\u001b[39mFeatureCollection([])\n\u001b[0;32m     48\u001b[0m \u001b[38;5;28;01mfor\u001b[39;00m band \u001b[38;5;129;01min\u001b[39;00m bandNamesImg:\n\u001b[1;32m---> 49\u001b[0m     features \u001b[38;5;241m=\u001b[39m \u001b[38;5;28;43mself\u001b[39;49m\u001b[38;5;241;43m.\u001b[39;49m\u001b[43mgetInfoRegions\u001b[49m\u001b[43m(\u001b[49m\u001b[43mcollection\u001b[49m\u001b[43m,\u001b[49m\u001b[43mband\u001b[49m\u001b[43m,\u001b[49m\u001b[43mbpoints\u001b[49m\u001b[43m)\u001b[49m\n\u001b[0;32m     50\u001b[0m     featureCollection1 \u001b[38;5;241m=\u001b[39m featureCollection1\u001b[38;5;241m.\u001b[39mmerge(features)        \n\u001b[0;32m     51\u001b[0m \u001b[38;5;28;01mreturn\u001b[39;00m featureCollection1\n",
      "File \u001b[1;32m~\\AppData\\Local\\Temp\\ipykernel_14980\\3629414238.py:57\u001b[0m, in \u001b[0;36mPolygons.getInfoRegions\u001b[1;34m(self, collection, bandName, bpoints)\u001b[0m\n\u001b[0;32m     54\u001b[0m \u001b[38;5;28;01mdef\u001b[39;00m \u001b[38;5;21mgetInfoRegions\u001b[39m(\u001b[38;5;28mself\u001b[39m,collection,bandName, bpoints):\n\u001b[0;32m     55\u001b[0m \u001b[38;5;66;03m# bnamestr = bandName.get('band')\u001b[39;00m\n\u001b[0;32m     56\u001b[0m     \u001b[38;5;28;01mreturn\u001b[39;00m collection\u001b[38;5;241m.\u001b[39mselect([bandName])\u001b[38;5;241m.\u001b[39mreduceRegions(\u001b[38;5;241m*\u001b[39m\u001b[38;5;241m*\u001b[39m{\n\u001b[1;32m---> 57\u001b[0m         \u001b[38;5;124m'\u001b[39m\u001b[38;5;124mcollection\u001b[39m\u001b[38;5;124m'\u001b[39m: \u001b[43mbpoints\u001b[49m\u001b[38;5;241;43m.\u001b[39;49m\u001b[43mselect\u001b[49m(\u001b[38;5;28mself\u001b[39m\u001b[38;5;241m.\u001b[39mpolygonID),\n\u001b[0;32m     58\u001b[0m         \u001b[38;5;124m'\u001b[39m\u001b[38;5;124mreducer\u001b[39m\u001b[38;5;124m'\u001b[39m: ee\u001b[38;5;241m.\u001b[39mReducer\u001b[38;5;241m.\u001b[39mmean()\u001b[38;5;241m.\u001b[39mcombine(\u001b[38;5;241m*\u001b[39m\u001b[38;5;241m*\u001b[39m{\n\u001b[0;32m     59\u001b[0m             \u001b[38;5;124m'\u001b[39m\u001b[38;5;124mreducer2\u001b[39m\u001b[38;5;124m'\u001b[39m: ee\u001b[38;5;241m.\u001b[39mReducer\u001b[38;5;241m.\u001b[39mstdDev(),\n\u001b[0;32m     60\u001b[0m             \u001b[38;5;124m'\u001b[39m\u001b[38;5;124msharedInputs\u001b[39m\u001b[38;5;124m'\u001b[39m: \u001b[38;5;28;01mTrue\u001b[39;00m\n\u001b[0;32m     61\u001b[0m         }),\n\u001b[0;32m     62\u001b[0m         \u001b[38;5;124m'\u001b[39m\u001b[38;5;124mscale\u001b[39m\u001b[38;5;124m'\u001b[39m: \u001b[38;5;241m10\u001b[39m\u001b[38;5;66;03m#,\u001b[39;00m\n\u001b[0;32m     63\u001b[0m         \u001b[38;5;66;03m#'bestEffort': True  # Use maxPixels if you care about scale.\u001b[39;00m\n\u001b[0;32m     64\u001b[0m     })\u001b[38;5;241m.\u001b[39mmap(\u001b[38;5;28;01mlambda\u001b[39;00m feature: feature\u001b[38;5;241m.\u001b[39mset(\u001b[38;5;124m'\u001b[39m\u001b[38;5;124mbandName\u001b[39m\u001b[38;5;124m'\u001b[39m,bandName))  \\\n\u001b[0;32m     65\u001b[0m     \u001b[38;5;241m.\u001b[39mfilter(ee\u001b[38;5;241m.\u001b[39mFilter\u001b[38;5;241m.\u001b[39mneq(\u001b[38;5;124m'\u001b[39m\u001b[38;5;124mmean\u001b[39m\u001b[38;5;124m'\u001b[39m,\u001b[38;5;28;01mNone\u001b[39;00m))\n",
      "\u001b[1;31mAttributeError\u001b[0m: 'List' object has no attribute 'select'"
     ]
    }
   ],
   "source": [
    "# import all the necessary libraries\n",
    "%run PlotToSat.ipynb\n",
    "\n",
    "# Define study region\n",
    "polygon = ee.Geometry.Polygon(\n",
    "[[[-6.7820312500000135, 37.744682241748094],\n",
    "[-1.1570312500000135, 37.32651387565316],\n",
    "[0.1613281249999865, 42.25294129803316],\n",
    "[-7.3093750000000135, 43.349172765639516]]])\n",
    "\n",
    "# Create a dictionary that holds the relevant plot information\n",
    "fieldData = {\n",
    "       \"csvfilename\"         : r\".\\samplePlots.csv\",\n",
    "       \"proj\"                : \"EPSG:3042\",\n",
    "       \"radius\"              : 50,\n",
    "       \"xcol\"                : \"CX\",    \n",
    "       \"ycol\"                : \"CY\",\n",
    "       \"outPlotFileWithIDs\"  : r\"plotsWithIDs\\SpainIDs_1.csv\"\n",
    "}\n",
    "\n",
    "shp = {\n",
    "   \"shpfilename\"        : \"projects/ee-flf-milto/assets/BufferedSamplePoints\",\n",
    "   \"polygonKeyColumn\"   : \"UID\" # column that ids of polygons are stored\n",
    "}\n",
    "# Specify the year of interest\n",
    "year = 2020\n",
    "\n",
    "# Create an instance of the Manager\n",
    "#myPlotToSat = PlotToSat(polygon,fieldData,year) \n",
    "myPlotToSat = PlotToSat(polygon,shp,year) \n",
    "myPlotToSat.setSampling(300)\n",
    "\n",
    "\n",
    "# Add Earth Observation Collections of interest\n",
    "myPlotToSat.addCollection(\"sentinel-1\", False) \n",
    "myPlotToSat.addCollection(\"sentinel-2\", 50  ) \n",
    "\n",
    "#Definition and exportation of outputs\n",
    "#myPlotToSat.exportFeatures(\"Greenbelts_2020_BufferedSamplePoints\", \"feature_vectors_\")\t\n",
    "\n",
    "myPlotToSat.exprtFeaturesMinMax(\"Greenbelts_2020_BufferedSamplePoints\", \"feature_vectors_\",1,10)\t\n"
   ]
  }
 ],
 "metadata": {
  "kernelspec": {
   "display_name": ".venv",
   "language": "python",
   "name": "python3"
  },
  "language_info": {
   "codemirror_mode": {
    "name": "ipython",
    "version": 3
   },
   "file_extension": ".py",
   "mimetype": "text/x-python",
   "name": "python",
   "nbconvert_exporter": "python",
   "pygments_lexer": "ipython3",
   "version": "3.12.7"
  },
  "orig_nbformat": 4
 },
 "nbformat": 4,
 "nbformat_minor": 2
}
